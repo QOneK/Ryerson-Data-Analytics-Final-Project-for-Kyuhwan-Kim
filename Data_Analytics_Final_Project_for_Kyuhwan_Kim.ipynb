{
  "nbformat": 4,
  "nbformat_minor": 0,
  "metadata": {
    "colab": {
      "name": "Data_Analytics_Final_Project_for_Kyuhwan_Kim.ipynb",
      "provenance": [],
      "collapsed_sections": [],
      "include_colab_link": true
    },
    "kernelspec": {
      "name": "python3",
      "display_name": "Python 3"
    },
    "accelerator": "TPU"
  },
  "cells": [
    {
      "cell_type": "markdown",
      "metadata": {
        "id": "view-in-github",
        "colab_type": "text"
      },
      "source": [
        "<a href=\"https://colab.research.google.com/github/QOneK/Ryerson-Data-Analytics-Final-Project-for-Kyuhwan-Kim/blob/master/Data_Analytics_Final_Project_for_Kyuhwan_Kim.ipynb\" target=\"_parent\"><img src=\"https://colab.research.google.com/assets/colab-badge.svg\" alt=\"Open In Colab\"/></a>"
      ]
    },
    {
      "cell_type": "markdown",
      "metadata": {
        "id": "XjjSNOqqryQR",
        "colab_type": "text"
      },
      "source": [
        "**Data Analytics Final Project for Kyuhwan Kim**\n",
        "\n",
        "---\n",
        "Dateset can be found at:\n",
        "https://www.kaggle.com/aaron7sun/stocknews\n"
      ]
    },
    {
      "cell_type": "markdown",
      "metadata": {
        "id": "fgS8sof6tXH0",
        "colab_type": "text"
      },
      "source": [
        "# Importing files into Google Colabs\n",
        "\n",
        "---\n",
        "\n"
      ]
    },
    {
      "cell_type": "markdown",
      "metadata": {
        "id": "uSTtt9_OfPRM",
        "colab_type": "text"
      },
      "source": [
        "Import the necessary libraries: Pandas, Numpy, Matplotlib and sklearn\n",
        "\n",
        "*More libraries can be found later lines of code in machine learning section"
      ]
    },
    {
      "cell_type": "code",
      "metadata": {
        "id": "CUMeiDI6fOhC",
        "colab_type": "code",
        "colab": {}
      },
      "source": [
        "import pandas as pd\n",
        "import numpy as np\n",
        "from matplotlib import pyplot as plt"
      ],
      "execution_count": 303,
      "outputs": []
    },
    {
      "cell_type": "markdown",
      "metadata": {
        "id": "LQP_sUoQfutx",
        "colab_type": "text"
      },
      "source": [
        "These are the urls for the dataset files which can be found via Github"
      ]
    },
    {
      "cell_type": "code",
      "metadata": {
        "id": "LBfn-lucdV65",
        "colab_type": "code",
        "colab": {}
      },
      "source": [
        "url_combined = 'https://raw.githubusercontent.com/QOneK/Ryerson-Data-Analytics-Final-Project-for-Kyuhwan-Kim/master/Dataset/Combined_News_DJIA.csv'\n",
        "url_reddit = 'https://raw.githubusercontent.com/QOneK/Ryerson-Data-Analytics-Final-Project-for-Kyuhwan-Kim/master/Dataset/RedditNews.csv'\n",
        "url_djia = 'https://raw.githubusercontent.com/QOneK/Ryerson-Data-Analytics-Final-Project-for-Kyuhwan-Kim/master/Dataset/upload_DJIA_table.csv'"
      ],
      "execution_count": 304,
      "outputs": []
    },
    {
      "cell_type": "markdown",
      "metadata": {
        "id": "-mGVXvE0fzAH",
        "colab_type": "text"
      },
      "source": [
        "The .csv files are then declared with variables"
      ]
    },
    {
      "cell_type": "code",
      "metadata": {
        "id": "VGevZ5Azds0Y",
        "colab_type": "code",
        "colab": {}
      },
      "source": [
        "reddit_djia = pd.read_csv(url_combined)\n",
        "reddit = pd.read_csv(url_reddit)\n",
        "djia = pd.read_csv(url_djia)"
      ],
      "execution_count": 305,
      "outputs": []
    },
    {
      "cell_type": "markdown",
      "metadata": {
        "id": "GqGn9ptvvKfx",
        "colab_type": "text"
      },
      "source": [
        "# EDA (Exploratory Data Analysis)\n",
        "\n",
        "---\n",
        "\n"
      ]
    },
    {
      "cell_type": "markdown",
      "metadata": {
        "id": "z911os0W-scj",
        "colab_type": "text"
      },
      "source": [
        "## EDA (Exploratory Data Analysis)"
      ]
    },
    {
      "cell_type": "markdown",
      "metadata": {
        "id": "RfmhbCIM_m1w",
        "colab_type": "text"
      },
      "source": [
        "### EDA for Reddit Dataframe"
      ]
    },
    {
      "cell_type": "markdown",
      "metadata": {
        "id": "W5Cy4KJ-qSLC",
        "colab_type": "text"
      },
      "source": [
        ".info() method allowed to see what the name of attributes, number of rows and the data types of the columns\n",
        "\n"
      ]
    },
    {
      "cell_type": "code",
      "metadata": {
        "id": "NigrALB4_u2K",
        "colab_type": "code",
        "colab": {
          "base_uri": "https://localhost:8080/",
          "height": 148
        },
        "outputId": "36e457cf-8a51-4ce0-e30e-c473b2374325"
      },
      "source": [
        "reddit.info()"
      ],
      "execution_count": 306,
      "outputs": [
        {
          "output_type": "stream",
          "text": [
            "<class 'pandas.core.frame.DataFrame'>\n",
            "RangeIndex: 73608 entries, 0 to 73607\n",
            "Data columns (total 2 columns):\n",
            "Date    73608 non-null object\n",
            "News    73608 non-null object\n",
            "dtypes: object(2)\n",
            "memory usage: 1.1+ MB\n"
          ],
          "name": "stdout"
        }
      ]
    },
    {
      "cell_type": "markdown",
      "metadata": {
        "id": "-eEQAVIYqm_M",
        "colab_type": "text"
      },
      "source": [
        "Used the .min() and .max() method to find the range of the dates"
      ]
    },
    {
      "cell_type": "code",
      "metadata": {
        "id": "Bk9KZ4eE5-mu",
        "colab_type": "code",
        "colab": {
          "base_uri": "https://localhost:8080/",
          "height": 36
        },
        "outputId": "66619b14-365a-44aa-b00d-a90286154b64"
      },
      "source": [
        "#to find the minimum date of reddit\n",
        "reddit['Date'].min()"
      ],
      "execution_count": 307,
      "outputs": [
        {
          "output_type": "execute_result",
          "data": {
            "application/vnd.google.colaboratory.intrinsic+json": {
              "type": "string"
            },
            "text/plain": [
              "'2008-06-08'"
            ]
          },
          "metadata": {
            "tags": []
          },
          "execution_count": 307
        }
      ]
    },
    {
      "cell_type": "code",
      "metadata": {
        "id": "3FQ2h7FY-lcg",
        "colab_type": "code",
        "colab": {
          "base_uri": "https://localhost:8080/",
          "height": 36
        },
        "outputId": "1aca4e72-94e6-4d52-e053-ee03bd587359"
      },
      "source": [
        "#to find the maximum date of reddit\n",
        "reddit['Date'].max()"
      ],
      "execution_count": 308,
      "outputs": [
        {
          "output_type": "execute_result",
          "data": {
            "application/vnd.google.colaboratory.intrinsic+json": {
              "type": "string"
            },
            "text/plain": [
              "'2016-07-01'"
            ]
          },
          "metadata": {
            "tags": []
          },
          "execution_count": 308
        }
      ]
    },
    {
      "cell_type": "markdown",
      "metadata": {
        "id": "0A4ZySX0quoM",
        "colab_type": "text"
      },
      "source": [
        ".nunique() method allowed to see how many unique dates and articles that were present"
      ]
    },
    {
      "cell_type": "code",
      "metadata": {
        "id": "IbEJDHDBCSqe",
        "colab_type": "code",
        "colab": {
          "base_uri": "https://localhost:8080/",
          "height": 73
        },
        "outputId": "17468c73-6eed-4065-adc9-394a6ac9d0e6"
      },
      "source": [
        "#number of unique inputs \n",
        "reddit.nunique()"
      ],
      "execution_count": 309,
      "outputs": [
        {
          "output_type": "execute_result",
          "data": {
            "text/plain": [
              "Date     2943\n",
              "News    73537\n",
              "dtype: int64"
            ]
          },
          "metadata": {
            "tags": []
          },
          "execution_count": 309
        }
      ]
    },
    {
      "cell_type": "markdown",
      "metadata": {
        "id": "ZcFySJpb_2lG",
        "colab_type": "text"
      },
      "source": [
        "### EDA for DJIA Dataframe"
      ]
    },
    {
      "cell_type": "markdown",
      "metadata": {
        "id": "wNgHZVXYq6RE",
        "colab_type": "text"
      },
      "source": [
        ".info() method allowed to see what the name of attributes, number of rows and the data types of the columns"
      ]
    },
    {
      "cell_type": "code",
      "metadata": {
        "id": "oEPsrmjQ_1Jl",
        "colab_type": "code",
        "colab": {
          "base_uri": "https://localhost:8080/",
          "height": 241
        },
        "outputId": "c5fb988c-4f96-42d4-e737-c613526bd36f"
      },
      "source": [
        "djia.info()"
      ],
      "execution_count": 310,
      "outputs": [
        {
          "output_type": "stream",
          "text": [
            "<class 'pandas.core.frame.DataFrame'>\n",
            "RangeIndex: 1989 entries, 0 to 1988\n",
            "Data columns (total 7 columns):\n",
            "Date         1989 non-null object\n",
            "Open         1989 non-null float64\n",
            "High         1989 non-null float64\n",
            "Low          1989 non-null float64\n",
            "Close        1989 non-null float64\n",
            "Volume       1989 non-null int64\n",
            "Adj Close    1989 non-null float64\n",
            "dtypes: float64(5), int64(1), object(1)\n",
            "memory usage: 108.9+ KB\n"
          ],
          "name": "stdout"
        }
      ]
    },
    {
      "cell_type": "markdown",
      "metadata": {
        "id": "u3ofN9Uyq-Cd",
        "colab_type": "text"
      },
      "source": [
        "Used .min() and .max methods to find the range of the dates. "
      ]
    },
    {
      "cell_type": "code",
      "metadata": {
        "id": "yiZgKPFGASYd",
        "colab_type": "code",
        "colab": {
          "base_uri": "https://localhost:8080/",
          "height": 36
        },
        "outputId": "375c13ff-f570-40f0-cf28-630e0234651c"
      },
      "source": [
        "djia['Date'].min()"
      ],
      "execution_count": 311,
      "outputs": [
        {
          "output_type": "execute_result",
          "data": {
            "application/vnd.google.colaboratory.intrinsic+json": {
              "type": "string"
            },
            "text/plain": [
              "'2008-08-08'"
            ]
          },
          "metadata": {
            "tags": []
          },
          "execution_count": 311
        }
      ]
    },
    {
      "cell_type": "code",
      "metadata": {
        "id": "BSbsBanyIBCA",
        "colab_type": "code",
        "colab": {
          "base_uri": "https://localhost:8080/",
          "height": 36
        },
        "outputId": "291e5056-a97f-4510-e897-c59b1dc8bb94"
      },
      "source": [
        "djia['Date'].max()"
      ],
      "execution_count": 312,
      "outputs": [
        {
          "output_type": "execute_result",
          "data": {
            "application/vnd.google.colaboratory.intrinsic+json": {
              "type": "string"
            },
            "text/plain": [
              "'2016-07-01'"
            ]
          },
          "metadata": {
            "tags": []
          },
          "execution_count": 312
        }
      ]
    },
    {
      "cell_type": "markdown",
      "metadata": {
        "id": "PlsvbMb5rLJa",
        "colab_type": "text"
      },
      "source": [
        ".describe() method allowed to display rudimentary statistics about the datasets. Based on experimentation, this works only with numeric datatypes. "
      ]
    },
    {
      "cell_type": "code",
      "metadata": {
        "id": "JyZ06voxJ3ad",
        "colab_type": "code",
        "colab": {
          "base_uri": "https://localhost:8080/",
          "height": 300
        },
        "outputId": "369d0988-86e9-4626-e599-714f5954f387"
      },
      "source": [
        "djia.describe()"
      ],
      "execution_count": 313,
      "outputs": [
        {
          "output_type": "execute_result",
          "data": {
            "text/html": [
              "<div>\n",
              "<style scoped>\n",
              "    .dataframe tbody tr th:only-of-type {\n",
              "        vertical-align: middle;\n",
              "    }\n",
              "\n",
              "    .dataframe tbody tr th {\n",
              "        vertical-align: top;\n",
              "    }\n",
              "\n",
              "    .dataframe thead th {\n",
              "        text-align: right;\n",
              "    }\n",
              "</style>\n",
              "<table border=\"1\" class=\"dataframe\">\n",
              "  <thead>\n",
              "    <tr style=\"text-align: right;\">\n",
              "      <th></th>\n",
              "      <th>Open</th>\n",
              "      <th>High</th>\n",
              "      <th>Low</th>\n",
              "      <th>Close</th>\n",
              "      <th>Volume</th>\n",
              "      <th>Adj Close</th>\n",
              "    </tr>\n",
              "  </thead>\n",
              "  <tbody>\n",
              "    <tr>\n",
              "      <th>count</th>\n",
              "      <td>1989.000000</td>\n",
              "      <td>1989.000000</td>\n",
              "      <td>1989.000000</td>\n",
              "      <td>1989.000000</td>\n",
              "      <td>1.989000e+03</td>\n",
              "      <td>1989.000000</td>\n",
              "    </tr>\n",
              "    <tr>\n",
              "      <th>mean</th>\n",
              "      <td>13459.116048</td>\n",
              "      <td>13541.303173</td>\n",
              "      <td>13372.931728</td>\n",
              "      <td>13463.032255</td>\n",
              "      <td>1.628110e+08</td>\n",
              "      <td>13463.032255</td>\n",
              "    </tr>\n",
              "    <tr>\n",
              "      <th>std</th>\n",
              "      <td>3143.281634</td>\n",
              "      <td>3136.271725</td>\n",
              "      <td>3150.420934</td>\n",
              "      <td>3144.006996</td>\n",
              "      <td>9.392343e+07</td>\n",
              "      <td>3144.006996</td>\n",
              "    </tr>\n",
              "    <tr>\n",
              "      <th>min</th>\n",
              "      <td>6547.009766</td>\n",
              "      <td>6709.609863</td>\n",
              "      <td>6469.950195</td>\n",
              "      <td>6547.049805</td>\n",
              "      <td>8.410000e+06</td>\n",
              "      <td>6547.049805</td>\n",
              "    </tr>\n",
              "    <tr>\n",
              "      <th>25%</th>\n",
              "      <td>10907.339844</td>\n",
              "      <td>11000.980469</td>\n",
              "      <td>10824.759766</td>\n",
              "      <td>10913.379883</td>\n",
              "      <td>1.000000e+08</td>\n",
              "      <td>10913.379883</td>\n",
              "    </tr>\n",
              "    <tr>\n",
              "      <th>50%</th>\n",
              "      <td>13022.049805</td>\n",
              "      <td>13088.110352</td>\n",
              "      <td>12953.129883</td>\n",
              "      <td>13025.580078</td>\n",
              "      <td>1.351700e+08</td>\n",
              "      <td>13025.580078</td>\n",
              "    </tr>\n",
              "    <tr>\n",
              "      <th>75%</th>\n",
              "      <td>16477.699219</td>\n",
              "      <td>16550.070312</td>\n",
              "      <td>16392.769531</td>\n",
              "      <td>16478.410156</td>\n",
              "      <td>1.926000e+08</td>\n",
              "      <td>16478.410156</td>\n",
              "    </tr>\n",
              "    <tr>\n",
              "      <th>max</th>\n",
              "      <td>18315.060547</td>\n",
              "      <td>18351.359375</td>\n",
              "      <td>18272.560547</td>\n",
              "      <td>18312.390625</td>\n",
              "      <td>6.749200e+08</td>\n",
              "      <td>18312.390625</td>\n",
              "    </tr>\n",
              "  </tbody>\n",
              "</table>\n",
              "</div>"
            ],
            "text/plain": [
              "               Open          High           Low         Close        Volume  \\\n",
              "count   1989.000000   1989.000000   1989.000000   1989.000000  1.989000e+03   \n",
              "mean   13459.116048  13541.303173  13372.931728  13463.032255  1.628110e+08   \n",
              "std     3143.281634   3136.271725   3150.420934   3144.006996  9.392343e+07   \n",
              "min     6547.009766   6709.609863   6469.950195   6547.049805  8.410000e+06   \n",
              "25%    10907.339844  11000.980469  10824.759766  10913.379883  1.000000e+08   \n",
              "50%    13022.049805  13088.110352  12953.129883  13025.580078  1.351700e+08   \n",
              "75%    16477.699219  16550.070312  16392.769531  16478.410156  1.926000e+08   \n",
              "max    18315.060547  18351.359375  18272.560547  18312.390625  6.749200e+08   \n",
              "\n",
              "          Adj Close  \n",
              "count   1989.000000  \n",
              "mean   13463.032255  \n",
              "std     3144.006996  \n",
              "min     6547.049805  \n",
              "25%    10913.379883  \n",
              "50%    13025.580078  \n",
              "75%    16478.410156  \n",
              "max    18312.390625  "
            ]
          },
          "metadata": {
            "tags": []
          },
          "execution_count": 313
        }
      ]
    },
    {
      "cell_type": "markdown",
      "metadata": {
        "id": "tupcWfNlYzx8",
        "colab_type": "text"
      },
      "source": [
        "Visual Representation DIJA (Dow Jones Industrial Average) \"Adj Close\" Trends\n",
        "(It seems that there are up and down movements but a general downward trend with recovery at the end)"
      ]
    },
    {
      "cell_type": "code",
      "metadata": {
        "id": "z-yRANONY2D5",
        "colab_type": "code",
        "colab": {
          "base_uri": "https://localhost:8080/",
          "height": 265
        },
        "outputId": "bdc76ace-9103-4f28-c2fb-30278fcf1675"
      },
      "source": [
        "#this takes some time to run\n",
        "plt.plot(djia['Date'],djia['Adj Close'])\n",
        "plt.show()"
      ],
      "execution_count": 314,
      "outputs": [
        {
          "output_type": "display_data",
          "data": {
            "image/png": "[encoded data removed]",
            "text/plain": [
              "<Figure size 432x288 with 1 Axes>"
            ]
          },
          "metadata": {
            "tags": [],
            "needs_background": "light"
          }
        }
      ]
    },
    {
      "cell_type": "code",
      "metadata": {
        "id": "6aAlVSO7INVq",
        "colab_type": "code",
        "colab": {}
      },
      "source": [
        "\"\"\"\n",
        "Noticed that the dates were descending, \n",
        "to get a more accurate picture, we need to do ascending for the dates\n",
        "\"\"\"\n",
        "djia.sort_values(by = ['Date'], inplace=True, ascending=True)\n",
        "djia.reset_index(drop=True, inplace=True)"
      ],
      "execution_count": 315,
      "outputs": []
    },
    {
      "cell_type": "code",
      "metadata": {
        "id": "tpBZq1F8IN8i",
        "colab_type": "code",
        "colab": {
          "base_uri": "https://localhost:8080/",
          "height": 265
        },
        "outputId": "e58d2b82-1a92-4415-8aa3-dc9b94310099"
      },
      "source": [
        "#This is the \"correct\" plot from early (left) to later (right)\n",
        "plt.plot(djia['Date'],djia['Adj Close'])\n",
        "plt.show()"
      ],
      "execution_count": 316,
      "outputs": [
        {
          "output_type": "display_data",
          "data": {
            "image/png": "[encoded data removed]",
            "text/plain": [
              "<Figure size 432x288 with 1 Axes>"
            ]
          },
          "metadata": {
            "tags": [],
            "needs_background": "light"
          }
        }
      ]
    },
    {
      "cell_type": "markdown",
      "metadata": {
        "id": "vAizvbHSMvmV",
        "colab_type": "text"
      },
      "source": [
        "### EDA for reddit_djia Dataframe \n",
        "This is the \"cleaned\" dataset; combination of both news and DJIA (adj price) label. "
      ]
    },
    {
      "cell_type": "code",
      "metadata": {
        "id": "6Ie202HXM1zx",
        "colab_type": "code",
        "colab": {
          "base_uri": "https://localhost:8080/",
          "height": 634
        },
        "outputId": "df58f4a6-d05b-48c9-8056-3e8582cdd966"
      },
      "source": [
        "reddit_djia.info()"
      ],
      "execution_count": 317,
      "outputs": [
        {
          "output_type": "stream",
          "text": [
            "<class 'pandas.core.frame.DataFrame'>\n",
            "RangeIndex: 1989 entries, 0 to 1988\n",
            "Data columns (total 28 columns):\n",
            "Date           1989 non-null object\n",
            "Label          1989 non-null int64\n",
            "Top1           1989 non-null object\n",
            "Top2           1989 non-null object\n",
            "Top3           1989 non-null object\n",
            "Top4           1989 non-null object\n",
            "Top5           1989 non-null object\n",
            "Top6           1989 non-null object\n",
            "Top7           1989 non-null object\n",
            "Top8           1989 non-null object\n",
            "Top9           1989 non-null object\n",
            "Top10          1989 non-null object\n",
            "Top11          1989 non-null object\n",
            "Top12          1989 non-null object\n",
            "Top13          1989 non-null object\n",
            "Top14          1989 non-null object\n",
            "Top15          1989 non-null object\n",
            "Top16          1989 non-null object\n",
            "Top17          1989 non-null object\n",
            "Top18          1989 non-null object\n",
            "Top19          1989 non-null object\n",
            "Top20          1989 non-null object\n",
            "Top21          1989 non-null object\n",
            "Top22          1989 non-null object\n",
            "Top23          1988 non-null object\n",
            "Top24          1986 non-null object\n",
            "Top25          1986 non-null object\n",
            "Unnamed: 27    0 non-null float64\n",
            "dtypes: float64(1), int64(1), object(26)\n",
            "memory usage: 435.2+ KB\n"
          ],
          "name": "stdout"
        }
      ]
    },
    {
      "cell_type": "code",
      "metadata": {
        "id": "Vx_zvRZUb2pT",
        "colab_type": "code",
        "colab": {
          "base_uri": "https://localhost:8080/",
          "height": 300
        },
        "outputId": "9d542b26-7d66-4ed1-8cb8-f132a77ca932"
      },
      "source": [
        "reddit_djia.describe()"
      ],
      "execution_count": 318,
      "outputs": [
        {
          "output_type": "execute_result",
          "data": {
            "text/html": [
              "<div>\n",
              "<style scoped>\n",
              "    .dataframe tbody tr th:only-of-type {\n",
              "        vertical-align: middle;\n",
              "    }\n",
              "\n",
              "    .dataframe tbody tr th {\n",
              "        vertical-align: top;\n",
              "    }\n",
              "\n",
              "    .dataframe thead th {\n",
              "        text-align: right;\n",
              "    }\n",
              "</style>\n",
              "<table border=\"1\" class=\"dataframe\">\n",
              "  <thead>\n",
              "    <tr style=\"text-align: right;\">\n",
              "      <th></th>\n",
              "      <th>Label</th>\n",
              "      <th>Unnamed: 27</th>\n",
              "    </tr>\n",
              "  </thead>\n",
              "  <tbody>\n",
              "    <tr>\n",
              "      <th>count</th>\n",
              "      <td>1989.000000</td>\n",
              "      <td>0.0</td>\n",
              "    </tr>\n",
              "    <tr>\n",
              "      <th>mean</th>\n",
              "      <td>0.535445</td>\n",
              "      <td>NaN</td>\n",
              "    </tr>\n",
              "    <tr>\n",
              "      <th>std</th>\n",
              "      <td>0.498867</td>\n",
              "      <td>NaN</td>\n",
              "    </tr>\n",
              "    <tr>\n",
              "      <th>min</th>\n",
              "      <td>0.000000</td>\n",
              "      <td>NaN</td>\n",
              "    </tr>\n",
              "    <tr>\n",
              "      <th>25%</th>\n",
              "      <td>0.000000</td>\n",
              "      <td>NaN</td>\n",
              "    </tr>\n",
              "    <tr>\n",
              "      <th>50%</th>\n",
              "      <td>1.000000</td>\n",
              "      <td>NaN</td>\n",
              "    </tr>\n",
              "    <tr>\n",
              "      <th>75%</th>\n",
              "      <td>1.000000</td>\n",
              "      <td>NaN</td>\n",
              "    </tr>\n",
              "    <tr>\n",
              "      <th>max</th>\n",
              "      <td>1.000000</td>\n",
              "      <td>NaN</td>\n",
              "    </tr>\n",
              "  </tbody>\n",
              "</table>\n",
              "</div>"
            ],
            "text/plain": [
              "             Label  Unnamed: 27\n",
              "count  1989.000000          0.0\n",
              "mean      0.535445          NaN\n",
              "std       0.498867          NaN\n",
              "min       0.000000          NaN\n",
              "25%       0.000000          NaN\n",
              "50%       1.000000          NaN\n",
              "75%       1.000000          NaN\n",
              "max       1.000000          NaN"
            ]
          },
          "metadata": {
            "tags": []
          },
          "execution_count": 318
        }
      ]
    },
    {
      "cell_type": "markdown",
      "metadata": {
        "id": "xAckvakHdia2",
        "colab_type": "text"
      },
      "source": [
        "How many of the rows are 1? 0? in the class label"
      ]
    },
    {
      "cell_type": "code",
      "metadata": {
        "id": "f-EwNJEBcHA8",
        "colab_type": "code",
        "colab": {
          "base_uri": "https://localhost:8080/",
          "height": 73
        },
        "outputId": "eb885b4d-e880-4edd-8d1f-60eab8c849a9"
      },
      "source": [
        "reddit_djia['Label'].value_counts()"
      ],
      "execution_count": 319,
      "outputs": [
        {
          "output_type": "execute_result",
          "data": {
            "text/plain": [
              "1    1065\n",
              "0     924\n",
              "Name: Label, dtype: int64"
            ]
          },
          "metadata": {
            "tags": []
          },
          "execution_count": 319
        }
      ]
    },
    {
      "cell_type": "markdown",
      "metadata": {
        "id": "qLG3isYhs2Vu",
        "colab_type": "text"
      },
      "source": [
        "There appears to be more 1 (up) than 0 (down). However, from the trendline from DJIA Adj Price, we can see that there is actually a downward trend. Perhaps the magnitude of the up/down wasn't taken into consideration. "
      ]
    },
    {
      "cell_type": "markdown",
      "metadata": {
        "id": "eNz6pXNLtGUK",
        "colab_type": "text"
      },
      "source": [
        "This is to check the date range. From observation, we can see that the date range of the final \"cleaned\" dataset matches that of DIJA dataset. There seems to be extra erraneous data at the news dataset. "
      ]
    },
    {
      "cell_type": "code",
      "metadata": {
        "id": "Bqz2ohkXQy79",
        "colab_type": "code",
        "colab": {
          "base_uri": "https://localhost:8080/",
          "height": 36
        },
        "outputId": "ec609870-f163-47ac-bbaf-2a093b6937a0"
      },
      "source": [
        "reddit_djia['Date'].min()"
      ],
      "execution_count": 320,
      "outputs": [
        {
          "output_type": "execute_result",
          "data": {
            "application/vnd.google.colaboratory.intrinsic+json": {
              "type": "string"
            },
            "text/plain": [
              "'1/10/2011'"
            ]
          },
          "metadata": {
            "tags": []
          },
          "execution_count": 320
        }
      ]
    },
    {
      "cell_type": "code",
      "metadata": {
        "id": "9WEPfQleQ_jF",
        "colab_type": "code",
        "colab": {
          "base_uri": "https://localhost:8080/",
          "height": 36
        },
        "outputId": "9a5471fa-f2c5-4747-8710-0dd99826b675"
      },
      "source": [
        "reddit_djia['Date'].max()"
      ],
      "execution_count": 321,
      "outputs": [
        {
          "output_type": "execute_result",
          "data": {
            "application/vnd.google.colaboratory.intrinsic+json": {
              "type": "string"
            },
            "text/plain": [
              "'9/9/2015'"
            ]
          },
          "metadata": {
            "tags": []
          },
          "execution_count": 321
        }
      ]
    },
    {
      "cell_type": "markdown",
      "metadata": {
        "id": "Eb8MjVI0aHNq",
        "colab_type": "text"
      },
      "source": [
        "Plot Pie graph of Label\n",
        "https://matplotlib.org/3.1.1/gallery/pie_and_polar_charts/pie_features.html"
      ]
    },
    {
      "cell_type": "code",
      "metadata": {
        "id": "hPA1XNNGbOGJ",
        "colab_type": "code",
        "colab": {
          "base_uri": "https://localhost:8080/",
          "height": 248
        },
        "outputId": "d0cddd02-94b8-43f8-bd8d-b17251ab570d"
      },
      "source": [
        "labels = 'DJIA Up/Maintain', 'DJIA Down'\n",
        "sizes= [1065/1989, 924/1989]\n",
        "\n",
        "fig1, ax1 = plt.subplots()\n",
        "ax1.pie(sizes, labels=labels, autopct='%1.1f%%',\n",
        "        shadow=True, startangle=90)\n",
        "ax1.axis('equal')  # Equal aspect ratio ensures that pie is drawn as a circle.\n",
        "\n",
        "plt.show()"
      ],
      "execution_count": 322,
      "outputs": [
        {
          "output_type": "display_data",
          "data": {
            "image/png": "[encoded data removed]",
            "text/plain": [
              "<Figure size 432x288 with 1 Axes>"
            ]
          },
          "metadata": {
            "tags": []
          }
        }
      ]
    },
    {
      "cell_type": "markdown",
      "metadata": {
        "id": "SxzvJgVi1Gri",
        "colab_type": "text"
      },
      "source": [
        "## Checking if there are null values "
      ]
    },
    {
      "cell_type": "markdown",
      "metadata": {
        "id": "qI2fqO_g33c9",
        "colab_type": "text"
      },
      "source": [
        "Check if there are null values that needs to be dealt with before merging the data. We can see that there were no null values. "
      ]
    },
    {
      "cell_type": "code",
      "metadata": {
        "id": "HEmngngd39Aq",
        "colab_type": "code",
        "colab": {
          "base_uri": "https://localhost:8080/",
          "height": 36
        },
        "outputId": "9c28bd6f-0d41-4fc5-9370-5e492630e068"
      },
      "source": [
        "#check null values for reddit\n",
        "reddit.isnull().values.sum()"
      ],
      "execution_count": 323,
      "outputs": [
        {
          "output_type": "execute_result",
          "data": {
            "text/plain": [
              "0"
            ]
          },
          "metadata": {
            "tags": []
          },
          "execution_count": 323
        }
      ]
    },
    {
      "cell_type": "code",
      "metadata": {
        "id": "5EdZMqWC4mlk",
        "colab_type": "code",
        "colab": {
          "base_uri": "https://localhost:8080/",
          "height": 36
        },
        "outputId": "dd9fae89-576e-4643-95c7-541fec6815a9"
      },
      "source": [
        "#check null values for djia\n",
        "djia.isnull().values.sum()"
      ],
      "execution_count": 324,
      "outputs": [
        {
          "output_type": "execute_result",
          "data": {
            "text/plain": [
              "0"
            ]
          },
          "metadata": {
            "tags": []
          },
          "execution_count": 324
        }
      ]
    },
    {
      "cell_type": "markdown",
      "metadata": {
        "id": "GrAXfGzc5K_u",
        "colab_type": "text"
      },
      "source": [
        "# Combining Reddit articles with DJIA datasets to create \"cleaned, final\" dataset\n",
        "\n"
      ]
    },
    {
      "cell_type": "markdown",
      "metadata": {
        "id": "g1k3e0K1PGRi",
        "colab_type": "text"
      },
      "source": [
        "Result: \n",
        "cleaned final dataset named \"**result**\"\n",
        "\n",
        "The final cleaned dataset will be created using this procedure:\n",
        "\n",
        "a) create an extra column called 'Label' (which are the difference between proceeding day)\n",
        "\n",
        "b) using an if-statement, categorize:\n",
        "   1 (up) when DJIA increased or maintained the same\n",
        "   0 (down) when DJIA decreased\n",
        "\n",
        "c) organize the articles into the corresponding dates. This will involve grouping the articles into similar dates. \n",
        "\n",
        "d) merge the DJIA 'Label' column and the articles on 'Dates' column. "
      ]
    },
    {
      "cell_type": "markdown",
      "metadata": {
        "id": "z6S7oFWVLYro",
        "colab_type": "text"
      },
      "source": [
        "## Creating DJIA 'Label'\n",
        "\n",
        "\n"
      ]
    },
    {
      "cell_type": "markdown",
      "metadata": {
        "id": "_lV4mSS5Lx1J",
        "colab_type": "text"
      },
      "source": [
        "I have noticed that the dates of DJIA and Reddit datasets are in asc/desc order. For ease of cleaning, before the label is created, instead of desc, use asc order for the djia dataset."
      ]
    },
    {
      "cell_type": "code",
      "metadata": {
        "id": "qC_2r1u3JLmm",
        "colab_type": "code",
        "colab": {}
      },
      "source": [
        "#https://datatofish.com/sort-pandas-dataframe/\n",
        "djia2 = djia.copy()\n",
        "djia2.sort_values(by = ['Date'], inplace=True, ascending=True)"
      ],
      "execution_count": 325,
      "outputs": []
    },
    {
      "cell_type": "markdown",
      "metadata": {
        "id": "hTIjT_oyMB2d",
        "colab_type": "text"
      },
      "source": [
        "Copy 'Adj Close' column and run .diff() method on the column to see the day by day changes in the DJIA."
      ]
    },
    {
      "cell_type": "code",
      "metadata": {
        "id": "L_BSvnCRJQZd",
        "colab_type": "code",
        "colab": {}
      },
      "source": [
        "djia2['Diff']= djia2['Adj Close']\n",
        "\n",
        "#https://stackoverflow.com/questions/39479919/how-do-i-subtract-the-previous-row-from-the-current-row-in-a-pandas-dataframe-an\n",
        "djia2['Diff']=djia2.Diff.diff()"
      ],
      "execution_count": 326,
      "outputs": []
    },
    {
      "cell_type": "code",
      "metadata": {
        "id": "Quw5Ya9GJWye",
        "colab_type": "code",
        "colab": {}
      },
      "source": [
        "#This is run just in case there are N/A values. These will be filled with zeros. \n",
        "djia2=djia2.fillna(0)"
      ],
      "execution_count": 327,
      "outputs": []
    },
    {
      "cell_type": "markdown",
      "metadata": {
        "id": "sEiQIP9OMbTz",
        "colab_type": "text"
      },
      "source": [
        "This section will take the values of 'Diff' column and using if clauses, determine the value of the class variable."
      ]
    },
    {
      "cell_type": "code",
      "metadata": {
        "id": "cHN6eqRoJx9s",
        "colab_type": "code",
        "colab": {}
      },
      "source": [
        "#https://guillim.github.io/pandas/2018/10/22/Pandas-if-else-on-columns.html\n",
        "\n",
        "conditions = [\n",
        "    (djia2['Diff'] >= 0.0),\n",
        "    (djia2['Diff'] < 0.0)]\n",
        "choices = [int(1),int(0)]\n",
        "\n",
        "djia2['Label'] = np.select(conditions, choices, default='null')"
      ],
      "execution_count": 328,
      "outputs": []
    },
    {
      "cell_type": "markdown",
      "metadata": {
        "id": "gPaEXBUZMtBO",
        "colab_type": "text"
      },
      "source": [
        "This section is to reset the index [count row from 0 onwards]. Prior to input of this code, the index would go in desc order from index 1989. "
      ]
    },
    {
      "cell_type": "code",
      "metadata": {
        "id": "4Ojxk2lYJ16l",
        "colab_type": "code",
        "colab": {
          "base_uri": "https://localhost:8080/",
          "height": 206
        },
        "outputId": "73ce524a-39c4-414a-e585-6dd8eef5cd86"
      },
      "source": [
        "djia2.reset_index(drop=True, inplace=True)\n",
        "djia2.head()"
      ],
      "execution_count": 329,
      "outputs": [
        {
          "output_type": "execute_result",
          "data": {
            "text/html": [
              "<div>\n",
              "<style scoped>\n",
              "    .dataframe tbody tr th:only-of-type {\n",
              "        vertical-align: middle;\n",
              "    }\n",
              "\n",
              "    .dataframe tbody tr th {\n",
              "        vertical-align: top;\n",
              "    }\n",
              "\n",
              "    .dataframe thead th {\n",
              "        text-align: right;\n",
              "    }\n",
              "</style>\n",
              "<table border=\"1\" class=\"dataframe\">\n",
              "  <thead>\n",
              "    <tr style=\"text-align: right;\">\n",
              "      <th></th>\n",
              "      <th>Date</th>\n",
              "      <th>Open</th>\n",
              "      <th>High</th>\n",
              "      <th>Low</th>\n",
              "      <th>Close</th>\n",
              "      <th>Volume</th>\n",
              "      <th>Adj Close</th>\n",
              "      <th>Diff</th>\n",
              "      <th>Label</th>\n",
              "    </tr>\n",
              "  </thead>\n",
              "  <tbody>\n",
              "    <tr>\n",
              "      <th>0</th>\n",
              "      <td>2008-08-08</td>\n",
              "      <td>11432.089844</td>\n",
              "      <td>11759.959961</td>\n",
              "      <td>11388.040039</td>\n",
              "      <td>11734.320312</td>\n",
              "      <td>212830000</td>\n",
              "      <td>11734.320312</td>\n",
              "      <td>0.000000</td>\n",
              "      <td>1</td>\n",
              "    </tr>\n",
              "    <tr>\n",
              "      <th>1</th>\n",
              "      <td>2008-08-11</td>\n",
              "      <td>11729.669922</td>\n",
              "      <td>11867.110352</td>\n",
              "      <td>11675.530273</td>\n",
              "      <td>11782.349609</td>\n",
              "      <td>183190000</td>\n",
              "      <td>11782.349609</td>\n",
              "      <td>48.029297</td>\n",
              "      <td>1</td>\n",
              "    </tr>\n",
              "    <tr>\n",
              "      <th>2</th>\n",
              "      <td>2008-08-12</td>\n",
              "      <td>11781.700195</td>\n",
              "      <td>11782.349609</td>\n",
              "      <td>11601.519531</td>\n",
              "      <td>11642.469727</td>\n",
              "      <td>173590000</td>\n",
              "      <td>11642.469727</td>\n",
              "      <td>-139.879882</td>\n",
              "      <td>0</td>\n",
              "    </tr>\n",
              "    <tr>\n",
              "      <th>3</th>\n",
              "      <td>2008-08-13</td>\n",
              "      <td>11632.809570</td>\n",
              "      <td>11633.780273</td>\n",
              "      <td>11453.339844</td>\n",
              "      <td>11532.959961</td>\n",
              "      <td>182550000</td>\n",
              "      <td>11532.959961</td>\n",
              "      <td>-109.509766</td>\n",
              "      <td>0</td>\n",
              "    </tr>\n",
              "    <tr>\n",
              "      <th>4</th>\n",
              "      <td>2008-08-14</td>\n",
              "      <td>11532.070312</td>\n",
              "      <td>11718.280273</td>\n",
              "      <td>11450.889648</td>\n",
              "      <td>11615.929688</td>\n",
              "      <td>159790000</td>\n",
              "      <td>11615.929688</td>\n",
              "      <td>82.969727</td>\n",
              "      <td>1</td>\n",
              "    </tr>\n",
              "  </tbody>\n",
              "</table>\n",
              "</div>"
            ],
            "text/plain": [
              "         Date          Open          High           Low         Close  \\\n",
              "0  2008-08-08  11432.089844  11759.959961  11388.040039  11734.320312   \n",
              "1  2008-08-11  11729.669922  11867.110352  11675.530273  11782.349609   \n",
              "2  2008-08-12  11781.700195  11782.349609  11601.519531  11642.469727   \n",
              "3  2008-08-13  11632.809570  11633.780273  11453.339844  11532.959961   \n",
              "4  2008-08-14  11532.070312  11718.280273  11450.889648  11615.929688   \n",
              "\n",
              "      Volume     Adj Close        Diff Label  \n",
              "0  212830000  11734.320312    0.000000     1  \n",
              "1  183190000  11782.349609   48.029297     1  \n",
              "2  173590000  11642.469727 -139.879882     0  \n",
              "3  182550000  11532.959961 -109.509766     0  \n",
              "4  159790000  11615.929688   82.969727     1  "
            ]
          },
          "metadata": {
            "tags": []
          },
          "execution_count": 329
        }
      ]
    },
    {
      "cell_type": "markdown",
      "metadata": {
        "id": "Sx3bkXR1NAJb",
        "colab_type": "text"
      },
      "source": [
        "The first label by default should be 0 even though Diff = 0.0\n",
        "This was manually added since the previous block of code didn't account for the exception of the first label value. "
      ]
    },
    {
      "cell_type": "code",
      "metadata": {
        "id": "kQy3Qni0J4HU",
        "colab_type": "code",
        "colab": {}
      },
      "source": [
        "djia2.iloc[0,-1]=int(0)"
      ],
      "execution_count": 330,
      "outputs": []
    },
    {
      "cell_type": "code",
      "metadata": {
        "id": "VsiHEho2J5yk",
        "colab_type": "code",
        "colab": {
          "base_uri": "https://localhost:8080/",
          "height": 206
        },
        "outputId": "476146a5-de7a-42ad-93e9-39a404818a41"
      },
      "source": [
        "djia2.head()"
      ],
      "execution_count": 331,
      "outputs": [
        {
          "output_type": "execute_result",
          "data": {
            "text/html": [
              "<div>\n",
              "<style scoped>\n",
              "    .dataframe tbody tr th:only-of-type {\n",
              "        vertical-align: middle;\n",
              "    }\n",
              "\n",
              "    .dataframe tbody tr th {\n",
              "        vertical-align: top;\n",
              "    }\n",
              "\n",
              "    .dataframe thead th {\n",
              "        text-align: right;\n",
              "    }\n",
              "</style>\n",
              "<table border=\"1\" class=\"dataframe\">\n",
              "  <thead>\n",
              "    <tr style=\"text-align: right;\">\n",
              "      <th></th>\n",
              "      <th>Date</th>\n",
              "      <th>Open</th>\n",
              "      <th>High</th>\n",
              "      <th>Low</th>\n",
              "      <th>Close</th>\n",
              "      <th>Volume</th>\n",
              "      <th>Adj Close</th>\n",
              "      <th>Diff</th>\n",
              "      <th>Label</th>\n",
              "    </tr>\n",
              "  </thead>\n",
              "  <tbody>\n",
              "    <tr>\n",
              "      <th>0</th>\n",
              "      <td>2008-08-08</td>\n",
              "      <td>11432.089844</td>\n",
              "      <td>11759.959961</td>\n",
              "      <td>11388.040039</td>\n",
              "      <td>11734.320312</td>\n",
              "      <td>212830000</td>\n",
              "      <td>11734.320312</td>\n",
              "      <td>0.000000</td>\n",
              "      <td>0</td>\n",
              "    </tr>\n",
              "    <tr>\n",
              "      <th>1</th>\n",
              "      <td>2008-08-11</td>\n",
              "      <td>11729.669922</td>\n",
              "      <td>11867.110352</td>\n",
              "      <td>11675.530273</td>\n",
              "      <td>11782.349609</td>\n",
              "      <td>183190000</td>\n",
              "      <td>11782.349609</td>\n",
              "      <td>48.029297</td>\n",
              "      <td>1</td>\n",
              "    </tr>\n",
              "    <tr>\n",
              "      <th>2</th>\n",
              "      <td>2008-08-12</td>\n",
              "      <td>11781.700195</td>\n",
              "      <td>11782.349609</td>\n",
              "      <td>11601.519531</td>\n",
              "      <td>11642.469727</td>\n",
              "      <td>173590000</td>\n",
              "      <td>11642.469727</td>\n",
              "      <td>-139.879882</td>\n",
              "      <td>0</td>\n",
              "    </tr>\n",
              "    <tr>\n",
              "      <th>3</th>\n",
              "      <td>2008-08-13</td>\n",
              "      <td>11632.809570</td>\n",
              "      <td>11633.780273</td>\n",
              "      <td>11453.339844</td>\n",
              "      <td>11532.959961</td>\n",
              "      <td>182550000</td>\n",
              "      <td>11532.959961</td>\n",
              "      <td>-109.509766</td>\n",
              "      <td>0</td>\n",
              "    </tr>\n",
              "    <tr>\n",
              "      <th>4</th>\n",
              "      <td>2008-08-14</td>\n",
              "      <td>11532.070312</td>\n",
              "      <td>11718.280273</td>\n",
              "      <td>11450.889648</td>\n",
              "      <td>11615.929688</td>\n",
              "      <td>159790000</td>\n",
              "      <td>11615.929688</td>\n",
              "      <td>82.969727</td>\n",
              "      <td>1</td>\n",
              "    </tr>\n",
              "  </tbody>\n",
              "</table>\n",
              "</div>"
            ],
            "text/plain": [
              "         Date          Open          High           Low         Close  \\\n",
              "0  2008-08-08  11432.089844  11759.959961  11388.040039  11734.320312   \n",
              "1  2008-08-11  11729.669922  11867.110352  11675.530273  11782.349609   \n",
              "2  2008-08-12  11781.700195  11782.349609  11601.519531  11642.469727   \n",
              "3  2008-08-13  11632.809570  11633.780273  11453.339844  11532.959961   \n",
              "4  2008-08-14  11532.070312  11718.280273  11450.889648  11615.929688   \n",
              "\n",
              "      Volume     Adj Close        Diff Label  \n",
              "0  212830000  11734.320312    0.000000     0  \n",
              "1  183190000  11782.349609   48.029297     1  \n",
              "2  173590000  11642.469727 -139.879882     0  \n",
              "3  182550000  11532.959961 -109.509766     0  \n",
              "4  159790000  11615.929688   82.969727     1  "
            ]
          },
          "metadata": {
            "tags": []
          },
          "execution_count": 331
        }
      ]
    },
    {
      "cell_type": "markdown",
      "metadata": {
        "id": "-K9RdUr2NZnx",
        "colab_type": "text"
      },
      "source": [
        "Prior to casting the Label column as integer, the column was an object. Changed since it is numerical value; more specifically integer. "
      ]
    },
    {
      "cell_type": "code",
      "metadata": {
        "id": "sxfmphnRJ7N_",
        "colab_type": "code",
        "colab": {}
      },
      "source": [
        "djia2['Label'] = djia2['Label'].astype('int')"
      ],
      "execution_count": 332,
      "outputs": []
    },
    {
      "cell_type": "markdown",
      "metadata": {
        "id": "R5vIiuKJN5O8",
        "colab_type": "text"
      },
      "source": [
        "## Reorganizing Reddit News Dataset\n",
        "\n",
        "Initally, the dataset had two columns: Date, News\n",
        "\n",
        "The dataset was formated so that each row is organized in following fashion: \n",
        "Date, Top1 ... Top25 \n",
        "\n",
        "Basically, the news articles were compiled into one single date and outputted horizontally. "
      ]
    },
    {
      "cell_type": "markdown",
      "metadata": {
        "id": "mVAaU84YwFlP",
        "colab_type": "text"
      },
      "source": [
        "On the news dataset, this portion of code will organize the news articles into its corresponding dates using list of lists."
      ]
    },
    {
      "cell_type": "code",
      "metadata": {
        "id": "eQQTPF8rvQGS",
        "colab_type": "code",
        "colab": {
          "base_uri": "https://localhost:8080/",
          "height": 55
        },
        "outputId": "cd703dbb-c87d-47e0-d4ca-8d6ac2ec7d83"
      },
      "source": [
        "#This is for .at function\n",
        "#https://www.geeksforgeeks.org/python-pandas-dataframe-at/\n",
        "\n",
        "#declaration of variables\n",
        "previous_date = reddit.at[0, 'Date']\n",
        "newslist= []\n",
        "sub_newslist = []\n",
        "date_list = [previous_date]\n",
        "\n",
        "\"\"\"\n",
        "This 'for loop' will iterate from the beginning to the end of the list of dataset\n",
        "\n",
        "Each iteration of the loop, the Date column will go down. The date variable will \n",
        "be the new date value. Also, News will be stored into sub_newslist(temp list for storing articles in a single date)\n",
        "At the end of the loop, the \n",
        "\n",
        "The 'if statement' will be activated when the value of 'Date' changes. \n",
        "\n",
        "When the if statement is run:\n",
        "a) the date value will be inputted towards date_list list\n",
        "b) values collected in sub_newslist will be inputted into newslist list\n",
        "c) sub_newslist list (used as a temp collector) will be emptied \n",
        "\"\"\"\n",
        "\n",
        "for i in range(0,len(reddit['Date'])):\n",
        "  date = reddit.at[i,'Date']\n",
        "  if date != previous_date:\n",
        "    date_list.append(date)\n",
        "    newslist.append(sub_newslist)\n",
        "    sub_newslist = []\n",
        "  sub_newslist.append(reddit.at[i,'News'])\n",
        "  previous_date = date\n",
        "\n",
        "#last date needs a seperate code to add articles of final date into newslist list\n",
        "newslist.append(sub_newslist)\n",
        "\n",
        "#various print statements to check that the articles are organized correctly\n",
        "\n",
        "\"\"\"\n",
        "print(newslist[0][0])\n",
        "print(newslist[-1][-1])\n",
        "print(newslist[-1])\n",
        "print(len(newslist))\n",
        "print(len(date_list))\n",
        "print(date_list[0])\n",
        "print(date_list[-1])\n",
        "\"\"\""
      ],
      "execution_count": 333,
      "outputs": [
        {
          "output_type": "execute_result",
          "data": {
            "application/vnd.google.colaboratory.intrinsic+json": {
              "type": "string"
            },
            "text/plain": [
              "'\\nprint(newslist[0][0])\\nprint(newslist[-1][-1])\\nprint(newslist[-1])\\nprint(len(newslist))\\nprint(len(date_list))\\nprint(date_list[0])\\nprint(date_list[-1])\\n'"
            ]
          },
          "metadata": {
            "tags": []
          },
          "execution_count": 333
        }
      ]
    },
    {
      "cell_type": "markdown",
      "metadata": {
        "id": "YlmDRI8U7wP9",
        "colab_type": "text"
      },
      "source": [
        "This portion of code will take the list and output them into a correct dataframe format\n",
        "\n",
        "---\n",
        "\n"
      ]
    },
    {
      "cell_type": "markdown",
      "metadata": {
        "id": "PmgBFO_e8W8d",
        "colab_type": "text"
      },
      "source": [
        "This code will create the labels for Top 25 articles. "
      ]
    },
    {
      "cell_type": "code",
      "metadata": {
        "id": "DI508XVJUjv_",
        "colab_type": "code",
        "colab": {
          "base_uri": "https://localhost:8080/",
          "height": 485
        },
        "outputId": "efbcf65d-9a48-4e2d-ec77-eb62072338f4"
      },
      "source": [
        "\"\"\"\n",
        "f is f string. allows for consistency in formatting\n",
        "\"\"\"\n",
        "top25_labels = [f'Top{str(integer)}' for integer in list(range(1,26))]\n",
        "top25_labels"
      ],
      "execution_count": 334,
      "outputs": [
        {
          "output_type": "execute_result",
          "data": {
            "text/plain": [
              "['Top1',\n",
              " 'Top2',\n",
              " 'Top3',\n",
              " 'Top4',\n",
              " 'Top5',\n",
              " 'Top6',\n",
              " 'Top7',\n",
              " 'Top8',\n",
              " 'Top9',\n",
              " 'Top10',\n",
              " 'Top11',\n",
              " 'Top12',\n",
              " 'Top13',\n",
              " 'Top14',\n",
              " 'Top15',\n",
              " 'Top16',\n",
              " 'Top17',\n",
              " 'Top18',\n",
              " 'Top19',\n",
              " 'Top20',\n",
              " 'Top21',\n",
              " 'Top22',\n",
              " 'Top23',\n",
              " 'Top24',\n",
              " 'Top25']"
            ]
          },
          "metadata": {
            "tags": []
          },
          "execution_count": 334
        }
      ]
    },
    {
      "cell_type": "markdown",
      "metadata": {
        "id": "8YSoMKm38c2h",
        "colab_type": "text"
      },
      "source": [
        "This portion of code will output the joint database."
      ]
    },
    {
      "cell_type": "code",
      "metadata": {
        "id": "3K6IKyB5KDTp",
        "colab_type": "code",
        "colab": {
          "base_uri": "https://localhost:8080/",
          "height": 422
        },
        "outputId": "cf85c592-2bd4-47cf-f0bd-61ada41adafb"
      },
      "source": [
        "#variable declaration\n",
        "relevant_dates_with_news = []\n",
        "cols = []\n",
        "\n",
        "#loop will iterate from beginning to end of the dates (created from previous block of code)\n",
        "#each line of output from 'relevant_dates_with_news' will output the entire corresponding row\n",
        "#to a specific date \n",
        "\n",
        "for i in range(0,len(date_list)):\n",
        "  #date_with_news is a temporary list collector, that's why inside the loop\n",
        "  date_with_news = []\n",
        "  date_with_news.append(date_list[i])\n",
        "  date_with_news.extend(newslist[i])\n",
        "  relevant_dates_with_news.append(date_with_news)\n",
        "\n",
        "#This portion of code makes the dataframe with the header\n",
        "cols.append('Date')\n",
        "cols.extend(top25_labels)\n",
        "df = pd.DataFrame(columns=cols)\n",
        "\n",
        "#The loop inside loop, relevant_dates_with_news will iterate all the dates from \n",
        "#The break component ensures that each line has max of 25 articles. \n",
        "for j in range(0, len(relevant_dates_with_news)):\n",
        "  for k in range(0, len(relevant_dates_with_news[j])):\n",
        "    if k > 25:\n",
        "      break\n",
        "    df.at[j, cols[k]] = relevant_dates_with_news[j][k]\n",
        "\n",
        "df.head(2)"
      ],
      "execution_count": 335,
      "outputs": [
        {
          "output_type": "execute_result",
          "data": {
            "text/html": [
              "<div>\n",
              "<style scoped>\n",
              "    .dataframe tbody tr th:only-of-type {\n",
              "        vertical-align: middle;\n",
              "    }\n",
              "\n",
              "    .dataframe tbody tr th {\n",
              "        vertical-align: top;\n",
              "    }\n",
              "\n",
              "    .dataframe thead th {\n",
              "        text-align: right;\n",
              "    }\n",
              "</style>\n",
              "<table border=\"1\" class=\"dataframe\">\n",
              "  <thead>\n",
              "    <tr style=\"text-align: right;\">\n",
              "      <th></th>\n",
              "      <th>Date</th>\n",
              "      <th>Top1</th>\n",
              "      <th>Top2</th>\n",
              "      <th>Top3</th>\n",
              "      <th>Top4</th>\n",
              "      <th>Top5</th>\n",
              "      <th>Top6</th>\n",
              "      <th>Top7</th>\n",
              "      <th>Top8</th>\n",
              "      <th>Top9</th>\n",
              "      <th>...</th>\n",
              "      <th>Top16</th>\n",
              "      <th>Top17</th>\n",
              "      <th>Top18</th>\n",
              "      <th>Top19</th>\n",
              "      <th>Top20</th>\n",
              "      <th>Top21</th>\n",
              "      <th>Top22</th>\n",
              "      <th>Top23</th>\n",
              "      <th>Top24</th>\n",
              "      <th>Top25</th>\n",
              "    </tr>\n",
              "  </thead>\n",
              "  <tbody>\n",
              "    <tr>\n",
              "      <th>0</th>\n",
              "      <td>2016-07-01</td>\n",
              "      <td>A 117-year-old woman in Mexico City finally re...</td>\n",
              "      <td>IMF chief backs Athens as permanent Olympic host</td>\n",
              "      <td>The president of France says if Brexit won, so...</td>\n",
              "      <td>British Man Who Must Give Police 24 Hours' Not...</td>\n",
              "      <td>100+ Nobel laureates urge Greenpeace to stop o...</td>\n",
              "      <td>Brazil: Huge spike in number of police killing...</td>\n",
              "      <td>Austria's highest court annuls presidential el...</td>\n",
              "      <td>Facebook wins privacy case, can track any Belg...</td>\n",
              "      <td>Switzerland denies Muslim girls citizenship af...</td>\n",
              "      <td>...</td>\n",
              "      <td>The United States has placed Myanmar, Uzbekist...</td>\n",
              "      <td>S&amp;amp;P revises European Union credit rating t...</td>\n",
              "      <td>India gets $1 billion loan from World Bank for...</td>\n",
              "      <td>U.S. sailors detained by Iran spoke too much u...</td>\n",
              "      <td>Mass fish kill in Vietnam solved as Taiwan ste...</td>\n",
              "      <td>Philippines president Rodrigo Duterte urges pe...</td>\n",
              "      <td>Spain arrests three Pakistanis accused of prom...</td>\n",
              "      <td>Venezuela, where anger over food shortages is ...</td>\n",
              "      <td>A Hindu temple worker has been killed by three...</td>\n",
              "      <td>Ozone layer hole seems to be healing - US &amp;amp...</td>\n",
              "    </tr>\n",
              "    <tr>\n",
              "      <th>1</th>\n",
              "      <td>2016-06-30</td>\n",
              "      <td>Jamaica proposes marijuana dispensers for tour...</td>\n",
              "      <td>Stephen Hawking says pollution and 'stupidity'...</td>\n",
              "      <td>Boris Johnson says he will not run for Tory pa...</td>\n",
              "      <td>Six gay men in Ivory Coast were abused and for...</td>\n",
              "      <td>Switzerland denies citizenship to Muslim immig...</td>\n",
              "      <td>Palestinian terrorist stabs israeli teen girl ...</td>\n",
              "      <td>Puerto Rico will default on $1 billion of debt...</td>\n",
              "      <td>Republic of Ireland fans to be awarded medal f...</td>\n",
              "      <td>Afghan suicide bomber 'kills up to 40' - BBC News</td>\n",
              "      <td>...</td>\n",
              "      <td>Googles free wifi at Indian railway stations i...</td>\n",
              "      <td>Mounting evidence suggests 'hobbits' were wipe...</td>\n",
              "      <td>The men who carried out Tuesday's terror attac...</td>\n",
              "      <td>Calls to suspend Saudi Arabia from UN Human Ri...</td>\n",
              "      <td>More Than 100 Nobel Laureates Call Out Greenpe...</td>\n",
              "      <td>British pedophile sentenced to 85 years in US ...</td>\n",
              "      <td>US permitted 1,200 offshore fracks in Gulf of ...</td>\n",
              "      <td>We will be swimming in ridicule - French beach...</td>\n",
              "      <td>UEFA says no minutes of silence for Istanbul v...</td>\n",
              "      <td>Law Enforcement Sources: Gun Used in Paris Ter...</td>\n",
              "    </tr>\n",
              "  </tbody>\n",
              "</table>\n",
              "<p>2 rows × 26 columns</p>\n",
              "</div>"
            ],
            "text/plain": [
              "         Date                                               Top1  \\\n",
              "0  2016-07-01  A 117-year-old woman in Mexico City finally re...   \n",
              "1  2016-06-30  Jamaica proposes marijuana dispensers for tour...   \n",
              "\n",
              "                                                Top2  \\\n",
              "0   IMF chief backs Athens as permanent Olympic host   \n",
              "1  Stephen Hawking says pollution and 'stupidity'...   \n",
              "\n",
              "                                                Top3  \\\n",
              "0  The president of France says if Brexit won, so...   \n",
              "1  Boris Johnson says he will not run for Tory pa...   \n",
              "\n",
              "                                                Top4  \\\n",
              "0  British Man Who Must Give Police 24 Hours' Not...   \n",
              "1  Six gay men in Ivory Coast were abused and for...   \n",
              "\n",
              "                                                Top5  \\\n",
              "0  100+ Nobel laureates urge Greenpeace to stop o...   \n",
              "1  Switzerland denies citizenship to Muslim immig...   \n",
              "\n",
              "                                                Top6  \\\n",
              "0  Brazil: Huge spike in number of police killing...   \n",
              "1  Palestinian terrorist stabs israeli teen girl ...   \n",
              "\n",
              "                                                Top7  \\\n",
              "0  Austria's highest court annuls presidential el...   \n",
              "1  Puerto Rico will default on $1 billion of debt...   \n",
              "\n",
              "                                                Top8  \\\n",
              "0  Facebook wins privacy case, can track any Belg...   \n",
              "1  Republic of Ireland fans to be awarded medal f...   \n",
              "\n",
              "                                                Top9  \\\n",
              "0  Switzerland denies Muslim girls citizenship af...   \n",
              "1  Afghan suicide bomber 'kills up to 40' - BBC News   \n",
              "\n",
              "                         ...                          \\\n",
              "0                        ...                           \n",
              "1                        ...                           \n",
              "\n",
              "                                               Top16  \\\n",
              "0  The United States has placed Myanmar, Uzbekist...   \n",
              "1  Googles free wifi at Indian railway stations i...   \n",
              "\n",
              "                                               Top17  \\\n",
              "0  S&amp;P revises European Union credit rating t...   \n",
              "1  Mounting evidence suggests 'hobbits' were wipe...   \n",
              "\n",
              "                                               Top18  \\\n",
              "0  India gets $1 billion loan from World Bank for...   \n",
              "1  The men who carried out Tuesday's terror attac...   \n",
              "\n",
              "                                               Top19  \\\n",
              "0  U.S. sailors detained by Iran spoke too much u...   \n",
              "1  Calls to suspend Saudi Arabia from UN Human Ri...   \n",
              "\n",
              "                                               Top20  \\\n",
              "0  Mass fish kill in Vietnam solved as Taiwan ste...   \n",
              "1  More Than 100 Nobel Laureates Call Out Greenpe...   \n",
              "\n",
              "                                               Top21  \\\n",
              "0  Philippines president Rodrigo Duterte urges pe...   \n",
              "1  British pedophile sentenced to 85 years in US ...   \n",
              "\n",
              "                                               Top22  \\\n",
              "0  Spain arrests three Pakistanis accused of prom...   \n",
              "1  US permitted 1,200 offshore fracks in Gulf of ...   \n",
              "\n",
              "                                               Top23  \\\n",
              "0  Venezuela, where anger over food shortages is ...   \n",
              "1  We will be swimming in ridicule - French beach...   \n",
              "\n",
              "                                               Top24  \\\n",
              "0  A Hindu temple worker has been killed by three...   \n",
              "1  UEFA says no minutes of silence for Istanbul v...   \n",
              "\n",
              "                                               Top25  \n",
              "0  Ozone layer hole seems to be healing - US &amp...  \n",
              "1  Law Enforcement Sources: Gun Used in Paris Ter...  \n",
              "\n",
              "[2 rows x 26 columns]"
            ]
          },
          "metadata": {
            "tags": []
          },
          "execution_count": 335
        }
      ]
    },
    {
      "cell_type": "markdown",
      "metadata": {
        "id": "CCmuVgfZO1Xr",
        "colab_type": "text"
      },
      "source": [
        "## Combining the cleaned DJIA and Reddit datasets"
      ]
    },
    {
      "cell_type": "markdown",
      "metadata": {
        "id": "nz1KKwP6E1at",
        "colab_type": "text"
      },
      "source": [
        "The finalized databases are merged. The 'djia' is the base database where the newly created 'df' database will merge on 'Date' column. As of result,\n",
        "we expect the erraneous dates from the Reddit News will be automatically cropped\n",
        "if the date range goes beyond DJIA information."
      ]
    },
    {
      "cell_type": "code",
      "metadata": {
        "id": "AZK6sPWFcBPG",
        "colab_type": "code",
        "colab": {}
      },
      "source": [
        "result_all = pd.merge(djia2, df, how='inner', on=['Date'])"
      ],
      "execution_count": 336,
      "outputs": []
    },
    {
      "cell_type": "markdown",
      "metadata": {
        "id": "DdEGC7lOGoD6",
        "colab_type": "text"
      },
      "source": [
        "'result_all' will have all the necessary data. This can be used to do quantitative analysis as well. \n",
        "\n",
        "However, for classification, we can crop for only necessary "
      ]
    },
    {
      "cell_type": "code",
      "metadata": {
        "id": "_ff5cuM9i456",
        "colab_type": "code",
        "colab": {
          "base_uri": "https://localhost:8080/",
          "height": 370
        },
        "outputId": "97f74db4-8455-4ff1-e5ff-6a0cc61294e1"
      },
      "source": [
        "\"\"\"\n",
        "CAUTION: Run this code ONLY once. Since, the drop code if run again will remove \n",
        "more columns than necessary\n",
        "\n",
        "If unappropriate result appears, run the previous block of code to reset \n",
        "result variable and run this portion again\n",
        "\n",
        "The result should have Date, Label, Top1 .. Top 25 columns\n",
        "\"\"\"\n",
        "result = result_all.copy() \n",
        "#learnt that without .copy(), changes are also made to the original dataset\n",
        "result.drop(result.iloc[:, 1:8], axis=1, inplace=True)\n",
        "result.head(2)"
      ],
      "execution_count": 337,
      "outputs": [
        {
          "output_type": "execute_result",
          "data": {
            "text/html": [
              "<div>\n",
              "<style scoped>\n",
              "    .dataframe tbody tr th:only-of-type {\n",
              "        vertical-align: middle;\n",
              "    }\n",
              "\n",
              "    .dataframe tbody tr th {\n",
              "        vertical-align: top;\n",
              "    }\n",
              "\n",
              "    .dataframe thead th {\n",
              "        text-align: right;\n",
              "    }\n",
              "</style>\n",
              "<table border=\"1\" class=\"dataframe\">\n",
              "  <thead>\n",
              "    <tr style=\"text-align: right;\">\n",
              "      <th></th>\n",
              "      <th>Date</th>\n",
              "      <th>Label</th>\n",
              "      <th>Top1</th>\n",
              "      <th>Top2</th>\n",
              "      <th>Top3</th>\n",
              "      <th>Top4</th>\n",
              "      <th>Top5</th>\n",
              "      <th>Top6</th>\n",
              "      <th>Top7</th>\n",
              "      <th>Top8</th>\n",
              "      <th>...</th>\n",
              "      <th>Top16</th>\n",
              "      <th>Top17</th>\n",
              "      <th>Top18</th>\n",
              "      <th>Top19</th>\n",
              "      <th>Top20</th>\n",
              "      <th>Top21</th>\n",
              "      <th>Top22</th>\n",
              "      <th>Top23</th>\n",
              "      <th>Top24</th>\n",
              "      <th>Top25</th>\n",
              "    </tr>\n",
              "  </thead>\n",
              "  <tbody>\n",
              "    <tr>\n",
              "      <th>0</th>\n",
              "      <td>2008-08-08</td>\n",
              "      <td>0</td>\n",
              "      <td>b\"Georgia 'downs two Russian warplanes' as cou...</td>\n",
              "      <td>b'BREAKING: Musharraf to be impeached.'</td>\n",
              "      <td>b'Russia Today: Columns of troops roll into So...</td>\n",
              "      <td>b'Russian tanks are moving towards the capital...</td>\n",
              "      <td>b\"Afghan children raped with 'impunity,' U.N. ...</td>\n",
              "      <td>b'150 Russian tanks have entered South Ossetia...</td>\n",
              "      <td>b\"Breaking: Georgia invades South Ossetia, Rus...</td>\n",
              "      <td>b\"The 'enemy combatent' trials are nothing but...</td>\n",
              "      <td>...</td>\n",
              "      <td>b'Georgia Invades South Ossetia - if Russia ge...</td>\n",
              "      <td>b'Al-Qaeda Faces Islamist Backlash'</td>\n",
              "      <td>b'Condoleezza Rice: \"The US would not act to p...</td>\n",
              "      <td>b'This is a busy day:  The European Union has ...</td>\n",
              "      <td>b\"Georgia will withdraw 1,000 soldiers from Ir...</td>\n",
              "      <td>b'Why the Pentagon Thinks Attacking Iran is a ...</td>\n",
              "      <td>b'Caucasus in crisis: Georgia invades South Os...</td>\n",
              "      <td>b'Indian shoe manufactory  - And again in a se...</td>\n",
              "      <td>b'Visitors Suffering from Mental Illnesses Ban...</td>\n",
              "      <td>b\"No Help for Mexico's Kidnapping Surge\"</td>\n",
              "    </tr>\n",
              "    <tr>\n",
              "      <th>1</th>\n",
              "      <td>2008-08-11</td>\n",
              "      <td>1</td>\n",
              "      <td>b'Why wont America and Nato help us? If they w...</td>\n",
              "      <td>b'Bush puts foot down on Georgian conflict'</td>\n",
              "      <td>b\"Jewish Georgian minister: Thanks to Israeli ...</td>\n",
              "      <td>b'Georgian army flees in disarray as Russians ...</td>\n",
              "      <td>b\"Olympic opening ceremony fireworks 'faked'\"</td>\n",
              "      <td>b'What were the Mossad with fraudulent New Zea...</td>\n",
              "      <td>b'Russia angered by Israeli military sale to G...</td>\n",
              "      <td>b'An American citizen living in S.Ossetia blam...</td>\n",
              "      <td>...</td>\n",
              "      <td>b'Israel and the US behind the Georgian aggres...</td>\n",
              "      <td>b'\"Do not believe TV, neither Russian nor Geor...</td>\n",
              "      <td>b'Riots are still going on in Montreal (Canada...</td>\n",
              "      <td>b'China to overtake US as largest manufacturer'</td>\n",
              "      <td>b'War in South Ossetia [PICS]'</td>\n",
              "      <td>b'Israeli Physicians Group Condemns State Tort...</td>\n",
              "      <td>b' Russia has just beaten the United States ov...</td>\n",
              "      <td>b'Perhaps *the* question about the Georgia - R...</td>\n",
              "      <td>b'Russia is so much better at war'</td>\n",
              "      <td>b\"So this is what it's come to: trading sex fo...</td>\n",
              "    </tr>\n",
              "  </tbody>\n",
              "</table>\n",
              "<p>2 rows × 27 columns</p>\n",
              "</div>"
            ],
            "text/plain": [
              "         Date  Label                                               Top1  \\\n",
              "0  2008-08-08      0  b\"Georgia 'downs two Russian warplanes' as cou...   \n",
              "1  2008-08-11      1  b'Why wont America and Nato help us? If they w...   \n",
              "\n",
              "                                          Top2  \\\n",
              "0      b'BREAKING: Musharraf to be impeached.'   \n",
              "1  b'Bush puts foot down on Georgian conflict'   \n",
              "\n",
              "                                                Top3  \\\n",
              "0  b'Russia Today: Columns of troops roll into So...   \n",
              "1  b\"Jewish Georgian minister: Thanks to Israeli ...   \n",
              "\n",
              "                                                Top4  \\\n",
              "0  b'Russian tanks are moving towards the capital...   \n",
              "1  b'Georgian army flees in disarray as Russians ...   \n",
              "\n",
              "                                                Top5  \\\n",
              "0  b\"Afghan children raped with 'impunity,' U.N. ...   \n",
              "1      b\"Olympic opening ceremony fireworks 'faked'\"   \n",
              "\n",
              "                                                Top6  \\\n",
              "0  b'150 Russian tanks have entered South Ossetia...   \n",
              "1  b'What were the Mossad with fraudulent New Zea...   \n",
              "\n",
              "                                                Top7  \\\n",
              "0  b\"Breaking: Georgia invades South Ossetia, Rus...   \n",
              "1  b'Russia angered by Israeli military sale to G...   \n",
              "\n",
              "                                                Top8  \\\n",
              "0  b\"The 'enemy combatent' trials are nothing but...   \n",
              "1  b'An American citizen living in S.Ossetia blam...   \n",
              "\n",
              "                         ...                          \\\n",
              "0                        ...                           \n",
              "1                        ...                           \n",
              "\n",
              "                                               Top16  \\\n",
              "0  b'Georgia Invades South Ossetia - if Russia ge...   \n",
              "1  b'Israel and the US behind the Georgian aggres...   \n",
              "\n",
              "                                               Top17  \\\n",
              "0                b'Al-Qaeda Faces Islamist Backlash'   \n",
              "1  b'\"Do not believe TV, neither Russian nor Geor...   \n",
              "\n",
              "                                               Top18  \\\n",
              "0  b'Condoleezza Rice: \"The US would not act to p...   \n",
              "1  b'Riots are still going on in Montreal (Canada...   \n",
              "\n",
              "                                               Top19  \\\n",
              "0  b'This is a busy day:  The European Union has ...   \n",
              "1    b'China to overtake US as largest manufacturer'   \n",
              "\n",
              "                                               Top20  \\\n",
              "0  b\"Georgia will withdraw 1,000 soldiers from Ir...   \n",
              "1                     b'War in South Ossetia [PICS]'   \n",
              "\n",
              "                                               Top21  \\\n",
              "0  b'Why the Pentagon Thinks Attacking Iran is a ...   \n",
              "1  b'Israeli Physicians Group Condemns State Tort...   \n",
              "\n",
              "                                               Top22  \\\n",
              "0  b'Caucasus in crisis: Georgia invades South Os...   \n",
              "1  b' Russia has just beaten the United States ov...   \n",
              "\n",
              "                                               Top23  \\\n",
              "0  b'Indian shoe manufactory  - And again in a se...   \n",
              "1  b'Perhaps *the* question about the Georgia - R...   \n",
              "\n",
              "                                               Top24  \\\n",
              "0  b'Visitors Suffering from Mental Illnesses Ban...   \n",
              "1                 b'Russia is so much better at war'   \n",
              "\n",
              "                                               Top25  \n",
              "0           b\"No Help for Mexico's Kidnapping Surge\"  \n",
              "1  b\"So this is what it's come to: trading sex fo...  \n",
              "\n",
              "[2 rows x 27 columns]"
            ]
          },
          "metadata": {
            "tags": []
          },
          "execution_count": 337
        }
      ]
    },
    {
      "cell_type": "markdown",
      "metadata": {
        "id": "FG7OjpgGQHMY",
        "colab_type": "text"
      },
      "source": [
        "This portion of code tests whether or not each row has 25 articles. \n",
        "We find that there are some null values present. \n",
        "\n",
        "With this info, manually checked...\n",
        "\n",
        "**Though no columns had >25 articles, it was found that there were some dates with <25 articles.**"
      ]
    },
    {
      "cell_type": "code",
      "metadata": {
        "id": "q-KChXXmKi1o",
        "colab_type": "code",
        "colab": {
          "base_uri": "https://localhost:8080/",
          "height": 92
        },
        "outputId": "b034ad45-9820-4f08-beca-1343f530e248"
      },
      "source": [
        "\"\"\"\n",
        "This portion of code found that BEFORE EVEN CLEANING DATA that there were some dates where it did not =25 articles\n",
        "\n",
        "Luckily, most can be neglected since when the dates are merged, most were taken out.\n",
        "\n",
        "However, it was later found that even after merging that some dates had <25 because of null values\n",
        "\"\"\"\n",
        "\n",
        "a = list(reddit['Date'])\n",
        "\n",
        "a,b = np.unique(a, return_counts=True)\n",
        "a[b != 25]"
      ],
      "execution_count": 338,
      "outputs": [
        {
          "output_type": "execute_result",
          "data": {
            "text/plain": [
              "array(['2008-10-26', '2009-09-05', '2009-09-12', '2009-09-13',\n",
              "       '2009-09-15', '2009-09-19', '2009-09-20', '2009-09-26',\n",
              "       '2009-10-10', '2009-10-25', '2009-12-24', '2011-04-21'],\n",
              "      dtype='<U10')"
            ]
          },
          "metadata": {
            "tags": []
          },
          "execution_count": 338
        }
      ]
    },
    {
      "cell_type": "markdown",
      "metadata": {
        "id": "BGXjDtQOVIpD",
        "colab_type": "text"
      },
      "source": [
        "This was a test to see where the NaN data can be found with the final dataset.\n",
        "\n",
        "The original dataset also had the NaN at the same locations. \n",
        "Therefore, the accuracy to replicate the finished clean data was a sucess. \n",
        "\n",
        "The missing data can be neglegible since there aren't many NaN\n",
        "and there are enough articles for even the non =25 article dates to run machine learning. \n",
        "\n",
        "---\n",
        "\n"
      ]
    },
    {
      "cell_type": "markdown",
      "metadata": {
        "id": "uwEbQnAWXDjV",
        "colab_type": "text"
      },
      "source": [
        "This portion of code finds the NaN values on 'result' dataframe. \n",
        "\n",
        "Even when the dataset is fully 'cleaned', there are some issues to be dealt with."
      ]
    },
    {
      "cell_type": "code",
      "metadata": {
        "id": "LIm_GdL4SmHu",
        "colab_type": "code",
        "colab": {
          "base_uri": "https://localhost:8080/",
          "height": 92
        },
        "outputId": "2f786c3e-17d5-4ead-fda4-f10830493c77"
      },
      "source": [
        "#https://dzone.com/articles/pandas-find-rows-where-columnfield-is-null\n",
        "null_columns=result.columns[result.isnull().any()]\n",
        "print(result[result.isnull().any(axis=1)][null_columns].head())"
      ],
      "execution_count": 339,
      "outputs": [
        {
          "output_type": "stream",
          "text": [
            "                                                 Top23 Top24 Top25\n",
            "277                                                NaN   NaN   NaN\n",
            "348  b\"Ayatollah Montazeri's Legacy:  In death he m...   NaN   NaN\n",
            "681          Prince Charles wins some kind of a record   NaN   NaN\n"
          ],
          "name": "stdout"
        }
      ]
    },
    {
      "cell_type": "code",
      "metadata": {
        "id": "spBHsNyrViXY",
        "colab_type": "code",
        "colab": {
          "base_uri": "https://localhost:8080/",
          "height": 470
        },
        "outputId": "16de7c7b-1e37-4ce4-97f6-7ba30ed86069"
      },
      "source": [
        "\"\"\"\n",
        "Dates where the missing data can be found. With more detail\n",
        "Scroll horizontally to the end to find some NaN values. \n",
        "\"\"\"\n",
        "\n",
        "#https://www.shanelynn.ie/select-pandas-dataframe-rows-and-columns-using-iloc-loc-and-ix/\n",
        "\n",
        "result.iloc[[277,348,681]]"
      ],
      "execution_count": 340,
      "outputs": [
        {
          "output_type": "execute_result",
          "data": {
            "text/html": [
              "<div>\n",
              "<style scoped>\n",
              "    .dataframe tbody tr th:only-of-type {\n",
              "        vertical-align: middle;\n",
              "    }\n",
              "\n",
              "    .dataframe tbody tr th {\n",
              "        vertical-align: top;\n",
              "    }\n",
              "\n",
              "    .dataframe thead th {\n",
              "        text-align: right;\n",
              "    }\n",
              "</style>\n",
              "<table border=\"1\" class=\"dataframe\">\n",
              "  <thead>\n",
              "    <tr style=\"text-align: right;\">\n",
              "      <th></th>\n",
              "      <th>Date</th>\n",
              "      <th>Label</th>\n",
              "      <th>Top1</th>\n",
              "      <th>Top2</th>\n",
              "      <th>Top3</th>\n",
              "      <th>Top4</th>\n",
              "      <th>Top5</th>\n",
              "      <th>Top6</th>\n",
              "      <th>Top7</th>\n",
              "      <th>Top8</th>\n",
              "      <th>...</th>\n",
              "      <th>Top16</th>\n",
              "      <th>Top17</th>\n",
              "      <th>Top18</th>\n",
              "      <th>Top19</th>\n",
              "      <th>Top20</th>\n",
              "      <th>Top21</th>\n",
              "      <th>Top22</th>\n",
              "      <th>Top23</th>\n",
              "      <th>Top24</th>\n",
              "      <th>Top25</th>\n",
              "    </tr>\n",
              "  </thead>\n",
              "  <tbody>\n",
              "    <tr>\n",
              "      <th>277</th>\n",
              "      <td>2009-09-15</td>\n",
              "      <td>1</td>\n",
              "      <td>b'The Church of Scientology won\\'t be dissolve...</td>\n",
              "      <td>b'New virus from rats can kill 80 per cent of ...</td>\n",
              "      <td>b'The gruesome spectacle of dolphins being sla...</td>\n",
              "      <td>b'The End of Innocence in Afghanistan: \\'The G...</td>\n",
              "      <td>b'France approves Internet piracy bill'</td>\n",
              "      <td>b'The Rural Doctors Association says right now...</td>\n",
              "      <td>b'Al Jazeera English - Africa - Shabab to aven...</td>\n",
              "      <td>b\"How Sri Lanka governs through detentions - S...</td>\n",
              "      <td>...</td>\n",
              "      <td>b'In an equine echo of the controversy surroun...</td>\n",
              "      <td>b'UPDATE: 5-New York homes raided in terrorism...</td>\n",
              "      <td>b'Population Growth Impeding Progress on the M...</td>\n",
              "      <td>b'Global Population to Reach 7 Billion by 2011'</td>\n",
              "      <td>b'Government Funded Feminist Porn '</td>\n",
              "      <td>b'Can someone enlighten me re:Holy Land disput...</td>\n",
              "      <td>b'Human Rights Watch official suspended for co...</td>\n",
              "      <td>NaN</td>\n",
              "      <td>NaN</td>\n",
              "      <td>NaN</td>\n",
              "    </tr>\n",
              "    <tr>\n",
              "      <th>348</th>\n",
              "      <td>2009-12-24</td>\n",
              "      <td>1</td>\n",
              "      <td>b'Woman knocks down Pope Benedict at Christmas...</td>\n",
              "      <td>b'Ugandan President Museveni says he will bloc...</td>\n",
              "      <td>b\"Venezuela's Chavez threatens to kick out car...</td>\n",
              "      <td>b'Woman who knocked down pope had pasta in her...</td>\n",
              "      <td>b'450 people from 21 countries, including 30 f...</td>\n",
              "      <td>b'Chvez declares Angel Falls is no more: World...</td>\n",
              "      <td>b'Drug tests catch out 10 police (UK)'</td>\n",
              "      <td>b'Once the worlds fourth-largest lake, the Ara...</td>\n",
              "      <td>...</td>\n",
              "      <td>b'Pig farts spark Australia gas scare - I shit...</td>\n",
              "      <td>b'Bin Laden daughter flees to Saudi embassy in...</td>\n",
              "      <td>b'Traumatic Brain Injuries:  Growing evidence ...</td>\n",
              "      <td>b'The Pakistan Supreme Court has ordered the P...</td>\n",
              "      <td>b\"Here's a video the Taliban released this mor...</td>\n",
              "      <td>b'Fireworks set off aboard airliner'</td>\n",
              "      <td>b'Five VA men may face terrorism charges, Paki...</td>\n",
              "      <td>b\"Ayatollah Montazeri's Legacy:  In death he m...</td>\n",
              "      <td>NaN</td>\n",
              "      <td>NaN</td>\n",
              "    </tr>\n",
              "    <tr>\n",
              "      <th>681</th>\n",
              "      <td>2011-04-21</td>\n",
              "      <td>1</td>\n",
              "      <td>Director of \"Restrepo\" and Photographer Chris ...</td>\n",
              "      <td>Everyone within 20km of Fukushima will be forc...</td>\n",
              "      <td>Bahrain: Activist Zaynab Al-Khawaja's letter t...</td>\n",
              "      <td>More than 80,000 people are claiming incapacit...</td>\n",
              "      <td>Libya: 'mission creep' claims as UK sends in m...</td>\n",
              "      <td>Japan considers banning access to evacuation zone</td>\n",
              "      <td>Chinese oil giant Sinopec has stopped exportin...</td>\n",
              "      <td>6.0-magnitude earthquake strikes off east coas...</td>\n",
              "      <td>...</td>\n",
              "      <td>Russian migration official fired in racism row...</td>\n",
              "      <td>Small amounts of radioactive iodine found in b...</td>\n",
              "      <td>War photographer, Oscar-nominated film directo...</td>\n",
              "      <td>Effeminate boys are being sent to a special ca...</td>\n",
              "      <td>Japan Government Declares 12-Mile Area Around ...</td>\n",
              "      <td>TEPCO admitted Wednesday that nuclear fuel in ...</td>\n",
              "      <td>Fukushima evacuees face arrest if they return ...</td>\n",
              "      <td>Prince Charles wins some kind of a record</td>\n",
              "      <td>NaN</td>\n",
              "      <td>NaN</td>\n",
              "    </tr>\n",
              "  </tbody>\n",
              "</table>\n",
              "<p>3 rows × 27 columns</p>\n",
              "</div>"
            ],
            "text/plain": [
              "           Date  Label                                               Top1  \\\n",
              "277  2009-09-15      1  b'The Church of Scientology won\\'t be dissolve...   \n",
              "348  2009-12-24      1  b'Woman knocks down Pope Benedict at Christmas...   \n",
              "681  2011-04-21      1  Director of \"Restrepo\" and Photographer Chris ...   \n",
              "\n",
              "                                                  Top2  \\\n",
              "277  b'New virus from rats can kill 80 per cent of ...   \n",
              "348  b'Ugandan President Museveni says he will bloc...   \n",
              "681  Everyone within 20km of Fukushima will be forc...   \n",
              "\n",
              "                                                  Top3  \\\n",
              "277  b'The gruesome spectacle of dolphins being sla...   \n",
              "348  b\"Venezuela's Chavez threatens to kick out car...   \n",
              "681  Bahrain: Activist Zaynab Al-Khawaja's letter t...   \n",
              "\n",
              "                                                  Top4  \\\n",
              "277  b'The End of Innocence in Afghanistan: \\'The G...   \n",
              "348  b'Woman who knocked down pope had pasta in her...   \n",
              "681  More than 80,000 people are claiming incapacit...   \n",
              "\n",
              "                                                  Top5  \\\n",
              "277            b'France approves Internet piracy bill'   \n",
              "348  b'450 people from 21 countries, including 30 f...   \n",
              "681  Libya: 'mission creep' claims as UK sends in m...   \n",
              "\n",
              "                                                  Top6  \\\n",
              "277  b'The Rural Doctors Association says right now...   \n",
              "348  b'Chvez declares Angel Falls is no more: World...   \n",
              "681  Japan considers banning access to evacuation zone   \n",
              "\n",
              "                                                  Top7  \\\n",
              "277  b'Al Jazeera English - Africa - Shabab to aven...   \n",
              "348             b'Drug tests catch out 10 police (UK)'   \n",
              "681  Chinese oil giant Sinopec has stopped exportin...   \n",
              "\n",
              "                                                  Top8  ...   \\\n",
              "277  b\"How Sri Lanka governs through detentions - S...  ...    \n",
              "348  b'Once the worlds fourth-largest lake, the Ara...  ...    \n",
              "681  6.0-magnitude earthquake strikes off east coas...  ...    \n",
              "\n",
              "                                                 Top16  \\\n",
              "277  b'In an equine echo of the controversy surroun...   \n",
              "348  b'Pig farts spark Australia gas scare - I shit...   \n",
              "681  Russian migration official fired in racism row...   \n",
              "\n",
              "                                                 Top17  \\\n",
              "277  b'UPDATE: 5-New York homes raided in terrorism...   \n",
              "348  b'Bin Laden daughter flees to Saudi embassy in...   \n",
              "681  Small amounts of radioactive iodine found in b...   \n",
              "\n",
              "                                                 Top18  \\\n",
              "277  b'Population Growth Impeding Progress on the M...   \n",
              "348  b'Traumatic Brain Injuries:  Growing evidence ...   \n",
              "681  War photographer, Oscar-nominated film directo...   \n",
              "\n",
              "                                                 Top19  \\\n",
              "277    b'Global Population to Reach 7 Billion by 2011'   \n",
              "348  b'The Pakistan Supreme Court has ordered the P...   \n",
              "681  Effeminate boys are being sent to a special ca...   \n",
              "\n",
              "                                                 Top20  \\\n",
              "277                b'Government Funded Feminist Porn '   \n",
              "348  b\"Here's a video the Taliban released this mor...   \n",
              "681  Japan Government Declares 12-Mile Area Around ...   \n",
              "\n",
              "                                                 Top21  \\\n",
              "277  b'Can someone enlighten me re:Holy Land disput...   \n",
              "348               b'Fireworks set off aboard airliner'   \n",
              "681  TEPCO admitted Wednesday that nuclear fuel in ...   \n",
              "\n",
              "                                                 Top22  \\\n",
              "277  b'Human Rights Watch official suspended for co...   \n",
              "348  b'Five VA men may face terrorism charges, Paki...   \n",
              "681  Fukushima evacuees face arrest if they return ...   \n",
              "\n",
              "                                                 Top23 Top24 Top25  \n",
              "277                                                NaN   NaN   NaN  \n",
              "348  b\"Ayatollah Montazeri's Legacy:  In death he m...   NaN   NaN  \n",
              "681          Prince Charles wins some kind of a record   NaN   NaN  \n",
              "\n",
              "[3 rows x 27 columns]"
            ]
          },
          "metadata": {
            "tags": []
          },
          "execution_count": 340
        }
      ]
    },
    {
      "cell_type": "markdown",
      "metadata": {
        "id": "p2mV4gk6QprW",
        "colab_type": "text"
      },
      "source": [
        "Code to output the final cleaned data to file. \n",
        "\n",
        "When compared to final prepared data, the result was identical to the prepared data."
      ]
    },
    {
      "cell_type": "code",
      "metadata": {
        "id": "H3OpMeKSKrmV",
        "colab_type": "code",
        "colab": {}
      },
      "source": [
        "#To output the file (however, no preprocessing and feature engineering is required prior to machine learning)\n",
        "result.to_excel(\"cleaned_data(with more processing required).xlsx\")"
      ],
      "execution_count": 341,
      "outputs": []
    },
    {
      "cell_type": "markdown",
      "metadata": {
        "id": "znx67sKJJwnh",
        "colab_type": "text"
      },
      "source": [
        "# Natural Language Processing "
      ]
    },
    {
      "cell_type": "markdown",
      "metadata": {
        "id": "HXXAbaaTJ1c5",
        "colab_type": "text"
      },
      "source": [
        "Although the dataset has been cleaned and combined, there are still more work to be done. \n",
        "\n",
        "We still need to pre-process the data so that the machine learning algorithm can take the input. "
      ]
    },
    {
      "cell_type": "markdown",
      "metadata": {
        "id": "a1mHM12-d-vA",
        "colab_type": "text"
      },
      "source": [
        "## Loading Machine Learning (NLP) Libraries"
      ]
    },
    {
      "cell_type": "code",
      "metadata": {
        "id": "NgrGxnn-ei7m",
        "colab_type": "code",
        "colab": {}
      },
      "source": [
        "from sklearn.feature_extraction.text import CountVectorizer\n",
        "from sklearn.ensemble import RandomForestClassifier\n",
        "from sklearn.metrics import classification_report,confusion_matrix,accuracy_score\n",
        "\n",
        "from sklearn.linear_model import LogisticRegression"
      ],
      "execution_count": 342,
      "outputs": []
    },
    {
      "cell_type": "markdown",
      "metadata": {
        "id": "vSpFeeCFEHnh",
        "colab_type": "text"
      },
      "source": [
        "## Spliting Training and Testing Sets"
      ]
    },
    {
      "cell_type": "markdown",
      "metadata": {
        "id": "qVprdz2qI40X",
        "colab_type": "text"
      },
      "source": [
        "According to the dataset provider, there were instructions about how to split the training and test datsets. \n",
        "\n",
        "\"For task evaluation, please use data from 2008-08-08 to 2014-12-31 as Training Set, and Test Set is then the following two years data (from 2015-01-02 to 2016-07-01). This is roughly a 80%/20% split.\"\n",
        "\n"
      ]
    },
    {
      "cell_type": "code",
      "metadata": {
        "id": "gNALLYi3DIzG",
        "colab_type": "code",
        "colab": {
          "base_uri": "https://localhost:8080/",
          "height": 251
        },
        "outputId": "0e44b3b4-e35a-4865-cf61-84f5d0474392"
      },
      "source": [
        "\"\"\"\n",
        "When looking at the list of news, we observe that some some reason, that the news articles \n",
        "start with a lower case 'b' character followed by ' or \". \n",
        "ex. b' or b\"\n",
        "\n",
        "Therefore, first step was to remove that b' or b\"\n",
        "\"\"\"\n",
        "#variable 'result_wo_b' is shorthand for result without b (b' or b\")\n",
        "\n",
        "#we later find out that this isn't necessary but was a good learning exp for regex\n",
        "#also later discover that the end of sentence has punctuation remaining.\n",
        "\n",
        "result.replace(\"b'|b\\\"\", \"\", regex = True, inplace = True)\n",
        "result.replace(\"\\\"|'$\",\"\", regex = True, inplace = True)\n",
        "result.head(1)"
      ],
      "execution_count": 343,
      "outputs": [
        {
          "output_type": "execute_result",
          "data": {
            "text/html": [
              "<div>\n",
              "<style scoped>\n",
              "    .dataframe tbody tr th:only-of-type {\n",
              "        vertical-align: middle;\n",
              "    }\n",
              "\n",
              "    .dataframe tbody tr th {\n",
              "        vertical-align: top;\n",
              "    }\n",
              "\n",
              "    .dataframe thead th {\n",
              "        text-align: right;\n",
              "    }\n",
              "</style>\n",
              "<table border=\"1\" class=\"dataframe\">\n",
              "  <thead>\n",
              "    <tr style=\"text-align: right;\">\n",
              "      <th></th>\n",
              "      <th>Date</th>\n",
              "      <th>Label</th>\n",
              "      <th>Top1</th>\n",
              "      <th>Top2</th>\n",
              "      <th>Top3</th>\n",
              "      <th>Top4</th>\n",
              "      <th>Top5</th>\n",
              "      <th>Top6</th>\n",
              "      <th>Top7</th>\n",
              "      <th>Top8</th>\n",
              "      <th>...</th>\n",
              "      <th>Top16</th>\n",
              "      <th>Top17</th>\n",
              "      <th>Top18</th>\n",
              "      <th>Top19</th>\n",
              "      <th>Top20</th>\n",
              "      <th>Top21</th>\n",
              "      <th>Top22</th>\n",
              "      <th>Top23</th>\n",
              "      <th>Top24</th>\n",
              "      <th>Top25</th>\n",
              "    </tr>\n",
              "  </thead>\n",
              "  <tbody>\n",
              "    <tr>\n",
              "      <th>0</th>\n",
              "      <td>2008-08-08</td>\n",
              "      <td>0</td>\n",
              "      <td>Georgia 'downs two Russian warplanes' as count...</td>\n",
              "      <td>BREAKING: Musharraf to be impeached.</td>\n",
              "      <td>Russia Today: Columns of troops roll into Sout...</td>\n",
              "      <td>Russian tanks are moving towards the capital o...</td>\n",
              "      <td>Afghan children raped with 'impunity,' U.N. of...</td>\n",
              "      <td>150 Russian tanks have entered South Ossetia w...</td>\n",
              "      <td>Breaking: Georgia invades South Ossetia, Russi...</td>\n",
              "      <td>The 'enemy combatent' trials are nothing but a...</td>\n",
              "      <td>...</td>\n",
              "      <td>Georgia Invades South Ossetia - if Russia gets...</td>\n",
              "      <td>Al-Qaeda Faces Islamist Backlash</td>\n",
              "      <td>Condoleezza Rice: The US would not act to prev...</td>\n",
              "      <td>This is a busy day:  The European Union has ap...</td>\n",
              "      <td>Georgia will withdraw 1,000 soldiers from Iraq...</td>\n",
              "      <td>Why the Pentagon Thinks Attacking Iran is a Ba...</td>\n",
              "      <td>Caucasus in crisis: Georgia invades South Ossetia</td>\n",
              "      <td>Indian shoe manufactory  - And again in a seri...</td>\n",
              "      <td>Visitors Suffering from Mental Illnesses Banne...</td>\n",
              "      <td>No Help for Mexico's Kidnapping Surge</td>\n",
              "    </tr>\n",
              "  </tbody>\n",
              "</table>\n",
              "<p>1 rows × 27 columns</p>\n",
              "</div>"
            ],
            "text/plain": [
              "         Date  Label                                               Top1  \\\n",
              "0  2008-08-08      0  Georgia 'downs two Russian warplanes' as count...   \n",
              "\n",
              "                                   Top2  \\\n",
              "0  BREAKING: Musharraf to be impeached.   \n",
              "\n",
              "                                                Top3  \\\n",
              "0  Russia Today: Columns of troops roll into Sout...   \n",
              "\n",
              "                                                Top4  \\\n",
              "0  Russian tanks are moving towards the capital o...   \n",
              "\n",
              "                                                Top5  \\\n",
              "0  Afghan children raped with 'impunity,' U.N. of...   \n",
              "\n",
              "                                                Top6  \\\n",
              "0  150 Russian tanks have entered South Ossetia w...   \n",
              "\n",
              "                                                Top7  \\\n",
              "0  Breaking: Georgia invades South Ossetia, Russi...   \n",
              "\n",
              "                                                Top8  \\\n",
              "0  The 'enemy combatent' trials are nothing but a...   \n",
              "\n",
              "                   ...                    \\\n",
              "0                  ...                     \n",
              "\n",
              "                                               Top16  \\\n",
              "0  Georgia Invades South Ossetia - if Russia gets...   \n",
              "\n",
              "                              Top17  \\\n",
              "0  Al-Qaeda Faces Islamist Backlash   \n",
              "\n",
              "                                               Top18  \\\n",
              "0  Condoleezza Rice: The US would not act to prev...   \n",
              "\n",
              "                                               Top19  \\\n",
              "0  This is a busy day:  The European Union has ap...   \n",
              "\n",
              "                                               Top20  \\\n",
              "0  Georgia will withdraw 1,000 soldiers from Iraq...   \n",
              "\n",
              "                                               Top21  \\\n",
              "0  Why the Pentagon Thinks Attacking Iran is a Ba...   \n",
              "\n",
              "                                               Top22  \\\n",
              "0  Caucasus in crisis: Georgia invades South Ossetia   \n",
              "\n",
              "                                               Top23  \\\n",
              "0  Indian shoe manufactory  - And again in a seri...   \n",
              "\n",
              "                                               Top24  \\\n",
              "0  Visitors Suffering from Mental Illnesses Banne...   \n",
              "\n",
              "                                   Top25  \n",
              "0  No Help for Mexico's Kidnapping Surge  \n",
              "\n",
              "[1 rows x 27 columns]"
            ]
          },
          "metadata": {
            "tags": []
          },
          "execution_count": 343
        }
      ]
    },
    {
      "cell_type": "code",
      "metadata": {
        "id": "CRj9Lzzx8jeo",
        "colab_type": "code",
        "colab": {
          "base_uri": "https://localhost:8080/",
          "height": 36
        },
        "outputId": "e62699e0-b93a-438d-da34-fa1b9a04ca66"
      },
      "source": [
        "result.iloc[0,2]"
      ],
      "execution_count": 344,
      "outputs": [
        {
          "output_type": "execute_result",
          "data": {
            "application/vnd.google.colaboratory.intrinsic+json": {
              "type": "string"
            },
            "text/plain": [
              "\"Georgia 'downs two Russian warplanes' as countries move to brink of war\""
            ]
          },
          "metadata": {
            "tags": []
          },
          "execution_count": 344
        }
      ]
    },
    {
      "cell_type": "code",
      "metadata": {
        "id": "AwGO2t1XJJFN",
        "colab_type": "code",
        "colab": {}
      },
      "source": [
        "\"\"\"\n",
        "Experimented with train = result['Date'] < '2015-01-01' but this gave a boolean result.\n",
        "Therefore, result[true values], the values that match the conditions were ouputted with final code.\n",
        "\"\"\"\n",
        "#in the future attempts train and test will use 'result' \n",
        "#for test and training datasets\n",
        "train = result[result['Date'] < '2015-01-01']\n",
        "test = result[result['Date'] > '2014-12-31']"
      ],
      "execution_count": 345,
      "outputs": []
    },
    {
      "cell_type": "code",
      "metadata": {
        "id": "X8blA_12hGh6",
        "colab_type": "code",
        "colab": {
          "base_uri": "https://localhost:8080/",
          "height": 36
        },
        "outputId": "36161153-e585-41df-c163-0bab2d46e0a6"
      },
      "source": [
        "print(train.shape)"
      ],
      "execution_count": 346,
      "outputs": [
        {
          "output_type": "stream",
          "text": [
            "(1611, 27)\n"
          ],
          "name": "stdout"
        }
      ]
    },
    {
      "cell_type": "markdown",
      "metadata": {
        "id": "iXdAtPMJhP4R",
        "colab_type": "text"
      },
      "source": [
        "So in testing data, there is a total of 1611 rows and 27 columns"
      ]
    },
    {
      "cell_type": "code",
      "metadata": {
        "id": "m4XQRotghKUP",
        "colab_type": "code",
        "colab": {
          "base_uri": "https://localhost:8080/",
          "height": 36
        },
        "outputId": "e2d96d19-5478-4cd5-87b6-188f95fd0810"
      },
      "source": [
        "print(test.shape)"
      ],
      "execution_count": 347,
      "outputs": [
        {
          "output_type": "stream",
          "text": [
            "(378, 27)\n"
          ],
          "name": "stdout"
        }
      ]
    },
    {
      "cell_type": "markdown",
      "metadata": {
        "id": "a7m3BbDShZTi",
        "colab_type": "text"
      },
      "source": [
        "In training data, there are 378 rows and 27 columns"
      ]
    },
    {
      "cell_type": "code",
      "metadata": {
        "id": "zks-bmmmNe60",
        "colab_type": "code",
        "colab": {
          "base_uri": "https://localhost:8080/",
          "height": 73
        },
        "outputId": "5edf70f1-534e-44a1-9e80-21b41b5b2091"
      },
      "source": [
        "test['Label'].value_counts()"
      ],
      "execution_count": 348,
      "outputs": [
        {
          "output_type": "execute_result",
          "data": {
            "text/plain": [
              "1    193\n",
              "0    185\n",
              "Name: Label, dtype: int64"
            ]
          },
          "metadata": {
            "tags": []
          },
          "execution_count": 348
        }
      ]
    },
    {
      "cell_type": "markdown",
      "metadata": {
        "id": "S24cEFkaNlXT",
        "colab_type": "text"
      },
      "source": [
        "Therefore, to have 100% accuracy, the machhine would have to guess correctly, 193 True and 0 False for the Test data"
      ]
    },
    {
      "cell_type": "markdown",
      "metadata": {
        "id": "DoWxJTkaXlAI",
        "colab_type": "text"
      },
      "source": [
        "## First Attempt "
      ]
    },
    {
      "cell_type": "code",
      "metadata": {
        "id": "o-BEsCila752",
        "colab_type": "code",
        "colab": {
          "base_uri": "https://localhost:8080/",
          "height": 251
        },
        "outputId": "333493c1-281a-49aa-f4e2-ab64d9dc9df5"
      },
      "source": [
        "\"\"\"\n",
        "This selects just the news articles (dependent features). \n",
        "This is where text feature engineering will be focused on\n",
        "\"\"\"\n",
        "data = train.iloc[:,2:27]\n",
        "data.head(1)"
      ],
      "execution_count": 349,
      "outputs": [
        {
          "output_type": "execute_result",
          "data": {
            "text/html": [
              "<div>\n",
              "<style scoped>\n",
              "    .dataframe tbody tr th:only-of-type {\n",
              "        vertical-align: middle;\n",
              "    }\n",
              "\n",
              "    .dataframe tbody tr th {\n",
              "        vertical-align: top;\n",
              "    }\n",
              "\n",
              "    .dataframe thead th {\n",
              "        text-align: right;\n",
              "    }\n",
              "</style>\n",
              "<table border=\"1\" class=\"dataframe\">\n",
              "  <thead>\n",
              "    <tr style=\"text-align: right;\">\n",
              "      <th></th>\n",
              "      <th>Top1</th>\n",
              "      <th>Top2</th>\n",
              "      <th>Top3</th>\n",
              "      <th>Top4</th>\n",
              "      <th>Top5</th>\n",
              "      <th>Top6</th>\n",
              "      <th>Top7</th>\n",
              "      <th>Top8</th>\n",
              "      <th>Top9</th>\n",
              "      <th>Top10</th>\n",
              "      <th>...</th>\n",
              "      <th>Top16</th>\n",
              "      <th>Top17</th>\n",
              "      <th>Top18</th>\n",
              "      <th>Top19</th>\n",
              "      <th>Top20</th>\n",
              "      <th>Top21</th>\n",
              "      <th>Top22</th>\n",
              "      <th>Top23</th>\n",
              "      <th>Top24</th>\n",
              "      <th>Top25</th>\n",
              "    </tr>\n",
              "  </thead>\n",
              "  <tbody>\n",
              "    <tr>\n",
              "      <th>0</th>\n",
              "      <td>Georgia 'downs two Russian warplanes' as count...</td>\n",
              "      <td>BREAKING: Musharraf to be impeached.</td>\n",
              "      <td>Russia Today: Columns of troops roll into Sout...</td>\n",
              "      <td>Russian tanks are moving towards the capital o...</td>\n",
              "      <td>Afghan children raped with 'impunity,' U.N. of...</td>\n",
              "      <td>150 Russian tanks have entered South Ossetia w...</td>\n",
              "      <td>Breaking: Georgia invades South Ossetia, Russi...</td>\n",
              "      <td>The 'enemy combatent' trials are nothing but a...</td>\n",
              "      <td>Georgian troops retreat from S. Osettain capit...</td>\n",
              "      <td>Did the U.S. Prep Georgia for War with Russia?</td>\n",
              "      <td>...</td>\n",
              "      <td>Georgia Invades South Ossetia - if Russia gets...</td>\n",
              "      <td>Al-Qaeda Faces Islamist Backlash</td>\n",
              "      <td>Condoleezza Rice: The US would not act to prev...</td>\n",
              "      <td>This is a busy day:  The European Union has ap...</td>\n",
              "      <td>Georgia will withdraw 1,000 soldiers from Iraq...</td>\n",
              "      <td>Why the Pentagon Thinks Attacking Iran is a Ba...</td>\n",
              "      <td>Caucasus in crisis: Georgia invades South Ossetia</td>\n",
              "      <td>Indian shoe manufactory  - And again in a seri...</td>\n",
              "      <td>Visitors Suffering from Mental Illnesses Banne...</td>\n",
              "      <td>No Help for Mexico's Kidnapping Surge</td>\n",
              "    </tr>\n",
              "  </tbody>\n",
              "</table>\n",
              "<p>1 rows × 25 columns</p>\n",
              "</div>"
            ],
            "text/plain": [
              "                                                Top1  \\\n",
              "0  Georgia 'downs two Russian warplanes' as count...   \n",
              "\n",
              "                                   Top2  \\\n",
              "0  BREAKING: Musharraf to be impeached.   \n",
              "\n",
              "                                                Top3  \\\n",
              "0  Russia Today: Columns of troops roll into Sout...   \n",
              "\n",
              "                                                Top4  \\\n",
              "0  Russian tanks are moving towards the capital o...   \n",
              "\n",
              "                                                Top5  \\\n",
              "0  Afghan children raped with 'impunity,' U.N. of...   \n",
              "\n",
              "                                                Top6  \\\n",
              "0  150 Russian tanks have entered South Ossetia w...   \n",
              "\n",
              "                                                Top7  \\\n",
              "0  Breaking: Georgia invades South Ossetia, Russi...   \n",
              "\n",
              "                                                Top8  \\\n",
              "0  The 'enemy combatent' trials are nothing but a...   \n",
              "\n",
              "                                                Top9  \\\n",
              "0  Georgian troops retreat from S. Osettain capit...   \n",
              "\n",
              "                                            Top10  \\\n",
              "0  Did the U.S. Prep Georgia for War with Russia?   \n",
              "\n",
              "                   ...                    \\\n",
              "0                  ...                     \n",
              "\n",
              "                                               Top16  \\\n",
              "0  Georgia Invades South Ossetia - if Russia gets...   \n",
              "\n",
              "                              Top17  \\\n",
              "0  Al-Qaeda Faces Islamist Backlash   \n",
              "\n",
              "                                               Top18  \\\n",
              "0  Condoleezza Rice: The US would not act to prev...   \n",
              "\n",
              "                                               Top19  \\\n",
              "0  This is a busy day:  The European Union has ap...   \n",
              "\n",
              "                                               Top20  \\\n",
              "0  Georgia will withdraw 1,000 soldiers from Iraq...   \n",
              "\n",
              "                                               Top21  \\\n",
              "0  Why the Pentagon Thinks Attacking Iran is a Ba...   \n",
              "\n",
              "                                               Top22  \\\n",
              "0  Caucasus in crisis: Georgia invades South Ossetia   \n",
              "\n",
              "                                               Top23  \\\n",
              "0  Indian shoe manufactory  - And again in a seri...   \n",
              "\n",
              "                                               Top24  \\\n",
              "0  Visitors Suffering from Mental Illnesses Banne...   \n",
              "\n",
              "                                   Top25  \n",
              "0  No Help for Mexico's Kidnapping Surge  \n",
              "\n",
              "[1 rows x 25 columns]"
            ]
          },
          "metadata": {
            "tags": []
          },
          "execution_count": 349
        }
      ]
    },
    {
      "cell_type": "code",
      "metadata": {
        "id": "2UZdMqsGljED",
        "colab_type": "code",
        "colab": {
          "base_uri": "https://localhost:8080/",
          "height": 251
        },
        "outputId": "cfcc7477-5c9a-4057-fb0f-c5d0d08a0edb"
      },
      "source": [
        "\"\"\"\n",
        "Converting to lower case characters\n",
        "\"\"\"\n",
        "#Reason is for consisentcy. For instance, georogia and Georgia will be counted as different words\n",
        "#Therefore, by having all words in upper/lower case, we eliminate redundancy\n",
        "\n",
        "for index in data:\n",
        "  data[index] = data[index].str.lower()\n",
        "\n",
        "data.head(1)"
      ],
      "execution_count": 350,
      "outputs": [
        {
          "output_type": "execute_result",
          "data": {
            "text/html": [
              "<div>\n",
              "<style scoped>\n",
              "    .dataframe tbody tr th:only-of-type {\n",
              "        vertical-align: middle;\n",
              "    }\n",
              "\n",
              "    .dataframe tbody tr th {\n",
              "        vertical-align: top;\n",
              "    }\n",
              "\n",
              "    .dataframe thead th {\n",
              "        text-align: right;\n",
              "    }\n",
              "</style>\n",
              "<table border=\"1\" class=\"dataframe\">\n",
              "  <thead>\n",
              "    <tr style=\"text-align: right;\">\n",
              "      <th></th>\n",
              "      <th>Top1</th>\n",
              "      <th>Top2</th>\n",
              "      <th>Top3</th>\n",
              "      <th>Top4</th>\n",
              "      <th>Top5</th>\n",
              "      <th>Top6</th>\n",
              "      <th>Top7</th>\n",
              "      <th>Top8</th>\n",
              "      <th>Top9</th>\n",
              "      <th>Top10</th>\n",
              "      <th>...</th>\n",
              "      <th>Top16</th>\n",
              "      <th>Top17</th>\n",
              "      <th>Top18</th>\n",
              "      <th>Top19</th>\n",
              "      <th>Top20</th>\n",
              "      <th>Top21</th>\n",
              "      <th>Top22</th>\n",
              "      <th>Top23</th>\n",
              "      <th>Top24</th>\n",
              "      <th>Top25</th>\n",
              "    </tr>\n",
              "  </thead>\n",
              "  <tbody>\n",
              "    <tr>\n",
              "      <th>0</th>\n",
              "      <td>georgia 'downs two russian warplanes' as count...</td>\n",
              "      <td>breaking: musharraf to be impeached.</td>\n",
              "      <td>russia today: columns of troops roll into sout...</td>\n",
              "      <td>russian tanks are moving towards the capital o...</td>\n",
              "      <td>afghan children raped with 'impunity,' u.n. of...</td>\n",
              "      <td>150 russian tanks have entered south ossetia w...</td>\n",
              "      <td>breaking: georgia invades south ossetia, russi...</td>\n",
              "      <td>the 'enemy combatent' trials are nothing but a...</td>\n",
              "      <td>georgian troops retreat from s. osettain capit...</td>\n",
              "      <td>did the u.s. prep georgia for war with russia?</td>\n",
              "      <td>...</td>\n",
              "      <td>georgia invades south ossetia - if russia gets...</td>\n",
              "      <td>al-qaeda faces islamist backlash</td>\n",
              "      <td>condoleezza rice: the us would not act to prev...</td>\n",
              "      <td>this is a busy day:  the european union has ap...</td>\n",
              "      <td>georgia will withdraw 1,000 soldiers from iraq...</td>\n",
              "      <td>why the pentagon thinks attacking iran is a ba...</td>\n",
              "      <td>caucasus in crisis: georgia invades south ossetia</td>\n",
              "      <td>indian shoe manufactory  - and again in a seri...</td>\n",
              "      <td>visitors suffering from mental illnesses banne...</td>\n",
              "      <td>no help for mexico's kidnapping surge</td>\n",
              "    </tr>\n",
              "  </tbody>\n",
              "</table>\n",
              "<p>1 rows × 25 columns</p>\n",
              "</div>"
            ],
            "text/plain": [
              "                                                Top1  \\\n",
              "0  georgia 'downs two russian warplanes' as count...   \n",
              "\n",
              "                                   Top2  \\\n",
              "0  breaking: musharraf to be impeached.   \n",
              "\n",
              "                                                Top3  \\\n",
              "0  russia today: columns of troops roll into sout...   \n",
              "\n",
              "                                                Top4  \\\n",
              "0  russian tanks are moving towards the capital o...   \n",
              "\n",
              "                                                Top5  \\\n",
              "0  afghan children raped with 'impunity,' u.n. of...   \n",
              "\n",
              "                                                Top6  \\\n",
              "0  150 russian tanks have entered south ossetia w...   \n",
              "\n",
              "                                                Top7  \\\n",
              "0  breaking: georgia invades south ossetia, russi...   \n",
              "\n",
              "                                                Top8  \\\n",
              "0  the 'enemy combatent' trials are nothing but a...   \n",
              "\n",
              "                                                Top9  \\\n",
              "0  georgian troops retreat from s. osettain capit...   \n",
              "\n",
              "                                            Top10  \\\n",
              "0  did the u.s. prep georgia for war with russia?   \n",
              "\n",
              "                   ...                    \\\n",
              "0                  ...                     \n",
              "\n",
              "                                               Top16  \\\n",
              "0  georgia invades south ossetia - if russia gets...   \n",
              "\n",
              "                              Top17  \\\n",
              "0  al-qaeda faces islamist backlash   \n",
              "\n",
              "                                               Top18  \\\n",
              "0  condoleezza rice: the us would not act to prev...   \n",
              "\n",
              "                                               Top19  \\\n",
              "0  this is a busy day:  the european union has ap...   \n",
              "\n",
              "                                               Top20  \\\n",
              "0  georgia will withdraw 1,000 soldiers from iraq...   \n",
              "\n",
              "                                               Top21  \\\n",
              "0  why the pentagon thinks attacking iran is a ba...   \n",
              "\n",
              "                                               Top22  \\\n",
              "0  caucasus in crisis: georgia invades south ossetia   \n",
              "\n",
              "                                               Top23  \\\n",
              "0  indian shoe manufactory  - and again in a seri...   \n",
              "\n",
              "                                               Top24  \\\n",
              "0  visitors suffering from mental illnesses banne...   \n",
              "\n",
              "                                   Top25  \n",
              "0  no help for mexico's kidnapping surge  \n",
              "\n",
              "[1 rows x 25 columns]"
            ]
          },
          "metadata": {
            "tags": []
          },
          "execution_count": 350
        }
      ]
    },
    {
      "cell_type": "code",
      "metadata": {
        "id": "wM-oqMvPi8Jv",
        "colab_type": "code",
        "colab": {
          "base_uri": "https://localhost:8080/",
          "height": 251
        },
        "outputId": "32604f27-45c9-4512-9566-6063557c65d1"
      },
      "source": [
        "\"\"\"\n",
        "Removing punctuations\n",
        "\n",
        "https://stackoverflow.com/questions/265960/best-way-to-strip-punctuation-from-a-string\n",
        "\n",
        "\"\"\"\n",
        "data.replace(\"[^\\w\\s]\",\"\", regex = True, inplace = True)\n",
        "data.head(1)"
      ],
      "execution_count": 362,
      "outputs": [
        {
          "output_type": "execute_result",
          "data": {
            "text/html": [
              "<div>\n",
              "<style scoped>\n",
              "    .dataframe tbody tr th:only-of-type {\n",
              "        vertical-align: middle;\n",
              "    }\n",
              "\n",
              "    .dataframe tbody tr th {\n",
              "        vertical-align: top;\n",
              "    }\n",
              "\n",
              "    .dataframe thead th {\n",
              "        text-align: right;\n",
              "    }\n",
              "</style>\n",
              "<table border=\"1\" class=\"dataframe\">\n",
              "  <thead>\n",
              "    <tr style=\"text-align: right;\">\n",
              "      <th></th>\n",
              "      <th>Top1</th>\n",
              "      <th>Top2</th>\n",
              "      <th>Top3</th>\n",
              "      <th>Top4</th>\n",
              "      <th>Top5</th>\n",
              "      <th>Top6</th>\n",
              "      <th>Top7</th>\n",
              "      <th>Top8</th>\n",
              "      <th>Top9</th>\n",
              "      <th>Top10</th>\n",
              "      <th>...</th>\n",
              "      <th>Top16</th>\n",
              "      <th>Top17</th>\n",
              "      <th>Top18</th>\n",
              "      <th>Top19</th>\n",
              "      <th>Top20</th>\n",
              "      <th>Top21</th>\n",
              "      <th>Top22</th>\n",
              "      <th>Top23</th>\n",
              "      <th>Top24</th>\n",
              "      <th>Top25</th>\n",
              "    </tr>\n",
              "  </thead>\n",
              "  <tbody>\n",
              "    <tr>\n",
              "      <th>0</th>\n",
              "      <td>georgia downs two russian warplanes as countri...</td>\n",
              "      <td>breaking musharraf to be impeached</td>\n",
              "      <td>russia today columns of troops roll into south...</td>\n",
              "      <td>russian tanks are moving towards the capital o...</td>\n",
              "      <td>afghan children raped with impunity un officia...</td>\n",
              "      <td>150 russian tanks have entered south ossetia w...</td>\n",
              "      <td>breaking georgia invades south ossetia russia ...</td>\n",
              "      <td>the enemy combatent trials are nothing but a s...</td>\n",
              "      <td>georgian troops retreat from s osettain capita...</td>\n",
              "      <td>did the us prep georgia for war with russia</td>\n",
              "      <td>...</td>\n",
              "      <td>georgia invades south ossetia  if russia gets ...</td>\n",
              "      <td>alqaeda faces islamist backlash</td>\n",
              "      <td>condoleezza rice the us would not act to preve...</td>\n",
              "      <td>this is a busy day  the european union has app...</td>\n",
              "      <td>georgia will withdraw 1000 soldiers from iraq ...</td>\n",
              "      <td>why the pentagon thinks attacking iran is a ba...</td>\n",
              "      <td>caucasus in crisis georgia invades south ossetia</td>\n",
              "      <td>indian shoe manufactory   and again in a serie...</td>\n",
              "      <td>visitors suffering from mental illnesses banne...</td>\n",
              "      <td>no help for mexicos kidnapping surge</td>\n",
              "    </tr>\n",
              "  </tbody>\n",
              "</table>\n",
              "<p>1 rows × 25 columns</p>\n",
              "</div>"
            ],
            "text/plain": [
              "                                                Top1  \\\n",
              "0  georgia downs two russian warplanes as countri...   \n",
              "\n",
              "                                 Top2  \\\n",
              "0  breaking musharraf to be impeached   \n",
              "\n",
              "                                                Top3  \\\n",
              "0  russia today columns of troops roll into south...   \n",
              "\n",
              "                                                Top4  \\\n",
              "0  russian tanks are moving towards the capital o...   \n",
              "\n",
              "                                                Top5  \\\n",
              "0  afghan children raped with impunity un officia...   \n",
              "\n",
              "                                                Top6  \\\n",
              "0  150 russian tanks have entered south ossetia w...   \n",
              "\n",
              "                                                Top7  \\\n",
              "0  breaking georgia invades south ossetia russia ...   \n",
              "\n",
              "                                                Top8  \\\n",
              "0  the enemy combatent trials are nothing but a s...   \n",
              "\n",
              "                                                Top9  \\\n",
              "0  georgian troops retreat from s osettain capita...   \n",
              "\n",
              "                                         Top10  \\\n",
              "0  did the us prep georgia for war with russia   \n",
              "\n",
              "                   ...                   \\\n",
              "0                  ...                    \n",
              "\n",
              "                                               Top16  \\\n",
              "0  georgia invades south ossetia  if russia gets ...   \n",
              "\n",
              "                             Top17  \\\n",
              "0  alqaeda faces islamist backlash   \n",
              "\n",
              "                                               Top18  \\\n",
              "0  condoleezza rice the us would not act to preve...   \n",
              "\n",
              "                                               Top19  \\\n",
              "0  this is a busy day  the european union has app...   \n",
              "\n",
              "                                               Top20  \\\n",
              "0  georgia will withdraw 1000 soldiers from iraq ...   \n",
              "\n",
              "                                               Top21  \\\n",
              "0  why the pentagon thinks attacking iran is a ba...   \n",
              "\n",
              "                                              Top22  \\\n",
              "0  caucasus in crisis georgia invades south ossetia   \n",
              "\n",
              "                                               Top23  \\\n",
              "0  indian shoe manufactory   and again in a serie...   \n",
              "\n",
              "                                               Top24  \\\n",
              "0  visitors suffering from mental illnesses banne...   \n",
              "\n",
              "                                  Top25  \n",
              "0  no help for mexicos kidnapping surge  \n",
              "\n",
              "[1 rows x 25 columns]"
            ]
          },
          "metadata": {
            "tags": []
          },
          "execution_count": 362
        }
      ]
    },
    {
      "cell_type": "code",
      "metadata": {
        "id": "RjqDF-72DLFM",
        "colab_type": "code",
        "colab": {
          "base_uri": "https://localhost:8080/",
          "height": 167
        },
        "outputId": "1ecf57f1-a002-484c-c40b-a0078f4f9309"
      },
      "source": [
        "\"\"\"\n",
        "Sample code: combining the first column of articles into one paragraph\n",
        "\"\"\"\n",
        "\n",
        "#This is code to take first column and to combine the 25 articles into 1 paragraph\n",
        "' '.join(str(x) for x in data.iloc[0,0:25])"
      ],
      "execution_count": 363,
      "outputs": [
        {
          "output_type": "execute_result",
          "data": {
            "application/vnd.google.colaboratory.intrinsic+json": {
              "type": "string"
            },
            "text/plain": [
              "'georgia downs two russian warplanes as countries move to brink of war breaking musharraf to be impeached russia today columns of troops roll into south ossetia footage from fighting youtube russian tanks are moving towards the capital of south ossetia which has reportedly been completely destroyed by georgian artillery fire afghan children raped with impunity un official says  this is sick a three year old was raped and they do nothing 150 russian tanks have entered south ossetia whilst georgia shoots down two russian jets breaking georgia invades south ossetia russia warned it would intervene on sos side the enemy combatent trials are nothing but a sham salim haman has been sentenced to 5 12 years but will be kept longer anyway just because they feel like it georgian troops retreat from s osettain capital presumably leaving several hundred people killed video did the us prep georgia for war with russia rice gives green light for israel to attack iran says us has no veto over israeli military ops announcingclass action lawsuit on behalf of american public against the fbi sorussia and georgia are at war and the nyts top story is opening ceremonies of the olympics  what a fucking disgrace and yet further proof of the decline of journalism china tells bush to stay out of other countries affairs did world war iii start today georgia invades south ossetia  if russia gets involved will nato absorb georgia and unleash a full scale war alqaeda faces islamist backlash condoleezza rice the us would not act to prevent an israeli strike on iran israeli defense minister ehud barak israel is prepared for uncompromising victory in the case of military hostilities this is a busy day  the european union has approved new sanctions against iran in protest at its nuclear programme georgia will withdraw 1000 soldiers from iraq to help fight off russian forces in georgias breakaway region of south ossetia why the pentagon thinks attacking iran is a bad idea  us news amp world report caucasus in crisis georgia invades south ossetia indian shoe manufactory   and again in a series of you do not like your work visitors suffering from mental illnesses banned from olympics no help for mexicos kidnapping surge'"
            ]
          },
          "metadata": {
            "tags": []
          },
          "execution_count": 363
        }
      ]
    },
    {
      "cell_type": "code",
      "metadata": {
        "id": "Vqvy80q1mqXx",
        "colab_type": "code",
        "colab": {
          "base_uri": "https://localhost:8080/",
          "height": 167
        },
        "outputId": "43b698cc-96df-4f4d-d2dd-72488643314a"
      },
      "source": [
        "\"\"\"\n",
        "Combining each column of articles into one paragraph\n",
        "with loop iteration for the entire dataset\n",
        "\"\"\"\n",
        "\n",
        "headline = []\n",
        "\n",
        "for row in range(0,len(data[index])):   #len(data[index])=1611\n",
        "  headline.append(' '.join(str(x) for x in data.iloc[row,0:25]))\n",
        "\n",
        "#the 25 articles have been compiled into one paragraph\n",
        "headline[-1]"
      ],
      "execution_count": 364,
      "outputs": [
        {
          "output_type": "execute_result",
          "data": {
            "application/vnd.google.colaboratory.intrinsic+json": {
              "type": "string"
            },
            "text/plain": [
              "'airasia flight found at the bottom of the java sea north korean defector details human experiments  use of mentally and physically handicapped children in chemical weapons tests the last straw korean air exexecutive cho hyunah arrested  earlier she ordered a plane to turn back on the runway in new york after nuts were served in a bag not on a plate south korean to drop sony film the interview in north korea by balloon us opening of oil export widens battle the obama administration has opened a new front in the global battle for oil market share effectively clearing the way for the shipment of as much as a million barrels per day of ultralight us crude to the rest of the world fbi agents investigating the sony pictures hack were briefed monday by a security firm that says its research points to laidoff sony staff not north korea as the prepatrator indian government orders blocking of 32 websites including github archiveorg sourceforge russia annual inflation jumps to 114 as rouble falls wikileaks claims employees google mail metadata seized by us government updated militant mistakenly broadcasts his location armed bandits rob 300 tourists on venezuela beach venezuela confirms recession inflation hits 636 percent in nov palestinian un resolution fails more nonmexicans than mexicans apprehended at us border in 2014 new study finds belarus eager to normalize relations with west newly published nsa documents show agency could grab all skype traffic britain says it cannot support new palestinian un draft resolution bolivias morales us backs drug trafficking euro zone politicians are not obliged to rescue greece as the country is no longer of systemic importance to the single currency bloc a senior member of german chancellor angela merkels party was quoted as saying greece dissolves parliament to prepare for early elections german chancellor angela merkel in a new years address deplored the rise of a right wing populist movement saying its leaders have prejudice coldness even hatred in their hearts al shabaab leader killed in us air strike in mogadishu new solar power material converts 90 percent of captured light into heat china launches website laying claim to senkaku islands at least 33 killed in yemen suicide bombing'"
            ]
          },
          "metadata": {
            "tags": []
          },
          "execution_count": 364
        }
      ]
    },
    {
      "cell_type": "markdown",
      "metadata": {
        "id": "npXW1QUq7665",
        "colab_type": "text"
      },
      "source": [
        "Bag of Words\n",
        "\n",
        "Theory is that the more frequent a word, the more important the word might be.\n",
        "Therefore, a method to determine significant words in a text.\n",
        "\n"
      ]
    },
    {
      "cell_type": "code",
      "metadata": {
        "id": "8Yi2mBlAo5fy",
        "colab_type": "code",
        "colab": {}
      },
      "source": [
        "\"\"\"\n",
        "Implement Bag of Words\n",
        "\"\"\"\n",
        "#https://scikit-learn.org/stable/modules/generated/sklearn.feature_extraction.text.CountVectorizer.html#\n",
        "\n",
        "countvector = CountVectorizer(ngram_range=(1,1))\n",
        "#(1, 1) means only unigrams, (1, 2) means unigrams and bigrams, and (2, 2) means only bigrams. \n",
        "\n",
        "traindataset = countvector.fit_transform(headline)"
      ],
      "execution_count": 365,
      "outputs": []
    },
    {
      "cell_type": "markdown",
      "metadata": {
        "id": "-IDjF5cVM2dK",
        "colab_type": "text"
      },
      "source": [
        "Try changing from unigram to bigram and notice the difference in the result!"
      ]
    },
    {
      "cell_type": "code",
      "metadata": {
        "id": "aPWQmWgok__Q",
        "colab_type": "code",
        "colab": {
          "base_uri": "https://localhost:8080/",
          "height": 36
        },
        "outputId": "d76ede65-f514-450d-d23c-33e1ecf41e95"
      },
      "source": [
        "print(traindataset.shape)"
      ],
      "execution_count": 366,
      "outputs": [
        {
          "output_type": "stream",
          "text": [
            "(1611, 36432)\n"
          ],
          "name": "stdout"
        }
      ]
    },
    {
      "cell_type": "code",
      "metadata": {
        "id": "t9JTk98xp6HP",
        "colab_type": "code",
        "colab": {
          "base_uri": "https://localhost:8080/",
          "height": 167
        },
        "outputId": "ee4940e5-134b-44c5-9602-c83d15b0fc97"
      },
      "source": [
        "\"\"\"\n",
        "RandomForest Classifier\n",
        "\"\"\"\n",
        "randomclassifier = RandomForestClassifier(n_estimators = 200, criterion = 'entropy')\n",
        "randomclassifier.fit(traindataset,train['Label'])"
      ],
      "execution_count": 367,
      "outputs": [
        {
          "output_type": "execute_result",
          "data": {
            "text/plain": [
              "RandomForestClassifier(bootstrap=True, ccp_alpha=0.0, class_weight=None,\n",
              "                       criterion='entropy', max_depth=None, max_features='auto',\n",
              "                       max_leaf_nodes=None, max_samples=None,\n",
              "                       min_impurity_decrease=0.0, min_impurity_split=None,\n",
              "                       min_samples_leaf=1, min_samples_split=2,\n",
              "                       min_weight_fraction_leaf=0.0, n_estimators=200,\n",
              "                       n_jobs=None, oob_score=False, random_state=None,\n",
              "                       verbose=0, warm_start=False)"
            ]
          },
          "metadata": {
            "tags": []
          },
          "execution_count": 367
        }
      ]
    },
    {
      "cell_type": "code",
      "metadata": {
        "id": "Nu09LoWTrvlA",
        "colab_type": "code",
        "colab": {}
      },
      "source": [
        "\"\"\"\n",
        "Predict for the Test Dataset\n",
        "\"\"\"\n",
        "test_transformed = []\n",
        "\n",
        "for row in range(0,len(test.index)):\n",
        "  test_transformed.append(' '.join(str(x) for x in test.iloc[row,2:27]))\n",
        "\n",
        "test_dataset = countvector.transform(test_transformed)"
      ],
      "execution_count": 368,
      "outputs": []
    },
    {
      "cell_type": "code",
      "metadata": {
        "id": "JZnX73cBcn3h",
        "colab_type": "code",
        "colab": {
          "base_uri": "https://localhost:8080/",
          "height": 36
        },
        "outputId": "bea17aae-152f-4e58-dc99-67e962ca4fa6"
      },
      "source": [
        "predictions = randomclassifier.predict(test_dataset)\n",
        "print(predictions.shape)"
      ],
      "execution_count": 369,
      "outputs": [
        {
          "output_type": "stream",
          "text": [
            "(378,)\n"
          ],
          "name": "stdout"
        }
      ]
    },
    {
      "cell_type": "code",
      "metadata": {
        "id": "k961KPqIc_66",
        "colab_type": "code",
        "colab": {
          "base_uri": "https://localhost:8080/",
          "height": 354
        },
        "outputId": "eb3ed9a0-dc31-4f4f-d519-224d12bd3982"
      },
      "source": [
        "predictions"
      ],
      "execution_count": 370,
      "outputs": [
        {
          "output_type": "execute_result",
          "data": {
            "text/plain": [
              "array([0, 1, 0, 1, 1, 1, 1, 1, 1, 1, 1, 1, 0, 1, 1, 1, 1, 1, 0, 1, 1, 1,\n",
              "       1, 1, 1, 1, 1, 1, 1, 1, 1, 1, 1, 1, 1, 1, 1, 1, 1, 1, 0, 1, 0, 1,\n",
              "       1, 1, 1, 1, 1, 1, 0, 1, 1, 1, 1, 1, 1, 1, 1, 1, 1, 1, 1, 1, 1, 1,\n",
              "       0, 1, 1, 1, 1, 1, 0, 0, 1, 1, 0, 1, 1, 1, 1, 1, 1, 1, 1, 1, 1, 1,\n",
              "       1, 1, 0, 1, 1, 1, 1, 1, 1, 0, 1, 1, 1, 1, 1, 0, 1, 1, 1, 1, 1, 1,\n",
              "       1, 1, 0, 1, 1, 0, 1, 1, 1, 1, 1, 1, 1, 1, 1, 1, 1, 0, 1, 1, 1, 1,\n",
              "       1, 1, 0, 1, 1, 1, 1, 1, 1, 1, 1, 1, 1, 1, 1, 0, 1, 1, 1, 1, 1, 1,\n",
              "       1, 1, 1, 0, 1, 1, 1, 0, 1, 1, 1, 0, 1, 1, 1, 1, 1, 1, 1, 1, 1, 1,\n",
              "       1, 1, 0, 1, 1, 1, 1, 1, 1, 1, 1, 1, 1, 1, 1, 1, 1, 1, 1, 1, 1, 0,\n",
              "       1, 1, 1, 1, 1, 1, 1, 1, 1, 1, 1, 1, 1, 1, 1, 1, 1, 0, 1, 1, 1, 1,\n",
              "       1, 1, 1, 1, 1, 1, 1, 1, 1, 1, 1, 1, 1, 1, 1, 1, 0, 1, 1, 1, 1, 1,\n",
              "       1, 1, 1, 1, 1, 1, 0, 1, 0, 0, 0, 1, 1, 0, 1, 1, 1, 1, 1, 1, 1, 1,\n",
              "       1, 1, 1, 1, 1, 1, 1, 1, 0, 1, 1, 1, 1, 1, 1, 1, 1, 1, 1, 1, 1, 1,\n",
              "       1, 0, 0, 1, 1, 1, 1, 1, 1, 0, 1, 1, 1, 1, 1, 1, 1, 1, 1, 1, 1, 1,\n",
              "       1, 1, 0, 0, 1, 1, 1, 1, 1, 1, 1, 0, 1, 1, 1, 0, 1, 1, 1, 1, 1, 0,\n",
              "       1, 1, 1, 1, 1, 1, 1, 1, 1, 1, 1, 1, 1, 1, 1, 1, 1, 1, 1, 1, 1, 0,\n",
              "       1, 0, 0, 1, 1, 1, 1, 0, 1, 1, 1, 1, 1, 1, 1, 1, 1, 1, 0, 1, 1, 1,\n",
              "       1, 1, 1, 1])"
            ]
          },
          "metadata": {
            "tags": []
          },
          "execution_count": 370
        }
      ]
    },
    {
      "cell_type": "markdown",
      "metadata": {
        "id": "GdojtEUyj2T4",
        "colab_type": "text"
      },
      "source": [
        "The result seems unusual in that there are a bunch of \"1\" results. "
      ]
    },
    {
      "cell_type": "code",
      "metadata": {
        "id": "hUt7urSYO1I2",
        "colab_type": "code",
        "colab": {
          "base_uri": "https://localhost:8080/",
          "height": 36
        },
        "outputId": "e06d4c23-6c8b-47c1-9034-6b46fd45dbc5"
      },
      "source": [
        "np.unique(predictions, return_counts=True)"
      ],
      "execution_count": 371,
      "outputs": [
        {
          "output_type": "execute_result",
          "data": {
            "text/plain": [
              "(array([0, 1]), array([ 45, 333]))"
            ]
          },
          "metadata": {
            "tags": []
          },
          "execution_count": 371
        }
      ]
    },
    {
      "cell_type": "markdown",
      "metadata": {
        "id": "ZNwQqUc6PJWT",
        "colab_type": "text"
      },
      "source": [
        "This model has guessed fifty-five 0 and three hundred twenty three 1"
      ]
    },
    {
      "cell_type": "code",
      "metadata": {
        "id": "GnT5jdMjuoqg",
        "colab_type": "code",
        "colab": {
          "base_uri": "https://localhost:8080/",
          "height": 54
        },
        "outputId": "aafb5221-2782-4703-ec4f-288fbac1a047"
      },
      "source": [
        "matrix = confusion_matrix(test['Label'],predictions)\n",
        "print (matrix)"
      ],
      "execution_count": 372,
      "outputs": [
        {
          "output_type": "stream",
          "text": [
            "[[ 27 158]\n",
            " [ 18 175]]\n"
          ],
          "name": "stdout"
        }
      ]
    },
    {
      "cell_type": "code",
      "metadata": {
        "id": "I-4y0a0BPkHH",
        "colab_type": "code",
        "colab": {
          "base_uri": "https://localhost:8080/",
          "height": 36
        },
        "outputId": "8924b0d8-af4b-40e5-987c-7f0dfb3af91b"
      },
      "source": [
        "\"\"\"\n",
        "Predicted \t0 \t1\n",
        "Actual \t\t\n",
        "0          27\t  158\n",
        "1 \t       18   175\n",
        "\"\"\""
      ],
      "execution_count": 263,
      "outputs": [
        {
          "output_type": "execute_result",
          "data": {
            "application/vnd.google.colaboratory.intrinsic+json": {
              "type": "string"
            },
            "text/plain": [
              "'\\nPredicted \\t0 \\t1\\nActual \\t\\t\\n0          25\\t  160\\n1 \\t       30   163\\n'"
            ]
          },
          "metadata": {
            "tags": []
          },
          "execution_count": 263
        }
      ]
    },
    {
      "cell_type": "code",
      "metadata": {
        "id": "J4xlMg08u8ue",
        "colab_type": "code",
        "colab": {
          "base_uri": "https://localhost:8080/",
          "height": 36
        },
        "outputId": "34a9dcab-6de5-4a63-ad3b-fb3a1eae2148"
      },
      "source": [
        "score = accuracy_score(test['Label'],predictions)\n",
        "print (score)"
      ],
      "execution_count": 373,
      "outputs": [
        {
          "output_type": "stream",
          "text": [
            "0.5343915343915344\n"
          ],
          "name": "stdout"
        }
      ]
    },
    {
      "cell_type": "code",
      "metadata": {
        "id": "E-eVYotfvFzC",
        "colab_type": "code",
        "colab": {
          "base_uri": "https://localhost:8080/",
          "height": 185
        },
        "outputId": "7c4de721-1653-419c-e802-9ba91106caf7"
      },
      "source": [
        "report = classification_report(test['Label'],predictions)\n",
        "print(report)"
      ],
      "execution_count": 374,
      "outputs": [
        {
          "output_type": "stream",
          "text": [
            "              precision    recall  f1-score   support\n",
            "\n",
            "           0       0.60      0.15      0.23       185\n",
            "           1       0.53      0.91      0.67       193\n",
            "\n",
            "    accuracy                           0.53       378\n",
            "   macro avg       0.56      0.53      0.45       378\n",
            "weighted avg       0.56      0.53      0.45       378\n",
            "\n"
          ],
          "name": "stdout"
        }
      ]
    },
    {
      "cell_type": "markdown",
      "metadata": {
        "id": "eXYKotPCdVwk",
        "colab_type": "text"
      },
      "source": [
        "## Second Attempt"
      ]
    },
    {
      "cell_type": "markdown",
      "metadata": {
        "id": "raEw41xD5rEP",
        "colab_type": "text"
      },
      "source": [
        "### Lesson Learnt about \"CountVectorizer\""
      ]
    },
    {
      "cell_type": "markdown",
      "metadata": {
        "id": "S3mKAwkV6LVf",
        "colab_type": "text"
      },
      "source": [
        "Lets use a sample sentence to see how CountVectorizer works."
      ]
    },
    {
      "cell_type": "code",
      "metadata": {
        "id": "hEgvsEzt3eoE",
        "colab_type": "code",
        "colab": {
          "base_uri": "https://localhost:8080/",
          "height": 36
        },
        "outputId": "daf874bf-1b92-4f71-d29a-0a9fc00df146"
      },
      "source": [
        "print(train.iloc[0,12])"
      ],
      "execution_count": 375,
      "outputs": [
        {
          "output_type": "stream",
          "text": [
            "Rice Gives Green Light for Israel to Attack Iran: Says U.S. has no veto over Israeli military ops\n"
          ],
          "name": "stdout"
        }
      ]
    },
    {
      "cell_type": "code",
      "metadata": {
        "id": "uHYMfeIb4gof",
        "colab_type": "code",
        "colab": {
          "base_uri": "https://localhost:8080/",
          "height": 56
        },
        "outputId": "f82cf039-8923-43a8-ef3d-1dec6d664edc"
      },
      "source": [
        "example = CountVectorizer().build_tokenizer()(train.iloc[0,12])\n",
        "print(example)"
      ],
      "execution_count": 376,
      "outputs": [
        {
          "output_type": "stream",
          "text": [
            "['Rice', 'Gives', 'Green', 'Light', 'for', 'Israel', 'to', 'Attack', 'Iran', 'Says', 'has', 'no', 'veto', 'over', 'Israeli', 'military', 'ops']\n"
          ],
          "name": "stdout"
        }
      ]
    },
    {
      "cell_type": "code",
      "metadata": {
        "id": "Lks80rg-fV1J",
        "colab_type": "code",
        "colab": {
          "base_uri": "https://localhost:8080/",
          "height": 56
        },
        "outputId": "964cd43b-b5ea-4426-91dc-b61e5f90815b"
      },
      "source": [
        "document=[train.iloc[0,12]]\n",
        "cv_doc = CountVectorizer(document)\n",
        "cv_vector = cv_doc.fit_transform(document)\n",
        "print(cv_doc.vocabulary_)"
      ],
      "execution_count": 377,
      "outputs": [
        {
          "output_type": "stream",
          "text": [
            "{'rice': 13, 'gives': 2, 'green': 3, 'light': 8, 'for': 1, 'israel': 6, 'to': 15, 'attack': 0, 'iran': 5, 'says': 14, 'has': 4, 'no': 10, 'veto': 16, 'over': 12, 'israeli': 7, 'military': 9, 'ops': 11}\n"
          ],
          "name": "stdout"
        }
      ]
    },
    {
      "cell_type": "markdown",
      "metadata": {
        "id": "qZo4WF3i4wL4",
        "colab_type": "text"
      },
      "source": [
        "Note: The numbers here are not the count, they are the positions in the vector.\n",
        "Ex. georgia : 4"
      ]
    },
    {
      "cell_type": "markdown",
      "metadata": {
        "id": "XgnVkwb5rrp7",
        "colab_type": "text"
      },
      "source": [
        "The lesson learnt is that initally worried about removing the b' or b\" before, no longer is a problem since discovered that CountVectorizer automatically removes the b', b\" and puncutations. \n",
        "\n",
        "CountVectorizer also puts the characters into lowercase by default.\n",
        "\n",
        "**However, it seems to ignore phrases like UN and US. Therefore, the work around is to remove the punctuations but retaining the words to have the counted**"
      ]
    },
    {
      "cell_type": "markdown",
      "metadata": {
        "id": "h-W-sOX1wtu7",
        "colab_type": "text"
      },
      "source": [
        "### Code for second attempt"
      ]
    },
    {
      "cell_type": "code",
      "metadata": {
        "id": "NdKXtRbskrTe",
        "colab_type": "code",
        "colab": {}
      },
      "source": [
        "train = result[result['Date'] < '2015-01-01']\n",
        "test = result[result['Date'] > '2014-12-31']"
      ],
      "execution_count": 378,
      "outputs": []
    },
    {
      "cell_type": "code",
      "metadata": {
        "id": "-aWEBMRIJ6sD",
        "colab_type": "code",
        "colab": {}
      },
      "source": [
        "\"\"\"\n",
        "Takes each column and puts it into a paragraph\n",
        "\"\"\"\n",
        "\n",
        "trainheadlines = []\n",
        "\n",
        "for row in range(0,len(train.index)):\n",
        "    trainheadlines.append(' '.join(str(x) for x in train.iloc[row,2:27]))"
      ],
      "execution_count": 379,
      "outputs": []
    },
    {
      "cell_type": "code",
      "metadata": {
        "id": "tCEvag21hCS-",
        "colab_type": "code",
        "colab": {
          "base_uri": "https://localhost:8080/",
          "height": 167
        },
        "outputId": "1b5dcc73-995a-4ca2-ac92-77388ff6918a"
      },
      "source": [
        "\"\"\"\n",
        "Example:\n",
        "Combined articles of one date into one paragraph\n",
        "\"\"\"\n",
        "trainheadlines[0]"
      ],
      "execution_count": 380,
      "outputs": [
        {
          "output_type": "execute_result",
          "data": {
            "application/vnd.google.colaboratory.intrinsic+json": {
              "type": "string"
            },
            "text/plain": [
              "\"Georgia 'downs two Russian warplanes' as countries move to brink of war BREAKING: Musharraf to be impeached. Russia Today: Columns of troops roll into South Ossetia; footage from fighting (YouTube) Russian tanks are moving towards the capital of South Ossetia, which has reportedly been completely destroyed by Georgian artillery fire Afghan children raped with 'impunity,' U.N. official says - this is sick, a three year old was raped and they do nothing 150 Russian tanks have entered South Ossetia whilst Georgia shoots down two Russian jets. Breaking: Georgia invades South Ossetia, Russia warned it would intervene on SO's side The 'enemy combatent' trials are nothing but a sham: Salim Haman has been sentenced to 5 1/2 years, but will be kept longer anyway just because they feel like it. Georgian troops retreat from S. Osettain capital, presumably leaving several hundred people killed. [VIDEO] Did the U.S. Prep Georgia for War with Russia? Rice Gives Green Light for Israel to Attack Iran: Says U.S. has no veto over Israeli military ops Announcing:Class Action Lawsuit on Behalf of American Public Against the FBI So---Russia and Georgia are at war and the NYT's top story is opening ceremonies of the Olympics?  What a fucking disgrace and yet further proof of the decline of journalism. China tells Bush to stay out of other countries' affairs Did World War III start today? Georgia Invades South Ossetia - if Russia gets involved, will NATO absorb Georgia and unleash a full scale war? Al-Qaeda Faces Islamist Backlash Condoleezza Rice: The US would not act to prevent an Israeli strike on Iran. Israeli Defense Minister Ehud Barak: Israel is prepared for uncompromising victory in the case of military hostilities. This is a busy day:  The European Union has approved new sanctions against Iran in protest at its nuclear programme. Georgia will withdraw 1,000 soldiers from Iraq to help fight off Russian forces in Georgia's breakaway region of South Ossetia Why the Pentagon Thinks Attacking Iran is a Bad Idea - US News &amp; World Report Caucasus in crisis: Georgia invades South Ossetia Indian shoe manufactory  - And again in a series of you do not like your work? Visitors Suffering from Mental Illnesses Banned from Olympics No Help for Mexico's Kidnapping Surge\""
            ]
          },
          "metadata": {
            "tags": []
          },
          "execution_count": 380
        }
      ]
    },
    {
      "cell_type": "code",
      "metadata": {
        "id": "j537txf3K2TA",
        "colab_type": "code",
        "colab": {
          "base_uri": "https://localhost:8080/",
          "height": 36
        },
        "outputId": "0e155e61-762f-4158-cd51-0544b9fc56ad"
      },
      "source": [
        "\"\"\"\n",
        "Using CountVectorizer\n",
        "to create document term matrix\n",
        "\"\"\"\n",
        "basicvectorizer = CountVectorizer() #initalizing CountVectorizer\n",
        "basictrain = basicvectorizer.fit_transform(trainheadlines) \n",
        "print(basictrain.shape)"
      ],
      "execution_count": 381,
      "outputs": [
        {
          "output_type": "stream",
          "text": [
            "(1611, 31697)\n"
          ],
          "name": "stdout"
        }
      ]
    },
    {
      "cell_type": "markdown",
      "metadata": {
        "id": "fJ-mzcTHj37C",
        "colab_type": "text"
      },
      "source": [
        "So in this model, we have 31,697 different terms"
      ]
    },
    {
      "cell_type": "code",
      "metadata": {
        "id": "QDOcHAfmhVuH",
        "colab_type": "code",
        "colab": {}
      },
      "source": [
        "\"\"\"\n",
        "Training Logistic Regression Model\n",
        "\n",
        "https://stackoverflow.com/questions/52670012/convergencewarning-liblinear-failed-to-converge-increase-the-number-of-iterati\n",
        "\"\"\"\n",
        "basicmodel = LogisticRegression(max_iter=2000) #default is max_iter=1000, but that value won't converge\n",
        "basicmodel = basicmodel.fit(basictrain, train[\"Label\"])"
      ],
      "execution_count": 382,
      "outputs": []
    },
    {
      "cell_type": "code",
      "metadata": {
        "id": "nt-Wo0LJtahW",
        "colab_type": "code",
        "colab": {}
      },
      "source": [
        "\"\"\"\n",
        "Setup test data\n",
        "[simply repeat the code used in train data]\n",
        "\"\"\"\n",
        "testheadlines = []\n",
        "for row in range(0,len(test.index)):\n",
        "    testheadlines.append(' '.join(str(x) for x in test.iloc[row,2:27]))\n",
        "basictest = basicvectorizer.transform(testheadlines)\n",
        "predictions = basicmodel.predict(basictest)"
      ],
      "execution_count": 383,
      "outputs": []
    },
    {
      "cell_type": "code",
      "metadata": {
        "id": "UBzjdCYFtrXe",
        "colab_type": "code",
        "colab": {
          "base_uri": "https://localhost:8080/",
          "height": 354
        },
        "outputId": "aeb49c85-9bad-44fc-b8d3-b50fdb417035"
      },
      "source": [
        "predictions"
      ],
      "execution_count": 384,
      "outputs": [
        {
          "output_type": "execute_result",
          "data": {
            "text/plain": [
              "array([0, 1, 0, 0, 1, 1, 1, 1, 1, 1, 0, 0, 1, 1, 0, 1, 1, 1, 0, 1, 0, 1,\n",
              "       0, 1, 1, 1, 1, 1, 0, 0, 1, 1, 0, 0, 0, 0, 1, 1, 1, 1, 1, 1, 1, 1,\n",
              "       1, 1, 1, 1, 1, 1, 1, 0, 1, 1, 1, 0, 0, 1, 0, 0, 0, 0, 0, 0, 0, 0,\n",
              "       0, 1, 0, 1, 0, 1, 1, 0, 1, 1, 0, 1, 0, 1, 1, 1, 1, 0, 1, 1, 1, 1,\n",
              "       0, 0, 1, 1, 1, 0, 1, 1, 0, 1, 1, 1, 0, 0, 0, 0, 1, 0, 1, 1, 1, 1,\n",
              "       1, 1, 1, 0, 0, 1, 1, 1, 0, 1, 0, 1, 1, 0, 0, 1, 1, 0, 1, 0, 1, 1,\n",
              "       0, 1, 0, 1, 1, 1, 0, 1, 1, 1, 1, 0, 1, 1, 1, 0, 0, 0, 0, 0, 0, 1,\n",
              "       0, 1, 1, 0, 1, 1, 1, 0, 1, 0, 1, 0, 0, 0, 1, 1, 0, 1, 1, 0, 0, 1,\n",
              "       0, 0, 0, 0, 1, 1, 0, 1, 1, 1, 1, 1, 1, 0, 1, 0, 0, 0, 1, 1, 1, 1,\n",
              "       1, 0, 1, 0, 1, 1, 0, 1, 0, 0, 1, 1, 1, 1, 1, 1, 1, 1, 0, 1, 0, 0,\n",
              "       1, 1, 0, 1, 1, 0, 0, 0, 1, 1, 0, 1, 1, 1, 1, 1, 1, 1, 1, 1, 0, 0,\n",
              "       0, 1, 0, 0, 1, 1, 0, 0, 0, 0, 0, 0, 1, 1, 1, 1, 1, 1, 1, 0, 0, 0,\n",
              "       0, 0, 0, 0, 1, 1, 0, 1, 1, 1, 1, 0, 1, 0, 1, 1, 0, 0, 1, 1, 0, 1,\n",
              "       1, 0, 0, 0, 0, 1, 0, 0, 1, 1, 1, 1, 1, 0, 0, 1, 0, 1, 1, 1, 1, 1,\n",
              "       1, 0, 1, 0, 1, 1, 0, 1, 1, 0, 0, 1, 1, 0, 1, 1, 1, 1, 1, 0, 1, 1,\n",
              "       0, 1, 0, 1, 0, 1, 1, 1, 0, 1, 1, 1, 0, 0, 0, 1, 1, 1, 1, 0, 1, 0,\n",
              "       1, 0, 0, 1, 1, 1, 0, 0, 1, 1, 1, 1, 1, 1, 0, 1, 1, 0, 1, 1, 1, 1,\n",
              "       0, 1, 0, 1])"
            ]
          },
          "metadata": {
            "tags": []
          },
          "execution_count": 384
        }
      ]
    },
    {
      "cell_type": "code",
      "metadata": {
        "id": "EsglpOketuA-",
        "colab_type": "code",
        "colab": {
          "base_uri": "https://localhost:8080/",
          "height": 36
        },
        "outputId": "fb14ff11-c3ad-462b-d927-94e708bc4dc8"
      },
      "source": [
        "np.unique(predictions, return_counts=True)"
      ],
      "execution_count": 385,
      "outputs": [
        {
          "output_type": "execute_result",
          "data": {
            "text/plain": [
              "(array([0, 1]), array([149, 229]))"
            ]
          },
          "metadata": {
            "tags": []
          },
          "execution_count": 385
        }
      ]
    },
    {
      "cell_type": "code",
      "metadata": {
        "id": "hFnlzZ_mtxnd",
        "colab_type": "code",
        "colab": {
          "base_uri": "https://localhost:8080/",
          "height": 54
        },
        "outputId": "671c5bdb-7ab1-40e3-ece9-ac39d24094bd"
      },
      "source": [
        "matrix = confusion_matrix(test['Label'],predictions)\n",
        "print (matrix)"
      ],
      "execution_count": 386,
      "outputs": [
        {
          "output_type": "stream",
          "text": [
            "[[ 58 127]\n",
            " [ 91 102]]\n"
          ],
          "name": "stdout"
        }
      ]
    },
    {
      "cell_type": "code",
      "metadata": {
        "id": "qNKYcwUruQrh",
        "colab_type": "code",
        "colab": {
          "base_uri": "https://localhost:8080/",
          "height": 55
        },
        "outputId": "44967eb5-d4f4-4915-c7a4-45167419585d"
      },
      "source": [
        "\"\"\"\n",
        "Predicted \t0 \t1\n",
        "Actual \t\t\n",
        "0          58\t  127\n",
        "1 \t       91   102\n",
        "\n",
        "*actual values might slightly vary when runtime restarts\n",
        "\"\"\""
      ],
      "execution_count": 387,
      "outputs": [
        {
          "output_type": "execute_result",
          "data": {
            "application/vnd.google.colaboratory.intrinsic+json": {
              "type": "string"
            },
            "text/plain": [
              "'\\nPredicted \\t0 \\t1\\nActual \\t\\t\\n0          58\\t  127\\n1 \\t       91   102\\n\\n*actual values might slightly vary when runtime restarts\\n'"
            ]
          },
          "metadata": {
            "tags": []
          },
          "execution_count": 387
        }
      ]
    },
    {
      "cell_type": "code",
      "metadata": {
        "id": "8cJyUkCHt4OS",
        "colab_type": "code",
        "colab": {
          "base_uri": "https://localhost:8080/",
          "height": 36
        },
        "outputId": "63881b84-ed21-4458-c6eb-14be2f52eb68"
      },
      "source": [
        "score = accuracy_score(test['Label'],predictions)\n",
        "print (score)"
      ],
      "execution_count": 388,
      "outputs": [
        {
          "output_type": "stream",
          "text": [
            "0.42328042328042326\n"
          ],
          "name": "stdout"
        }
      ]
    },
    {
      "cell_type": "code",
      "metadata": {
        "id": "WL3Be_CAuWNH",
        "colab_type": "code",
        "colab": {
          "base_uri": "https://localhost:8080/",
          "height": 185
        },
        "outputId": "261546fa-1e7f-42a0-873d-d4deb6b99443"
      },
      "source": [
        "report = classification_report(test['Label'],predictions)\n",
        "print(report)"
      ],
      "execution_count": 389,
      "outputs": [
        {
          "output_type": "stream",
          "text": [
            "              precision    recall  f1-score   support\n",
            "\n",
            "           0       0.39      0.31      0.35       185\n",
            "           1       0.45      0.53      0.48       193\n",
            "\n",
            "    accuracy                           0.42       378\n",
            "   macro avg       0.42      0.42      0.42       378\n",
            "weighted avg       0.42      0.42      0.42       378\n",
            "\n"
          ],
          "name": "stdout"
        }
      ]
    },
    {
      "cell_type": "markdown",
      "metadata": {
        "id": "Bj4Wcjn0uZbc",
        "colab_type": "text"
      },
      "source": [
        "The model came out to have a lower value. However, compared to previous attempt, The machine wasn't blatantly guessing '1' most of the time. "
      ]
    },
    {
      "cell_type": "markdown",
      "metadata": {
        "id": "UfIAj9_yvllE",
        "colab_type": "text"
      },
      "source": [
        "## Third Attempt"
      ]
    },
    {
      "cell_type": "code",
      "metadata": {
        "id": "_BJ-A64nvrV1",
        "colab_type": "code",
        "colab": {}
      },
      "source": [
        "train = result[result['Date'] < '2015-01-01']\n",
        "test = result[result['Date'] > '2014-12-31']"
      ],
      "execution_count": 390,
      "outputs": []
    },
    {
      "cell_type": "code",
      "metadata": {
        "id": "H40yojKKv46z",
        "colab_type": "code",
        "colab": {}
      },
      "source": [
        "\"\"\"\n",
        "Initalize vectorizer with modified ngrams\n",
        "\"\"\"\n",
        "vectorizer = CountVectorizer(stop_words='english', ngram_range=(2,2))\n",
        "trainvector = vectorizer.fit_transform(trainheadlines)"
      ],
      "execution_count": 391,
      "outputs": []
    },
    {
      "cell_type": "code",
      "metadata": {
        "id": "sNFLFrwFwuBD",
        "colab_type": "code",
        "colab": {
          "base_uri": "https://localhost:8080/",
          "height": 36
        },
        "outputId": "a1fded7d-bc22-4fdc-f126-769f1b3a7ef7"
      },
      "source": [
        "print (trainvector.shape)"
      ],
      "execution_count": 392,
      "outputs": [
        {
          "output_type": "stream",
          "text": [
            "(1611, 351994)\n"
          ],
          "name": "stdout"
        }
      ]
    },
    {
      "cell_type": "markdown",
      "metadata": {
        "id": "_edfMkAcxd3o",
        "colab_type": "text"
      },
      "source": [
        "This time we have 366,755 unique 2 word combinations before stop_words parameter.\n",
        "\n",
        "The number was reduced to 351,994 after the implemnation of stop_words parameter."
      ]
    },
    {
      "cell_type": "code",
      "metadata": {
        "id": "347cf0Lpxg7H",
        "colab_type": "code",
        "colab": {}
      },
      "source": [
        "\"\"\"\n",
        "Training Regression Model\n",
        "\"\"\"\n",
        "#https://medium.com/@rnbrown/more-nlp-with-sklearns-countvectorizer-add577a0b8c8\n",
        "model = LogisticRegression()\n",
        "model = model.fit(trainvector, train[\"Label\"])"
      ],
      "execution_count": 393,
      "outputs": []
    },
    {
      "cell_type": "code",
      "metadata": {
        "id": "7mDM1rj8x_Em",
        "colab_type": "code",
        "colab": {}
      },
      "source": [
        "\"\"\"\n",
        "Prepare Test Data\n",
        "\"\"\"\n",
        "testheadlines = []\n",
        "for row in range(0,len(test.index)):\n",
        "    testheadlines.append(' '.join(str(x) for x in test.iloc[row,2:27]))\n",
        "testdata = vectorizer.transform(testheadlines)\n",
        "predictions = model.predict(testdata)"
      ],
      "execution_count": 394,
      "outputs": []
    },
    {
      "cell_type": "code",
      "metadata": {
        "id": "PQJx_H4Oyt_z",
        "colab_type": "code",
        "colab": {
          "base_uri": "https://localhost:8080/",
          "height": 354
        },
        "outputId": "3f4e4fc2-7bab-4e21-e02d-1d6481d6c2a1"
      },
      "source": [
        "predictions"
      ],
      "execution_count": 395,
      "outputs": [
        {
          "output_type": "execute_result",
          "data": {
            "text/plain": [
              "array([1, 1, 0, 1, 1, 1, 1, 1, 1, 1, 0, 1, 1, 1, 1, 1, 1, 1, 1, 1, 1, 1,\n",
              "       1, 1, 1, 1, 0, 0, 1, 0, 1, 1, 1, 1, 1, 1, 0, 1, 1, 1, 1, 1, 1, 1,\n",
              "       0, 1, 1, 1, 1, 1, 0, 1, 1, 1, 1, 1, 1, 1, 1, 1, 1, 1, 1, 0, 1, 1,\n",
              "       1, 1, 0, 0, 1, 1, 1, 1, 0, 1, 1, 1, 1, 1, 1, 1, 1, 0, 1, 1, 1, 1,\n",
              "       1, 1, 0, 1, 1, 0, 1, 1, 1, 1, 1, 1, 1, 1, 1, 0, 1, 0, 1, 1, 1, 1,\n",
              "       1, 1, 1, 1, 1, 1, 0, 1, 1, 1, 1, 1, 1, 1, 1, 1, 0, 1, 1, 0, 1, 1,\n",
              "       1, 1, 0, 1, 1, 1, 0, 1, 1, 1, 1, 1, 1, 1, 1, 1, 1, 1, 0, 1, 1, 1,\n",
              "       0, 1, 1, 0, 1, 1, 1, 1, 1, 0, 1, 1, 1, 1, 0, 1, 1, 1, 1, 1, 1, 1,\n",
              "       1, 1, 0, 1, 1, 0, 1, 1, 1, 0, 1, 0, 1, 1, 1, 0, 1, 1, 1, 0, 0, 1,\n",
              "       1, 1, 1, 1, 1, 0, 1, 1, 1, 0, 0, 1, 1, 1, 1, 1, 1, 1, 1, 1, 0, 1,\n",
              "       1, 1, 1, 1, 1, 1, 1, 1, 1, 1, 1, 1, 1, 1, 1, 1, 1, 1, 1, 1, 1, 1,\n",
              "       1, 1, 1, 1, 1, 0, 1, 1, 1, 0, 1, 1, 1, 1, 1, 1, 1, 0, 1, 1, 1, 1,\n",
              "       1, 1, 1, 0, 1, 1, 1, 1, 1, 1, 1, 1, 1, 1, 1, 1, 1, 0, 1, 1, 1, 1,\n",
              "       0, 0, 1, 1, 1, 0, 1, 1, 1, 1, 1, 0, 1, 1, 1, 1, 1, 1, 1, 1, 1, 1,\n",
              "       1, 1, 0, 1, 1, 1, 1, 1, 1, 1, 1, 1, 1, 1, 1, 1, 1, 1, 1, 1, 1, 1,\n",
              "       1, 1, 1, 0, 0, 1, 1, 1, 1, 0, 1, 1, 0, 1, 1, 0, 1, 1, 1, 1, 1, 1,\n",
              "       1, 0, 0, 1, 0, 1, 1, 0, 0, 1, 1, 1, 1, 0, 0, 0, 1, 0, 1, 1, 1, 1,\n",
              "       1, 1, 1, 1])"
            ]
          },
          "metadata": {
            "tags": []
          },
          "execution_count": 395
        }
      ]
    },
    {
      "cell_type": "code",
      "metadata": {
        "id": "0ud6MfdHyviU",
        "colab_type": "code",
        "colab": {
          "base_uri": "https://localhost:8080/",
          "height": 36
        },
        "outputId": "c06b1b07-9b27-4d83-bf8c-6576f9582df0"
      },
      "source": [
        "np.unique(predictions, return_counts=True)"
      ],
      "execution_count": 396,
      "outputs": [
        {
          "output_type": "execute_result",
          "data": {
            "text/plain": [
              "(array([0, 1]), array([ 62, 316]))"
            ]
          },
          "metadata": {
            "tags": []
          },
          "execution_count": 396
        }
      ]
    },
    {
      "cell_type": "markdown",
      "metadata": {
        "id": "w7dJu0kOv8k3",
        "colab_type": "text"
      },
      "source": [
        "The prediction has made 62 zero and 316 ones for its predictions"
      ]
    },
    {
      "cell_type": "code",
      "metadata": {
        "id": "xbqTwucly9A8",
        "colab_type": "code",
        "colab": {
          "base_uri": "https://localhost:8080/",
          "height": 54
        },
        "outputId": "43aa2eac-2e02-4e47-f27b-bde8d1830d2e"
      },
      "source": [
        "matrix = confusion_matrix(test['Label'],predictions)\n",
        "print (matrix)"
      ],
      "execution_count": 397,
      "outputs": [
        {
          "output_type": "stream",
          "text": [
            "[[ 29 156]\n",
            " [ 33 160]]\n"
          ],
          "name": "stdout"
        }
      ]
    },
    {
      "cell_type": "code",
      "metadata": {
        "id": "OwS0iJgRzKBG",
        "colab_type": "code",
        "colab": {
          "base_uri": "https://localhost:8080/",
          "height": 55
        },
        "outputId": "e6c9d76f-d1e8-440f-c10a-a1c2122025bf"
      },
      "source": [
        "\"\"\"\n",
        "Predicted \t0 \t1\n",
        "Actual \t\t\n",
        "0          29\t  156\n",
        "1 \t       33   160\n",
        "\n",
        "*actual values might slightly vary when runtime restarts\n",
        "\"\"\""
      ],
      "execution_count": 289,
      "outputs": [
        {
          "output_type": "execute_result",
          "data": {
            "application/vnd.google.colaboratory.intrinsic+json": {
              "type": "string"
            },
            "text/plain": [
              "'\\nPredicted \\t0 \\t1\\nActual \\t\\t\\n0          29\\t  156\\n1 \\t       33   160\\n\\n*actual values might slightly vary when runtime restarts\\n'"
            ]
          },
          "metadata": {
            "tags": []
          },
          "execution_count": 289
        }
      ]
    },
    {
      "cell_type": "code",
      "metadata": {
        "id": "kn591JFJzDdT",
        "colab_type": "code",
        "colab": {
          "base_uri": "https://localhost:8080/",
          "height": 36
        },
        "outputId": "a67ebb41-ca2a-4c9b-8882-5fe2cbf0ef9d"
      },
      "source": [
        "score = accuracy_score(test['Label'],predictions)\n",
        "print (score)"
      ],
      "execution_count": 398,
      "outputs": [
        {
          "output_type": "stream",
          "text": [
            "0.5\n"
          ],
          "name": "stdout"
        }
      ]
    },
    {
      "cell_type": "markdown",
      "metadata": {
        "id": "W_9og2JxwKq5",
        "colab_type": "text"
      },
      "source": [
        "To my suprise, the accuracy dipped slightly when stop words were applied to .5;\n",
        "prior to stop_words, it was .56"
      ]
    },
    {
      "cell_type": "code",
      "metadata": {
        "id": "PACBmEPfzGwW",
        "colab_type": "code",
        "colab": {
          "base_uri": "https://localhost:8080/",
          "height": 185
        },
        "outputId": "d04a01f5-6d19-4d0b-97f0-70b75bd9aa04"
      },
      "source": [
        "report = classification_report(test['Label'],predictions)\n",
        "print(report)"
      ],
      "execution_count": 399,
      "outputs": [
        {
          "output_type": "stream",
          "text": [
            "              precision    recall  f1-score   support\n",
            "\n",
            "           0       0.47      0.16      0.23       185\n",
            "           1       0.51      0.83      0.63       193\n",
            "\n",
            "    accuracy                           0.50       378\n",
            "   macro avg       0.49      0.49      0.43       378\n",
            "weighted avg       0.49      0.50      0.44       378\n",
            "\n"
          ],
          "name": "stdout"
        }
      ]
    },
    {
      "cell_type": "markdown",
      "metadata": {
        "id": "bXyW8WJwl92i",
        "colab_type": "text"
      },
      "source": [
        "## Fourth Attempt"
      ]
    },
    {
      "cell_type": "code",
      "metadata": {
        "id": "WvfNAWFt4_Jt",
        "colab_type": "code",
        "colab": {}
      },
      "source": [
        "\"\"\"\n",
        "Additional libraries to load\n",
        "\"\"\"\n",
        "from wordcloud import WordCloud,STOPWORDS\n",
        "import re\n",
        "import nltk\n",
        "from nltk.corpus import stopwords\n",
        "import matplotlib.pyplot as plt\n",
        "%matplotlib inline\n",
        "\n",
        "from sklearn.model_selection import train_test_split\n",
        "#updated method to import train_test_split\n",
        "#https://scikit-learn.org/stable/modules/generated/sklearn.model_selection.train_test_split.html\n"
      ],
      "execution_count": 400,
      "outputs": []
    },
    {
      "cell_type": "code",
      "metadata": {
        "id": "7uGUqF8sp1J6",
        "colab_type": "code",
        "colab": {
          "base_uri": "https://localhost:8080/",
          "height": 387
        },
        "outputId": "1d52aadb-75b5-43d8-cd83-e4dd6de7fcd8"
      },
      "source": [
        "\"\"\"\n",
        "Check that result1 is copied from result correctly\n",
        "\"\"\"\n",
        "result1=result.copy()\n",
        "result1.head(2)"
      ],
      "execution_count": 401,
      "outputs": [
        {
          "output_type": "execute_result",
          "data": {
            "text/html": [
              "<div>\n",
              "<style scoped>\n",
              "    .dataframe tbody tr th:only-of-type {\n",
              "        vertical-align: middle;\n",
              "    }\n",
              "\n",
              "    .dataframe tbody tr th {\n",
              "        vertical-align: top;\n",
              "    }\n",
              "\n",
              "    .dataframe thead th {\n",
              "        text-align: right;\n",
              "    }\n",
              "</style>\n",
              "<table border=\"1\" class=\"dataframe\">\n",
              "  <thead>\n",
              "    <tr style=\"text-align: right;\">\n",
              "      <th></th>\n",
              "      <th>Date</th>\n",
              "      <th>Label</th>\n",
              "      <th>Top1</th>\n",
              "      <th>Top2</th>\n",
              "      <th>Top3</th>\n",
              "      <th>Top4</th>\n",
              "      <th>Top5</th>\n",
              "      <th>Top6</th>\n",
              "      <th>Top7</th>\n",
              "      <th>Top8</th>\n",
              "      <th>...</th>\n",
              "      <th>Top16</th>\n",
              "      <th>Top17</th>\n",
              "      <th>Top18</th>\n",
              "      <th>Top19</th>\n",
              "      <th>Top20</th>\n",
              "      <th>Top21</th>\n",
              "      <th>Top22</th>\n",
              "      <th>Top23</th>\n",
              "      <th>Top24</th>\n",
              "      <th>Top25</th>\n",
              "    </tr>\n",
              "  </thead>\n",
              "  <tbody>\n",
              "    <tr>\n",
              "      <th>0</th>\n",
              "      <td>2008-08-08</td>\n",
              "      <td>0</td>\n",
              "      <td>Georgia 'downs two Russian warplanes' as count...</td>\n",
              "      <td>BREAKING: Musharraf to be impeached.</td>\n",
              "      <td>Russia Today: Columns of troops roll into Sout...</td>\n",
              "      <td>Russian tanks are moving towards the capital o...</td>\n",
              "      <td>Afghan children raped with 'impunity,' U.N. of...</td>\n",
              "      <td>150 Russian tanks have entered South Ossetia w...</td>\n",
              "      <td>Breaking: Georgia invades South Ossetia, Russi...</td>\n",
              "      <td>The 'enemy combatent' trials are nothing but a...</td>\n",
              "      <td>...</td>\n",
              "      <td>Georgia Invades South Ossetia - if Russia gets...</td>\n",
              "      <td>Al-Qaeda Faces Islamist Backlash</td>\n",
              "      <td>Condoleezza Rice: The US would not act to prev...</td>\n",
              "      <td>This is a busy day:  The European Union has ap...</td>\n",
              "      <td>Georgia will withdraw 1,000 soldiers from Iraq...</td>\n",
              "      <td>Why the Pentagon Thinks Attacking Iran is a Ba...</td>\n",
              "      <td>Caucasus in crisis: Georgia invades South Ossetia</td>\n",
              "      <td>Indian shoe manufactory  - And again in a seri...</td>\n",
              "      <td>Visitors Suffering from Mental Illnesses Banne...</td>\n",
              "      <td>No Help for Mexico's Kidnapping Surge</td>\n",
              "    </tr>\n",
              "    <tr>\n",
              "      <th>1</th>\n",
              "      <td>2008-08-11</td>\n",
              "      <td>1</td>\n",
              "      <td>Why wont America and Nato help us? If they won...</td>\n",
              "      <td>Bush puts foot down on Georgian conflict</td>\n",
              "      <td>Jewish Georgian minister: Thanks to Israeli tr...</td>\n",
              "      <td>Georgian army flees in disarray as Russians ad...</td>\n",
              "      <td>Olympic opening ceremony fireworks 'faked'</td>\n",
              "      <td>What were the Mossad with fraudulent New Zeala...</td>\n",
              "      <td>Russia angered by Israeli military sale to Geo...</td>\n",
              "      <td>An American citizen living in S.Ossetia blames...</td>\n",
              "      <td>...</td>\n",
              "      <td>Israel and the US behind the Georgian aggression?</td>\n",
              "      <td>Do not believe TV, neither Russian nor Georgia...</td>\n",
              "      <td>Riots are still going on in Montreal (Canada) ...</td>\n",
              "      <td>China to overtake US as largest manufacturer</td>\n",
              "      <td>War in South Ossetia [PICS]</td>\n",
              "      <td>Israeli Physicians Group Condemns State Torture</td>\n",
              "      <td>Russia has just beaten the United States over...</td>\n",
              "      <td>Perhaps *the* question about the Georgia - Rus...</td>\n",
              "      <td>Russia is so much better at war</td>\n",
              "      <td>So this is what it's come to: trading sex for ...</td>\n",
              "    </tr>\n",
              "  </tbody>\n",
              "</table>\n",
              "<p>2 rows × 27 columns</p>\n",
              "</div>"
            ],
            "text/plain": [
              "         Date  Label                                               Top1  \\\n",
              "0  2008-08-08      0  Georgia 'downs two Russian warplanes' as count...   \n",
              "1  2008-08-11      1  Why wont America and Nato help us? If they won...   \n",
              "\n",
              "                                       Top2  \\\n",
              "0      BREAKING: Musharraf to be impeached.   \n",
              "1  Bush puts foot down on Georgian conflict   \n",
              "\n",
              "                                                Top3  \\\n",
              "0  Russia Today: Columns of troops roll into Sout...   \n",
              "1  Jewish Georgian minister: Thanks to Israeli tr...   \n",
              "\n",
              "                                                Top4  \\\n",
              "0  Russian tanks are moving towards the capital o...   \n",
              "1  Georgian army flees in disarray as Russians ad...   \n",
              "\n",
              "                                                Top5  \\\n",
              "0  Afghan children raped with 'impunity,' U.N. of...   \n",
              "1         Olympic opening ceremony fireworks 'faked'   \n",
              "\n",
              "                                                Top6  \\\n",
              "0  150 Russian tanks have entered South Ossetia w...   \n",
              "1  What were the Mossad with fraudulent New Zeala...   \n",
              "\n",
              "                                                Top7  \\\n",
              "0  Breaking: Georgia invades South Ossetia, Russi...   \n",
              "1  Russia angered by Israeli military sale to Geo...   \n",
              "\n",
              "                                                Top8  \\\n",
              "0  The 'enemy combatent' trials are nothing but a...   \n",
              "1  An American citizen living in S.Ossetia blames...   \n",
              "\n",
              "                         ...                          \\\n",
              "0                        ...                           \n",
              "1                        ...                           \n",
              "\n",
              "                                               Top16  \\\n",
              "0  Georgia Invades South Ossetia - if Russia gets...   \n",
              "1  Israel and the US behind the Georgian aggression?   \n",
              "\n",
              "                                               Top17  \\\n",
              "0                   Al-Qaeda Faces Islamist Backlash   \n",
              "1  Do not believe TV, neither Russian nor Georgia...   \n",
              "\n",
              "                                               Top18  \\\n",
              "0  Condoleezza Rice: The US would not act to prev...   \n",
              "1  Riots are still going on in Montreal (Canada) ...   \n",
              "\n",
              "                                               Top19  \\\n",
              "0  This is a busy day:  The European Union has ap...   \n",
              "1       China to overtake US as largest manufacturer   \n",
              "\n",
              "                                               Top20  \\\n",
              "0  Georgia will withdraw 1,000 soldiers from Iraq...   \n",
              "1                        War in South Ossetia [PICS]   \n",
              "\n",
              "                                               Top21  \\\n",
              "0  Why the Pentagon Thinks Attacking Iran is a Ba...   \n",
              "1    Israeli Physicians Group Condemns State Torture   \n",
              "\n",
              "                                               Top22  \\\n",
              "0  Caucasus in crisis: Georgia invades South Ossetia   \n",
              "1   Russia has just beaten the United States over...   \n",
              "\n",
              "                                               Top23  \\\n",
              "0  Indian shoe manufactory  - And again in a seri...   \n",
              "1  Perhaps *the* question about the Georgia - Rus...   \n",
              "\n",
              "                                               Top24  \\\n",
              "0  Visitors Suffering from Mental Illnesses Banne...   \n",
              "1                    Russia is so much better at war   \n",
              "\n",
              "                                               Top25  \n",
              "0              No Help for Mexico's Kidnapping Surge  \n",
              "1  So this is what it's come to: trading sex for ...  \n",
              "\n",
              "[2 rows x 27 columns]"
            ]
          },
          "metadata": {
            "tags": []
          },
          "execution_count": 401
        }
      ]
    },
    {
      "cell_type": "code",
      "metadata": {
        "id": "IZcwhR7Gy_tO",
        "colab_type": "code",
        "colab": {}
      },
      "source": [
        "\"\"\"\n",
        "Last column will be the paragraph compiled of articles for the day\n",
        "\"\"\"\n",
        "result1['Combined'] = result1.iloc[ :, 2:27].apply(lambda row: ''.join(str(row.values)), axis = 1)\n",
        "#dataframe index (axis = 0) , dataframe columns (axis = 1)\n",
        "#.values returns values of the dictonary"
      ],
      "execution_count": 402,
      "outputs": []
    },
    {
      "cell_type": "code",
      "metadata": {
        "id": "S4slModFzwgh",
        "colab_type": "code",
        "colab": {
          "base_uri": "https://localhost:8080/",
          "height": 387
        },
        "outputId": "86d6500f-aeb5-401c-ef53-821879141af4"
      },
      "source": [
        "\"\"\"\n",
        "check that \"Combined\" was created\n",
        "\"\"\"\n",
        "result1.head(2)\n",
        "#scroll to the far right to see new \"Combined\" column"
      ],
      "execution_count": 403,
      "outputs": [
        {
          "output_type": "execute_result",
          "data": {
            "text/html": [
              "<div>\n",
              "<style scoped>\n",
              "    .dataframe tbody tr th:only-of-type {\n",
              "        vertical-align: middle;\n",
              "    }\n",
              "\n",
              "    .dataframe tbody tr th {\n",
              "        vertical-align: top;\n",
              "    }\n",
              "\n",
              "    .dataframe thead th {\n",
              "        text-align: right;\n",
              "    }\n",
              "</style>\n",
              "<table border=\"1\" class=\"dataframe\">\n",
              "  <thead>\n",
              "    <tr style=\"text-align: right;\">\n",
              "      <th></th>\n",
              "      <th>Date</th>\n",
              "      <th>Label</th>\n",
              "      <th>Top1</th>\n",
              "      <th>Top2</th>\n",
              "      <th>Top3</th>\n",
              "      <th>Top4</th>\n",
              "      <th>Top5</th>\n",
              "      <th>Top6</th>\n",
              "      <th>Top7</th>\n",
              "      <th>Top8</th>\n",
              "      <th>...</th>\n",
              "      <th>Top17</th>\n",
              "      <th>Top18</th>\n",
              "      <th>Top19</th>\n",
              "      <th>Top20</th>\n",
              "      <th>Top21</th>\n",
              "      <th>Top22</th>\n",
              "      <th>Top23</th>\n",
              "      <th>Top24</th>\n",
              "      <th>Top25</th>\n",
              "      <th>Combined</th>\n",
              "    </tr>\n",
              "  </thead>\n",
              "  <tbody>\n",
              "    <tr>\n",
              "      <th>0</th>\n",
              "      <td>2008-08-08</td>\n",
              "      <td>0</td>\n",
              "      <td>Georgia 'downs two Russian warplanes' as count...</td>\n",
              "      <td>BREAKING: Musharraf to be impeached.</td>\n",
              "      <td>Russia Today: Columns of troops roll into Sout...</td>\n",
              "      <td>Russian tanks are moving towards the capital o...</td>\n",
              "      <td>Afghan children raped with 'impunity,' U.N. of...</td>\n",
              "      <td>150 Russian tanks have entered South Ossetia w...</td>\n",
              "      <td>Breaking: Georgia invades South Ossetia, Russi...</td>\n",
              "      <td>The 'enemy combatent' trials are nothing but a...</td>\n",
              "      <td>...</td>\n",
              "      <td>Al-Qaeda Faces Islamist Backlash</td>\n",
              "      <td>Condoleezza Rice: The US would not act to prev...</td>\n",
              "      <td>This is a busy day:  The European Union has ap...</td>\n",
              "      <td>Georgia will withdraw 1,000 soldiers from Iraq...</td>\n",
              "      <td>Why the Pentagon Thinks Attacking Iran is a Ba...</td>\n",
              "      <td>Caucasus in crisis: Georgia invades South Ossetia</td>\n",
              "      <td>Indian shoe manufactory  - And again in a seri...</td>\n",
              "      <td>Visitors Suffering from Mental Illnesses Banne...</td>\n",
              "      <td>No Help for Mexico's Kidnapping Surge</td>\n",
              "      <td>[\"Georgia 'downs two Russian warplanes' as cou...</td>\n",
              "    </tr>\n",
              "    <tr>\n",
              "      <th>1</th>\n",
              "      <td>2008-08-11</td>\n",
              "      <td>1</td>\n",
              "      <td>Why wont America and Nato help us? If they won...</td>\n",
              "      <td>Bush puts foot down on Georgian conflict</td>\n",
              "      <td>Jewish Georgian minister: Thanks to Israeli tr...</td>\n",
              "      <td>Georgian army flees in disarray as Russians ad...</td>\n",
              "      <td>Olympic opening ceremony fireworks 'faked'</td>\n",
              "      <td>What were the Mossad with fraudulent New Zeala...</td>\n",
              "      <td>Russia angered by Israeli military sale to Geo...</td>\n",
              "      <td>An American citizen living in S.Ossetia blames...</td>\n",
              "      <td>...</td>\n",
              "      <td>Do not believe TV, neither Russian nor Georgia...</td>\n",
              "      <td>Riots are still going on in Montreal (Canada) ...</td>\n",
              "      <td>China to overtake US as largest manufacturer</td>\n",
              "      <td>War in South Ossetia [PICS]</td>\n",
              "      <td>Israeli Physicians Group Condemns State Torture</td>\n",
              "      <td>Russia has just beaten the United States over...</td>\n",
              "      <td>Perhaps *the* question about the Georgia - Rus...</td>\n",
              "      <td>Russia is so much better at war</td>\n",
              "      <td>So this is what it's come to: trading sex for ...</td>\n",
              "      <td>['Why wont America and Nato help us? If they w...</td>\n",
              "    </tr>\n",
              "  </tbody>\n",
              "</table>\n",
              "<p>2 rows × 28 columns</p>\n",
              "</div>"
            ],
            "text/plain": [
              "         Date  Label                                               Top1  \\\n",
              "0  2008-08-08      0  Georgia 'downs two Russian warplanes' as count...   \n",
              "1  2008-08-11      1  Why wont America and Nato help us? If they won...   \n",
              "\n",
              "                                       Top2  \\\n",
              "0      BREAKING: Musharraf to be impeached.   \n",
              "1  Bush puts foot down on Georgian conflict   \n",
              "\n",
              "                                                Top3  \\\n",
              "0  Russia Today: Columns of troops roll into Sout...   \n",
              "1  Jewish Georgian minister: Thanks to Israeli tr...   \n",
              "\n",
              "                                                Top4  \\\n",
              "0  Russian tanks are moving towards the capital o...   \n",
              "1  Georgian army flees in disarray as Russians ad...   \n",
              "\n",
              "                                                Top5  \\\n",
              "0  Afghan children raped with 'impunity,' U.N. of...   \n",
              "1         Olympic opening ceremony fireworks 'faked'   \n",
              "\n",
              "                                                Top6  \\\n",
              "0  150 Russian tanks have entered South Ossetia w...   \n",
              "1  What were the Mossad with fraudulent New Zeala...   \n",
              "\n",
              "                                                Top7  \\\n",
              "0  Breaking: Georgia invades South Ossetia, Russi...   \n",
              "1  Russia angered by Israeli military sale to Geo...   \n",
              "\n",
              "                                                Top8  \\\n",
              "0  The 'enemy combatent' trials are nothing but a...   \n",
              "1  An American citizen living in S.Ossetia blames...   \n",
              "\n",
              "                         ...                          \\\n",
              "0                        ...                           \n",
              "1                        ...                           \n",
              "\n",
              "                                               Top17  \\\n",
              "0                   Al-Qaeda Faces Islamist Backlash   \n",
              "1  Do not believe TV, neither Russian nor Georgia...   \n",
              "\n",
              "                                               Top18  \\\n",
              "0  Condoleezza Rice: The US would not act to prev...   \n",
              "1  Riots are still going on in Montreal (Canada) ...   \n",
              "\n",
              "                                               Top19  \\\n",
              "0  This is a busy day:  The European Union has ap...   \n",
              "1       China to overtake US as largest manufacturer   \n",
              "\n",
              "                                               Top20  \\\n",
              "0  Georgia will withdraw 1,000 soldiers from Iraq...   \n",
              "1                        War in South Ossetia [PICS]   \n",
              "\n",
              "                                               Top21  \\\n",
              "0  Why the Pentagon Thinks Attacking Iran is a Ba...   \n",
              "1    Israeli Physicians Group Condemns State Torture   \n",
              "\n",
              "                                               Top22  \\\n",
              "0  Caucasus in crisis: Georgia invades South Ossetia   \n",
              "1   Russia has just beaten the United States over...   \n",
              "\n",
              "                                               Top23  \\\n",
              "0  Indian shoe manufactory  - And again in a seri...   \n",
              "1  Perhaps *the* question about the Georgia - Rus...   \n",
              "\n",
              "                                               Top24  \\\n",
              "0  Visitors Suffering from Mental Illnesses Banne...   \n",
              "1                    Russia is so much better at war   \n",
              "\n",
              "                                               Top25  \\\n",
              "0              No Help for Mexico's Kidnapping Surge   \n",
              "1  So this is what it's come to: trading sex for ...   \n",
              "\n",
              "                                            Combined  \n",
              "0  [\"Georgia 'downs two Russian warplanes' as cou...  \n",
              "1  ['Why wont America and Nato help us? If they w...  \n",
              "\n",
              "[2 rows x 28 columns]"
            ]
          },
          "metadata": {
            "tags": []
          },
          "execution_count": 403
        }
      ]
    },
    {
      "cell_type": "code",
      "metadata": {
        "id": "m4xNED-Az1Zm",
        "colab_type": "code",
        "colab": {
          "base_uri": "https://localhost:8080/",
          "height": 167
        },
        "outputId": "ab69269d-c026-4ed9-ac11-cc9dc39d1bdc"
      },
      "source": [
        "\"\"\"\n",
        "Sample of article for the first date\n",
        "\"\"\"\n",
        "result1.iloc[0,27]"
      ],
      "execution_count": 404,
      "outputs": [
        {
          "output_type": "execute_result",
          "data": {
            "application/vnd.google.colaboratory.intrinsic+json": {
              "type": "string"
            },
            "text/plain": [
              "'[\"Georgia \\'downs two Russian warplanes\\' as countries move to brink of war\"\\n \\'BREAKING: Musharraf to be impeached.\\'\\n \\'Russia Today: Columns of troops roll into South Ossetia; footage from fighting (YouTube)\\'\\n \\'Russian tanks are moving towards the capital of South Ossetia, which has reportedly been completely destroyed by Georgian artillery fire\\'\\n \"Afghan children raped with \\'impunity,\\' U.N. official says - this is sick, a three year old was raped and they do nothing\"\\n \\'150 Russian tanks have entered South Ossetia whilst Georgia shoots down two Russian jets.\\'\\n \"Breaking: Georgia invades South Ossetia, Russia warned it would intervene on SO\\'s side\"\\n \"The \\'enemy combatent\\' trials are nothing but a sham: Salim Haman has been sentenced to 5 1/2 years, but will be kept longer anyway just because they feel like it.\"\\n \\'Georgian troops retreat from S. Osettain capital, presumably leaving several hundred people killed. [VIDEO]\\'\\n \\'Did the U.S. Prep Georgia for War with Russia?\\'\\n \\'Rice Gives Green Light for Israel to Attack Iran: Says U.S. has no veto over Israeli military ops\\'\\n \\'Announcing:Class Action Lawsuit on Behalf of American Public Against the FBI\\'\\n \"So---Russia and Georgia are at war and the NYT\\'s top story is opening ceremonies of the Olympics?  What a fucking disgrace and yet further proof of the decline of journalism.\"\\n \"China tells Bush to stay out of other countries\\' affairs\"\\n \\'Did World War III start today?\\'\\n \\'Georgia Invades South Ossetia - if Russia gets involved, will NATO absorb Georgia and unleash a full scale war?\\'\\n \\'Al-Qaeda Faces Islamist Backlash\\'\\n \\'Condoleezza Rice: The US would not act to prevent an Israeli strike on Iran. Israeli Defense Minister Ehud Barak: Israel is prepared for uncompromising victory in the case of military hostilities.\\'\\n \\'This is a busy day:  The European Union has approved new sanctions against Iran in protest at its nuclear programme.\\'\\n \"Georgia will withdraw 1,000 soldiers from Iraq to help fight off Russian forces in Georgia\\'s breakaway region of South Ossetia\"\\n \\'Why the Pentagon Thinks Attacking Iran is a Bad Idea - US News &amp; World Report\\'\\n \\'Caucasus in crisis: Georgia invades South Ossetia\\'\\n \\'Indian shoe manufactory  - And again in a series of you do not like your work?\\'\\n \\'Visitors Suffering from Mental Illnesses Banned from Olympics\\'\\n \"No Help for Mexico\\'s Kidnapping Surge\"]'"
            ]
          },
          "metadata": {
            "tags": []
          },
          "execution_count": 404
        }
      ]
    },
    {
      "cell_type": "markdown",
      "metadata": {
        "id": "ukvsDlWb0K2-",
        "colab_type": "text"
      },
      "source": [
        "This seems like a viable way of combining sentences into paragraph. (Tested copied output onto word to test viability) "
      ]
    },
    {
      "cell_type": "code",
      "metadata": {
        "id": "hRu5p2EC0V2w",
        "colab_type": "code",
        "colab": {}
      },
      "source": [
        "\"\"\"\n",
        "Split train and testing data\n",
        "\"\"\"\n",
        "train, test = train_test_split(result1, test_size=0.2, shuffle = False, stratify = None)\n",
        "#if shuffle and stratify parameteres are not False, the default will cause to have the rows shuffled\n",
        "#https://stackoverflow.com/questions/43838052/how-to-get-a-non-shuffled-train-test-split-in-sklearn"
      ],
      "execution_count": 405,
      "outputs": []
    },
    {
      "cell_type": "code",
      "metadata": {
        "id": "IJqeCsr34Ql2",
        "colab_type": "code",
        "colab": {}
      },
      "source": [
        "\"\"\"\n",
        "function to pull out only characters, make them lowercase, apply stopwords, and collect the meaningful words\n",
        "\"\"\"\n",
        "def to_words(content):\n",
        "  letters_only = re.sub(\"[^a-zA-Z]\", \" \", content) #\"\" will not work! need to be \" \"\n",
        "  words = letters_only.lower().split()\n",
        "  stops = set(stopwords.words('english'))\n",
        "  meaningful_words = [w for w in words if not w in stops] #this loop will find the words that aren't stop words\n",
        "  return (\" \".join(meaningful_words))\n",
        "\n",
        "#in line 7, the code wouldn't run properly if 'word'; needs to be 'words'\n",
        "#https://stackoverflow.com/questions/52961019/why-do-i-encountered-attributeerror-wordlistcorpusreader-object-has-no-attrib"
      ],
      "execution_count": 406,
      "outputs": []
    },
    {
      "cell_type": "code",
      "metadata": {
        "id": "bWXPPoa5__VH",
        "colab_type": "code",
        "colab": {}
      },
      "source": [
        "\"\"\"\n",
        "Feature extraction with TfidfVectorizer\n",
        "\"\"\"\n",
        "from sklearn.feature_extraction.text import TfidfVectorizer\n",
        "tfidf=TfidfVectorizer()\n",
        "\n",
        "train_text = []\n",
        "test_text = []\n",
        "\n",
        "for word in train['Combined']:\n",
        "  train_text.append(to_words(word))\n",
        "\n",
        "for word in test['Combined']:\n",
        "  test_text.append(to_words(word))\n",
        "\n",
        "train_features = tfidf.fit_transform(train_text)\n",
        "test_features = tfidf.transform(test_text)"
      ],
      "execution_count": 407,
      "outputs": []
    },
    {
      "cell_type": "code",
      "metadata": {
        "id": "-XrQhW16NJmt",
        "colab_type": "code",
        "colab": {
          "base_uri": "https://localhost:8080/",
          "height": 167
        },
        "outputId": "104bb42a-754f-447c-ed5e-b84dd3018411"
      },
      "source": [
        "train_text[0]"
      ],
      "execution_count": 408,
      "outputs": [
        {
          "output_type": "execute_result",
          "data": {
            "application/vnd.google.colaboratory.intrinsic+json": {
              "type": "string"
            },
            "text/plain": [
              "'georgia downs two russian warplanes countries move brink war breaking musharraf impeached russia today columns troops roll south ossetia footage fighting youtube russian tanks moving towards capital south ossetia reportedly completely destroyed georgian artillery fire afghan children raped impunity u n official says sick three year old raped nothing russian tanks entered south ossetia whilst georgia shoots two russian jets breaking georgia invades south ossetia russia warned would intervene side enemy combatent trials nothing sham salim haman sentenced years kept longer anyway feel like georgian troops retreat osettain capital presumably leaving several hundred people killed video u prep georgia war russia rice gives green light israel attack iran says u veto israeli military ops announcing class action lawsuit behalf american public fbi russia georgia war nyt top story opening ceremonies olympics fucking disgrace yet proof decline journalism china tells bush stay countries affairs world war iii start today georgia invades south ossetia russia gets involved nato absorb georgia unleash full scale war al qaeda faces islamist backlash condoleezza rice us would act prevent israeli strike iran israeli defense minister ehud barak israel prepared uncompromising victory case military hostilities busy day european union approved new sanctions iran protest nuclear programme georgia withdraw soldiers iraq help fight russian forces georgia breakaway region south ossetia pentagon thinks attacking iran bad idea us news amp world report caucasus crisis georgia invades south ossetia indian shoe manufactory series like work visitors suffering mental illnesses banned olympics help mexico kidnapping surge'"
            ]
          },
          "metadata": {
            "tags": []
          },
          "execution_count": 408
        }
      ]
    },
    {
      "cell_type": "code",
      "metadata": {
        "id": "UAplqtFHEqrn",
        "colab_type": "code",
        "colab": {
          "base_uri": "https://localhost:8080/",
          "height": 36
        },
        "outputId": "ccf5b05c-527c-4d82-8e0b-24ab5f3a1d4c"
      },
      "source": [
        "#pip install ggplot\n",
        "#if this is causing errors, restart runtime \n",
        "#https://pypi.org/project/ggplot/0.4.7/\n",
        "\n",
        "\"\"\"\n",
        "If \"ggplot import *\" has errors on the next block,\n",
        "run this and restart the runtime\n",
        "\"\"\" "
      ],
      "execution_count": 411,
      "outputs": [
        {
          "output_type": "execute_result",
          "data": {
            "application/vnd.google.colaboratory.intrinsic+json": {
              "type": "string"
            },
            "text/plain": [
              "'\\nIf \"ggplot import *\" has errors on the next block,\\nrun this and restart the runtime\\n'"
            ]
          },
          "metadata": {
            "tags": []
          },
          "execution_count": 411
        }
      ]
    },
    {
      "cell_type": "code",
      "metadata": {
        "id": "wNNXIoXpEAZ9",
        "colab_type": "code",
        "colab": {}
      },
      "source": [
        "from sklearn.linear_model import LogisticRegression\n",
        "from sklearn.neighbors import KNeighborsClassifier\n",
        "from sklearn.svm import SVC\n",
        "from sklearn.tree import DecisionTreeClassifier\n",
        "from sklearn.ensemble import RandomForestClassifier, AdaBoostClassifier, GradientBoostingClassifier\n",
        "from sklearn.naive_bayes import GaussianNB\n",
        "from sklearn.metrics import accuracy_score\n",
        "from sklearn.metrics import roc_curve\n",
        "from pandas import Timestamp\n",
        "from ggplot import * \n",
        "#if importing ggplot is causing errors, restart the runtime again "
      ],
      "execution_count": 412,
      "outputs": []
    },
    {
      "cell_type": "code",
      "metadata": {
        "id": "h9soiNgRJNiw",
        "colab_type": "code",
        "colab": {}
      },
      "source": [
        "\"\"\"\n",
        "List of Classifiers and their parameters\n",
        "\"\"\"\n",
        "Classifiers = [\n",
        "    LogisticRegression(C=0.000000001,solver='liblinear',max_iter=200),\n",
        "    KNeighborsClassifier(3),\n",
        "    SVC(kernel=\"rbf\", C=0.025, probability=True),\n",
        "    DecisionTreeClassifier(),\n",
        "    RandomForestClassifier(n_estimators=200),\n",
        "    AdaBoostClassifier(),\n",
        "    GaussianNB()]"
      ],
      "execution_count": 413,
      "outputs": []
    },
    {
      "cell_type": "code",
      "metadata": {
        "id": "5Y-xyX_2J66J",
        "colab_type": "code",
        "colab": {
          "base_uri": "https://localhost:8080/",
          "height": 1000
        },
        "outputId": "ac72a0b3-27e7-45a4-9024-0bb093bdc4a9"
      },
      "source": [
        "\"\"\"\n",
        "Output of the Classifiers, Accuracy and ROC curves\n",
        "\n",
        "*takes a bit of time to run\n",
        "\"\"\"\n",
        "\n",
        "dense_features=train_features.toarray()\n",
        "dense_test= test_features.toarray()\n",
        "\n",
        "Accuracy=[]\n",
        "Model=[]\n",
        "\n",
        "for classifier in Classifiers:\n",
        "    try:\n",
        "        fit = classifier.fit(train_features,train['Label'])\n",
        "        pred = fit.predict(test_features)\n",
        "        prob = fit.predict_proba(test_features)[:,1]\n",
        "    except Exception:\n",
        "        fit = classifier.fit(dense_features,train['Label'])\n",
        "        pred = fit.predict(dense_test)\n",
        "        prob = fit.predict_proba(dense_test)[:,1]\n",
        "    \n",
        "    accuracy = accuracy_score(pred,test['Label'])\n",
        "    Accuracy.append(accuracy)\n",
        "    Model.append(classifier.__class__.__name__)\n",
        "    \n",
        "    print('Accuracy of '+classifier.__class__.__name__+' is '+str(accuracy))\n",
        "    fpr, tpr, _ = roc_curve(test['Label'],prob)\n",
        "    tmp = pd.DataFrame(dict(fpr=fpr, tpr=tpr))\n",
        "    g = ggplot(tmp, aes(x='fpr', y='tpr')) +geom_line() +geom_abline(linetype='dashed')+ ggtitle('Roc Curve of '+classifier.__class__.__name__)\n",
        "    print (g)"
      ],
      "execution_count": 416,
      "outputs": [
        {
          "output_type": "stream",
          "text": [
            "Accuracy of LogisticRegression is 0.5100502512562815\n"
          ],
          "name": "stdout"
        },
        {
          "output_type": "display_data",
          "data": {
            "image/png": "[encoded data removed]",
            "text/plain": [
              "<Figure size 792x576 with 1 Axes>"
            ]
          },
          "metadata": {
            "tags": []
          }
        },
        {
          "output_type": "stream",
          "text": [
            "<ggplot: (8781886795475)>\n",
            "Accuracy of KNeighborsClassifier is 0.507537688442211\n"
          ],
          "name": "stdout"
        },
        {
          "output_type": "display_data",
          "data": {
            "image/png": "[encoded data removed]",
            "text/plain": [
              "<Figure size 792x576 with 1 Axes>"
            ]
          },
          "metadata": {
            "tags": []
          }
        },
        {
          "output_type": "stream",
          "text": [
            "<ggplot: (8781980747058)>\n",
            "Accuracy of SVC is 0.5100502512562815\n"
          ],
          "name": "stdout"
        },
        {
          "output_type": "display_data",
          "data": {
            "image/png": "[encoded data removed]",
            "text/plain": [
              "<Figure size 792x576 with 1 Axes>"
            ]
          },
          "metadata": {
            "tags": []
          }
        },
        {
          "output_type": "stream",
          "text": [
            "<ggplot: (-9223363254871357324)>\n",
            "Accuracy of DecisionTreeClassifier is 0.5326633165829145\n"
          ],
          "name": "stdout"
        },
        {
          "output_type": "display_data",
          "data": {
            "image/png": "[encoded data removed]",
            "text/plain": [
              "<Figure size 792x576 with 1 Axes>"
            ]
          },
          "metadata": {
            "tags": []
          }
        },
        {
          "output_type": "stream",
          "text": [
            "<ggplot: (8781886308349)>\n",
            "Accuracy of RandomForestClassifier is 0.4824120603015075\n"
          ],
          "name": "stdout"
        },
        {
          "output_type": "display_data",
          "data": {
            "image/png": "[encoded data removed]",
            "text/plain": [
              "<Figure size 792x576 with 1 Axes>"
            ]
          },
          "metadata": {
            "tags": []
          }
        },
        {
          "output_type": "stream",
          "text": [
            "<ggplot: (8781982269602)>\n",
            "Accuracy of AdaBoostClassifier is 0.4623115577889447\n"
          ],
          "name": "stdout"
        },
        {
          "output_type": "display_data",
          "data": {
            "image/png": "[encoded data removed]",
            "text/plain": [
              "<Figure size 792x576 with 1 Axes>"
            ]
          },
          "metadata": {
            "tags": []
          }
        },
        {
          "output_type": "stream",
          "text": [
            "<ggplot: (8781883289906)>\n",
            "Accuracy of GaussianNB is 0.5\n"
          ],
          "name": "stdout"
        },
        {
          "output_type": "display_data",
          "data": {
            "image/png": "[encoded data removed]",
            "text/plain": [
              "<Figure size 792x576 with 1 Axes>"
            ]
          },
          "metadata": {
            "tags": []
          }
        },
        {
          "output_type": "stream",
          "text": [
            "<ggplot: (8781883354709)>\n"
          ],
          "name": "stdout"
        }
      ]
    },
    {
      "cell_type": "markdown",
      "metadata": {
        "id": "QxWBMYCP3tHw",
        "colab_type": "text"
      },
      "source": [
        "# Stock Predictions Using LSTM (Long Short Term Memory)"
      ]
    },
    {
      "cell_type": "markdown",
      "metadata": {
        "id": "Dj5ZH0wVLNrQ",
        "colab_type": "text"
      },
      "source": [
        "https://medium.com/@randerson112358/stock-price-prediction-using-python-machine-learning-e82a039ac2bb"
      ]
    },
    {
      "cell_type": "code",
      "metadata": {
        "id": "ZefLiM1NEmNI",
        "colab_type": "code",
        "colab": {}
      },
      "source": [
        "\"\"\"\n",
        "Import Libraries\n",
        "\"\"\"\n",
        "import math\n",
        "from sklearn.preprocessing import MinMaxScaler\n",
        "from keras.models import Sequential\n",
        "from keras.layers import Dense, LSTM"
      ],
      "execution_count": 417,
      "outputs": []
    },
    {
      "cell_type": "code",
      "metadata": {
        "id": "VV8t60IAH0Qc",
        "colab_type": "code",
        "colab": {}
      },
      "source": [
        "djia.sort_values(by = ['Date'], inplace=True, ascending=True)\n",
        "djia.reset_index(drop=True, inplace=True)"
      ],
      "execution_count": 418,
      "outputs": []
    },
    {
      "cell_type": "markdown",
      "metadata": {
        "id": "cIf4T7nz73J4",
        "colab_type": "text"
      },
      "source": [
        "Next, we will next using DJIA data to run quantitative analysis with the stock data."
      ]
    },
    {
      "cell_type": "code",
      "metadata": {
        "id": "kWiOots8zg4C",
        "colab_type": "code",
        "colab": {
          "base_uri": "https://localhost:8080/",
          "height": 206
        },
        "outputId": "904f5e82-9f6f-40cd-c08d-0d477b488e30"
      },
      "source": [
        "djia.head()"
      ],
      "execution_count": 419,
      "outputs": [
        {
          "output_type": "execute_result",
          "data": {
            "text/html": [
              "<div>\n",
              "<style scoped>\n",
              "    .dataframe tbody tr th:only-of-type {\n",
              "        vertical-align: middle;\n",
              "    }\n",
              "\n",
              "    .dataframe tbody tr th {\n",
              "        vertical-align: top;\n",
              "    }\n",
              "\n",
              "    .dataframe thead th {\n",
              "        text-align: right;\n",
              "    }\n",
              "</style>\n",
              "<table border=\"1\" class=\"dataframe\">\n",
              "  <thead>\n",
              "    <tr style=\"text-align: right;\">\n",
              "      <th></th>\n",
              "      <th>Date</th>\n",
              "      <th>Open</th>\n",
              "      <th>High</th>\n",
              "      <th>Low</th>\n",
              "      <th>Close</th>\n",
              "      <th>Volume</th>\n",
              "      <th>Adj Close</th>\n",
              "    </tr>\n",
              "  </thead>\n",
              "  <tbody>\n",
              "    <tr>\n",
              "      <th>0</th>\n",
              "      <td>2008-08-08</td>\n",
              "      <td>11432.089844</td>\n",
              "      <td>11759.959961</td>\n",
              "      <td>11388.040039</td>\n",
              "      <td>11734.320312</td>\n",
              "      <td>212830000</td>\n",
              "      <td>11734.320312</td>\n",
              "    </tr>\n",
              "    <tr>\n",
              "      <th>1</th>\n",
              "      <td>2008-08-11</td>\n",
              "      <td>11729.669922</td>\n",
              "      <td>11867.110352</td>\n",
              "      <td>11675.530273</td>\n",
              "      <td>11782.349609</td>\n",
              "      <td>183190000</td>\n",
              "      <td>11782.349609</td>\n",
              "    </tr>\n",
              "    <tr>\n",
              "      <th>2</th>\n",
              "      <td>2008-08-12</td>\n",
              "      <td>11781.700195</td>\n",
              "      <td>11782.349609</td>\n",
              "      <td>11601.519531</td>\n",
              "      <td>11642.469727</td>\n",
              "      <td>173590000</td>\n",
              "      <td>11642.469727</td>\n",
              "    </tr>\n",
              "    <tr>\n",
              "      <th>3</th>\n",
              "      <td>2008-08-13</td>\n",
              "      <td>11632.809570</td>\n",
              "      <td>11633.780273</td>\n",
              "      <td>11453.339844</td>\n",
              "      <td>11532.959961</td>\n",
              "      <td>182550000</td>\n",
              "      <td>11532.959961</td>\n",
              "    </tr>\n",
              "    <tr>\n",
              "      <th>4</th>\n",
              "      <td>2008-08-14</td>\n",
              "      <td>11532.070312</td>\n",
              "      <td>11718.280273</td>\n",
              "      <td>11450.889648</td>\n",
              "      <td>11615.929688</td>\n",
              "      <td>159790000</td>\n",
              "      <td>11615.929688</td>\n",
              "    </tr>\n",
              "  </tbody>\n",
              "</table>\n",
              "</div>"
            ],
            "text/plain": [
              "         Date          Open          High           Low         Close  \\\n",
              "0  2008-08-08  11432.089844  11759.959961  11388.040039  11734.320312   \n",
              "1  2008-08-11  11729.669922  11867.110352  11675.530273  11782.349609   \n",
              "2  2008-08-12  11781.700195  11782.349609  11601.519531  11642.469727   \n",
              "3  2008-08-13  11632.809570  11633.780273  11453.339844  11532.959961   \n",
              "4  2008-08-14  11532.070312  11718.280273  11450.889648  11615.929688   \n",
              "\n",
              "      Volume     Adj Close  \n",
              "0  212830000  11734.320312  \n",
              "1  183190000  11782.349609  \n",
              "2  173590000  11642.469727  \n",
              "3  182550000  11532.959961  \n",
              "4  159790000  11615.929688  "
            ]
          },
          "metadata": {
            "tags": []
          },
          "execution_count": 419
        }
      ]
    },
    {
      "cell_type": "code",
      "metadata": {
        "id": "JSWa_5EF966p",
        "colab_type": "code",
        "colab": {
          "base_uri": "https://localhost:8080/",
          "height": 36
        },
        "outputId": "a6739fca-442e-4974-8557-85171c48b749"
      },
      "source": [
        "djia.shape"
      ],
      "execution_count": 420,
      "outputs": [
        {
          "output_type": "execute_result",
          "data": {
            "text/plain": [
              "(1989, 7)"
            ]
          },
          "metadata": {
            "tags": []
          },
          "execution_count": 420
        }
      ]
    },
    {
      "cell_type": "markdown",
      "metadata": {
        "id": "P9W_O52I9-39",
        "colab_type": "text"
      },
      "source": [
        "Data has 1989 rows and 7 columns [Date, Open, High, Low, Close,Volumne, Adj Close)  "
      ]
    },
    {
      "cell_type": "code",
      "metadata": {
        "id": "6CTjff1B_mfB",
        "colab_type": "code",
        "colab": {
          "base_uri": "https://localhost:8080/",
          "height": 295
        },
        "outputId": "47b88dc4-2256-43be-f354-021a151d4e70"
      },
      "source": [
        "plt.title('Close Price History')\n",
        "plt.plot(djia['Close'])\n",
        "plt.xlabel('Date')\n",
        "plt.ylabel('Close Price')\n",
        "plt.show()"
      ],
      "execution_count": 421,
      "outputs": [
        {
          "output_type": "display_data",
          "data": {
            "image/png": "[encoded data removed]",
            "text/plain": [
              "<Figure size 432x288 with 1 Axes>"
            ]
          },
          "metadata": {
            "tags": [],
            "needs_background": "light"
          }
        }
      ]
    },
    {
      "cell_type": "code",
      "metadata": {
        "id": "gWNwEM_eAQUJ",
        "colab_type": "code",
        "colab": {
          "base_uri": "https://localhost:8080/",
          "height": 36
        },
        "outputId": "a547854d-28d1-48fa-ef20-904c0cb6027e"
      },
      "source": [
        "data = djia.filter(['Close'])\n",
        "dataset = data.values\n",
        "training_data = math.ceil(len(dataset) * .8)\n",
        "#https://www.geeksforgeeks.org/python-math-ceil-function/\n",
        "#math.ceil rounds up to a whole number (instead of retaining decimal)\n",
        "\n",
        "training_data"
      ],
      "execution_count": 422,
      "outputs": [
        {
          "output_type": "execute_result",
          "data": {
            "text/plain": [
              "1592"
            ]
          },
          "metadata": {
            "tags": []
          },
          "execution_count": 422
        }
      ]
    },
    {
      "cell_type": "markdown",
      "metadata": {
        "id": "kOl8ueE-IrZk",
        "colab_type": "text"
      },
      "source": [
        "Therfore, 80% of data is 1592 data points (compared to 1989 total)"
      ]
    },
    {
      "cell_type": "code",
      "metadata": {
        "id": "CggmHnODFP7g",
        "colab_type": "code",
        "colab": {
          "base_uri": "https://localhost:8080/",
          "height": 148
        },
        "outputId": "f4a54952-dbd8-47fe-a255-a2dc675b12a6"
      },
      "source": [
        "#Scale (normalize) the data\n",
        "\"\"\"\n",
        "Instead of using actual prices of stocks,\n",
        "for compatible data for machine learning, \n",
        "they will be scaled (normalized) to 0 to 1\n",
        "\"\"\"\n",
        "\n",
        "scaler = MinMaxScaler(feature_range=(0,1))\n",
        "scaled_data = scaler.fit_transform(dataset)\n",
        "\n",
        "scaled_data"
      ],
      "execution_count": 423,
      "outputs": [
        {
          "output_type": "execute_result",
          "data": {
            "text/plain": [
              "array([[0.4408942 ],\n",
              "       [0.44497647],\n",
              "       [0.43308732],\n",
              "       ...,\n",
              "       [0.9474974 ],\n",
              "       [0.96749772],\n",
              "       [0.96914484]])"
            ]
          },
          "metadata": {
            "tags": []
          },
          "execution_count": 423
        }
      ]
    },
    {
      "cell_type": "markdown",
      "metadata": {
        "id": "V-TwmyaTJNAc",
        "colab_type": "text"
      },
      "source": [
        "This result makes sense since from 2008 to 2016, we can observe DOW continually rising. "
      ]
    },
    {
      "cell_type": "code",
      "metadata": {
        "id": "JsE4xq1NJUdV",
        "colab_type": "code",
        "colab": {
          "base_uri": "https://localhost:8080/",
          "height": 279
        },
        "outputId": "0bb9e2ad-6d17-4ca5-f360-bff6e4f396f3"
      },
      "source": [
        "\"\"\"\n",
        "Creating training dataset\n",
        "\"\"\"\n",
        "#from scaled_data(100%), obtain rows and columns of training (80%)\n",
        "train_data = scaled_data[0:training_data,:]\n",
        "\n",
        "#split the data into x_train and y_train datasets\n",
        "x_train = []\n",
        "y_train = []\n",
        "\n",
        "for i in range (60, len(train_data)):\n",
        "  x_train.append(train_data[i-60:i,0])\n",
        "  y_train.append(train_data[i,0])\n",
        "  if i<=60:\n",
        "    print(x_train)\n",
        "    print(y_train)\n",
        "    print()"
      ],
      "execution_count": 424,
      "outputs": [
        {
          "output_type": "stream",
          "text": [
            "[array([0.4408942 , 0.44497647, 0.43308732, 0.42377949, 0.43083154,\n",
            "       0.43456885, 0.41922626, 0.40810547, 0.41395995, 0.41504621,\n",
            "       0.43186252, 0.41130982, 0.41357241, 0.42119137, 0.43926733,\n",
            "       0.42471444, 0.42241616, 0.42377269, 0.39447907, 0.39726092,\n",
            "       0.42189092, 0.39809137, 0.4013373 , 0.4153437 , 0.41434757,\n",
            "       0.37146905, 0.38349673, 0.34530324, 0.38015394, 0.41149599,\n",
            "       0.37981395, 0.36608545, 0.36362059, 0.3803553 , 0.39064572,\n",
            "       0.32454652, 0.36578714, 0.36412209, 0.33452493, 0.32114072,\n",
            "       0.28970263, 0.24649184, 0.2304268 , 0.17272263, 0.16184322,\n",
            "       0.24143462, 0.23492226, 0.17261381, 0.20672669, 0.19592887,\n",
            "       0.23104982, 0.21135047, 0.16762457, 0.18224718, 0.15570313,\n",
            "       0.13843375, 0.21402443, 0.20772115, 0.22384737, 0.23611385])]\n",
            "[0.23567360397129578]\n",
            "\n"
          ],
          "name": "stdout"
        }
      ]
    },
    {
      "cell_type": "markdown",
      "metadata": {
        "id": "H4jVq7JQLXCb",
        "colab_type": "text"
      },
      "source": [
        "The printout is a sample of the first run through. xtrain will have 0-60 and xytrain will have the 61st on the first run. "
      ]
    },
    {
      "cell_type": "code",
      "metadata": {
        "id": "j7B_YeDJLrc0",
        "colab_type": "code",
        "colab": {}
      },
      "source": [
        "#Convert x_train and y_train to numpy arrays to be trained for LSTM model\n",
        "x_train, y_train = np.array(x_train), np.array(y_train)"
      ],
      "execution_count": 425,
      "outputs": []
    },
    {
      "cell_type": "code",
      "metadata": {
        "id": "aUoOA33mM2v4",
        "colab_type": "code",
        "colab": {
          "base_uri": "https://localhost:8080/",
          "height": 36
        },
        "outputId": "0d4d793f-95dc-42fe-a1b8-20b13bd7237c"
      },
      "source": [
        "#Current shape of x_train\n",
        "x_train.shape"
      ],
      "execution_count": 426,
      "outputs": [
        {
          "output_type": "execute_result",
          "data": {
            "text/plain": [
              "(1532, 60)"
            ]
          },
          "metadata": {
            "tags": []
          },
          "execution_count": 426
        }
      ]
    },
    {
      "cell_type": "code",
      "metadata": {
        "id": "D6VX3jyeNA5I",
        "colab_type": "code",
        "colab": {
          "base_uri": "https://localhost:8080/",
          "height": 36
        },
        "outputId": "463765b5-3731-4397-8e86-b661c2101582"
      },
      "source": [
        "#Reshape the data to #D\n",
        "x_train = np.reshape(x_train, (x_train.shape[0], x_train.shape[1],1))\n",
        "#(number of samples, number of timestamps, number of features[closing price])\n",
        "x_train.shape"
      ],
      "execution_count": 427,
      "outputs": [
        {
          "output_type": "execute_result",
          "data": {
            "text/plain": [
              "(1532, 60, 1)"
            ]
          },
          "metadata": {
            "tags": []
          },
          "execution_count": 427
        }
      ]
    },
    {
      "cell_type": "code",
      "metadata": {
        "id": "_07btgY9NsQ2",
        "colab_type": "code",
        "colab": {}
      },
      "source": [
        "\"\"\"\n",
        "Build LSTM (Long Short Term Memory) model\n",
        "\"\"\"\n",
        "model = Sequential()\n",
        "model.add(LSTM(50,return_sequences=True, input_shape=(x_train.shape[1],1)))\n",
        "#50 neurons, first layer requires the input_shape\n",
        "model.add(LSTM(50,return_sequences=False))\n",
        "model.add(Dense(25))\n",
        "model.add(Dense(1))"
      ],
      "execution_count": 428,
      "outputs": []
    },
    {
      "cell_type": "code",
      "metadata": {
        "id": "HWP5Dw1MPwxj",
        "colab_type": "code",
        "colab": {}
      },
      "source": [
        "\"\"\"\n",
        "Compile model\n",
        "\"\"\"\n",
        "model.compile(optimizer='adam', loss=\"mean_squared_error\")"
      ],
      "execution_count": 429,
      "outputs": []
    },
    {
      "cell_type": "code",
      "metadata": {
        "id": "eAEzKR6kQQKK",
        "colab_type": "code",
        "colab": {
          "base_uri": "https://localhost:8080/",
          "height": 73
        },
        "outputId": "ae48febf-5c74-439d-add5-ec2e5db5fbdf"
      },
      "source": [
        "\"\"\"\n",
        "Train model\n",
        "\"\"\"\n",
        "model.fit(x_train, y_train, batch_size=1, epochs=1)\n",
        "#batch size -> total # of training examples present in a single batch\n",
        "#epochs -> # of iterations when the entire dataset is passed forward to a neural network"
      ],
      "execution_count": 430,
      "outputs": [
        {
          "output_type": "stream",
          "text": [
            "Epoch 1/1\n",
            "1532/1532 [==============================] - 67s 43ms/step - loss: 0.0021\n"
          ],
          "name": "stdout"
        },
        {
          "output_type": "execute_result",
          "data": {
            "text/plain": [
              "<keras.callbacks.callbacks.History at 0x7fcb6e9c8518>"
            ]
          },
          "metadata": {
            "tags": []
          },
          "execution_count": 430
        }
      ]
    },
    {
      "cell_type": "markdown",
      "metadata": {
        "id": "fDQkncfPR_pV",
        "colab_type": "text"
      },
      "source": [
        "Noticed significant performance boost with TPU (Tensor Processing Unit) which can be enabled at Colabs. \n",
        "\n",
        "Edit -> Notebook settings \n",
        "\n",
        "Then enable hardware accelator"
      ]
    },
    {
      "cell_type": "code",
      "metadata": {
        "id": "zdYkoKUPSPqr",
        "colab_type": "code",
        "colab": {}
      },
      "source": [
        "\"\"\"\n",
        "Create test data set\n",
        "(crate array containing scaled values from index 1533 to 1989)\n",
        "\"\"\"\n",
        "test_data = scaled_data[training_data - 60: , : ]"
      ],
      "execution_count": 431,
      "outputs": []
    },
    {
      "cell_type": "code",
      "metadata": {
        "id": "xXh3_EXgrstz",
        "colab_type": "code",
        "colab": {}
      },
      "source": [
        "\"\"\"\n",
        "create x_test and y_test\n",
        "\"\"\"\n",
        "x_test = []\n",
        "y_test = dataset[training_data: , : ]"
      ],
      "execution_count": 432,
      "outputs": []
    },
    {
      "cell_type": "code",
      "metadata": {
        "id": "LZWcX7DFspeU",
        "colab_type": "code",
        "colab": {}
      },
      "source": [
        "for i in range(60, len(test_data)):\n",
        "  x_test.append(test_data[i-60:i, 0])"
      ],
      "execution_count": 433,
      "outputs": []
    },
    {
      "cell_type": "code",
      "metadata": {
        "id": "hMB878exs6GM",
        "colab_type": "code",
        "colab": {}
      },
      "source": [
        "\"\"\"\n",
        "Convert data to a numpy array\n",
        "\"\"\"\n",
        "x_test = np.array(x_test)"
      ],
      "execution_count": 434,
      "outputs": []
    },
    {
      "cell_type": "code",
      "metadata": {
        "id": "hDDDKXcgtkSf",
        "colab_type": "code",
        "colab": {}
      },
      "source": [
        "\"\"\"\n",
        "Reshape the data\n",
        "\"\"\"\n",
        "x_test = np.reshape(x_test, (x_test.shape[0], x_test.shape[1], 1))\n",
        "#(number of samples, number of timestamps, number of features[closing price])"
      ],
      "execution_count": 435,
      "outputs": []
    },
    {
      "cell_type": "code",
      "metadata": {
        "id": "KbcifUD8uG8l",
        "colab_type": "code",
        "colab": {}
      },
      "source": [
        "\"\"\"\n",
        "Get models predicted price values\n",
        "\"\"\"\n",
        "predictions = model.predict(x_test)\n",
        "predictions = scaler.inverse_transform(predictions)"
      ],
      "execution_count": 436,
      "outputs": []
    },
    {
      "cell_type": "code",
      "metadata": {
        "id": "8LLrObRpu5wk",
        "colab_type": "code",
        "colab": {
          "base_uri": "https://localhost:8080/",
          "height": 36
        },
        "outputId": "98de4a1f-102b-4365-cf7d-860d6c906cce"
      },
      "source": [
        "\"\"\"\n",
        "Get RMSE (Root Mean Squared Error)\n",
        "\n",
        "method of validation of model.\n",
        "STD Dev of the residuals. \n",
        "Lower values indidcate a better fit (depends on datum range)\n",
        "Model is a good match if RMSE is similar to training/testing\n",
        "\"\"\"\n",
        "\n",
        "rmse = np.sqrt(np.mean(((predictions - y_test)**2)))  \n",
        "rmse"
      ],
      "execution_count": 437,
      "outputs": [
        {
          "output_type": "execute_result",
          "data": {
            "text/plain": [
              "638.2232700702098"
            ]
          },
          "metadata": {
            "tags": []
          },
          "execution_count": 437
        }
      ]
    },
    {
      "cell_type": "code",
      "metadata": {
        "id": "Yk3gQH2Ay8eJ",
        "colab_type": "code",
        "colab": {
          "base_uri": "https://localhost:8080/",
          "height": 407
        },
        "outputId": "78ad2df6-1adc-481d-f8f4-83aff6dc1896"
      },
      "source": [
        "\"\"\"\n",
        "Plot the data\n",
        "\"\"\"\n",
        "train = data[0:training_data]\n",
        "valid = data[training_data: ]\n",
        "valid['Predictions'] = predictions\n",
        "\n",
        "plt.title(\"Model of DJIA\")\n",
        "plt.xlabel('Date')\n",
        "plt.ylabel('Close Price')\n",
        "plt.plot(djia['Close'][1000:])\n",
        "plt.plot(valid[['Close', 'Predictions']])\n",
        "plt.legend(['Train','Val','Predictions'], loc = 'lower right')\n",
        "plt.show()"
      ],
      "execution_count": 438,
      "outputs": [
        {
          "output_type": "stream",
          "text": [
            "/usr/local/lib/python3.6/dist-packages/ipykernel_launcher.py:6: SettingWithCopyWarning: \n",
            "A value is trying to be set on a copy of a slice from a DataFrame.\n",
            "Try using .loc[row_indexer,col_indexer] = value instead\n",
            "\n",
            "See the caveats in the documentation: http://pandas.pydata.org/pandas-docs/stable/indexing.html#indexing-view-versus-copy\n",
            "  \n"
          ],
          "name": "stderr"
        },
        {
          "output_type": "display_data",
          "data": {
            "image/png": "[encoded data removed]",
            "text/plain": [
              "<Figure size 432x288 with 1 Axes>"
            ]
          },
          "metadata": {
            "tags": [],
            "needs_background": "light"
          }
        }
      ]
    },
    {
      "cell_type": "code",
      "metadata": {
        "id": "jYH9cB1s3t_b",
        "colab_type": "code",
        "colab": {
          "base_uri": "https://localhost:8080/",
          "height": 1000
        },
        "outputId": "054b7ca2-cb7c-4513-a5bb-cc7dfb5f3fb6"
      },
      "source": [
        "\"\"\"\n",
        "Display valid (actual) and predicted prices\n",
        "\"\"\"\n",
        "valid "
      ],
      "execution_count": 439,
      "outputs": [
        {
          "output_type": "execute_result",
          "data": {
            "text/html": [
              "<div>\n",
              "<style scoped>\n",
              "    .dataframe tbody tr th:only-of-type {\n",
              "        vertical-align: middle;\n",
              "    }\n",
              "\n",
              "    .dataframe tbody tr th {\n",
              "        vertical-align: top;\n",
              "    }\n",
              "\n",
              "    .dataframe thead th {\n",
              "        text-align: right;\n",
              "    }\n",
              "</style>\n",
              "<table border=\"1\" class=\"dataframe\">\n",
              "  <thead>\n",
              "    <tr style=\"text-align: right;\">\n",
              "      <th></th>\n",
              "      <th>Close</th>\n",
              "      <th>Predictions</th>\n",
              "    </tr>\n",
              "  </thead>\n",
              "  <tbody>\n",
              "    <tr>\n",
              "      <th>1592</th>\n",
              "      <td>17900.099609</td>\n",
              "      <td>17194.699219</td>\n",
              "    </tr>\n",
              "    <tr>\n",
              "      <th>1593</th>\n",
              "      <td>17958.789062</td>\n",
              "      <td>17211.062500</td>\n",
              "    </tr>\n",
              "    <tr>\n",
              "      <th>1594</th>\n",
              "      <td>17852.480469</td>\n",
              "      <td>17229.785156</td>\n",
              "    </tr>\n",
              "    <tr>\n",
              "      <th>1595</th>\n",
              "      <td>17801.199219</td>\n",
              "      <td>17240.804688</td>\n",
              "    </tr>\n",
              "    <tr>\n",
              "      <th>1596</th>\n",
              "      <td>17533.150391</td>\n",
              "      <td>17243.765625</td>\n",
              "    </tr>\n",
              "    <tr>\n",
              "      <th>1597</th>\n",
              "      <td>17596.339844</td>\n",
              "      <td>17223.689453</td>\n",
              "    </tr>\n",
              "    <tr>\n",
              "      <th>1598</th>\n",
              "      <td>17280.830078</td>\n",
              "      <td>17197.892578</td>\n",
              "    </tr>\n",
              "    <tr>\n",
              "      <th>1599</th>\n",
              "      <td>17180.839844</td>\n",
              "      <td>17148.363281</td>\n",
              "    </tr>\n",
              "    <tr>\n",
              "      <th>1600</th>\n",
              "      <td>17068.869141</td>\n",
              "      <td>17083.796875</td>\n",
              "    </tr>\n",
              "    <tr>\n",
              "      <th>1601</th>\n",
              "      <td>17356.869141</td>\n",
              "      <td>17007.964844</td>\n",
              "    </tr>\n",
              "    <tr>\n",
              "      <th>1602</th>\n",
              "      <td>17778.150391</td>\n",
              "      <td>16951.591797</td>\n",
              "    </tr>\n",
              "    <tr>\n",
              "      <th>1603</th>\n",
              "      <td>17804.800781</td>\n",
              "      <td>16937.666016</td>\n",
              "    </tr>\n",
              "    <tr>\n",
              "      <th>1604</th>\n",
              "      <td>17959.439453</td>\n",
              "      <td>16948.330078</td>\n",
              "    </tr>\n",
              "    <tr>\n",
              "      <th>1605</th>\n",
              "      <td>18024.169922</td>\n",
              "      <td>16982.960938</td>\n",
              "    </tr>\n",
              "    <tr>\n",
              "      <th>1606</th>\n",
              "      <td>18030.210938</td>\n",
              "      <td>17032.408203</td>\n",
              "    </tr>\n",
              "    <tr>\n",
              "      <th>1607</th>\n",
              "      <td>18053.710938</td>\n",
              "      <td>17086.871094</td>\n",
              "    </tr>\n",
              "    <tr>\n",
              "      <th>1608</th>\n",
              "      <td>18038.230469</td>\n",
              "      <td>17141.931641</td>\n",
              "    </tr>\n",
              "    <tr>\n",
              "      <th>1609</th>\n",
              "      <td>17983.070312</td>\n",
              "      <td>17192.189453</td>\n",
              "    </tr>\n",
              "    <tr>\n",
              "      <th>1610</th>\n",
              "      <td>17823.070312</td>\n",
              "      <td>17232.410156</td>\n",
              "    </tr>\n",
              "    <tr>\n",
              "      <th>1611</th>\n",
              "      <td>17832.990234</td>\n",
              "      <td>17253.320312</td>\n",
              "    </tr>\n",
              "    <tr>\n",
              "      <th>1612</th>\n",
              "      <td>17501.650391</td>\n",
              "      <td>17263.390625</td>\n",
              "    </tr>\n",
              "    <tr>\n",
              "      <th>1613</th>\n",
              "      <td>17371.640625</td>\n",
              "      <td>17243.556641</td>\n",
              "    </tr>\n",
              "    <tr>\n",
              "      <th>1614</th>\n",
              "      <td>17584.519531</td>\n",
              "      <td>17201.134766</td>\n",
              "    </tr>\n",
              "    <tr>\n",
              "      <th>1615</th>\n",
              "      <td>17907.869141</td>\n",
              "      <td>17164.240234</td>\n",
              "    </tr>\n",
              "    <tr>\n",
              "      <th>1616</th>\n",
              "      <td>17737.369141</td>\n",
              "      <td>17154.070312</td>\n",
              "    </tr>\n",
              "    <tr>\n",
              "      <th>1617</th>\n",
              "      <td>17640.839844</td>\n",
              "      <td>17146.117188</td>\n",
              "    </tr>\n",
              "    <tr>\n",
              "      <th>1618</th>\n",
              "      <td>17613.679688</td>\n",
              "      <td>17134.476562</td>\n",
              "    </tr>\n",
              "    <tr>\n",
              "      <th>1619</th>\n",
              "      <td>17427.089844</td>\n",
              "      <td>17120.277344</td>\n",
              "    </tr>\n",
              "    <tr>\n",
              "      <th>1620</th>\n",
              "      <td>17320.710938</td>\n",
              "      <td>17092.869141</td>\n",
              "    </tr>\n",
              "    <tr>\n",
              "      <th>1621</th>\n",
              "      <td>17511.570312</td>\n",
              "      <td>17053.628906</td>\n",
              "    </tr>\n",
              "    <tr>\n",
              "      <th>...</th>\n",
              "      <td>...</td>\n",
              "      <td>...</td>\n",
              "    </tr>\n",
              "    <tr>\n",
              "      <th>1959</th>\n",
              "      <td>17500.939453</td>\n",
              "      <td>17063.232422</td>\n",
              "    </tr>\n",
              "    <tr>\n",
              "      <th>1960</th>\n",
              "      <td>17492.929688</td>\n",
              "      <td>17036.712891</td>\n",
              "    </tr>\n",
              "    <tr>\n",
              "      <th>1961</th>\n",
              "      <td>17706.050781</td>\n",
              "      <td>17013.314453</td>\n",
              "    </tr>\n",
              "    <tr>\n",
              "      <th>1962</th>\n",
              "      <td>17851.509766</td>\n",
              "      <td>17008.154297</td>\n",
              "    </tr>\n",
              "    <tr>\n",
              "      <th>1963</th>\n",
              "      <td>17828.289062</td>\n",
              "      <td>17022.550781</td>\n",
              "    </tr>\n",
              "    <tr>\n",
              "      <th>1964</th>\n",
              "      <td>17873.220703</td>\n",
              "      <td>17044.658203</td>\n",
              "    </tr>\n",
              "    <tr>\n",
              "      <th>1965</th>\n",
              "      <td>17787.199219</td>\n",
              "      <td>17072.908203</td>\n",
              "    </tr>\n",
              "    <tr>\n",
              "      <th>1966</th>\n",
              "      <td>17789.669922</td>\n",
              "      <td>17096.451172</td>\n",
              "    </tr>\n",
              "    <tr>\n",
              "      <th>1967</th>\n",
              "      <td>17838.560547</td>\n",
              "      <td>17116.349609</td>\n",
              "    </tr>\n",
              "    <tr>\n",
              "      <th>1968</th>\n",
              "      <td>17807.060547</td>\n",
              "      <td>17136.105469</td>\n",
              "    </tr>\n",
              "    <tr>\n",
              "      <th>1969</th>\n",
              "      <td>17920.330078</td>\n",
              "      <td>17151.886719</td>\n",
              "    </tr>\n",
              "    <tr>\n",
              "      <th>1970</th>\n",
              "      <td>17938.279297</td>\n",
              "      <td>17172.308594</td>\n",
              "    </tr>\n",
              "    <tr>\n",
              "      <th>1971</th>\n",
              "      <td>18005.050781</td>\n",
              "      <td>17194.457031</td>\n",
              "    </tr>\n",
              "    <tr>\n",
              "      <th>1972</th>\n",
              "      <td>17985.189453</td>\n",
              "      <td>17220.541016</td>\n",
              "    </tr>\n",
              "    <tr>\n",
              "      <th>1973</th>\n",
              "      <td>17865.339844</td>\n",
              "      <td>17245.236328</td>\n",
              "    </tr>\n",
              "    <tr>\n",
              "      <th>1974</th>\n",
              "      <td>17732.480469</td>\n",
              "      <td>17259.248047</td>\n",
              "    </tr>\n",
              "    <tr>\n",
              "      <th>1975</th>\n",
              "      <td>17674.820312</td>\n",
              "      <td>17257.742188</td>\n",
              "    </tr>\n",
              "    <tr>\n",
              "      <th>1976</th>\n",
              "      <td>17640.169922</td>\n",
              "      <td>17244.306641</td>\n",
              "    </tr>\n",
              "    <tr>\n",
              "      <th>1977</th>\n",
              "      <td>17733.099609</td>\n",
              "      <td>17222.927734</td>\n",
              "    </tr>\n",
              "    <tr>\n",
              "      <th>1978</th>\n",
              "      <td>17675.160156</td>\n",
              "      <td>17205.134766</td>\n",
              "    </tr>\n",
              "    <tr>\n",
              "      <th>1979</th>\n",
              "      <td>17804.869141</td>\n",
              "      <td>17186.039062</td>\n",
              "    </tr>\n",
              "    <tr>\n",
              "      <th>1980</th>\n",
              "      <td>17829.730469</td>\n",
              "      <td>17176.894531</td>\n",
              "    </tr>\n",
              "    <tr>\n",
              "      <th>1981</th>\n",
              "      <td>17780.830078</td>\n",
              "      <td>17174.984375</td>\n",
              "    </tr>\n",
              "    <tr>\n",
              "      <th>1982</th>\n",
              "      <td>18011.070312</td>\n",
              "      <td>17173.835938</td>\n",
              "    </tr>\n",
              "    <tr>\n",
              "      <th>1983</th>\n",
              "      <td>17400.750000</td>\n",
              "      <td>17189.439453</td>\n",
              "    </tr>\n",
              "    <tr>\n",
              "      <th>1984</th>\n",
              "      <td>17140.240234</td>\n",
              "      <td>17169.878906</td>\n",
              "    </tr>\n",
              "    <tr>\n",
              "      <th>1985</th>\n",
              "      <td>17409.720703</td>\n",
              "      <td>17117.464844</td>\n",
              "    </tr>\n",
              "    <tr>\n",
              "      <th>1986</th>\n",
              "      <td>17694.679688</td>\n",
              "      <td>17070.101562</td>\n",
              "    </tr>\n",
              "    <tr>\n",
              "      <th>1987</th>\n",
              "      <td>17929.990234</td>\n",
              "      <td>17046.888672</td>\n",
              "    </tr>\n",
              "    <tr>\n",
              "      <th>1988</th>\n",
              "      <td>17949.369141</td>\n",
              "      <td>17053.658203</td>\n",
              "    </tr>\n",
              "  </tbody>\n",
              "</table>\n",
              "<p>397 rows × 2 columns</p>\n",
              "</div>"
            ],
            "text/plain": [
              "             Close   Predictions\n",
              "1592  17900.099609  17194.699219\n",
              "1593  17958.789062  17211.062500\n",
              "1594  17852.480469  17229.785156\n",
              "1595  17801.199219  17240.804688\n",
              "1596  17533.150391  17243.765625\n",
              "1597  17596.339844  17223.689453\n",
              "1598  17280.830078  17197.892578\n",
              "1599  17180.839844  17148.363281\n",
              "1600  17068.869141  17083.796875\n",
              "1601  17356.869141  17007.964844\n",
              "1602  17778.150391  16951.591797\n",
              "1603  17804.800781  16937.666016\n",
              "1604  17959.439453  16948.330078\n",
              "1605  18024.169922  16982.960938\n",
              "1606  18030.210938  17032.408203\n",
              "1607  18053.710938  17086.871094\n",
              "1608  18038.230469  17141.931641\n",
              "1609  17983.070312  17192.189453\n",
              "1610  17823.070312  17232.410156\n",
              "1611  17832.990234  17253.320312\n",
              "1612  17501.650391  17263.390625\n",
              "1613  17371.640625  17243.556641\n",
              "1614  17584.519531  17201.134766\n",
              "1615  17907.869141  17164.240234\n",
              "1616  17737.369141  17154.070312\n",
              "1617  17640.839844  17146.117188\n",
              "1618  17613.679688  17134.476562\n",
              "1619  17427.089844  17120.277344\n",
              "1620  17320.710938  17092.869141\n",
              "1621  17511.570312  17053.628906\n",
              "...            ...           ...\n",
              "1959  17500.939453  17063.232422\n",
              "1960  17492.929688  17036.712891\n",
              "1961  17706.050781  17013.314453\n",
              "1962  17851.509766  17008.154297\n",
              "1963  17828.289062  17022.550781\n",
              "1964  17873.220703  17044.658203\n",
              "1965  17787.199219  17072.908203\n",
              "1966  17789.669922  17096.451172\n",
              "1967  17838.560547  17116.349609\n",
              "1968  17807.060547  17136.105469\n",
              "1969  17920.330078  17151.886719\n",
              "1970  17938.279297  17172.308594\n",
              "1971  18005.050781  17194.457031\n",
              "1972  17985.189453  17220.541016\n",
              "1973  17865.339844  17245.236328\n",
              "1974  17732.480469  17259.248047\n",
              "1975  17674.820312  17257.742188\n",
              "1976  17640.169922  17244.306641\n",
              "1977  17733.099609  17222.927734\n",
              "1978  17675.160156  17205.134766\n",
              "1979  17804.869141  17186.039062\n",
              "1980  17829.730469  17176.894531\n",
              "1981  17780.830078  17174.984375\n",
              "1982  18011.070312  17173.835938\n",
              "1983  17400.750000  17189.439453\n",
              "1984  17140.240234  17169.878906\n",
              "1985  17409.720703  17117.464844\n",
              "1986  17694.679688  17070.101562\n",
              "1987  17929.990234  17046.888672\n",
              "1988  17949.369141  17053.658203\n",
              "\n",
              "[397 rows x 2 columns]"
            ]
          },
          "metadata": {
            "tags": []
          },
          "execution_count": 439
        }
      ]
    },
    {
      "cell_type": "markdown",
      "metadata": {
        "id": "ltA8Hyu17-dJ",
        "colab_type": "text"
      },
      "source": [
        "# Stock Prediction Using SVR (Support Vector Regression)"
      ]
    },
    {
      "cell_type": "markdown",
      "metadata": {
        "id": "tj1u0ES485BK",
        "colab_type": "text"
      },
      "source": [
        "https://medium.com/@randerson112358/predict-stock-prices-using-python-machine-learning-53aa024da20a"
      ]
    },
    {
      "cell_type": "code",
      "metadata": {
        "id": "ROOHOH1i8knv",
        "colab_type": "code",
        "colab": {}
      },
      "source": [
        "\"\"\"\n",
        "Import libraries\n",
        "\"\"\"\n",
        "import numpy as np\n",
        "import pandas as pd\n",
        "from sklearn.tree import DecisionTreeRegressor\n",
        "from sklearn.linear_model import LinearRegression\n",
        "from sklearn.model_selection import train_test_split\n",
        "import matplotlib.pyplot as plt"
      ],
      "execution_count": 440,
      "outputs": []
    },
    {
      "cell_type": "markdown",
      "metadata": {
        "id": "oC8C0Y1JS0Z8",
        "colab_type": "text"
      },
      "source": [
        "We will use DJIA as the data for stock analysis"
      ]
    },
    {
      "cell_type": "code",
      "metadata": {
        "id": "L4LF_drKSifz",
        "colab_type": "code",
        "colab": {
          "base_uri": "https://localhost:8080/",
          "height": 112
        },
        "outputId": "2a496b10-8c0c-4642-8f04-4758eecf1ee0"
      },
      "source": [
        "djia.head(2)"
      ],
      "execution_count": 441,
      "outputs": [
        {
          "output_type": "execute_result",
          "data": {
            "text/html": [
              "<div>\n",
              "<style scoped>\n",
              "    .dataframe tbody tr th:only-of-type {\n",
              "        vertical-align: middle;\n",
              "    }\n",
              "\n",
              "    .dataframe tbody tr th {\n",
              "        vertical-align: top;\n",
              "    }\n",
              "\n",
              "    .dataframe thead th {\n",
              "        text-align: right;\n",
              "    }\n",
              "</style>\n",
              "<table border=\"1\" class=\"dataframe\">\n",
              "  <thead>\n",
              "    <tr style=\"text-align: right;\">\n",
              "      <th></th>\n",
              "      <th>Date</th>\n",
              "      <th>Open</th>\n",
              "      <th>High</th>\n",
              "      <th>Low</th>\n",
              "      <th>Close</th>\n",
              "      <th>Volume</th>\n",
              "      <th>Adj Close</th>\n",
              "    </tr>\n",
              "  </thead>\n",
              "  <tbody>\n",
              "    <tr>\n",
              "      <th>0</th>\n",
              "      <td>2008-08-08</td>\n",
              "      <td>11432.089844</td>\n",
              "      <td>11759.959961</td>\n",
              "      <td>11388.040039</td>\n",
              "      <td>11734.320312</td>\n",
              "      <td>212830000</td>\n",
              "      <td>11734.320312</td>\n",
              "    </tr>\n",
              "    <tr>\n",
              "      <th>1</th>\n",
              "      <td>2008-08-11</td>\n",
              "      <td>11729.669922</td>\n",
              "      <td>11867.110352</td>\n",
              "      <td>11675.530273</td>\n",
              "      <td>11782.349609</td>\n",
              "      <td>183190000</td>\n",
              "      <td>11782.349609</td>\n",
              "    </tr>\n",
              "  </tbody>\n",
              "</table>\n",
              "</div>"
            ],
            "text/plain": [
              "         Date          Open          High           Low         Close  \\\n",
              "0  2008-08-08  11432.089844  11759.959961  11388.040039  11734.320312   \n",
              "1  2008-08-11  11729.669922  11867.110352  11675.530273  11782.349609   \n",
              "\n",
              "      Volume     Adj Close  \n",
              "0  212830000  11734.320312  \n",
              "1  183190000  11782.349609  "
            ]
          },
          "metadata": {
            "tags": []
          },
          "execution_count": 441
        }
      ]
    },
    {
      "cell_type": "code",
      "metadata": {
        "id": "ow1b2BGrS892",
        "colab_type": "code",
        "colab": {
          "base_uri": "https://localhost:8080/",
          "height": 112
        },
        "outputId": "fc34ec9f-d90f-487d-b679-21ef3a630f40"
      },
      "source": [
        "\"\"\"\n",
        "Get the close price\n",
        "\"\"\"\n",
        "df = djia[['Close']] \n",
        "#[] is just extracting element, [[]] takes column of dataframe\n",
        "df.head(2)"
      ],
      "execution_count": 442,
      "outputs": [
        {
          "output_type": "execute_result",
          "data": {
            "text/html": [
              "<div>\n",
              "<style scoped>\n",
              "    .dataframe tbody tr th:only-of-type {\n",
              "        vertical-align: middle;\n",
              "    }\n",
              "\n",
              "    .dataframe tbody tr th {\n",
              "        vertical-align: top;\n",
              "    }\n",
              "\n",
              "    .dataframe thead th {\n",
              "        text-align: right;\n",
              "    }\n",
              "</style>\n",
              "<table border=\"1\" class=\"dataframe\">\n",
              "  <thead>\n",
              "    <tr style=\"text-align: right;\">\n",
              "      <th></th>\n",
              "      <th>Close</th>\n",
              "    </tr>\n",
              "  </thead>\n",
              "  <tbody>\n",
              "    <tr>\n",
              "      <th>0</th>\n",
              "      <td>11734.320312</td>\n",
              "    </tr>\n",
              "    <tr>\n",
              "      <th>1</th>\n",
              "      <td>11782.349609</td>\n",
              "    </tr>\n",
              "  </tbody>\n",
              "</table>\n",
              "</div>"
            ],
            "text/plain": [
              "          Close\n",
              "0  11734.320312\n",
              "1  11782.349609"
            ]
          },
          "metadata": {
            "tags": []
          },
          "execution_count": 442
        }
      ]
    },
    {
      "cell_type": "code",
      "metadata": {
        "id": "GDJD3iTIThIp",
        "colab_type": "code",
        "colab": {}
      },
      "source": [
        "\"\"\"\n",
        "Variable to predict # of days out into the future\n",
        "\"\"\"\n",
        "future_days = 25"
      ],
      "execution_count": 443,
      "outputs": []
    },
    {
      "cell_type": "code",
      "metadata": {
        "id": "pgrI8FFmT7Ur",
        "colab_type": "code",
        "colab": {
          "base_uri": "https://localhost:8080/",
          "height": 977
        },
        "outputId": "6efe1187-ecd9-457a-de45-4d59e9973c0d"
      },
      "source": [
        "\"\"\"\n",
        "Create new column onto 'df' Prediction\n",
        "\"\"\"\n",
        "df['Prediction'] = df[['Close']].shift(-future_days)\n",
        "df.head(26)"
      ],
      "execution_count": 444,
      "outputs": [
        {
          "output_type": "stream",
          "text": [
            "/usr/local/lib/python3.6/dist-packages/ipykernel_launcher.py:4: SettingWithCopyWarning: \n",
            "A value is trying to be set on a copy of a slice from a DataFrame.\n",
            "Try using .loc[row_indexer,col_indexer] = value instead\n",
            "\n",
            "See the caveats in the documentation: http://pandas.pydata.org/pandas-docs/stable/indexing.html#indexing-view-versus-copy\n",
            "  after removing the cwd from sys.path.\n"
          ],
          "name": "stderr"
        },
        {
          "output_type": "execute_result",
          "data": {
            "text/html": [
              "<div>\n",
              "<style scoped>\n",
              "    .dataframe tbody tr th:only-of-type {\n",
              "        vertical-align: middle;\n",
              "    }\n",
              "\n",
              "    .dataframe tbody tr th {\n",
              "        vertical-align: top;\n",
              "    }\n",
              "\n",
              "    .dataframe thead th {\n",
              "        text-align: right;\n",
              "    }\n",
              "</style>\n",
              "<table border=\"1\" class=\"dataframe\">\n",
              "  <thead>\n",
              "    <tr style=\"text-align: right;\">\n",
              "      <th></th>\n",
              "      <th>Close</th>\n",
              "      <th>Prediction</th>\n",
              "    </tr>\n",
              "  </thead>\n",
              "  <tbody>\n",
              "    <tr>\n",
              "      <th>0</th>\n",
              "      <td>11734.320312</td>\n",
              "      <td>10917.509766</td>\n",
              "    </tr>\n",
              "    <tr>\n",
              "      <th>1</th>\n",
              "      <td>11782.349609</td>\n",
              "      <td>11059.019531</td>\n",
              "    </tr>\n",
              "    <tr>\n",
              "      <th>2</th>\n",
              "      <td>11642.469727</td>\n",
              "      <td>10609.660156</td>\n",
              "    </tr>\n",
              "    <tr>\n",
              "      <th>3</th>\n",
              "      <td>11532.959961</td>\n",
              "      <td>11019.690430</td>\n",
              "    </tr>\n",
              "    <tr>\n",
              "      <th>4</th>\n",
              "      <td>11615.929688</td>\n",
              "      <td>11388.440430</td>\n",
              "    </tr>\n",
              "    <tr>\n",
              "      <th>5</th>\n",
              "      <td>11659.900391</td>\n",
              "      <td>11015.690430</td>\n",
              "    </tr>\n",
              "    <tr>\n",
              "      <th>6</th>\n",
              "      <td>11479.389648</td>\n",
              "      <td>10854.169922</td>\n",
              "    </tr>\n",
              "    <tr>\n",
              "      <th>7</th>\n",
              "      <td>11348.549805</td>\n",
              "      <td>10825.169922</td>\n",
              "    </tr>\n",
              "    <tr>\n",
              "      <th>8</th>\n",
              "      <td>11417.429688</td>\n",
              "      <td>11022.059570</td>\n",
              "    </tr>\n",
              "    <tr>\n",
              "      <th>9</th>\n",
              "      <td>11430.209961</td>\n",
              "      <td>11143.129883</td>\n",
              "    </tr>\n",
              "    <tr>\n",
              "      <th>10</th>\n",
              "      <td>11628.059570</td>\n",
              "      <td>10365.450195</td>\n",
              "    </tr>\n",
              "    <tr>\n",
              "      <th>11</th>\n",
              "      <td>11386.250000</td>\n",
              "      <td>10850.660156</td>\n",
              "    </tr>\n",
              "    <tr>\n",
              "      <th>12</th>\n",
              "      <td>11412.870117</td>\n",
              "      <td>10831.070312</td>\n",
              "    </tr>\n",
              "    <tr>\n",
              "      <th>13</th>\n",
              "      <td>11502.509766</td>\n",
              "      <td>10482.849609</td>\n",
              "    </tr>\n",
              "    <tr>\n",
              "      <th>14</th>\n",
              "      <td>11715.179688</td>\n",
              "      <td>10325.379883</td>\n",
              "    </tr>\n",
              "    <tr>\n",
              "      <th>15</th>\n",
              "      <td>11543.959961</td>\n",
              "      <td>9955.500000</td>\n",
              "    </tr>\n",
              "    <tr>\n",
              "      <th>16</th>\n",
              "      <td>11516.919922</td>\n",
              "      <td>9447.110352</td>\n",
              "    </tr>\n",
              "    <tr>\n",
              "      <th>17</th>\n",
              "      <td>11532.879883</td>\n",
              "      <td>9258.099609</td>\n",
              "    </tr>\n",
              "    <tr>\n",
              "      <th>18</th>\n",
              "      <td>11188.230469</td>\n",
              "      <td>8579.190430</td>\n",
              "    </tr>\n",
              "    <tr>\n",
              "      <th>19</th>\n",
              "      <td>11220.959961</td>\n",
              "      <td>8451.190430</td>\n",
              "    </tr>\n",
              "    <tr>\n",
              "      <th>20</th>\n",
              "      <td>11510.740234</td>\n",
              "      <td>9387.610352</td>\n",
              "    </tr>\n",
              "    <tr>\n",
              "      <th>21</th>\n",
              "      <td>11230.730469</td>\n",
              "      <td>9310.990234</td>\n",
              "    </tr>\n",
              "    <tr>\n",
              "      <th>22</th>\n",
              "      <td>11268.919922</td>\n",
              "      <td>8577.910156</td>\n",
              "    </tr>\n",
              "    <tr>\n",
              "      <th>23</th>\n",
              "      <td>11433.709961</td>\n",
              "      <td>8979.259766</td>\n",
              "    </tr>\n",
              "    <tr>\n",
              "      <th>24</th>\n",
              "      <td>11421.990234</td>\n",
              "      <td>8852.219727</td>\n",
              "    </tr>\n",
              "    <tr>\n",
              "      <th>25</th>\n",
              "      <td>10917.509766</td>\n",
              "      <td>9265.429688</td>\n",
              "    </tr>\n",
              "  </tbody>\n",
              "</table>\n",
              "</div>"
            ],
            "text/plain": [
              "           Close    Prediction\n",
              "0   11734.320312  10917.509766\n",
              "1   11782.349609  11059.019531\n",
              "2   11642.469727  10609.660156\n",
              "3   11532.959961  11019.690430\n",
              "4   11615.929688  11388.440430\n",
              "5   11659.900391  11015.690430\n",
              "6   11479.389648  10854.169922\n",
              "7   11348.549805  10825.169922\n",
              "8   11417.429688  11022.059570\n",
              "9   11430.209961  11143.129883\n",
              "10  11628.059570  10365.450195\n",
              "11  11386.250000  10850.660156\n",
              "12  11412.870117  10831.070312\n",
              "13  11502.509766  10482.849609\n",
              "14  11715.179688  10325.379883\n",
              "15  11543.959961   9955.500000\n",
              "16  11516.919922   9447.110352\n",
              "17  11532.879883   9258.099609\n",
              "18  11188.230469   8579.190430\n",
              "19  11220.959961   8451.190430\n",
              "20  11510.740234   9387.610352\n",
              "21  11230.730469   9310.990234\n",
              "22  11268.919922   8577.910156\n",
              "23  11433.709961   8979.259766\n",
              "24  11421.990234   8852.219727\n",
              "25  10917.509766   9265.429688"
            ]
          },
          "metadata": {
            "tags": []
          },
          "execution_count": 444
        }
      ]
    },
    {
      "cell_type": "markdown",
      "metadata": {
        "id": "BOzxgdAiVLm6",
        "colab_type": "text"
      },
      "source": [
        "Notice that the first value for Prediction is row 25 on \"Close\""
      ]
    },
    {
      "cell_type": "code",
      "metadata": {
        "id": "-Bf1gqJCUoN7",
        "colab_type": "code",
        "colab": {
          "base_uri": "https://localhost:8080/",
          "height": 148
        },
        "outputId": "c0877e4b-e784-40aa-cd6b-369027501e6d"
      },
      "source": [
        "\"\"\"\n",
        "Create the feature data \n",
        "\"\"\"\n",
        "X = np.array(df.drop(['Prediction'],1))[ :-future_days]\n",
        "print(X)"
      ],
      "execution_count": 445,
      "outputs": [
        {
          "output_type": "stream",
          "text": [
            "[[11734.320312]\n",
            " [11782.349609]\n",
            " [11642.469727]\n",
            " ...\n",
            " [17706.050781]\n",
            " [17851.509766]\n",
            " [17828.289062]]\n"
          ],
          "name": "stdout"
        }
      ]
    },
    {
      "cell_type": "code",
      "metadata": {
        "id": "fHzdo8uGVuT_",
        "colab_type": "code",
        "colab": {
          "base_uri": "https://localhost:8080/",
          "height": 54
        },
        "outputId": "b7181e38-8e47-4732-ad0a-ccc66a1f4910"
      },
      "source": [
        "\"\"\"\n",
        "Create target data and convert it to numpy array and get all of the required target values\n",
        "\"\"\"\n",
        "#the last \n",
        "y = np.array(df['Prediction'])[:-future_days]\n",
        "print(y)"
      ],
      "execution_count": 446,
      "outputs": [
        {
          "output_type": "stream",
          "text": [
            "[10917.509766 11059.019531 10609.660156 ... 17694.679688 17929.990234\n",
            " 17949.369141]\n"
          ],
          "name": "stdout"
        }
      ]
    },
    {
      "cell_type": "code",
      "metadata": {
        "id": "kNYuyNoQXGKH",
        "colab_type": "code",
        "colab": {}
      },
      "source": [
        "\"\"\"\n",
        "Split data\n",
        "75% Training and 25% Testing\n",
        "\"\"\"\n",
        "x_train, x_test, y_train, y_test = train_test_split(X,y, test_size = 0.25)\n",
        "#X = feature dataset, y = target dataset"
      ],
      "execution_count": 447,
      "outputs": []
    },
    {
      "cell_type": "code",
      "metadata": {
        "id": "Hs-1SHQuXqkF",
        "colab_type": "code",
        "colab": {}
      },
      "source": [
        "\"\"\"\n",
        "Create the models\n",
        "\"\"\"\n",
        "\n",
        "\"\"\"\n",
        "Decision Tree Regressor model\n",
        "\"\"\"\n",
        "tree = DecisionTreeRegressor().fit(x_train, y_train)\n",
        "\n",
        "\"\"\"\n",
        "Linear Regression model\n",
        "\"\"\"\n",
        "lr = LinearRegression().fit(x_train, y_train)"
      ],
      "execution_count": 448,
      "outputs": []
    },
    {
      "cell_type": "code",
      "metadata": {
        "id": "GtWhyBiPYLOD",
        "colab_type": "code",
        "colab": {
          "base_uri": "https://localhost:8080/",
          "height": 485
        },
        "outputId": "0f84f60c-d819-40f2-f225-ac59da4f516b"
      },
      "source": [
        "\"\"\"\n",
        "Last \n",
        "\"\"\"\n",
        "x_future = df.drop(['Prediction'],1)[:-future_days]\n",
        "x_future = x_future.tail(future_days)\n",
        "x_future = np.array(x_future)\n",
        "x_future "
      ],
      "execution_count": 449,
      "outputs": [
        {
          "output_type": "execute_result",
          "data": {
            "text/plain": [
              "array([[18003.75    ],\n",
              "       [17977.240234],\n",
              "       [17990.320312],\n",
              "       [18041.550781],\n",
              "       [17830.759766],\n",
              "       [17773.640625],\n",
              "       [17891.160156],\n",
              "       [17750.910156],\n",
              "       [17651.259766],\n",
              "       [17660.710938],\n",
              "       [17740.630859],\n",
              "       [17705.910156],\n",
              "       [17928.349609],\n",
              "       [17711.119141],\n",
              "       [17720.5     ],\n",
              "       [17535.320312],\n",
              "       [17710.710938],\n",
              "       [17529.980469],\n",
              "       [17526.619141],\n",
              "       [17435.400391],\n",
              "       [17500.939453],\n",
              "       [17492.929688],\n",
              "       [17706.050781],\n",
              "       [17851.509766],\n",
              "       [17828.289062]])"
            ]
          },
          "metadata": {
            "tags": []
          },
          "execution_count": 449
        }
      ]
    },
    {
      "cell_type": "code",
      "metadata": {
        "id": "6bOo77cQY3R6",
        "colab_type": "code",
        "colab": {
          "base_uri": "https://localhost:8080/",
          "height": 111
        },
        "outputId": "83009e2a-ce28-4c19-93da-bf4dd6e8e9eb"
      },
      "source": [
        "\"\"\"\n",
        "Display model tree prediction\n",
        "\"\"\"\n",
        "tree_prediction = tree.predict(x_future)\n",
        "print(tree_prediction)"
      ],
      "execution_count": 450,
      "outputs": [
        {
          "output_type": "stream",
          "text": [
            "[17492.929688 17787.199219 17789.669922 17838.560547 17729.210938\n",
            " 17920.330078 17938.279297 18005.050781 17985.189453 17865.339844\n",
            " 17732.480469 17674.820312 18000.400391 17733.099609 16416.580078\n",
            " 17804.869141 17829.730469 17780.830078 18011.070312 17400.75\n",
            " 17140.240234 16167.230469 17694.679688 16285.509766 17949.369141]\n"
          ],
          "name": "stdout"
        }
      ]
    },
    {
      "cell_type": "code",
      "metadata": {
        "id": "e2nCqqNZZBzM",
        "colab_type": "code",
        "colab": {
          "base_uri": "https://localhost:8080/",
          "height": 148
        },
        "outputId": "bfb8865f-20ec-4a64-89f7-d49134a7c322"
      },
      "source": [
        "\"\"\"\n",
        "Display model linear regression prediction\n",
        "\"\"\"\n",
        "lr_prediction = lr.predict(x_future)\n",
        "print(lr_prediction)"
      ],
      "execution_count": 451,
      "outputs": [
        {
          "output_type": "stream",
          "text": [
            "[18056.07557695 18029.81583004 18042.77254712 18093.51985097\n",
            " 17884.71684964 17828.13641107 17944.54759106 17805.62031783\n",
            " 17706.90975127 17716.27178731 17795.437967   17761.04472213\n",
            " 17981.38630264 17766.20458012 17775.4969663  17592.06374624\n",
            " 17765.80022697 17586.77426441 17583.44463779 17493.08619069\n",
            " 17558.00714024 17550.07291699 17761.18402087 17905.27115209\n",
            " 17882.26944736]\n"
          ],
          "name": "stdout"
        }
      ]
    },
    {
      "cell_type": "code",
      "metadata": {
        "id": "86YCOKapZQ_j",
        "colab_type": "code",
        "colab": {
          "base_uri": "https://localhost:8080/",
          "height": 615
        },
        "outputId": "5c93fda1-bfe0-4dd9-8718-ac60d1e5b303"
      },
      "source": [
        "\"\"\"\n",
        "Visualize data for Tree\n",
        "\"\"\"\n",
        "predictions = tree_prediction\n",
        "\n",
        "valid = df[X.shape[0]:]\n",
        "valid['Predictions'] = predictions\n",
        "\n",
        "plt.figure(figsize=(20,8))\n",
        "plt.title('Model Tree')\n",
        "plt.xlabel('Days')\n",
        "plt.ylabel('Close Price')\n",
        "plt.plot(df['Close'][1900:])\n",
        "plt.plot(valid[['Close','Predictions']])\n",
        "plt.legend(['Orig','Val','Pred'])\n",
        "\n",
        "plt.show()"
      ],
      "execution_count": 452,
      "outputs": [
        {
          "output_type": "stream",
          "text": [
            "/usr/local/lib/python3.6/dist-packages/ipykernel_launcher.py:7: SettingWithCopyWarning: \n",
            "A value is trying to be set on a copy of a slice from a DataFrame.\n",
            "Try using .loc[row_indexer,col_indexer] = value instead\n",
            "\n",
            "See the caveats in the documentation: http://pandas.pydata.org/pandas-docs/stable/indexing.html#indexing-view-versus-copy\n",
            "  import sys\n"
          ],
          "name": "stderr"
        },
        {
          "output_type": "display_data",
          "data": {
            "image/png": "[encoded data removed]",
            "text/plain": [
              "<Figure size 1440x576 with 1 Axes>"
            ]
          },
          "metadata": {
            "tags": [],
            "needs_background": "light"
          }
        }
      ]
    },
    {
      "cell_type": "code",
      "metadata": {
        "id": "8oO4wK4QbMhF",
        "colab_type": "code",
        "colab": {
          "base_uri": "https://localhost:8080/",
          "height": 615
        },
        "outputId": "44d241a9-741a-42a3-dc73-bc34bdae5cdc"
      },
      "source": [
        "\"\"\"\n",
        "Visualize data for LR\n",
        "\"\"\"\n",
        "predictions = lr_prediction\n",
        "\n",
        "valid = df[X.shape[0]:]\n",
        "valid['Predictions'] = predictions\n",
        "\n",
        "plt.figure(figsize=(20,8))\n",
        "plt.title('Model LR')\n",
        "plt.xlabel('Days')\n",
        "plt.ylabel('Close Price')\n",
        "plt.plot(df['Close'][1900:])\n",
        "plt.plot(valid[['Close','Predictions']])\n",
        "plt.legend(['Orig','Val','Pred'])\n",
        "plt.show()"
      ],
      "execution_count": 453,
      "outputs": [
        {
          "output_type": "stream",
          "text": [
            "/usr/local/lib/python3.6/dist-packages/ipykernel_launcher.py:7: SettingWithCopyWarning: \n",
            "A value is trying to be set on a copy of a slice from a DataFrame.\n",
            "Try using .loc[row_indexer,col_indexer] = value instead\n",
            "\n",
            "See the caveats in the documentation: http://pandas.pydata.org/pandas-docs/stable/indexing.html#indexing-view-versus-copy\n",
            "  import sys\n"
          ],
          "name": "stderr"
        },
        {
          "output_type": "display_data",
          "data": {
            "image/png": "[encoded data removed]",
            "text/plain": [
              "<Figure size 1440x576 with 1 Axes>"
            ]
          },
          "metadata": {
            "tags": [],
            "needs_background": "light"
          }
        }
      ]
    },
    {
      "cell_type": "markdown",
      "metadata": {
        "id": "Bvd3WGr_fmef",
        "colab_type": "text"
      },
      "source": [
        "Based on crude observation, it appears that the linear model is a better fit for the dataset."
      ]
    }
  ]
}