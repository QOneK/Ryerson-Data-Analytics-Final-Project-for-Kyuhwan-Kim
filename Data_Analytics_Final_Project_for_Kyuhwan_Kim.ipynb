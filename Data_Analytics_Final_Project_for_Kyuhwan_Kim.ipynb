{
  "nbformat": 4,
  "nbformat_minor": 0,
  "metadata": {
    "colab": {
      "name": "Data_Analytics_Final_Project_for_Kyuhwan_Kim.ipynb",
      "provenance": [],
      "collapsed_sections": [
        "RfmhbCIM_m1w",
        "SxzvJgVi1Gri"
      ],
      "include_colab_link": true
    },
    "kernelspec": {
      "name": "python3",
      "display_name": "Python 3"
    }
  },
  "cells": [
    {
      "cell_type": "markdown",
      "metadata": {
        "id": "view-in-github",
        "colab_type": "text"
      },
      "source": [
        "<a href=\"https://colab.research.google.com/github/QOneK/Ryerson-Data-Analytics-Final-Project-for-Kyuhwan-Kim/blob/master/Data_Analytics_Final_Project_for_Kyuhwan_Kim.ipynb\" target=\"_parent\"><img src=\"https://colab.research.google.com/assets/colab-badge.svg\" alt=\"Open In Colab\"/></a>"
      ]
    },
    {
      "cell_type": "markdown",
      "metadata": {
        "id": "XjjSNOqqryQR",
        "colab_type": "text"
      },
      "source": [
        "**Data Analytics Final Project for Kyuhwan Kim**\n",
        "\n",
        "---\n",
        "Dateset can be found at:\n",
        "https://www.kaggle.com/aaron7sun/stocknews\n"
      ]
    },
    {
      "cell_type": "markdown",
      "metadata": {
        "id": "fgS8sof6tXH0",
        "colab_type": "text"
      },
      "source": [
        "# Importing files into Google Colabs\n",
        "\n",
        "---\n",
        "\n"
      ]
    },
    {
      "cell_type": "markdown",
      "metadata": {
        "id": "JLmyhqc_sEZP",
        "colab_type": "text"
      },
      "source": [
        "This code allows you to connect Google Colabs with Google Drive. This method was done so that the files do not need to be inputted everytime Colabs was run. "
      ]
    },
    {
      "cell_type": "code",
      "metadata": {
        "id": "-06hbvJ4siBF",
        "colab_type": "code",
        "colab": {
          "base_uri": "https://localhost:8080/",
          "height": 130
        },
        "outputId": "7711705c-59e2-4597-a23b-d4d711b63e7a"
      },
      "source": [
        "from google.colab import drive\n",
        "drive.mount('/content/drive')"
      ],
      "execution_count": 2,
      "outputs": [
        {
          "output_type": "stream",
          "text": [
            "Go to this URL in a browser: https://accounts.google.com/o/oauth2/auth?client_id=947318989803-6bn6qk8qdgf4n4g3pfee6491hc0brc4i.apps.googleusercontent.com&redirect_uri=urn%3aietf%3awg%3aoauth%3a2.0%3aoob&response_type=code&scope=email%20https%3a%2f%2fwww.googleapis.com%2fauth%2fdocs.test%20https%3a%2f%2fwww.googleapis.com%2fauth%2fdrive%20https%3a%2f%2fwww.googleapis.com%2fauth%2fdrive.photos.readonly%20https%3a%2f%2fwww.googleapis.com%2fauth%2fpeopleapi.readonly\n",
            "\n",
            "Enter your authorization code:\n",
            "··········\n",
            "Mounted at /content/drive\n"
          ],
          "name": "stdout"
        }
      ]
    },
    {
      "cell_type": "markdown",
      "metadata": {
        "id": "Ek6SjmxStO8V",
        "colab_type": "text"
      },
      "source": [
        "** Use this portion of code if you cannot connect Google Drive and want to manually upload the dataset files**\n",
        "\n",
        "To use this portion of code, uncomment the # signs"
      ]
    },
    {
      "cell_type": "code",
      "metadata": {
        "id": "fhSB46yNrDvd",
        "colab_type": "code",
        "colab": {}
      },
      "source": [
        "#from google.colab import files\n",
        "#uploaded = files.upload()"
      ],
      "execution_count": 3,
      "outputs": []
    },
    {
      "cell_type": "markdown",
      "metadata": {
        "id": "GqGn9ptvvKfx",
        "colab_type": "text"
      },
      "source": [
        "# Loading Python Libraries and CSV files, then running EDA (Exploratory Data Analysis)\n",
        "\n",
        "---\n",
        "\n"
      ]
    },
    {
      "cell_type": "markdown",
      "metadata": {
        "id": "ZsUoDbqCuohW",
        "colab_type": "text"
      },
      "source": [
        "Import the necessary libraries: Pandas, Numpy, Matplotlib and sklearn"
      ]
    },
    {
      "cell_type": "code",
      "metadata": {
        "id": "KQjfSPunutRA",
        "colab_type": "code",
        "colab": {}
      },
      "source": [
        "import pandas as pd\n",
        "import numpy as np\n",
        "from matplotlib import pyplot as plt\n",
        "\n",
        "from sklearn.feature_extraction.text import CountVectorizer\n",
        "from sklearn.ensemble import RandomForestClassifier\n",
        "from sklearn.metrics import classification_report,confusion_matrix,accuracy_score"
      ],
      "execution_count": 4,
      "outputs": []
    },
    {
      "cell_type": "markdown",
      "metadata": {
        "id": "PZtfHWiPx4Dr",
        "colab_type": "text"
      },
      "source": [
        "Read the .csv files and put them into variables \n",
        "\n",
        "Note: Will need to connect to Google Drive for this portion to work. \n",
        "If cannot connect, use the upload method:\n",
        "\n",
        "---\n",
        "\n",
        "```\n",
        "from google.colab import files\n",
        "uploaded = files.upload()\n",
        "```\n",
        "\n"
      ]
    },
    {
      "cell_type": "code",
      "metadata": {
        "id": "ZArDfVj8x_-V",
        "colab_type": "code",
        "colab": {}
      },
      "source": [
        "reddit = pd.read_csv('/content/drive/My Drive/Coding/GitHub for Kyuhwan Kim/Ryerson Data Analytics Final Project for Kyuhwan Kim/Dataset/RedditNews.csv')\n",
        "djia = pd.read_csv('/content/drive/My Drive/Coding/GitHub for Kyuhwan Kim/Ryerson Data Analytics Final Project for Kyuhwan Kim/Dataset/upload_DJIA_table.csv')\n",
        "reddit_djia = pd.read_csv('/content/drive/My Drive/Coding/GitHub for Kyuhwan Kim/Ryerson Data Analytics Final Project for Kyuhwan Kim/Dataset/Combined_News_DJIA.csv')"
      ],
      "execution_count": 5,
      "outputs": []
    },
    {
      "cell_type": "markdown",
      "metadata": {
        "id": "z911os0W-scj",
        "colab_type": "text"
      },
      "source": [
        "## EDA (Exploratory Data Analysis)"
      ]
    },
    {
      "cell_type": "markdown",
      "metadata": {
        "id": "RfmhbCIM_m1w",
        "colab_type": "text"
      },
      "source": [
        "### EDA for Reddit Dataframe"
      ]
    },
    {
      "cell_type": "markdown",
      "metadata": {
        "id": "W5Cy4KJ-qSLC",
        "colab_type": "text"
      },
      "source": [
        ".info() method allowed to see what the name of attributes, number of rows and the data types of the columns\n",
        "\n"
      ]
    },
    {
      "cell_type": "code",
      "metadata": {
        "id": "NigrALB4_u2K",
        "colab_type": "code",
        "colab": {
          "base_uri": "https://localhost:8080/",
          "height": 0
        },
        "outputId": "408e1de7-da74-4e74-bba5-7b1cf286925c"
      },
      "source": [
        "reddit.info()"
      ],
      "execution_count": 6,
      "outputs": [
        {
          "output_type": "stream",
          "text": [
            "<class 'pandas.core.frame.DataFrame'>\n",
            "RangeIndex: 73608 entries, 0 to 73607\n",
            "Data columns (total 2 columns):\n",
            " #   Column  Non-Null Count  Dtype \n",
            "---  ------  --------------  ----- \n",
            " 0   Date    73608 non-null  object\n",
            " 1   News    73608 non-null  object\n",
            "dtypes: object(2)\n",
            "memory usage: 1.1+ MB\n"
          ],
          "name": "stdout"
        }
      ]
    },
    {
      "cell_type": "markdown",
      "metadata": {
        "id": "-eEQAVIYqm_M",
        "colab_type": "text"
      },
      "source": [
        "Used the .min() and .max() method to find the range of the dates"
      ]
    },
    {
      "cell_type": "code",
      "metadata": {
        "id": "Bk9KZ4eE5-mu",
        "colab_type": "code",
        "colab": {
          "base_uri": "https://localhost:8080/",
          "height": 0
        },
        "outputId": "ce411e05-a784-466e-b458-399dd9f5275b"
      },
      "source": [
        "#to find the minimum date of reddit\n",
        "reddit['Date'].min()"
      ],
      "execution_count": 7,
      "outputs": [
        {
          "output_type": "execute_result",
          "data": {
            "application/vnd.google.colaboratory.intrinsic": {
              "type": "string"
            },
            "text/plain": [
              "'2008-06-08'"
            ]
          },
          "metadata": {
            "tags": []
          },
          "execution_count": 7
        }
      ]
    },
    {
      "cell_type": "code",
      "metadata": {
        "id": "3FQ2h7FY-lcg",
        "colab_type": "code",
        "colab": {
          "base_uri": "https://localhost:8080/",
          "height": 0
        },
        "outputId": "3ca09f88-d169-4f1b-ae17-3b6134a5700f"
      },
      "source": [
        "#to find the maximum date of reddit\n",
        "reddit['Date'].max()"
      ],
      "execution_count": 8,
      "outputs": [
        {
          "output_type": "execute_result",
          "data": {
            "application/vnd.google.colaboratory.intrinsic": {
              "type": "string"
            },
            "text/plain": [
              "'2016-07-01'"
            ]
          },
          "metadata": {
            "tags": []
          },
          "execution_count": 8
        }
      ]
    },
    {
      "cell_type": "markdown",
      "metadata": {
        "id": "0A4ZySX0quoM",
        "colab_type": "text"
      },
      "source": [
        ".nunique() method allowed to see how many unique dates and articles that were present"
      ]
    },
    {
      "cell_type": "code",
      "metadata": {
        "id": "IbEJDHDBCSqe",
        "colab_type": "code",
        "colab": {
          "base_uri": "https://localhost:8080/",
          "height": 0
        },
        "outputId": "252233a3-59bb-4db8-f010-2fb445101b61"
      },
      "source": [
        "#number of unique inputs \n",
        "reddit.nunique()"
      ],
      "execution_count": 9,
      "outputs": [
        {
          "output_type": "execute_result",
          "data": {
            "text/plain": [
              "Date     2943\n",
              "News    73537\n",
              "dtype: int64"
            ]
          },
          "metadata": {
            "tags": []
          },
          "execution_count": 9
        }
      ]
    },
    {
      "cell_type": "markdown",
      "metadata": {
        "id": "ZcFySJpb_2lG",
        "colab_type": "text"
      },
      "source": [
        "### EDA for DJIA Dataframe"
      ]
    },
    {
      "cell_type": "markdown",
      "metadata": {
        "id": "wNgHZVXYq6RE",
        "colab_type": "text"
      },
      "source": [
        ".info() method allowed to see what the name of attributes, number of rows and the data types of the columns"
      ]
    },
    {
      "cell_type": "code",
      "metadata": {
        "id": "oEPsrmjQ_1Jl",
        "colab_type": "code",
        "colab": {
          "base_uri": "https://localhost:8080/",
          "height": 276
        },
        "outputId": "f904cb00-09c0-4d3f-877e-7a593b6abd84"
      },
      "source": [
        "djia.info()"
      ],
      "execution_count": 10,
      "outputs": [
        {
          "output_type": "stream",
          "text": [
            "<class 'pandas.core.frame.DataFrame'>\n",
            "RangeIndex: 1989 entries, 0 to 1988\n",
            "Data columns (total 7 columns):\n",
            " #   Column     Non-Null Count  Dtype  \n",
            "---  ------     --------------  -----  \n",
            " 0   Date       1989 non-null   object \n",
            " 1   Open       1989 non-null   float64\n",
            " 2   High       1989 non-null   float64\n",
            " 3   Low        1989 non-null   float64\n",
            " 4   Close      1989 non-null   float64\n",
            " 5   Volume     1989 non-null   int64  \n",
            " 6   Adj Close  1989 non-null   float64\n",
            "dtypes: float64(5), int64(1), object(1)\n",
            "memory usage: 108.9+ KB\n"
          ],
          "name": "stdout"
        }
      ]
    },
    {
      "cell_type": "markdown",
      "metadata": {
        "id": "u3ofN9Uyq-Cd",
        "colab_type": "text"
      },
      "source": [
        "Used .min() and .max methods to find the range of the dates. "
      ]
    },
    {
      "cell_type": "code",
      "metadata": {
        "id": "yiZgKPFGASYd",
        "colab_type": "code",
        "colab": {
          "base_uri": "https://localhost:8080/",
          "height": 36
        },
        "outputId": "7d37ba81-84bf-490c-f82d-c8cdba908e87"
      },
      "source": [
        "djia['Date'].min()"
      ],
      "execution_count": 11,
      "outputs": [
        {
          "output_type": "execute_result",
          "data": {
            "application/vnd.google.colaboratory.intrinsic": {
              "type": "string"
            },
            "text/plain": [
              "'2008-08-08'"
            ]
          },
          "metadata": {
            "tags": []
          },
          "execution_count": 11
        }
      ]
    },
    {
      "cell_type": "code",
      "metadata": {
        "id": "BSbsBanyIBCA",
        "colab_type": "code",
        "colab": {
          "base_uri": "https://localhost:8080/",
          "height": 36
        },
        "outputId": "45e4f0a7-96cf-4010-a8fa-d02dfe6dbce5"
      },
      "source": [
        "djia['Date'].max()"
      ],
      "execution_count": 12,
      "outputs": [
        {
          "output_type": "execute_result",
          "data": {
            "application/vnd.google.colaboratory.intrinsic": {
              "type": "string"
            },
            "text/plain": [
              "'2016-07-01'"
            ]
          },
          "metadata": {
            "tags": []
          },
          "execution_count": 12
        }
      ]
    },
    {
      "cell_type": "markdown",
      "metadata": {
        "id": "PlsvbMb5rLJa",
        "colab_type": "text"
      },
      "source": [
        ".describe() method allowed to display rudimentary statistics about the datasets. Based on experimentation, this works only with numeric datatypes. "
      ]
    },
    {
      "cell_type": "code",
      "metadata": {
        "id": "JyZ06voxJ3ad",
        "colab_type": "code",
        "colab": {
          "base_uri": "https://localhost:8080/",
          "height": 300
        },
        "outputId": "4df9edde-ce8d-4d6a-cc21-356461e0c3dc"
      },
      "source": [
        "djia.describe()"
      ],
      "execution_count": 13,
      "outputs": [
        {
          "output_type": "execute_result",
          "data": {
            "text/html": [
              "<div>\n",
              "<style scoped>\n",
              "    .dataframe tbody tr th:only-of-type {\n",
              "        vertical-align: middle;\n",
              "    }\n",
              "\n",
              "    .dataframe tbody tr th {\n",
              "        vertical-align: top;\n",
              "    }\n",
              "\n",
              "    .dataframe thead th {\n",
              "        text-align: right;\n",
              "    }\n",
              "</style>\n",
              "<table border=\"1\" class=\"dataframe\">\n",
              "  <thead>\n",
              "    <tr style=\"text-align: right;\">\n",
              "      <th></th>\n",
              "      <th>Open</th>\n",
              "      <th>High</th>\n",
              "      <th>Low</th>\n",
              "      <th>Close</th>\n",
              "      <th>Volume</th>\n",
              "      <th>Adj Close</th>\n",
              "    </tr>\n",
              "  </thead>\n",
              "  <tbody>\n",
              "    <tr>\n",
              "      <th>count</th>\n",
              "      <td>1989.000000</td>\n",
              "      <td>1989.000000</td>\n",
              "      <td>1989.000000</td>\n",
              "      <td>1989.000000</td>\n",
              "      <td>1.989000e+03</td>\n",
              "      <td>1989.000000</td>\n",
              "    </tr>\n",
              "    <tr>\n",
              "      <th>mean</th>\n",
              "      <td>13459.116048</td>\n",
              "      <td>13541.303173</td>\n",
              "      <td>13372.931728</td>\n",
              "      <td>13463.032255</td>\n",
              "      <td>1.628110e+08</td>\n",
              "      <td>13463.032255</td>\n",
              "    </tr>\n",
              "    <tr>\n",
              "      <th>std</th>\n",
              "      <td>3143.281634</td>\n",
              "      <td>3136.271725</td>\n",
              "      <td>3150.420934</td>\n",
              "      <td>3144.006996</td>\n",
              "      <td>9.392343e+07</td>\n",
              "      <td>3144.006996</td>\n",
              "    </tr>\n",
              "    <tr>\n",
              "      <th>min</th>\n",
              "      <td>6547.009766</td>\n",
              "      <td>6709.609863</td>\n",
              "      <td>6469.950195</td>\n",
              "      <td>6547.049805</td>\n",
              "      <td>8.410000e+06</td>\n",
              "      <td>6547.049805</td>\n",
              "    </tr>\n",
              "    <tr>\n",
              "      <th>25%</th>\n",
              "      <td>10907.339844</td>\n",
              "      <td>11000.980469</td>\n",
              "      <td>10824.759766</td>\n",
              "      <td>10913.379883</td>\n",
              "      <td>1.000000e+08</td>\n",
              "      <td>10913.379883</td>\n",
              "    </tr>\n",
              "    <tr>\n",
              "      <th>50%</th>\n",
              "      <td>13022.049805</td>\n",
              "      <td>13088.110352</td>\n",
              "      <td>12953.129883</td>\n",
              "      <td>13025.580078</td>\n",
              "      <td>1.351700e+08</td>\n",
              "      <td>13025.580078</td>\n",
              "    </tr>\n",
              "    <tr>\n",
              "      <th>75%</th>\n",
              "      <td>16477.699219</td>\n",
              "      <td>16550.070312</td>\n",
              "      <td>16392.769531</td>\n",
              "      <td>16478.410156</td>\n",
              "      <td>1.926000e+08</td>\n",
              "      <td>16478.410156</td>\n",
              "    </tr>\n",
              "    <tr>\n",
              "      <th>max</th>\n",
              "      <td>18315.060547</td>\n",
              "      <td>18351.359375</td>\n",
              "      <td>18272.560547</td>\n",
              "      <td>18312.390625</td>\n",
              "      <td>6.749200e+08</td>\n",
              "      <td>18312.390625</td>\n",
              "    </tr>\n",
              "  </tbody>\n",
              "</table>\n",
              "</div>"
            ],
            "text/plain": [
              "               Open          High  ...        Volume     Adj Close\n",
              "count   1989.000000   1989.000000  ...  1.989000e+03   1989.000000\n",
              "mean   13459.116048  13541.303173  ...  1.628110e+08  13463.032255\n",
              "std     3143.281634   3136.271725  ...  9.392343e+07   3144.006996\n",
              "min     6547.009766   6709.609863  ...  8.410000e+06   6547.049805\n",
              "25%    10907.339844  11000.980469  ...  1.000000e+08  10913.379883\n",
              "50%    13022.049805  13088.110352  ...  1.351700e+08  13025.580078\n",
              "75%    16477.699219  16550.070312  ...  1.926000e+08  16478.410156\n",
              "max    18315.060547  18351.359375  ...  6.749200e+08  18312.390625\n",
              "\n",
              "[8 rows x 6 columns]"
            ]
          },
          "metadata": {
            "tags": []
          },
          "execution_count": 13
        }
      ]
    },
    {
      "cell_type": "markdown",
      "metadata": {
        "id": "tupcWfNlYzx8",
        "colab_type": "text"
      },
      "source": [
        "Visual Representation DIJA (Dow Jones Industrial Average) \"Adj Close\" Trends\n",
        "(It seems that there are up and down movements but a general downward trend with recovery at the end)"
      ]
    },
    {
      "cell_type": "code",
      "metadata": {
        "id": "z-yRANONY2D5",
        "colab_type": "code",
        "colab": {
          "base_uri": "https://localhost:8080/",
          "height": 265
        },
        "outputId": "7deb6287-a3ef-4546-ac0d-6e4af3748082"
      },
      "source": [
        "#this takes some time to run\n",
        "plt.plot(djia['Date'],djia['Adj Close'])\n",
        "plt.show()"
      ],
      "execution_count": 14,
      "outputs": [
        {
          "output_type": "display_data",
          "data": {
            "image/png": "[encoded data removed]",
            "text/plain": [
              "<Figure size 432x288 with 1 Axes>"
            ]
          },
          "metadata": {
            "tags": [],
            "needs_background": "light"
          }
        }
      ]
    },
    {
      "cell_type": "markdown",
      "metadata": {
        "id": "vAizvbHSMvmV",
        "colab_type": "text"
      },
      "source": [
        "### EDA for reddit_djia Dataframe \n",
        "This is the \"cleaned\" dataset; combination of both news and DJIA (adj price) label. "
      ]
    },
    {
      "cell_type": "code",
      "metadata": {
        "id": "6Ie202HXM1zx",
        "colab_type": "code",
        "colab": {
          "base_uri": "https://localhost:8080/",
          "height": 666
        },
        "outputId": "bd6799aa-42e8-4638-e476-7dd0a902627f"
      },
      "source": [
        "reddit_djia.info()"
      ],
      "execution_count": 15,
      "outputs": [
        {
          "output_type": "stream",
          "text": [
            "<class 'pandas.core.frame.DataFrame'>\n",
            "RangeIndex: 1989 entries, 0 to 1988\n",
            "Data columns (total 28 columns):\n",
            " #   Column       Non-Null Count  Dtype  \n",
            "---  ------       --------------  -----  \n",
            " 0   Date         1989 non-null   object \n",
            " 1   Label        1989 non-null   int64  \n",
            " 2   Top1         1989 non-null   object \n",
            " 3   Top2         1989 non-null   object \n",
            " 4   Top3         1989 non-null   object \n",
            " 5   Top4         1989 non-null   object \n",
            " 6   Top5         1989 non-null   object \n",
            " 7   Top6         1989 non-null   object \n",
            " 8   Top7         1989 non-null   object \n",
            " 9   Top8         1989 non-null   object \n",
            " 10  Top9         1989 non-null   object \n",
            " 11  Top10        1989 non-null   object \n",
            " 12  Top11        1989 non-null   object \n",
            " 13  Top12        1989 non-null   object \n",
            " 14  Top13        1989 non-null   object \n",
            " 15  Top14        1989 non-null   object \n",
            " 16  Top15        1989 non-null   object \n",
            " 17  Top16        1989 non-null   object \n",
            " 18  Top17        1989 non-null   object \n",
            " 19  Top18        1989 non-null   object \n",
            " 20  Top19        1989 non-null   object \n",
            " 21  Top20        1989 non-null   object \n",
            " 22  Top21        1989 non-null   object \n",
            " 23  Top22        1989 non-null   object \n",
            " 24  Top23        1988 non-null   object \n",
            " 25  Top24        1986 non-null   object \n",
            " 26  Top25        1986 non-null   object \n",
            " 27  Unnamed: 27  0 non-null      float64\n",
            "dtypes: float64(1), int64(1), object(26)\n",
            "memory usage: 435.2+ KB\n"
          ],
          "name": "stdout"
        }
      ]
    },
    {
      "cell_type": "code",
      "metadata": {
        "id": "Vx_zvRZUb2pT",
        "colab_type": "code",
        "colab": {
          "base_uri": "https://localhost:8080/",
          "height": 300
        },
        "outputId": "9ad6e133-6e13-4f78-b569-d712be79ef3f"
      },
      "source": [
        "reddit_djia.describe()"
      ],
      "execution_count": 16,
      "outputs": [
        {
          "output_type": "execute_result",
          "data": {
            "text/html": [
              "<div>\n",
              "<style scoped>\n",
              "    .dataframe tbody tr th:only-of-type {\n",
              "        vertical-align: middle;\n",
              "    }\n",
              "\n",
              "    .dataframe tbody tr th {\n",
              "        vertical-align: top;\n",
              "    }\n",
              "\n",
              "    .dataframe thead th {\n",
              "        text-align: right;\n",
              "    }\n",
              "</style>\n",
              "<table border=\"1\" class=\"dataframe\">\n",
              "  <thead>\n",
              "    <tr style=\"text-align: right;\">\n",
              "      <th></th>\n",
              "      <th>Label</th>\n",
              "      <th>Unnamed: 27</th>\n",
              "    </tr>\n",
              "  </thead>\n",
              "  <tbody>\n",
              "    <tr>\n",
              "      <th>count</th>\n",
              "      <td>1989.000000</td>\n",
              "      <td>0.0</td>\n",
              "    </tr>\n",
              "    <tr>\n",
              "      <th>mean</th>\n",
              "      <td>0.535445</td>\n",
              "      <td>NaN</td>\n",
              "    </tr>\n",
              "    <tr>\n",
              "      <th>std</th>\n",
              "      <td>0.498867</td>\n",
              "      <td>NaN</td>\n",
              "    </tr>\n",
              "    <tr>\n",
              "      <th>min</th>\n",
              "      <td>0.000000</td>\n",
              "      <td>NaN</td>\n",
              "    </tr>\n",
              "    <tr>\n",
              "      <th>25%</th>\n",
              "      <td>0.000000</td>\n",
              "      <td>NaN</td>\n",
              "    </tr>\n",
              "    <tr>\n",
              "      <th>50%</th>\n",
              "      <td>1.000000</td>\n",
              "      <td>NaN</td>\n",
              "    </tr>\n",
              "    <tr>\n",
              "      <th>75%</th>\n",
              "      <td>1.000000</td>\n",
              "      <td>NaN</td>\n",
              "    </tr>\n",
              "    <tr>\n",
              "      <th>max</th>\n",
              "      <td>1.000000</td>\n",
              "      <td>NaN</td>\n",
              "    </tr>\n",
              "  </tbody>\n",
              "</table>\n",
              "</div>"
            ],
            "text/plain": [
              "             Label  Unnamed: 27\n",
              "count  1989.000000          0.0\n",
              "mean      0.535445          NaN\n",
              "std       0.498867          NaN\n",
              "min       0.000000          NaN\n",
              "25%       0.000000          NaN\n",
              "50%       1.000000          NaN\n",
              "75%       1.000000          NaN\n",
              "max       1.000000          NaN"
            ]
          },
          "metadata": {
            "tags": []
          },
          "execution_count": 16
        }
      ]
    },
    {
      "cell_type": "markdown",
      "metadata": {
        "id": "xAckvakHdia2",
        "colab_type": "text"
      },
      "source": [
        "How many of the rows are 1? 0? in the class label"
      ]
    },
    {
      "cell_type": "code",
      "metadata": {
        "id": "f-EwNJEBcHA8",
        "colab_type": "code",
        "colab": {
          "base_uri": "https://localhost:8080/",
          "height": 73
        },
        "outputId": "7c6ef283-7ecb-4794-d33b-ee559f3d9593"
      },
      "source": [
        "reddit_djia['Label'].value_counts()"
      ],
      "execution_count": 17,
      "outputs": [
        {
          "output_type": "execute_result",
          "data": {
            "text/plain": [
              "1    1065\n",
              "0     924\n",
              "Name: Label, dtype: int64"
            ]
          },
          "metadata": {
            "tags": []
          },
          "execution_count": 17
        }
      ]
    },
    {
      "cell_type": "markdown",
      "metadata": {
        "id": "qLG3isYhs2Vu",
        "colab_type": "text"
      },
      "source": [
        "There appears to be more 1 (up) than 0 (down). However, from the trendline from DJIA Adj Price, we can see that there is actually a downward trend. Perhaps the magnitude of the up/down wasn't taken into consideration. "
      ]
    },
    {
      "cell_type": "markdown",
      "metadata": {
        "id": "eNz6pXNLtGUK",
        "colab_type": "text"
      },
      "source": [
        "This is to check the date range. From observation, we can see that the date range of the final \"cleaned\" dataset matches that of DIJA dataset. There seems to be extra erraneous data at the news dataset. "
      ]
    },
    {
      "cell_type": "code",
      "metadata": {
        "id": "Bqz2ohkXQy79",
        "colab_type": "code",
        "colab": {
          "base_uri": "https://localhost:8080/",
          "height": 36
        },
        "outputId": "b79d646e-7ca1-4aaf-c030-277dc57686fa"
      },
      "source": [
        "reddit_djia['Date'].min()"
      ],
      "execution_count": 18,
      "outputs": [
        {
          "output_type": "execute_result",
          "data": {
            "application/vnd.google.colaboratory.intrinsic": {
              "type": "string"
            },
            "text/plain": [
              "'1/10/2011'"
            ]
          },
          "metadata": {
            "tags": []
          },
          "execution_count": 18
        }
      ]
    },
    {
      "cell_type": "code",
      "metadata": {
        "id": "9WEPfQleQ_jF",
        "colab_type": "code",
        "colab": {
          "base_uri": "https://localhost:8080/",
          "height": 36
        },
        "outputId": "f12ee22f-aa5c-4693-d460-f10c9c1ad492"
      },
      "source": [
        "reddit_djia['Date'].max()"
      ],
      "execution_count": 19,
      "outputs": [
        {
          "output_type": "execute_result",
          "data": {
            "application/vnd.google.colaboratory.intrinsic": {
              "type": "string"
            },
            "text/plain": [
              "'9/9/2015'"
            ]
          },
          "metadata": {
            "tags": []
          },
          "execution_count": 19
        }
      ]
    },
    {
      "cell_type": "markdown",
      "metadata": {
        "id": "Eb8MjVI0aHNq",
        "colab_type": "text"
      },
      "source": [
        "Plot Pie graph of Label\n",
        "https://matplotlib.org/3.1.1/gallery/pie_and_polar_charts/pie_features.html"
      ]
    },
    {
      "cell_type": "code",
      "metadata": {
        "id": "hPA1XNNGbOGJ",
        "colab_type": "code",
        "colab": {
          "base_uri": "https://localhost:8080/",
          "height": 248
        },
        "outputId": "2ad7a9d1-0e89-481c-d6be-fb9bf46a8937"
      },
      "source": [
        "labels = 'DJIA Up/Maintain', 'DJIA Down'\n",
        "sizes= [1065/1989, 924/1989]\n",
        "\n",
        "fig1, ax1 = plt.subplots()\n",
        "ax1.pie(sizes, labels=labels, autopct='%1.1f%%',\n",
        "        shadow=True, startangle=90)\n",
        "ax1.axis('equal')  # Equal aspect ratio ensures that pie is drawn as a circle.\n",
        "\n",
        "plt.show()"
      ],
      "execution_count": 20,
      "outputs": [
        {
          "output_type": "display_data",
          "data": {
            "image/png": "[encoded data removed]",
            "text/plain": [
              "<Figure size 432x288 with 1 Axes>"
            ]
          },
          "metadata": {
            "tags": []
          }
        }
      ]
    },
    {
      "cell_type": "markdown",
      "metadata": {
        "id": "SxzvJgVi1Gri",
        "colab_type": "text"
      },
      "source": [
        "## Checking if there are null values "
      ]
    },
    {
      "cell_type": "markdown",
      "metadata": {
        "id": "qI2fqO_g33c9",
        "colab_type": "text"
      },
      "source": [
        "Check if there are null values that needs to be dealt with before merging the data. We can see that there were no null values. "
      ]
    },
    {
      "cell_type": "code",
      "metadata": {
        "id": "HEmngngd39Aq",
        "colab_type": "code",
        "colab": {
          "base_uri": "https://localhost:8080/",
          "height": 0
        },
        "outputId": "d0cd60fa-9103-4e13-c16d-38f06af94733"
      },
      "source": [
        "#check null values for reddit\n",
        "reddit.isnull().values.sum()"
      ],
      "execution_count": 21,
      "outputs": [
        {
          "output_type": "execute_result",
          "data": {
            "text/plain": [
              "0"
            ]
          },
          "metadata": {
            "tags": []
          },
          "execution_count": 21
        }
      ]
    },
    {
      "cell_type": "code",
      "metadata": {
        "id": "5EdZMqWC4mlk",
        "colab_type": "code",
        "colab": {
          "base_uri": "https://localhost:8080/",
          "height": 0
        },
        "outputId": "3790fa34-7d93-4529-f755-ddeafa69d824"
      },
      "source": [
        "#check null values for djia\n",
        "djia.isnull().values.sum()"
      ],
      "execution_count": 22,
      "outputs": [
        {
          "output_type": "execute_result",
          "data": {
            "text/plain": [
              "0"
            ]
          },
          "metadata": {
            "tags": []
          },
          "execution_count": 22
        }
      ]
    },
    {
      "cell_type": "markdown",
      "metadata": {
        "id": "GrAXfGzc5K_u",
        "colab_type": "text"
      },
      "source": [
        "# Combining Reddit articles with DJIA datasets to create \"cleaned, final\" dataset\n",
        "\n"
      ]
    },
    {
      "cell_type": "markdown",
      "metadata": {
        "id": "g1k3e0K1PGRi",
        "colab_type": "text"
      },
      "source": [
        "Result: \n",
        "cleaned final dataset named \"**result**\"\n",
        "\n",
        "The final cleaned dataset will be created using this procedure:\n",
        "\n",
        "a) create an extra column called 'Label' (which are the difference between proceeding day)\n",
        "\n",
        "b) using an if-statement, categorize:\n",
        "   1 (up) when DJIA increased or maintained the same\n",
        "   0 (down) when DJIA decreased\n",
        "\n",
        "c) organize the articles into the corresponding dates. This will involve grouping the articles into similar dates. \n",
        "\n",
        "d) merge the DJIA 'Label' column and the articles on 'Dates' column. "
      ]
    },
    {
      "cell_type": "markdown",
      "metadata": {
        "id": "z6S7oFWVLYro",
        "colab_type": "text"
      },
      "source": [
        "## Creating DJIA 'Label'\n",
        "\n",
        "\n"
      ]
    },
    {
      "cell_type": "markdown",
      "metadata": {
        "id": "_lV4mSS5Lx1J",
        "colab_type": "text"
      },
      "source": [
        "I have noticed that the dates of DJIA and Reddit datasets are in asc/desc order. For ease of cleaning, before the label is created, instead of desc, use asc order for the djia dataset."
      ]
    },
    {
      "cell_type": "code",
      "metadata": {
        "id": "qC_2r1u3JLmm",
        "colab_type": "code",
        "colab": {}
      },
      "source": [
        "#https://datatofish.com/sort-pandas-dataframe/\n",
        "djia.sort_values(by = ['Date'], inplace=True, ascending=True)"
      ],
      "execution_count": 23,
      "outputs": []
    },
    {
      "cell_type": "markdown",
      "metadata": {
        "id": "hTIjT_oyMB2d",
        "colab_type": "text"
      },
      "source": [
        "Copy 'Adj Close' column and run .diff() method on the column to see the day by day changes in the DJIA."
      ]
    },
    {
      "cell_type": "code",
      "metadata": {
        "id": "L_BSvnCRJQZd",
        "colab_type": "code",
        "colab": {}
      },
      "source": [
        "djia['Diff']= djia['Adj Close']\n",
        "\n",
        "#https://stackoverflow.com/questions/39479919/how-do-i-subtract-the-previous-row-from-the-current-row-in-a-pandas-dataframe-an\n",
        "djia['Diff']=djia.Diff.diff()"
      ],
      "execution_count": 24,
      "outputs": []
    },
    {
      "cell_type": "code",
      "metadata": {
        "id": "Quw5Ya9GJWye",
        "colab_type": "code",
        "colab": {}
      },
      "source": [
        "#This is run just in case there are N/A values. These will be filled with zeros. \n",
        "djia=djia.fillna(0)"
      ],
      "execution_count": 25,
      "outputs": []
    },
    {
      "cell_type": "markdown",
      "metadata": {
        "id": "sEiQIP9OMbTz",
        "colab_type": "text"
      },
      "source": [
        "This section will take the values of 'Diff' column and using if clauses, determine the value of the class variable."
      ]
    },
    {
      "cell_type": "code",
      "metadata": {
        "id": "cHN6eqRoJx9s",
        "colab_type": "code",
        "colab": {}
      },
      "source": [
        "#https://guillim.github.io/pandas/2018/10/22/Pandas-if-else-on-columns.html\n",
        "\n",
        "conditions = [\n",
        "    (djia['Diff'] >= 0.0),\n",
        "    (djia['Diff'] < 0.0)]\n",
        "choices = [int(1),int(0)]\n",
        "\n",
        "djia['Label'] = np.select(conditions, choices, default='null')"
      ],
      "execution_count": 26,
      "outputs": []
    },
    {
      "cell_type": "markdown",
      "metadata": {
        "id": "gPaEXBUZMtBO",
        "colab_type": "text"
      },
      "source": [
        "This section is to reset the index [count row from 0 onwards]. Prior to input of this code, the index would go in desc order from index 1989. "
      ]
    },
    {
      "cell_type": "code",
      "metadata": {
        "id": "4Ojxk2lYJ16l",
        "colab_type": "code",
        "colab": {
          "base_uri": "https://localhost:8080/",
          "height": 206
        },
        "outputId": "582e1372-2b9e-498c-b3f7-93ad33c03a79"
      },
      "source": [
        "djia.reset_index(drop=True, inplace=True)\n",
        "djia.head()"
      ],
      "execution_count": 27,
      "outputs": [
        {
          "output_type": "execute_result",
          "data": {
            "text/html": [
              "<div>\n",
              "<style scoped>\n",
              "    .dataframe tbody tr th:only-of-type {\n",
              "        vertical-align: middle;\n",
              "    }\n",
              "\n",
              "    .dataframe tbody tr th {\n",
              "        vertical-align: top;\n",
              "    }\n",
              "\n",
              "    .dataframe thead th {\n",
              "        text-align: right;\n",
              "    }\n",
              "</style>\n",
              "<table border=\"1\" class=\"dataframe\">\n",
              "  <thead>\n",
              "    <tr style=\"text-align: right;\">\n",
              "      <th></th>\n",
              "      <th>Date</th>\n",
              "      <th>Open</th>\n",
              "      <th>High</th>\n",
              "      <th>Low</th>\n",
              "      <th>Close</th>\n",
              "      <th>Volume</th>\n",
              "      <th>Adj Close</th>\n",
              "      <th>Diff</th>\n",
              "      <th>Label</th>\n",
              "    </tr>\n",
              "  </thead>\n",
              "  <tbody>\n",
              "    <tr>\n",
              "      <th>0</th>\n",
              "      <td>2008-08-08</td>\n",
              "      <td>11432.089844</td>\n",
              "      <td>11759.959961</td>\n",
              "      <td>11388.040039</td>\n",
              "      <td>11734.320312</td>\n",
              "      <td>212830000</td>\n",
              "      <td>11734.320312</td>\n",
              "      <td>0.000000</td>\n",
              "      <td>1</td>\n",
              "    </tr>\n",
              "    <tr>\n",
              "      <th>1</th>\n",
              "      <td>2008-08-11</td>\n",
              "      <td>11729.669922</td>\n",
              "      <td>11867.110352</td>\n",
              "      <td>11675.530273</td>\n",
              "      <td>11782.349609</td>\n",
              "      <td>183190000</td>\n",
              "      <td>11782.349609</td>\n",
              "      <td>48.029297</td>\n",
              "      <td>1</td>\n",
              "    </tr>\n",
              "    <tr>\n",
              "      <th>2</th>\n",
              "      <td>2008-08-12</td>\n",
              "      <td>11781.700195</td>\n",
              "      <td>11782.349609</td>\n",
              "      <td>11601.519531</td>\n",
              "      <td>11642.469727</td>\n",
              "      <td>173590000</td>\n",
              "      <td>11642.469727</td>\n",
              "      <td>-139.879882</td>\n",
              "      <td>0</td>\n",
              "    </tr>\n",
              "    <tr>\n",
              "      <th>3</th>\n",
              "      <td>2008-08-13</td>\n",
              "      <td>11632.809570</td>\n",
              "      <td>11633.780273</td>\n",
              "      <td>11453.339844</td>\n",
              "      <td>11532.959961</td>\n",
              "      <td>182550000</td>\n",
              "      <td>11532.959961</td>\n",
              "      <td>-109.509766</td>\n",
              "      <td>0</td>\n",
              "    </tr>\n",
              "    <tr>\n",
              "      <th>4</th>\n",
              "      <td>2008-08-14</td>\n",
              "      <td>11532.070312</td>\n",
              "      <td>11718.280273</td>\n",
              "      <td>11450.889648</td>\n",
              "      <td>11615.929688</td>\n",
              "      <td>159790000</td>\n",
              "      <td>11615.929688</td>\n",
              "      <td>82.969727</td>\n",
              "      <td>1</td>\n",
              "    </tr>\n",
              "  </tbody>\n",
              "</table>\n",
              "</div>"
            ],
            "text/plain": [
              "         Date          Open          High  ...     Adj Close        Diff  Label\n",
              "0  2008-08-08  11432.089844  11759.959961  ...  11734.320312    0.000000      1\n",
              "1  2008-08-11  11729.669922  11867.110352  ...  11782.349609   48.029297      1\n",
              "2  2008-08-12  11781.700195  11782.349609  ...  11642.469727 -139.879882      0\n",
              "3  2008-08-13  11632.809570  11633.780273  ...  11532.959961 -109.509766      0\n",
              "4  2008-08-14  11532.070312  11718.280273  ...  11615.929688   82.969727      1\n",
              "\n",
              "[5 rows x 9 columns]"
            ]
          },
          "metadata": {
            "tags": []
          },
          "execution_count": 27
        }
      ]
    },
    {
      "cell_type": "markdown",
      "metadata": {
        "id": "Sx3bkXR1NAJb",
        "colab_type": "text"
      },
      "source": [
        "The first label by default should be 0 even though Diff = 0.0\n",
        "This was manually added since the previous block of code didn't account for the exception of the first label value. "
      ]
    },
    {
      "cell_type": "code",
      "metadata": {
        "id": "kQy3Qni0J4HU",
        "colab_type": "code",
        "colab": {}
      },
      "source": [
        "djia.iloc[0,-1]=int(0)"
      ],
      "execution_count": 28,
      "outputs": []
    },
    {
      "cell_type": "code",
      "metadata": {
        "id": "VsiHEho2J5yk",
        "colab_type": "code",
        "colab": {
          "base_uri": "https://localhost:8080/",
          "height": 206
        },
        "outputId": "fcc122b7-28dd-4b94-e1ff-d1357bb14054"
      },
      "source": [
        "djia.head()"
      ],
      "execution_count": 29,
      "outputs": [
        {
          "output_type": "execute_result",
          "data": {
            "text/html": [
              "<div>\n",
              "<style scoped>\n",
              "    .dataframe tbody tr th:only-of-type {\n",
              "        vertical-align: middle;\n",
              "    }\n",
              "\n",
              "    .dataframe tbody tr th {\n",
              "        vertical-align: top;\n",
              "    }\n",
              "\n",
              "    .dataframe thead th {\n",
              "        text-align: right;\n",
              "    }\n",
              "</style>\n",
              "<table border=\"1\" class=\"dataframe\">\n",
              "  <thead>\n",
              "    <tr style=\"text-align: right;\">\n",
              "      <th></th>\n",
              "      <th>Date</th>\n",
              "      <th>Open</th>\n",
              "      <th>High</th>\n",
              "      <th>Low</th>\n",
              "      <th>Close</th>\n",
              "      <th>Volume</th>\n",
              "      <th>Adj Close</th>\n",
              "      <th>Diff</th>\n",
              "      <th>Label</th>\n",
              "    </tr>\n",
              "  </thead>\n",
              "  <tbody>\n",
              "    <tr>\n",
              "      <th>0</th>\n",
              "      <td>2008-08-08</td>\n",
              "      <td>11432.089844</td>\n",
              "      <td>11759.959961</td>\n",
              "      <td>11388.040039</td>\n",
              "      <td>11734.320312</td>\n",
              "      <td>212830000</td>\n",
              "      <td>11734.320312</td>\n",
              "      <td>0.000000</td>\n",
              "      <td>0</td>\n",
              "    </tr>\n",
              "    <tr>\n",
              "      <th>1</th>\n",
              "      <td>2008-08-11</td>\n",
              "      <td>11729.669922</td>\n",
              "      <td>11867.110352</td>\n",
              "      <td>11675.530273</td>\n",
              "      <td>11782.349609</td>\n",
              "      <td>183190000</td>\n",
              "      <td>11782.349609</td>\n",
              "      <td>48.029297</td>\n",
              "      <td>1</td>\n",
              "    </tr>\n",
              "    <tr>\n",
              "      <th>2</th>\n",
              "      <td>2008-08-12</td>\n",
              "      <td>11781.700195</td>\n",
              "      <td>11782.349609</td>\n",
              "      <td>11601.519531</td>\n",
              "      <td>11642.469727</td>\n",
              "      <td>173590000</td>\n",
              "      <td>11642.469727</td>\n",
              "      <td>-139.879882</td>\n",
              "      <td>0</td>\n",
              "    </tr>\n",
              "    <tr>\n",
              "      <th>3</th>\n",
              "      <td>2008-08-13</td>\n",
              "      <td>11632.809570</td>\n",
              "      <td>11633.780273</td>\n",
              "      <td>11453.339844</td>\n",
              "      <td>11532.959961</td>\n",
              "      <td>182550000</td>\n",
              "      <td>11532.959961</td>\n",
              "      <td>-109.509766</td>\n",
              "      <td>0</td>\n",
              "    </tr>\n",
              "    <tr>\n",
              "      <th>4</th>\n",
              "      <td>2008-08-14</td>\n",
              "      <td>11532.070312</td>\n",
              "      <td>11718.280273</td>\n",
              "      <td>11450.889648</td>\n",
              "      <td>11615.929688</td>\n",
              "      <td>159790000</td>\n",
              "      <td>11615.929688</td>\n",
              "      <td>82.969727</td>\n",
              "      <td>1</td>\n",
              "    </tr>\n",
              "  </tbody>\n",
              "</table>\n",
              "</div>"
            ],
            "text/plain": [
              "         Date          Open          High  ...     Adj Close        Diff  Label\n",
              "0  2008-08-08  11432.089844  11759.959961  ...  11734.320312    0.000000      0\n",
              "1  2008-08-11  11729.669922  11867.110352  ...  11782.349609   48.029297      1\n",
              "2  2008-08-12  11781.700195  11782.349609  ...  11642.469727 -139.879882      0\n",
              "3  2008-08-13  11632.809570  11633.780273  ...  11532.959961 -109.509766      0\n",
              "4  2008-08-14  11532.070312  11718.280273  ...  11615.929688   82.969727      1\n",
              "\n",
              "[5 rows x 9 columns]"
            ]
          },
          "metadata": {
            "tags": []
          },
          "execution_count": 29
        }
      ]
    },
    {
      "cell_type": "markdown",
      "metadata": {
        "id": "-K9RdUr2NZnx",
        "colab_type": "text"
      },
      "source": [
        "Prior to casting the Label column as integer, the column was an object. Changed since it is numerical value; more specifically integer. "
      ]
    },
    {
      "cell_type": "code",
      "metadata": {
        "id": "sxfmphnRJ7N_",
        "colab_type": "code",
        "colab": {}
      },
      "source": [
        "djia['Label'] = djia['Label'].astype('int')"
      ],
      "execution_count": 30,
      "outputs": []
    },
    {
      "cell_type": "markdown",
      "metadata": {
        "id": "R5vIiuKJN5O8",
        "colab_type": "text"
      },
      "source": [
        "## Reorganizing Reddit News Dataset\n",
        "\n",
        "Initally, the dataset had two columns: Date, News\n",
        "\n",
        "The dataset was formated so that each row is organized in following fashion: \n",
        "Date, Top1 ... Top25 \n",
        "\n",
        "Basically, the news articles were compiled into one single date and outputted horizontally. "
      ]
    },
    {
      "cell_type": "markdown",
      "metadata": {
        "id": "mVAaU84YwFlP",
        "colab_type": "text"
      },
      "source": [
        "On the news dataset, this portion of code will organize the news articles into its corresponding dates using list of lists."
      ]
    },
    {
      "cell_type": "code",
      "metadata": {
        "id": "eQQTPF8rvQGS",
        "colab_type": "code",
        "colab": {
          "base_uri": "https://localhost:8080/",
          "height": 54
        },
        "outputId": "3b52a492-8d50-4620-fea4-a502632fe0d3"
      },
      "source": [
        "#This is for .at function\n",
        "#https://www.geeksforgeeks.org/python-pandas-dataframe-at/\n",
        "\n",
        "#declaration of variables\n",
        "previous_date = reddit.at[0, 'Date']\n",
        "newslist= []\n",
        "sub_newslist = []\n",
        "date_list = [previous_date]\n",
        "\n",
        "\"\"\"\n",
        "This 'for loop' will iterate from the beginning to the end of the list of dataset\n",
        "\n",
        "Each iteration of the loop, the Date column will go down. The date variable will \n",
        "be the new date value. Also, News will be stored into sub_newslist(temp list for storing articles in a single date)\n",
        "At the end of the loop, the \n",
        "\n",
        "The 'if statement' will be activated when the value of 'Date' changes. \n",
        "\n",
        "When the if statement is run:\n",
        "a) the date value will be inputted towards date_list list\n",
        "b) values collected in sub_newslist will be inputted into newslist list\n",
        "c) sub_newslist list (used as a temp collector) will be emptied \n",
        "\"\"\"\n",
        "\n",
        "for i in range(0,len(reddit['Date'])):\n",
        "  date = reddit.at[i,'Date']\n",
        "  if date != previous_date:\n",
        "    date_list.append(date)\n",
        "    newslist.append(sub_newslist)\n",
        "    sub_newslist = []\n",
        "  sub_newslist.append(reddit.at[i,'News'])\n",
        "  previous_date = date\n",
        "\n",
        "#last date needs a seperate code to add articles of final date into newslist list\n",
        "newslist.append(sub_newslist)\n",
        "\n",
        "#various print statements to check that the articles are organized correctly\n",
        "\n",
        "\"\"\"\n",
        "print(newslist[0][0])\n",
        "print(newslist[-1][-1])\n",
        "print(newslist[-1])\n",
        "print(len(newslist))\n",
        "print(len(date_list))\n",
        "print(date_list[0])\n",
        "print(date_list[-1])\n",
        "\"\"\""
      ],
      "execution_count": 31,
      "outputs": [
        {
          "output_type": "execute_result",
          "data": {
            "application/vnd.google.colaboratory.intrinsic": {
              "type": "string"
            },
            "text/plain": [
              "'\\nprint(newslist[0][0])\\nprint(newslist[-1][-1])\\nprint(newslist[-1])\\nprint(len(newslist))\\nprint(len(date_list))\\nprint(date_list[0])\\nprint(date_list[-1])\\n'"
            ]
          },
          "metadata": {
            "tags": []
          },
          "execution_count": 31
        }
      ]
    },
    {
      "cell_type": "markdown",
      "metadata": {
        "id": "YlmDRI8U7wP9",
        "colab_type": "text"
      },
      "source": [
        "This portion of code will take the list and output them into a correct dataframe format\n",
        "\n",
        "---\n",
        "\n"
      ]
    },
    {
      "cell_type": "markdown",
      "metadata": {
        "id": "PmgBFO_e8W8d",
        "colab_type": "text"
      },
      "source": [
        "This code will create the labels for Top 25 articles. "
      ]
    },
    {
      "cell_type": "code",
      "metadata": {
        "id": "DI508XVJUjv_",
        "colab_type": "code",
        "colab": {
          "base_uri": "https://localhost:8080/",
          "height": 480
        },
        "outputId": "df710848-98c8-48d7-cbb3-c1c2d64fd726"
      },
      "source": [
        "\"\"\"\n",
        "f is f string. allows for consistency in formatting\n",
        "\"\"\"\n",
        "top25_labels = [f'Top{str(integer)}' for integer in list(range(1,26))]\n",
        "top25_labels"
      ],
      "execution_count": 32,
      "outputs": [
        {
          "output_type": "execute_result",
          "data": {
            "text/plain": [
              "['Top1',\n",
              " 'Top2',\n",
              " 'Top3',\n",
              " 'Top4',\n",
              " 'Top5',\n",
              " 'Top6',\n",
              " 'Top7',\n",
              " 'Top8',\n",
              " 'Top9',\n",
              " 'Top10',\n",
              " 'Top11',\n",
              " 'Top12',\n",
              " 'Top13',\n",
              " 'Top14',\n",
              " 'Top15',\n",
              " 'Top16',\n",
              " 'Top17',\n",
              " 'Top18',\n",
              " 'Top19',\n",
              " 'Top20',\n",
              " 'Top21',\n",
              " 'Top22',\n",
              " 'Top23',\n",
              " 'Top24',\n",
              " 'Top25']"
            ]
          },
          "metadata": {
            "tags": []
          },
          "execution_count": 32
        }
      ]
    },
    {
      "cell_type": "markdown",
      "metadata": {
        "id": "8YSoMKm38c2h",
        "colab_type": "text"
      },
      "source": [
        "This portion of code will output the joint database."
      ]
    },
    {
      "cell_type": "code",
      "metadata": {
        "id": "3K6IKyB5KDTp",
        "colab_type": "code",
        "colab": {
          "base_uri": "https://localhost:8080/",
          "height": 392
        },
        "outputId": "09b9bbce-c587-461f-b16d-96d235e0139f"
      },
      "source": [
        "#variable declaration\n",
        "relevant_dates_with_news = []\n",
        "cols = []\n",
        "\n",
        "#loop will iterate from beginning to end of the dates (created from previous block of code)\n",
        "#each line of output from 'relevant_dates_with_news' will output the entire corresponding row\n",
        "#to a specific date \n",
        "\n",
        "for i in range(0,len(date_list)):\n",
        "  #date_with_news is a temporary list collector, that's why inside the loop\n",
        "  date_with_news = []\n",
        "  date_with_news.append(date_list[i])\n",
        "  date_with_news.extend(newslist[i])\n",
        "  relevant_dates_with_news.append(date_with_news)\n",
        "\n",
        "#This portion of code makes the dataframe with the header\n",
        "cols.append('Date')\n",
        "cols.extend(top25_labels)\n",
        "df = pd.DataFrame(columns=cols)\n",
        "\n",
        "#The loop inside loop, relevant_dates_with_news will iterate all the dates from \n",
        "#The break component ensures that each line has max of 25 articles. \n",
        "for j in range(0, len(relevant_dates_with_news)):\n",
        "  for k in range(0, len(relevant_dates_with_news[j])):\n",
        "    if k > 25:\n",
        "      break\n",
        "    df.at[j, cols[k]] = relevant_dates_with_news[j][k]\n",
        "\n",
        "df.head(2)"
      ],
      "execution_count": 33,
      "outputs": [
        {
          "output_type": "execute_result",
          "data": {
            "text/html": [
              "<div>\n",
              "<style scoped>\n",
              "    .dataframe tbody tr th:only-of-type {\n",
              "        vertical-align: middle;\n",
              "    }\n",
              "\n",
              "    .dataframe tbody tr th {\n",
              "        vertical-align: top;\n",
              "    }\n",
              "\n",
              "    .dataframe thead th {\n",
              "        text-align: right;\n",
              "    }\n",
              "</style>\n",
              "<table border=\"1\" class=\"dataframe\">\n",
              "  <thead>\n",
              "    <tr style=\"text-align: right;\">\n",
              "      <th></th>\n",
              "      <th>Date</th>\n",
              "      <th>Top1</th>\n",
              "      <th>Top2</th>\n",
              "      <th>Top3</th>\n",
              "      <th>Top4</th>\n",
              "      <th>Top5</th>\n",
              "      <th>Top6</th>\n",
              "      <th>Top7</th>\n",
              "      <th>Top8</th>\n",
              "      <th>Top9</th>\n",
              "      <th>Top10</th>\n",
              "      <th>Top11</th>\n",
              "      <th>Top12</th>\n",
              "      <th>Top13</th>\n",
              "      <th>Top14</th>\n",
              "      <th>Top15</th>\n",
              "      <th>Top16</th>\n",
              "      <th>Top17</th>\n",
              "      <th>Top18</th>\n",
              "      <th>Top19</th>\n",
              "      <th>Top20</th>\n",
              "      <th>Top21</th>\n",
              "      <th>Top22</th>\n",
              "      <th>Top23</th>\n",
              "      <th>Top24</th>\n",
              "      <th>Top25</th>\n",
              "    </tr>\n",
              "  </thead>\n",
              "  <tbody>\n",
              "    <tr>\n",
              "      <th>0</th>\n",
              "      <td>2016-07-01</td>\n",
              "      <td>A 117-year-old woman in Mexico City finally re...</td>\n",
              "      <td>IMF chief backs Athens as permanent Olympic host</td>\n",
              "      <td>The president of France says if Brexit won, so...</td>\n",
              "      <td>British Man Who Must Give Police 24 Hours' Not...</td>\n",
              "      <td>100+ Nobel laureates urge Greenpeace to stop o...</td>\n",
              "      <td>Brazil: Huge spike in number of police killing...</td>\n",
              "      <td>Austria's highest court annuls presidential el...</td>\n",
              "      <td>Facebook wins privacy case, can track any Belg...</td>\n",
              "      <td>Switzerland denies Muslim girls citizenship af...</td>\n",
              "      <td>China kills millions of innocent meditators fo...</td>\n",
              "      <td>France Cracks Down on Factory Farms - A viral ...</td>\n",
              "      <td>Abbas PLO Faction Calls Killer of 13-Year-Old ...</td>\n",
              "      <td>Taiwanese warship accidentally fires missile t...</td>\n",
              "      <td>Iran celebrates American Human Rights Week, mo...</td>\n",
              "      <td>U.N. panel moves to curb bias against L.G.B.T....</td>\n",
              "      <td>The United States has placed Myanmar, Uzbekist...</td>\n",
              "      <td>S&amp;amp;P revises European Union credit rating t...</td>\n",
              "      <td>India gets $1 billion loan from World Bank for...</td>\n",
              "      <td>U.S. sailors detained by Iran spoke too much u...</td>\n",
              "      <td>Mass fish kill in Vietnam solved as Taiwan ste...</td>\n",
              "      <td>Philippines president Rodrigo Duterte urges pe...</td>\n",
              "      <td>Spain arrests three Pakistanis accused of prom...</td>\n",
              "      <td>Venezuela, where anger over food shortages is ...</td>\n",
              "      <td>A Hindu temple worker has been killed by three...</td>\n",
              "      <td>Ozone layer hole seems to be healing - US &amp;amp...</td>\n",
              "    </tr>\n",
              "    <tr>\n",
              "      <th>1</th>\n",
              "      <td>2016-06-30</td>\n",
              "      <td>Jamaica proposes marijuana dispensers for tour...</td>\n",
              "      <td>Stephen Hawking says pollution and 'stupidity'...</td>\n",
              "      <td>Boris Johnson says he will not run for Tory pa...</td>\n",
              "      <td>Six gay men in Ivory Coast were abused and for...</td>\n",
              "      <td>Switzerland denies citizenship to Muslim immig...</td>\n",
              "      <td>Palestinian terrorist stabs israeli teen girl ...</td>\n",
              "      <td>Puerto Rico will default on $1 billion of debt...</td>\n",
              "      <td>Republic of Ireland fans to be awarded medal f...</td>\n",
              "      <td>Afghan suicide bomber 'kills up to 40' - BBC News</td>\n",
              "      <td>US airstrikes kill at least 250 ISIS fighters ...</td>\n",
              "      <td>Turkish Cop Who Took Down Istanbul Gunman Hail...</td>\n",
              "      <td>Cannabis compounds could treat Alzheimer's by ...</td>\n",
              "      <td>Japan's top court has approved blanket surveil...</td>\n",
              "      <td>CIA Gave Romania Millions to Host Secret Prisons</td>\n",
              "      <td>Groups urge U.N. to suspend Saudi Arabia from ...</td>\n",
              "      <td>Googles free wifi at Indian railway stations i...</td>\n",
              "      <td>Mounting evidence suggests 'hobbits' were wipe...</td>\n",
              "      <td>The men who carried out Tuesday's terror attac...</td>\n",
              "      <td>Calls to suspend Saudi Arabia from UN Human Ri...</td>\n",
              "      <td>More Than 100 Nobel Laureates Call Out Greenpe...</td>\n",
              "      <td>British pedophile sentenced to 85 years in US ...</td>\n",
              "      <td>US permitted 1,200 offshore fracks in Gulf of ...</td>\n",
              "      <td>We will be swimming in ridicule - French beach...</td>\n",
              "      <td>UEFA says no minutes of silence for Istanbul v...</td>\n",
              "      <td>Law Enforcement Sources: Gun Used in Paris Ter...</td>\n",
              "    </tr>\n",
              "  </tbody>\n",
              "</table>\n",
              "</div>"
            ],
            "text/plain": [
              "         Date  ...                                              Top25\n",
              "0  2016-07-01  ...  Ozone layer hole seems to be healing - US &amp...\n",
              "1  2016-06-30  ...  Law Enforcement Sources: Gun Used in Paris Ter...\n",
              "\n",
              "[2 rows x 26 columns]"
            ]
          },
          "metadata": {
            "tags": []
          },
          "execution_count": 33
        }
      ]
    },
    {
      "cell_type": "markdown",
      "metadata": {
        "id": "CCmuVgfZO1Xr",
        "colab_type": "text"
      },
      "source": [
        "## Combining the cleaned DJIA and Reddit datasets"
      ]
    },
    {
      "cell_type": "markdown",
      "metadata": {
        "id": "nz1KKwP6E1at",
        "colab_type": "text"
      },
      "source": [
        "The finalized databases are merged. The 'djia' is the base database where the newly created 'df' database will merge on 'Date' column. As of result,\n",
        "we expect the erraneous dates from the Reddit News will be automatically cropped\n",
        "if the date range goes beyond DJIA information."
      ]
    },
    {
      "cell_type": "code",
      "metadata": {
        "id": "AZK6sPWFcBPG",
        "colab_type": "code",
        "colab": {}
      },
      "source": [
        "result_all = pd.merge(djia, df, how='inner', on=['Date'])\n",
        "result_all\n",
        "result = result_all"
      ],
      "execution_count": 34,
      "outputs": []
    },
    {
      "cell_type": "markdown",
      "metadata": {
        "id": "DdEGC7lOGoD6",
        "colab_type": "text"
      },
      "source": [
        "'result_all' will have all the necessary data. This can be used to do quantitative analysis as well. \n",
        "\n",
        "However, for classification, we can crop for only necessary "
      ]
    },
    {
      "cell_type": "code",
      "metadata": {
        "id": "_ff5cuM9i456",
        "colab_type": "code",
        "colab": {
          "base_uri": "https://localhost:8080/",
          "height": 357
        },
        "outputId": "bf023f6c-b3be-4002-f2ed-38f3ab7b0c55"
      },
      "source": [
        "\"\"\"\n",
        "CAUTION: Run this code ONLY once. Since, the drop code if run again will remove \n",
        "more columns than necessary\n",
        "\n",
        "If unappropriate result appears, run the previous block of code to reset \n",
        "result variable and run this portion again\n",
        "\n",
        "The result should have Date, Label, Top1 .. Top 25 columns\n",
        "\"\"\"\n",
        "result.drop(result.iloc[:, 1:8], axis=1, inplace=True)\n",
        "result.head(2)"
      ],
      "execution_count": 35,
      "outputs": [
        {
          "output_type": "execute_result",
          "data": {
            "text/html": [
              "<div>\n",
              "<style scoped>\n",
              "    .dataframe tbody tr th:only-of-type {\n",
              "        vertical-align: middle;\n",
              "    }\n",
              "\n",
              "    .dataframe tbody tr th {\n",
              "        vertical-align: top;\n",
              "    }\n",
              "\n",
              "    .dataframe thead th {\n",
              "        text-align: right;\n",
              "    }\n",
              "</style>\n",
              "<table border=\"1\" class=\"dataframe\">\n",
              "  <thead>\n",
              "    <tr style=\"text-align: right;\">\n",
              "      <th></th>\n",
              "      <th>Date</th>\n",
              "      <th>Label</th>\n",
              "      <th>Top1</th>\n",
              "      <th>Top2</th>\n",
              "      <th>Top3</th>\n",
              "      <th>Top4</th>\n",
              "      <th>Top5</th>\n",
              "      <th>Top6</th>\n",
              "      <th>Top7</th>\n",
              "      <th>Top8</th>\n",
              "      <th>Top9</th>\n",
              "      <th>Top10</th>\n",
              "      <th>Top11</th>\n",
              "      <th>Top12</th>\n",
              "      <th>Top13</th>\n",
              "      <th>Top14</th>\n",
              "      <th>Top15</th>\n",
              "      <th>Top16</th>\n",
              "      <th>Top17</th>\n",
              "      <th>Top18</th>\n",
              "      <th>Top19</th>\n",
              "      <th>Top20</th>\n",
              "      <th>Top21</th>\n",
              "      <th>Top22</th>\n",
              "      <th>Top23</th>\n",
              "      <th>Top24</th>\n",
              "      <th>Top25</th>\n",
              "    </tr>\n",
              "  </thead>\n",
              "  <tbody>\n",
              "    <tr>\n",
              "      <th>0</th>\n",
              "      <td>2008-08-08</td>\n",
              "      <td>0</td>\n",
              "      <td>b\"Georgia 'downs two Russian warplanes' as cou...</td>\n",
              "      <td>b'BREAKING: Musharraf to be impeached.'</td>\n",
              "      <td>b'Russia Today: Columns of troops roll into So...</td>\n",
              "      <td>b'Russian tanks are moving towards the capital...</td>\n",
              "      <td>b\"Afghan children raped with 'impunity,' U.N. ...</td>\n",
              "      <td>b'150 Russian tanks have entered South Ossetia...</td>\n",
              "      <td>b\"Breaking: Georgia invades South Ossetia, Rus...</td>\n",
              "      <td>b\"The 'enemy combatent' trials are nothing but...</td>\n",
              "      <td>b'Georgian troops retreat from S. Osettain cap...</td>\n",
              "      <td>b'Did the U.S. Prep Georgia for War with Russia?'</td>\n",
              "      <td>b'Rice Gives Green Light for Israel to Attack ...</td>\n",
              "      <td>b'Announcing:Class Action Lawsuit on Behalf of...</td>\n",
              "      <td>b\"So---Russia and Georgia are at war and the N...</td>\n",
              "      <td>b\"China tells Bush to stay out of other countr...</td>\n",
              "      <td>b'Did World War III start today?'</td>\n",
              "      <td>b'Georgia Invades South Ossetia - if Russia ge...</td>\n",
              "      <td>b'Al-Qaeda Faces Islamist Backlash'</td>\n",
              "      <td>b'Condoleezza Rice: \"The US would not act to p...</td>\n",
              "      <td>b'This is a busy day:  The European Union has ...</td>\n",
              "      <td>b\"Georgia will withdraw 1,000 soldiers from Ir...</td>\n",
              "      <td>b'Why the Pentagon Thinks Attacking Iran is a ...</td>\n",
              "      <td>b'Caucasus in crisis: Georgia invades South Os...</td>\n",
              "      <td>b'Indian shoe manufactory  - And again in a se...</td>\n",
              "      <td>b'Visitors Suffering from Mental Illnesses Ban...</td>\n",
              "      <td>b\"No Help for Mexico's Kidnapping Surge\"</td>\n",
              "    </tr>\n",
              "    <tr>\n",
              "      <th>1</th>\n",
              "      <td>2008-08-11</td>\n",
              "      <td>1</td>\n",
              "      <td>b'Why wont America and Nato help us? If they w...</td>\n",
              "      <td>b'Bush puts foot down on Georgian conflict'</td>\n",
              "      <td>b\"Jewish Georgian minister: Thanks to Israeli ...</td>\n",
              "      <td>b'Georgian army flees in disarray as Russians ...</td>\n",
              "      <td>b\"Olympic opening ceremony fireworks 'faked'\"</td>\n",
              "      <td>b'What were the Mossad with fraudulent New Zea...</td>\n",
              "      <td>b'Russia angered by Israeli military sale to G...</td>\n",
              "      <td>b'An American citizen living in S.Ossetia blam...</td>\n",
              "      <td>b'Welcome To World War IV! Now In High Definit...</td>\n",
              "      <td>b\"Georgia's move, a mistake of monumental prop...</td>\n",
              "      <td>b'Russia presses deeper into Georgia; U.S. say...</td>\n",
              "      <td>b'Abhinav Bindra wins first ever Individual Ol...</td>\n",
              "      <td>b' U.S. ship heads for Arctic to define territ...</td>\n",
              "      <td>b'Drivers in a Jerusalem taxi station threaten...</td>\n",
              "      <td>b'The French Team is Stunned by Phelps and the...</td>\n",
              "      <td>b'Israel and the US behind the Georgian aggres...</td>\n",
              "      <td>b'\"Do not believe TV, neither Russian nor Geor...</td>\n",
              "      <td>b'Riots are still going on in Montreal (Canada...</td>\n",
              "      <td>b'China to overtake US as largest manufacturer'</td>\n",
              "      <td>b'War in South Ossetia [PICS]'</td>\n",
              "      <td>b'Israeli Physicians Group Condemns State Tort...</td>\n",
              "      <td>b' Russia has just beaten the United States ov...</td>\n",
              "      <td>b'Perhaps *the* question about the Georgia - R...</td>\n",
              "      <td>b'Russia is so much better at war'</td>\n",
              "      <td>b\"So this is what it's come to: trading sex fo...</td>\n",
              "    </tr>\n",
              "  </tbody>\n",
              "</table>\n",
              "</div>"
            ],
            "text/plain": [
              "         Date  ...                                              Top25\n",
              "0  2008-08-08  ...           b\"No Help for Mexico's Kidnapping Surge\"\n",
              "1  2008-08-11  ...  b\"So this is what it's come to: trading sex fo...\n",
              "\n",
              "[2 rows x 27 columns]"
            ]
          },
          "metadata": {
            "tags": []
          },
          "execution_count": 35
        }
      ]
    },
    {
      "cell_type": "markdown",
      "metadata": {
        "id": "FG7OjpgGQHMY",
        "colab_type": "text"
      },
      "source": [
        "This portion of code tests whether or not each row has 25 articles. \n",
        "We find that there are some null values present. \n",
        "\n",
        "With this info, manually checked...\n",
        "\n",
        "**Though no columns had >25 articles, it was found that there were some dates with <25 articles.**"
      ]
    },
    {
      "cell_type": "code",
      "metadata": {
        "id": "q-KChXXmKi1o",
        "colab_type": "code",
        "colab": {
          "base_uri": "https://localhost:8080/",
          "height": 91
        },
        "outputId": "2a6ba6b8-df00-47cf-cbb8-99a031acbd61"
      },
      "source": [
        "\"\"\"\n",
        "This portion of code found that BEFORE EVEN CLEANING DATA that there were some dates where it did not =25 articles\n",
        "\n",
        "Luckily, most can be neglected since when the dates are merged, most were taken out.\n",
        "\n",
        "However, it was later found that even after merging that some dates had <25 because of null values\n",
        "\"\"\"\n",
        "\n",
        "a = list(reddit['Date'])\n",
        "\n",
        "a,b = np.unique(a, return_counts=True)\n",
        "a[b != 25]"
      ],
      "execution_count": 36,
      "outputs": [
        {
          "output_type": "execute_result",
          "data": {
            "text/plain": [
              "array(['2008-10-26', '2009-09-05', '2009-09-12', '2009-09-13',\n",
              "       '2009-09-15', '2009-09-19', '2009-09-20', '2009-09-26',\n",
              "       '2009-10-10', '2009-10-25', '2009-12-24', '2011-04-21'],\n",
              "      dtype='<U10')"
            ]
          },
          "metadata": {
            "tags": []
          },
          "execution_count": 36
        }
      ]
    },
    {
      "cell_type": "markdown",
      "metadata": {
        "id": "BGXjDtQOVIpD",
        "colab_type": "text"
      },
      "source": [
        "This was a test to see where the NaN data can be found with the final dataset.\n",
        "\n",
        "The original dataset also had the NaN at the same locations. \n",
        "Therefore, the accuracy to replicate the finished clean data was a sucess. \n",
        "\n",
        "The missing data can be neglegible since there aren't many NaN\n",
        "and there are enough articles for even the non =25 article dates to run machine learning. \n",
        "\n",
        "---\n",
        "\n"
      ]
    },
    {
      "cell_type": "markdown",
      "metadata": {
        "id": "uwEbQnAWXDjV",
        "colab_type": "text"
      },
      "source": [
        "This portion of code finds the NaN values on 'result' dataframe. \n",
        "\n",
        "Even when the dataset is fully 'cleaned', there are some issues to be dealt with."
      ]
    },
    {
      "cell_type": "code",
      "metadata": {
        "id": "LIm_GdL4SmHu",
        "colab_type": "code",
        "colab": {
          "base_uri": "https://localhost:8080/",
          "height": 91
        },
        "outputId": "2620c618-ebd1-4e5d-f2ca-a742112f8ade"
      },
      "source": [
        "#https://dzone.com/articles/pandas-find-rows-where-columnfield-is-null\n",
        "null_columns=result.columns[result.isnull().any()]\n",
        "print(result[result.isnull().any(axis=1)][null_columns].head())"
      ],
      "execution_count": 37,
      "outputs": [
        {
          "output_type": "stream",
          "text": [
            "                                                 Top23 Top24 Top25\n",
            "277                                                NaN   NaN   NaN\n",
            "348  b\"Ayatollah Montazeri's Legacy:  In death he m...   NaN   NaN\n",
            "681          Prince Charles wins some kind of a record   NaN   NaN\n"
          ],
          "name": "stdout"
        }
      ]
    },
    {
      "cell_type": "code",
      "metadata": {
        "id": "spBHsNyrViXY",
        "colab_type": "code",
        "colab": {
          "base_uri": "https://localhost:8080/",
          "height": 476
        },
        "outputId": "0cb525d2-10c8-454e-e55c-4624934053ab"
      },
      "source": [
        "\"\"\"\n",
        "Dates where the missing data can be found. With more detail\n",
        "Scroll horizontally to the end to find some NaN values. \n",
        "\"\"\"\n",
        "\n",
        "#https://www.shanelynn.ie/select-pandas-dataframe-rows-and-columns-using-iloc-loc-and-ix/\n",
        "\n",
        "result.iloc[[277,348,681]]"
      ],
      "execution_count": 38,
      "outputs": [
        {
          "output_type": "execute_result",
          "data": {
            "text/html": [
              "<div>\n",
              "<style scoped>\n",
              "    .dataframe tbody tr th:only-of-type {\n",
              "        vertical-align: middle;\n",
              "    }\n",
              "\n",
              "    .dataframe tbody tr th {\n",
              "        vertical-align: top;\n",
              "    }\n",
              "\n",
              "    .dataframe thead th {\n",
              "        text-align: right;\n",
              "    }\n",
              "</style>\n",
              "<table border=\"1\" class=\"dataframe\">\n",
              "  <thead>\n",
              "    <tr style=\"text-align: right;\">\n",
              "      <th></th>\n",
              "      <th>Date</th>\n",
              "      <th>Label</th>\n",
              "      <th>Top1</th>\n",
              "      <th>Top2</th>\n",
              "      <th>Top3</th>\n",
              "      <th>Top4</th>\n",
              "      <th>Top5</th>\n",
              "      <th>Top6</th>\n",
              "      <th>Top7</th>\n",
              "      <th>Top8</th>\n",
              "      <th>Top9</th>\n",
              "      <th>Top10</th>\n",
              "      <th>Top11</th>\n",
              "      <th>Top12</th>\n",
              "      <th>Top13</th>\n",
              "      <th>Top14</th>\n",
              "      <th>Top15</th>\n",
              "      <th>Top16</th>\n",
              "      <th>Top17</th>\n",
              "      <th>Top18</th>\n",
              "      <th>Top19</th>\n",
              "      <th>Top20</th>\n",
              "      <th>Top21</th>\n",
              "      <th>Top22</th>\n",
              "      <th>Top23</th>\n",
              "      <th>Top24</th>\n",
              "      <th>Top25</th>\n",
              "    </tr>\n",
              "  </thead>\n",
              "  <tbody>\n",
              "    <tr>\n",
              "      <th>277</th>\n",
              "      <td>2009-09-15</td>\n",
              "      <td>1</td>\n",
              "      <td>b'The Church of Scientology won\\'t be dissolve...</td>\n",
              "      <td>b'New virus from rats can kill 80 per cent of ...</td>\n",
              "      <td>b'The gruesome spectacle of dolphins being sla...</td>\n",
              "      <td>b'The End of Innocence in Afghanistan: \\'The G...</td>\n",
              "      <td>b'France approves Internet piracy bill'</td>\n",
              "      <td>b'The Rural Doctors Association says right now...</td>\n",
              "      <td>b'Al Jazeera English - Africa - Shabab to aven...</td>\n",
              "      <td>b\"How Sri Lanka governs through detentions - S...</td>\n",
              "      <td>b'Two months after the Pakistani Army wrested ...</td>\n",
              "      <td>b'N. Korean cargo ship repels pirates off Soma...</td>\n",
              "      <td>b'Canada: Stephen Harper attempts to prop up r...</td>\n",
              "      <td>b'New geological data provides hope for claims...</td>\n",
              "      <td>b'Ukraine set to block Elton John adoption bec...</td>\n",
              "      <td>b'German plane makes emergency landing'</td>\n",
              "      <td>b'Street artist catches chief of the Israeli a...</td>\n",
              "      <td>b'In an equine echo of the controversy surroun...</td>\n",
              "      <td>b'UPDATE: 5-New York homes raided in terrorism...</td>\n",
              "      <td>b'Population Growth Impeding Progress on the M...</td>\n",
              "      <td>b'Global Population to Reach 7 Billion by 2011'</td>\n",
              "      <td>b'Government Funded Feminist Porn '</td>\n",
              "      <td>b'Can someone enlighten me re:Holy Land disput...</td>\n",
              "      <td>b'Human Rights Watch official suspended for co...</td>\n",
              "      <td>NaN</td>\n",
              "      <td>NaN</td>\n",
              "      <td>NaN</td>\n",
              "    </tr>\n",
              "    <tr>\n",
              "      <th>348</th>\n",
              "      <td>2009-12-24</td>\n",
              "      <td>1</td>\n",
              "      <td>b'Woman knocks down Pope Benedict at Christmas...</td>\n",
              "      <td>b'Ugandan President Museveni says he will bloc...</td>\n",
              "      <td>b\"Venezuela's Chavez threatens to kick out car...</td>\n",
              "      <td>b'Woman who knocked down pope had pasta in her...</td>\n",
              "      <td>b'450 people from 21 countries, including 30 f...</td>\n",
              "      <td>b'Chvez declares Angel Falls is no more: World...</td>\n",
              "      <td>b'Drug tests catch out 10 police (UK)'</td>\n",
              "      <td>b'Once the worlds fourth-largest lake, the Ara...</td>\n",
              "      <td>b\"Cool Saudi Feminist calls for woman's right ...</td>\n",
              "      <td>b'According to satellite surveys, as much as 8...</td>\n",
              "      <td>b'Italian Prime Minister Silvio Berlusconi has...</td>\n",
              "      <td>b\"Don't blame the system for winter travel cha...</td>\n",
              "      <td>b'Christmas Eve around the world included the ...</td>\n",
              "      <td>b'Pope knocked down before Xmas mass'</td>\n",
              "      <td>b'The solar salesman who put his cow on the ma...</td>\n",
              "      <td>b'Pig farts spark Australia gas scare - I shit...</td>\n",
              "      <td>b'Bin Laden daughter flees to Saudi embassy in...</td>\n",
              "      <td>b'Traumatic Brain Injuries:  Growing evidence ...</td>\n",
              "      <td>b'The Pakistan Supreme Court has ordered the P...</td>\n",
              "      <td>b\"Here's a video the Taliban released this mor...</td>\n",
              "      <td>b'Fireworks set off aboard airliner'</td>\n",
              "      <td>b'Five VA men may face terrorism charges, Paki...</td>\n",
              "      <td>b\"Ayatollah Montazeri's Legacy:  In death he m...</td>\n",
              "      <td>NaN</td>\n",
              "      <td>NaN</td>\n",
              "    </tr>\n",
              "    <tr>\n",
              "      <th>681</th>\n",
              "      <td>2011-04-21</td>\n",
              "      <td>1</td>\n",
              "      <td>Director of \"Restrepo\" and Photographer Chris ...</td>\n",
              "      <td>Everyone within 20km of Fukushima will be forc...</td>\n",
              "      <td>Bahrain: Activist Zaynab Al-Khawaja's letter t...</td>\n",
              "      <td>More than 80,000 people are claiming incapacit...</td>\n",
              "      <td>Libya: 'mission creep' claims as UK sends in m...</td>\n",
              "      <td>Japan considers banning access to evacuation zone</td>\n",
              "      <td>Chinese oil giant Sinopec has stopped exportin...</td>\n",
              "      <td>6.0-magnitude earthquake strikes off east coas...</td>\n",
              "      <td>Next war in line: At least 20 South Sudanese a...</td>\n",
              "      <td>Bahraini protester ends hunger strike after be...</td>\n",
              "      <td>China tries to scare motorists into safer driving</td>\n",
              "      <td>Leaked Report Shows England Hit With Three Nuc...</td>\n",
              "      <td>Japans cyclone season approaches.</td>\n",
              "      <td>Have Oman and Qatar escaped the Arab revolts?</td>\n",
              "      <td>Rioters torch Australia asylum seeker detentio...</td>\n",
              "      <td>Russian migration official fired in racism row...</td>\n",
              "      <td>Small amounts of radioactive iodine found in b...</td>\n",
              "      <td>War photographer, Oscar-nominated film directo...</td>\n",
              "      <td>Effeminate boys are being sent to a special ca...</td>\n",
              "      <td>Japan Government Declares 12-Mile Area Around ...</td>\n",
              "      <td>TEPCO admitted Wednesday that nuclear fuel in ...</td>\n",
              "      <td>Fukushima evacuees face arrest if they return ...</td>\n",
              "      <td>Prince Charles wins some kind of a record</td>\n",
              "      <td>NaN</td>\n",
              "      <td>NaN</td>\n",
              "    </tr>\n",
              "  </tbody>\n",
              "</table>\n",
              "</div>"
            ],
            "text/plain": [
              "           Date  Label  ... Top24 Top25\n",
              "277  2009-09-15      1  ...   NaN   NaN\n",
              "348  2009-12-24      1  ...   NaN   NaN\n",
              "681  2011-04-21      1  ...   NaN   NaN\n",
              "\n",
              "[3 rows x 27 columns]"
            ]
          },
          "metadata": {
            "tags": []
          },
          "execution_count": 38
        }
      ]
    },
    {
      "cell_type": "markdown",
      "metadata": {
        "id": "p2mV4gk6QprW",
        "colab_type": "text"
      },
      "source": [
        "Code to output the final cleaned data to file. \n",
        "\n",
        "When compared to final prepared data, the result was identical to the prepared data."
      ]
    },
    {
      "cell_type": "code",
      "metadata": {
        "id": "H3OpMeKSKrmV",
        "colab_type": "code",
        "colab": {}
      },
      "source": [
        "#To output the file (however, no preprocessing and feature engineering is required prior to machine learning)\n",
        "result.to_excel(\"cleaned_data(with more processing required).xlsx\")"
      ],
      "execution_count": 39,
      "outputs": []
    },
    {
      "cell_type": "markdown",
      "metadata": {
        "id": "znx67sKJJwnh",
        "colab_type": "text"
      },
      "source": [
        "# Natural Language Processing"
      ]
    },
    {
      "cell_type": "markdown",
      "metadata": {
        "id": "HXXAbaaTJ1c5",
        "colab_type": "text"
      },
      "source": [
        "Although the dataset has been cleaned and combined, there are still more work to be done. \n",
        "\n",
        "We still need to pre-process the data so that the machine learning algorithm can take the input. "
      ]
    },
    {
      "cell_type": "markdown",
      "metadata": {
        "id": "vSpFeeCFEHnh",
        "colab_type": "text"
      },
      "source": [
        "## Spliting Training and Testing Sets"
      ]
    },
    {
      "cell_type": "markdown",
      "metadata": {
        "id": "qVprdz2qI40X",
        "colab_type": "text"
      },
      "source": [
        "According to the dataset provider, there were instructions about how to split the training and test datsets. \n",
        "\n",
        "\"For task evaluation, please use data from 2008-08-08 to 2014-12-31 as Training Set, and Test Set is then the following two years data (from 2015-01-02 to 2016-07-01). This is roughly a 80%/20% split.\"\n",
        "\n"
      ]
    },
    {
      "cell_type": "code",
      "metadata": {
        "id": "gNALLYi3DIzG",
        "colab_type": "code",
        "colab": {
          "base_uri": "https://localhost:8080/",
          "height": 239
        },
        "outputId": "3aa502b5-ae2a-4db5-d06a-2665549141da"
      },
      "source": [
        "\"\"\"\n",
        "When looking at the list of news, we observe that some some reason, that the news articles \n",
        "start with a lower case 'b' character followed by ' or \". \n",
        "ex. b' or b\"\n",
        "\n",
        "Therefore, first step was to remove that b' or b\"\n",
        "\"\"\"\n",
        "\n",
        "result.replace(\"b'|b\\\"\", \" \", regex = True, inplace = True)\n",
        "result.head(1)"
      ],
      "execution_count": 58,
      "outputs": [
        {
          "output_type": "execute_result",
          "data": {
            "text/html": [
              "<div>\n",
              "<style scoped>\n",
              "    .dataframe tbody tr th:only-of-type {\n",
              "        vertical-align: middle;\n",
              "    }\n",
              "\n",
              "    .dataframe tbody tr th {\n",
              "        vertical-align: top;\n",
              "    }\n",
              "\n",
              "    .dataframe thead th {\n",
              "        text-align: right;\n",
              "    }\n",
              "</style>\n",
              "<table border=\"1\" class=\"dataframe\">\n",
              "  <thead>\n",
              "    <tr style=\"text-align: right;\">\n",
              "      <th></th>\n",
              "      <th>Date</th>\n",
              "      <th>Label</th>\n",
              "      <th>Top1</th>\n",
              "      <th>Top2</th>\n",
              "      <th>Top3</th>\n",
              "      <th>Top4</th>\n",
              "      <th>Top5</th>\n",
              "      <th>Top6</th>\n",
              "      <th>Top7</th>\n",
              "      <th>Top8</th>\n",
              "      <th>Top9</th>\n",
              "      <th>Top10</th>\n",
              "      <th>Top11</th>\n",
              "      <th>Top12</th>\n",
              "      <th>Top13</th>\n",
              "      <th>Top14</th>\n",
              "      <th>Top15</th>\n",
              "      <th>Top16</th>\n",
              "      <th>Top17</th>\n",
              "      <th>Top18</th>\n",
              "      <th>Top19</th>\n",
              "      <th>Top20</th>\n",
              "      <th>Top21</th>\n",
              "      <th>Top22</th>\n",
              "      <th>Top23</th>\n",
              "      <th>Top24</th>\n",
              "      <th>Top25</th>\n",
              "    </tr>\n",
              "  </thead>\n",
              "  <tbody>\n",
              "    <tr>\n",
              "      <th>0</th>\n",
              "      <td>2008-08-08</td>\n",
              "      <td>0</td>\n",
              "      <td>Georgia 'downs two Russian warplanes' as coun...</td>\n",
              "      <td>BREAKING: Musharraf to be impeached.'</td>\n",
              "      <td>Russia Today: Columns of troops roll into Sou...</td>\n",
              "      <td>Russian tanks are moving towards the capital ...</td>\n",
              "      <td>Afghan children raped with 'impunity,' U.N. o...</td>\n",
              "      <td>150 Russian tanks have entered South Ossetia ...</td>\n",
              "      <td>Breaking: Georgia invades South Ossetia, Russ...</td>\n",
              "      <td>The 'enemy combatent' trials are nothing but ...</td>\n",
              "      <td>Georgian troops retreat from S. Osettain capi...</td>\n",
              "      <td>Did the U.S. Prep Georgia for War with Russia?'</td>\n",
              "      <td>Rice Gives Green Light for Israel to Attack I...</td>\n",
              "      <td>Announcing:Class Action Lawsuit on Behalf of ...</td>\n",
              "      <td>So---Russia and Georgia are at war and the NY...</td>\n",
              "      <td>China tells Bush to stay out of other countri...</td>\n",
              "      <td>Did World War III start today?'</td>\n",
              "      <td>Georgia Invades South Ossetia - if Russia get...</td>\n",
              "      <td>Al-Qaeda Faces Islamist Backlash'</td>\n",
              "      <td>Condoleezza Rice: \"The US would not act to pr...</td>\n",
              "      <td>This is a busy day:  The European Union has a...</td>\n",
              "      <td>Georgia will withdraw 1,000 soldiers from Ira...</td>\n",
              "      <td>Why the Pentagon Thinks Attacking Iran is a B...</td>\n",
              "      <td>Caucasus in crisis: Georgia invades South Oss...</td>\n",
              "      <td>Indian shoe manufactory  - And again in a ser...</td>\n",
              "      <td>Visitors Suffering from Mental Illnesses Bann...</td>\n",
              "      <td>No Help for Mexico's Kidnapping Surge\"</td>\n",
              "    </tr>\n",
              "  </tbody>\n",
              "</table>\n",
              "</div>"
            ],
            "text/plain": [
              "         Date  ...                                    Top25\n",
              "0  2008-08-08  ...   No Help for Mexico's Kidnapping Surge\"\n",
              "\n",
              "[1 rows x 27 columns]"
            ]
          },
          "metadata": {
            "tags": []
          },
          "execution_count": 58
        }
      ]
    },
    {
      "cell_type": "code",
      "metadata": {
        "id": "AwGO2t1XJJFN",
        "colab_type": "code",
        "colab": {}
      },
      "source": [
        "\"\"\"\n",
        "Experimented with train = result['Date'] < '2015-01-01' but this gave a boolean result.\n",
        "Therefore, result[true values], the values that match the conditions were ouputted with final code.\n",
        "\"\"\"\n",
        "\n",
        "train = result[result['Date'] < '2015-01-01']\n",
        "test = result[result['Date'] > '2014-12-31']"
      ],
      "execution_count": 41,
      "outputs": []
    },
    {
      "cell_type": "code",
      "metadata": {
        "id": "X8blA_12hGh6",
        "colab_type": "code",
        "colab": {
          "base_uri": "https://localhost:8080/",
          "height": 36
        },
        "outputId": "91d510a6-67b5-40e9-a2f1-cee0c3138fe3"
      },
      "source": [
        "print(train.shape)"
      ],
      "execution_count": 56,
      "outputs": [
        {
          "output_type": "stream",
          "text": [
            "(1611, 27)\n"
          ],
          "name": "stdout"
        }
      ]
    },
    {
      "cell_type": "markdown",
      "metadata": {
        "id": "iXdAtPMJhP4R",
        "colab_type": "text"
      },
      "source": [
        "So in testing data, there is a total of 1611 rows and 27 columns"
      ]
    },
    {
      "cell_type": "code",
      "metadata": {
        "id": "m4XQRotghKUP",
        "colab_type": "code",
        "colab": {
          "base_uri": "https://localhost:8080/",
          "height": 36
        },
        "outputId": "f0f06d07-00a3-48e7-a9bc-f71d3e3830f8"
      },
      "source": [
        "print(test.shape)"
      ],
      "execution_count": 57,
      "outputs": [
        {
          "output_type": "stream",
          "text": [
            "(378, 27)\n"
          ],
          "name": "stdout"
        }
      ]
    },
    {
      "cell_type": "markdown",
      "metadata": {
        "id": "a7m3BbDShZTi",
        "colab_type": "text"
      },
      "source": [
        "In training data, there are 378 rows and 27 columns"
      ]
    },
    {
      "cell_type": "markdown",
      "metadata": {
        "id": "DoWxJTkaXlAI",
        "colab_type": "text"
      },
      "source": [
        "## Feature Engineering"
      ]
    },
    {
      "cell_type": "code",
      "metadata": {
        "id": "o-BEsCila752",
        "colab_type": "code",
        "colab": {
          "base_uri": "https://localhost:8080/",
          "height": 239
        },
        "outputId": "9c86119a-4859-4024-f66b-f73ab745a7e4"
      },
      "source": [
        "\"\"\"\n",
        "This selects just the news articles (dependent features). \n",
        "This is where text feature engineering will be focused on\n",
        "\"\"\"\n",
        "data = train.iloc[:,2:27]\n",
        "data.head(1)"
      ],
      "execution_count": 86,
      "outputs": [
        {
          "output_type": "execute_result",
          "data": {
            "text/html": [
              "<div>\n",
              "<style scoped>\n",
              "    .dataframe tbody tr th:only-of-type {\n",
              "        vertical-align: middle;\n",
              "    }\n",
              "\n",
              "    .dataframe tbody tr th {\n",
              "        vertical-align: top;\n",
              "    }\n",
              "\n",
              "    .dataframe thead th {\n",
              "        text-align: right;\n",
              "    }\n",
              "</style>\n",
              "<table border=\"1\" class=\"dataframe\">\n",
              "  <thead>\n",
              "    <tr style=\"text-align: right;\">\n",
              "      <th></th>\n",
              "      <th>Top1</th>\n",
              "      <th>Top2</th>\n",
              "      <th>Top3</th>\n",
              "      <th>Top4</th>\n",
              "      <th>Top5</th>\n",
              "      <th>Top6</th>\n",
              "      <th>Top7</th>\n",
              "      <th>Top8</th>\n",
              "      <th>Top9</th>\n",
              "      <th>Top10</th>\n",
              "      <th>Top11</th>\n",
              "      <th>Top12</th>\n",
              "      <th>Top13</th>\n",
              "      <th>Top14</th>\n",
              "      <th>Top15</th>\n",
              "      <th>Top16</th>\n",
              "      <th>Top17</th>\n",
              "      <th>Top18</th>\n",
              "      <th>Top19</th>\n",
              "      <th>Top20</th>\n",
              "      <th>Top21</th>\n",
              "      <th>Top22</th>\n",
              "      <th>Top23</th>\n",
              "      <th>Top24</th>\n",
              "      <th>Top25</th>\n",
              "    </tr>\n",
              "  </thead>\n",
              "  <tbody>\n",
              "    <tr>\n",
              "      <th>0</th>\n",
              "      <td>Georgia 'downs two Russian warplanes' as coun...</td>\n",
              "      <td>BREAKING: Musharraf to be impeached.'</td>\n",
              "      <td>Russia Today: Columns of troops roll into Sou...</td>\n",
              "      <td>Russian tanks are moving towards the capital ...</td>\n",
              "      <td>Afghan children raped with 'impunity,' U.N. o...</td>\n",
              "      <td>150 Russian tanks have entered South Ossetia ...</td>\n",
              "      <td>Breaking: Georgia invades South Ossetia, Russ...</td>\n",
              "      <td>The 'enemy combatent' trials are nothing but ...</td>\n",
              "      <td>Georgian troops retreat from S. Osettain capi...</td>\n",
              "      <td>Did the U.S. Prep Georgia for War with Russia?'</td>\n",
              "      <td>Rice Gives Green Light for Israel to Attack I...</td>\n",
              "      <td>Announcing:Class Action Lawsuit on Behalf of ...</td>\n",
              "      <td>So---Russia and Georgia are at war and the NY...</td>\n",
              "      <td>China tells Bush to stay out of other countri...</td>\n",
              "      <td>Did World War III start today?'</td>\n",
              "      <td>Georgia Invades South Ossetia - if Russia get...</td>\n",
              "      <td>Al-Qaeda Faces Islamist Backlash'</td>\n",
              "      <td>Condoleezza Rice: \"The US would not act to pr...</td>\n",
              "      <td>This is a busy day:  The European Union has a...</td>\n",
              "      <td>Georgia will withdraw 1,000 soldiers from Ira...</td>\n",
              "      <td>Why the Pentagon Thinks Attacking Iran is a B...</td>\n",
              "      <td>Caucasus in crisis: Georgia invades South Oss...</td>\n",
              "      <td>Indian shoe manufactory  - And again in a ser...</td>\n",
              "      <td>Visitors Suffering from Mental Illnesses Bann...</td>\n",
              "      <td>No Help for Mexico's Kidnapping Surge\"</td>\n",
              "    </tr>\n",
              "  </tbody>\n",
              "</table>\n",
              "</div>"
            ],
            "text/plain": [
              "                                                Top1  ...                                    Top25\n",
              "0   Georgia 'downs two Russian warplanes' as coun...  ...   No Help for Mexico's Kidnapping Surge\"\n",
              "\n",
              "[1 rows x 25 columns]"
            ]
          },
          "metadata": {
            "tags": []
          },
          "execution_count": 86
        }
      ]
    },
    {
      "cell_type": "code",
      "metadata": {
        "id": "wM-oqMvPi8Jv",
        "colab_type": "code",
        "colab": {
          "base_uri": "https://localhost:8080/",
          "height": 239
        },
        "outputId": "eb00f658-58b4-4ee8-96d2-fa5a53d2f4e7"
      },
      "source": [
        "\"\"\"\n",
        "Removing punctuations\n",
        "\n",
        "In regex, ^ indicates \"starts with\"\n",
        "[] brackets returns match where such characters are found. \n",
        "\n",
        "Therefore, [^a-zA-Z] means, it will match only the characters and \n",
        "\n",
        "https://www.w3schools.com/python/python_regex.asp\n",
        "\"\"\"\n",
        "data.replace(\"[^a-zA-Z]\",\" \", regex = True, inplace = True)\n",
        "data.head(1)"
      ],
      "execution_count": 87,
      "outputs": [
        {
          "output_type": "execute_result",
          "data": {
            "text/html": [
              "<div>\n",
              "<style scoped>\n",
              "    .dataframe tbody tr th:only-of-type {\n",
              "        vertical-align: middle;\n",
              "    }\n",
              "\n",
              "    .dataframe tbody tr th {\n",
              "        vertical-align: top;\n",
              "    }\n",
              "\n",
              "    .dataframe thead th {\n",
              "        text-align: right;\n",
              "    }\n",
              "</style>\n",
              "<table border=\"1\" class=\"dataframe\">\n",
              "  <thead>\n",
              "    <tr style=\"text-align: right;\">\n",
              "      <th></th>\n",
              "      <th>Top1</th>\n",
              "      <th>Top2</th>\n",
              "      <th>Top3</th>\n",
              "      <th>Top4</th>\n",
              "      <th>Top5</th>\n",
              "      <th>Top6</th>\n",
              "      <th>Top7</th>\n",
              "      <th>Top8</th>\n",
              "      <th>Top9</th>\n",
              "      <th>Top10</th>\n",
              "      <th>Top11</th>\n",
              "      <th>Top12</th>\n",
              "      <th>Top13</th>\n",
              "      <th>Top14</th>\n",
              "      <th>Top15</th>\n",
              "      <th>Top16</th>\n",
              "      <th>Top17</th>\n",
              "      <th>Top18</th>\n",
              "      <th>Top19</th>\n",
              "      <th>Top20</th>\n",
              "      <th>Top21</th>\n",
              "      <th>Top22</th>\n",
              "      <th>Top23</th>\n",
              "      <th>Top24</th>\n",
              "      <th>Top25</th>\n",
              "    </tr>\n",
              "  </thead>\n",
              "  <tbody>\n",
              "    <tr>\n",
              "      <th>0</th>\n",
              "      <td>Georgia  downs two Russian warplanes  as coun...</td>\n",
              "      <td>BREAKING  Musharraf to be impeached</td>\n",
              "      <td>Russia Today  Columns of troops roll into Sou...</td>\n",
              "      <td>Russian tanks are moving towards the capital ...</td>\n",
              "      <td>Afghan children raped with  impunity   U N  o...</td>\n",
              "      <td>Russian tanks have entered South Ossetia ...</td>\n",
              "      <td>Breaking  Georgia invades South Ossetia  Russ...</td>\n",
              "      <td>The  enemy combatent  trials are nothing but ...</td>\n",
              "      <td>Georgian troops retreat from S  Osettain capi...</td>\n",
              "      <td>Did the U S  Prep Georgia for War with Russia</td>\n",
              "      <td>Rice Gives Green Light for Israel to Attack I...</td>\n",
              "      <td>Announcing Class Action Lawsuit on Behalf of ...</td>\n",
              "      <td>So   Russia and Georgia are at war and the NY...</td>\n",
              "      <td>China tells Bush to stay out of other countri...</td>\n",
              "      <td>Did World War III start today</td>\n",
              "      <td>Georgia Invades South Ossetia   if Russia get...</td>\n",
              "      <td>Al Qaeda Faces Islamist Backlash</td>\n",
              "      <td>Condoleezza Rice   The US would not act to pr...</td>\n",
              "      <td>This is a busy day   The European Union has a...</td>\n",
              "      <td>Georgia will withdraw       soldiers from Ira...</td>\n",
              "      <td>Why the Pentagon Thinks Attacking Iran is a B...</td>\n",
              "      <td>Caucasus in crisis  Georgia invades South Oss...</td>\n",
              "      <td>Indian shoe manufactory    And again in a ser...</td>\n",
              "      <td>Visitors Suffering from Mental Illnesses Bann...</td>\n",
              "      <td>No Help for Mexico s Kidnapping Surge</td>\n",
              "    </tr>\n",
              "  </tbody>\n",
              "</table>\n",
              "</div>"
            ],
            "text/plain": [
              "                                                Top1  ...                                    Top25\n",
              "0   Georgia  downs two Russian warplanes  as coun...  ...   No Help for Mexico s Kidnapping Surge \n",
              "\n",
              "[1 rows x 25 columns]"
            ]
          },
          "metadata": {
            "tags": []
          },
          "execution_count": 87
        }
      ]
    },
    {
      "cell_type": "code",
      "metadata": {
        "id": "2UZdMqsGljED",
        "colab_type": "code",
        "colab": {
          "base_uri": "https://localhost:8080/",
          "height": 239
        },
        "outputId": "4dbcf8de-22a3-4b9f-b8b2-8e179e9f3dfa"
      },
      "source": [
        "\"\"\"\n",
        "Converting to lower case characters\n",
        "\"\"\"\n",
        "#Reason is for consisentcy. For instance, georogia and Georgia will be counted as different words\n",
        "#Therefore, by having all words in upper/lower case, we eliminate redundancy\n",
        "\n",
        "for index in data:\n",
        "  data[index] = data[index].str.lower()\n",
        "\n",
        "data.head(1)"
      ],
      "execution_count": 88,
      "outputs": [
        {
          "output_type": "execute_result",
          "data": {
            "text/html": [
              "<div>\n",
              "<style scoped>\n",
              "    .dataframe tbody tr th:only-of-type {\n",
              "        vertical-align: middle;\n",
              "    }\n",
              "\n",
              "    .dataframe tbody tr th {\n",
              "        vertical-align: top;\n",
              "    }\n",
              "\n",
              "    .dataframe thead th {\n",
              "        text-align: right;\n",
              "    }\n",
              "</style>\n",
              "<table border=\"1\" class=\"dataframe\">\n",
              "  <thead>\n",
              "    <tr style=\"text-align: right;\">\n",
              "      <th></th>\n",
              "      <th>Top1</th>\n",
              "      <th>Top2</th>\n",
              "      <th>Top3</th>\n",
              "      <th>Top4</th>\n",
              "      <th>Top5</th>\n",
              "      <th>Top6</th>\n",
              "      <th>Top7</th>\n",
              "      <th>Top8</th>\n",
              "      <th>Top9</th>\n",
              "      <th>Top10</th>\n",
              "      <th>Top11</th>\n",
              "      <th>Top12</th>\n",
              "      <th>Top13</th>\n",
              "      <th>Top14</th>\n",
              "      <th>Top15</th>\n",
              "      <th>Top16</th>\n",
              "      <th>Top17</th>\n",
              "      <th>Top18</th>\n",
              "      <th>Top19</th>\n",
              "      <th>Top20</th>\n",
              "      <th>Top21</th>\n",
              "      <th>Top22</th>\n",
              "      <th>Top23</th>\n",
              "      <th>Top24</th>\n",
              "      <th>Top25</th>\n",
              "    </tr>\n",
              "  </thead>\n",
              "  <tbody>\n",
              "    <tr>\n",
              "      <th>0</th>\n",
              "      <td>georgia  downs two russian warplanes  as coun...</td>\n",
              "      <td>breaking  musharraf to be impeached</td>\n",
              "      <td>russia today  columns of troops roll into sou...</td>\n",
              "      <td>russian tanks are moving towards the capital ...</td>\n",
              "      <td>afghan children raped with  impunity   u n  o...</td>\n",
              "      <td>russian tanks have entered south ossetia ...</td>\n",
              "      <td>breaking  georgia invades south ossetia  russ...</td>\n",
              "      <td>the  enemy combatent  trials are nothing but ...</td>\n",
              "      <td>georgian troops retreat from s  osettain capi...</td>\n",
              "      <td>did the u s  prep georgia for war with russia</td>\n",
              "      <td>rice gives green light for israel to attack i...</td>\n",
              "      <td>announcing class action lawsuit on behalf of ...</td>\n",
              "      <td>so   russia and georgia are at war and the ny...</td>\n",
              "      <td>china tells bush to stay out of other countri...</td>\n",
              "      <td>did world war iii start today</td>\n",
              "      <td>georgia invades south ossetia   if russia get...</td>\n",
              "      <td>al qaeda faces islamist backlash</td>\n",
              "      <td>condoleezza rice   the us would not act to pr...</td>\n",
              "      <td>this is a busy day   the european union has a...</td>\n",
              "      <td>georgia will withdraw       soldiers from ira...</td>\n",
              "      <td>why the pentagon thinks attacking iran is a b...</td>\n",
              "      <td>caucasus in crisis  georgia invades south oss...</td>\n",
              "      <td>indian shoe manufactory    and again in a ser...</td>\n",
              "      <td>visitors suffering from mental illnesses bann...</td>\n",
              "      <td>no help for mexico s kidnapping surge</td>\n",
              "    </tr>\n",
              "  </tbody>\n",
              "</table>\n",
              "</div>"
            ],
            "text/plain": [
              "                                                Top1  ...                                    Top25\n",
              "0   georgia  downs two russian warplanes  as coun...  ...   no help for mexico s kidnapping surge \n",
              "\n",
              "[1 rows x 25 columns]"
            ]
          },
          "metadata": {
            "tags": []
          },
          "execution_count": 88
        }
      ]
    },
    {
      "cell_type": "code",
      "metadata": {
        "id": "RjqDF-72DLFM",
        "colab_type": "code",
        "colab": {
          "base_uri": "https://localhost:8080/",
          "height": 184
        },
        "outputId": "0633bb2f-bf63-4b91-9afd-c012860aa989"
      },
      "source": [
        "#This is code to take first column and to combine the 25 articles into 1 paragraph\n",
        "' '.join(str(x) for x in data.iloc[0,0:25])"
      ],
      "execution_count": 89,
      "outputs": [
        {
          "output_type": "execute_result",
          "data": {
            "application/vnd.google.colaboratory.intrinsic": {
              "type": "string"
            },
            "text/plain": [
              "' georgia  downs two russian warplanes  as countries move to brink of war   breaking  musharraf to be impeached    russia today  columns of troops roll into south ossetia  footage from fighting  youtube    russian tanks are moving towards the capital of south ossetia  which has reportedly been completely destroyed by georgian artillery fire   afghan children raped with  impunity   u n  official says   this is sick  a three year old was raped and they do nothing       russian tanks have entered south ossetia whilst georgia shoots down two russian jets    breaking  georgia invades south ossetia  russia warned it would intervene on so s side   the  enemy combatent  trials are nothing but a sham  salim haman has been sentenced to       years  but will be kept longer anyway just because they feel like it    georgian troops retreat from s  osettain capital  presumably leaving several hundred people killed   video    did the u s  prep georgia for war with russia    rice gives green light for israel to attack iran  says u s  has no veto over israeli military ops   announcing class action lawsuit on behalf of american public against the fbi   so   russia and georgia are at war and the nyt s top story is opening ceremonies of the olympics   what a fucking disgrace and yet further proof of the decline of journalism    china tells bush to stay out of other countries  affairs   did world war iii start today    georgia invades south ossetia   if russia gets involved  will nato absorb georgia and unleash a full scale war    al qaeda faces islamist backlash   condoleezza rice   the us would not act to prevent an israeli strike on iran   israeli defense minister ehud barak   israel is prepared for uncompromising victory in the case of military hostilities     this is a busy day   the european union has approved new sanctions against iran in protest at its nuclear programme    georgia will withdraw       soldiers from iraq to help fight off russian forces in georgia s breakaway region of south ossetia   why the pentagon thinks attacking iran is a bad idea   us news  amp  world report   caucasus in crisis  georgia invades south ossetia   indian shoe manufactory    and again in a series of  you do not like your work     visitors suffering from mental illnesses banned from olympics   no help for mexico s kidnapping surge '"
            ]
          },
          "metadata": {
            "tags": []
          },
          "execution_count": 89
        }
      ]
    },
    {
      "cell_type": "code",
      "metadata": {
        "id": "Vqvy80q1mqXx",
        "colab_type": "code",
        "colab": {
          "base_uri": "https://localhost:8080/",
          "height": 184
        },
        "outputId": "fe1a38c2-0d48-4f18-c6c4-9ab1ede2ecd2"
      },
      "source": [
        "\"\"\"\n",
        "Combining each column of articles into one paragraph\n",
        "with loop iteration for the entire dataset\n",
        "\"\"\"\n",
        "\n",
        "headline = []\n",
        "\n",
        "for row in range(0,len(data[index])):   #len(data[index])=1611\n",
        "  headline.append(' '.join(str(x) for x in data.iloc[row,0:25]))\n",
        "\n",
        "#notice that headline[0](the first date), \n",
        "#the 25 articles have been compiled into one paragraph\n",
        "headline[-1]"
      ],
      "execution_count": 107,
      "outputs": [
        {
          "output_type": "execute_result",
          "data": {
            "application/vnd.google.colaboratory.intrinsic": {
              "type": "string"
            },
            "text/plain": [
              "'airasia flight found at the bottom of the java sea north korean defector details  human experiments     use of mentally and physically handicapped children in chemical weapons tests  the last straw  korean air ex executive cho hyun ah arrested   earlier she ordered a plane to turn back on the runway in new york after nuts were served in a bag  not on a plate south korean to drop sony film  the interview  in north korea by balloon u s  opening of oil export widens battle  the obama administration has opened a new front in the global battle for oil market share  effectively clearing the way for the shipment of as much as a million barrels per day of ultra light u s  crude to the rest of the world fbi agents investigating the sony pictures hack were briefed monday by a security firm that says its research points to laid off sony staff  not north korea  as the prepatrator indian government orders blocking of    websites including github  archive org  sourceforge russia annual inflation jumps to       as rouble falls wikileaks claims employees google mail  metadata seized by us government  updated  militant mistakenly broadcasts his location armed bandits rob     tourists on venezuela beach venezuela confirms recession  inflation hits      percent in nov palestinian un resolution fails more non mexicans than mexicans apprehended at u s  border in       new study finds belarus eager to normalize relations with west newly published nsa documents show agency could grab all skype traffic britain says it cannot support new palestinian un draft resolution bolivias morales  us  backs drug trafficking  euro zone politicians are not obliged to rescue greece as the country is no longer of systemic importance to the single currency bloc  a senior member of german chancellor angela merkel s party was quoted as saying  greece dissolves parliament to prepare for early elections german chancellor angela merkel in a new year s address deplored the rise of a right wing populist movement  saying its leaders have  prejudice  coldness  even hatred in their hearts   al shabaab leader killed in u s  air strike in mogadishu new solar power material converts    percent of captured light into heat china launches website laying claim to senkaku islands at least    killed in yemen suicide bombing'"
            ]
          },
          "metadata": {
            "tags": []
          },
          "execution_count": 107
        }
      ]
    },
    {
      "cell_type": "markdown",
      "metadata": {
        "id": "npXW1QUq7665",
        "colab_type": "text"
      },
      "source": [
        "Bag of Words\n",
        "\n",
        "Theory is that the more frequent a word, the more important the word might be.\n",
        "Therefore, a method to determine significant words in a text.\n",
        "\n"
      ]
    },
    {
      "cell_type": "code",
      "metadata": {
        "id": "8Yi2mBlAo5fy",
        "colab_type": "code",
        "colab": {}
      },
      "source": [
        "\"\"\"\n",
        "Implement Bag of Words\n",
        "\"\"\"\n",
        "#https://scikit-learn.org/stable/modules/generated/sklearn.feature_extraction.text.CountVectorizer.html#\n",
        "\n",
        "countvector = CountVectorizer(ngram_range=(2,2))\n",
        "#(1, 1) means only unigrams, (1, 2) means unigrams and bigrams, and (2, 2) means only bigrams. \n",
        "\n",
        "traindataset = countvector.fit_transform(headline)"
      ],
      "execution_count": 108,
      "outputs": []
    },
    {
      "cell_type": "code",
      "metadata": {
        "id": "t9JTk98xp6HP",
        "colab_type": "code",
        "colab": {
          "base_uri": "https://localhost:8080/",
          "height": 165
        },
        "outputId": "46411147-7e39-4b2b-987d-cb299f1905f9"
      },
      "source": [
        "\"\"\"\n",
        "RandomForest Classifier\n",
        "\"\"\"\n",
        "randomclassifier = RandomForestClassifier(n_estimators = 200, criterion = 'entropy')\n",
        "randomclassifier.fit(traindataset,train['Label'])"
      ],
      "execution_count": 109,
      "outputs": [
        {
          "output_type": "execute_result",
          "data": {
            "text/plain": [
              "RandomForestClassifier(bootstrap=True, ccp_alpha=0.0, class_weight=None,\n",
              "                       criterion='entropy', max_depth=None, max_features='auto',\n",
              "                       max_leaf_nodes=None, max_samples=None,\n",
              "                       min_impurity_decrease=0.0, min_impurity_split=None,\n",
              "                       min_samples_leaf=1, min_samples_split=2,\n",
              "                       min_weight_fraction_leaf=0.0, n_estimators=200,\n",
              "                       n_jobs=None, oob_score=False, random_state=None,\n",
              "                       verbose=0, warm_start=False)"
            ]
          },
          "metadata": {
            "tags": []
          },
          "execution_count": 109
        }
      ]
    },
    {
      "cell_type": "code",
      "metadata": {
        "id": "Nu09LoWTrvlA",
        "colab_type": "code",
        "colab": {}
      },
      "source": [
        "\"\"\"\n",
        "Predict for the Test Dataset\n",
        "\"\"\"\n",
        "test_transformed = []\n",
        "\n",
        "for row in range(0,len(test.index)):\n",
        "  test_transformed.append(' '.join(str(x) for x in test.iloc[row,2:27]))\n",
        "\n",
        "test_dataset = countvector.transform(test_transformed)\n",
        "\n",
        "predictions = randomclassifier.predict(test_dataset)"
      ],
      "execution_count": 110,
      "outputs": []
    },
    {
      "cell_type": "code",
      "metadata": {
        "id": "nDP0Yt6YBmat",
        "colab_type": "code",
        "colab": {
          "base_uri": "https://localhost:8080/",
          "height": 36
        },
        "outputId": "46c003f4-5505-49c4-c1fa-10ff77c1d744"
      },
      "source": [
        "print(predictions.shape)"
      ],
      "execution_count": 116,
      "outputs": [
        {
          "output_type": "stream",
          "text": [
            "(378,)\n"
          ],
          "name": "stdout"
        }
      ]
    },
    {
      "cell_type": "code",
      "metadata": {
        "id": "k961KPqIc_66",
        "colab_type": "code",
        "colab": {
          "base_uri": "https://localhost:8080/",
          "height": 351
        },
        "outputId": "a4e88865-9466-449d-b6fb-bf09aa00e001"
      },
      "source": [
        "predictions"
      ],
      "execution_count": 111,
      "outputs": [
        {
          "output_type": "execute_result",
          "data": {
            "text/plain": [
              "array([1, 1, 1, 1, 1, 1, 1, 1, 1, 1, 1, 1, 1, 1, 1, 1, 0, 1, 1, 1, 1, 1,\n",
              "       1, 1, 1, 1, 1, 1, 1, 1, 1, 1, 0, 1, 1, 1, 1, 1, 1, 1, 1, 1, 1, 1,\n",
              "       1, 1, 1, 1, 1, 1, 1, 1, 1, 0, 1, 1, 1, 1, 1, 1, 1, 1, 1, 1, 1, 1,\n",
              "       1, 1, 1, 1, 1, 1, 1, 1, 1, 1, 1, 1, 1, 1, 1, 1, 1, 1, 1, 1, 1, 1,\n",
              "       1, 1, 1, 1, 1, 1, 1, 1, 1, 1, 1, 1, 1, 1, 1, 1, 1, 1, 1, 1, 1, 1,\n",
              "       1, 1, 1, 1, 0, 1, 1, 1, 1, 1, 1, 1, 1, 1, 1, 1, 1, 1, 1, 1, 1, 1,\n",
              "       1, 1, 1, 1, 1, 1, 0, 1, 1, 1, 1, 1, 1, 1, 1, 1, 1, 1, 1, 1, 1, 0,\n",
              "       1, 1, 1, 1, 1, 1, 1, 1, 1, 1, 1, 1, 1, 1, 1, 1, 1, 1, 1, 1, 1, 1,\n",
              "       1, 1, 1, 1, 1, 0, 1, 1, 1, 1, 1, 1, 1, 1, 1, 1, 1, 1, 1, 1, 1, 1,\n",
              "       1, 1, 1, 1, 1, 1, 1, 1, 1, 1, 1, 1, 1, 1, 1, 1, 1, 1, 1, 1, 1, 1,\n",
              "       1, 1, 1, 1, 1, 1, 1, 1, 1, 1, 1, 1, 1, 1, 1, 1, 1, 1, 1, 1, 1, 1,\n",
              "       1, 1, 1, 1, 1, 1, 1, 1, 1, 1, 1, 1, 1, 1, 1, 1, 1, 1, 1, 1, 1, 1,\n",
              "       1, 1, 1, 1, 1, 1, 1, 1, 1, 1, 1, 1, 1, 1, 1, 1, 1, 1, 1, 1, 1, 1,\n",
              "       1, 1, 1, 1, 1, 1, 1, 1, 1, 1, 1, 1, 1, 1, 1, 1, 1, 1, 1, 1, 1, 1,\n",
              "       1, 1, 1, 1, 1, 1, 1, 1, 1, 1, 1, 1, 1, 1, 1, 1, 1, 1, 1, 1, 1, 1,\n",
              "       1, 1, 1, 1, 1, 1, 1, 1, 1, 1, 1, 1, 1, 1, 1, 1, 1, 1, 1, 1, 1, 1,\n",
              "       1, 1, 1, 1, 1, 1, 1, 1, 1, 1, 1, 1, 1, 1, 1, 1, 1, 1, 1, 1, 1, 1,\n",
              "       1, 1, 1, 1])"
            ]
          },
          "metadata": {
            "tags": []
          },
          "execution_count": 111
        }
      ]
    },
    {
      "cell_type": "code",
      "metadata": {
        "id": "GnT5jdMjuoqg",
        "colab_type": "code",
        "colab": {
          "base_uri": "https://localhost:8080/",
          "height": 54
        },
        "outputId": "b955602e-0898-4d95-dc3d-7469863d4591"
      },
      "source": [
        "matrix = confusion_matrix(test['Label'],predictions)\n",
        "print (matrix)"
      ],
      "execution_count": 113,
      "outputs": [
        {
          "output_type": "stream",
          "text": [
            "[[  5 180]\n",
            " [  2 191]]\n"
          ],
          "name": "stdout"
        }
      ]
    },
    {
      "cell_type": "code",
      "metadata": {
        "id": "J4xlMg08u8ue",
        "colab_type": "code",
        "colab": {
          "base_uri": "https://localhost:8080/",
          "height": 36
        },
        "outputId": "b632e603-982a-484f-ef56-ddb51ea9216c"
      },
      "source": [
        "score = accuracy_score(test['Label'],predictions)\n",
        "print (score)"
      ],
      "execution_count": 114,
      "outputs": [
        {
          "output_type": "stream",
          "text": [
            "0.5185185185185185\n"
          ],
          "name": "stdout"
        }
      ]
    },
    {
      "cell_type": "code",
      "metadata": {
        "id": "E-eVYotfvFzC",
        "colab_type": "code",
        "colab": {
          "base_uri": "https://localhost:8080/",
          "height": 184
        },
        "outputId": "5b7cc6e0-22b2-42d4-ff8f-e765e7c5be89"
      },
      "source": [
        "report = classification_report(test['Label'],predictions)\n",
        "print(report)"
      ],
      "execution_count": 115,
      "outputs": [
        {
          "output_type": "stream",
          "text": [
            "              precision    recall  f1-score   support\n",
            "\n",
            "           0       0.71      0.03      0.05       185\n",
            "           1       0.51      0.99      0.68       193\n",
            "\n",
            "    accuracy                           0.52       378\n",
            "   macro avg       0.61      0.51      0.36       378\n",
            "weighted avg       0.61      0.52      0.37       378\n",
            "\n"
          ],
          "name": "stdout"
        }
      ]
    }
  ]
}