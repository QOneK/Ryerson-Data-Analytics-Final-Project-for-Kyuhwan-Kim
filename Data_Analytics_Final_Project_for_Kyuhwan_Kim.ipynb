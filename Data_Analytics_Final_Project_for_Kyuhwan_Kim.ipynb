{
  "nbformat": 4,
  "nbformat_minor": 0,
  "metadata": {
    "colab": {
      "name": "Data_Analytics_Final_Project_for_Kyuhwan_Kim.ipynb",
      "provenance": [],
      "collapsed_sections": [
        "RfmhbCIM_m1w",
        "SxzvJgVi1Gri"
      ]
    },
    "kernelspec": {
      "name": "python3",
      "display_name": "Python 3"
    }
  },
  "cells": [
    {
      "cell_type": "markdown",
      "metadata": {
        "id": "XjjSNOqqryQR",
        "colab_type": "text"
      },
      "source": [
        "**Data Analytics Final Project for Kyuhwan Kim**\n",
        "\n",
        "---\n",
        "Dateset can be found at:\n",
        "https://www.kaggle.com/aaron7sun/stocknews\n"
      ]
    },
    {
      "cell_type": "markdown",
      "metadata": {
        "id": "fgS8sof6tXH0",
        "colab_type": "text"
      },
      "source": [
        "# Importing files into Google Colabs\n",
        "\n",
        "---\n",
        "\n"
      ]
    },
    {
      "cell_type": "markdown",
      "metadata": {
        "id": "JLmyhqc_sEZP",
        "colab_type": "text"
      },
      "source": [
        "This code allows you to connect Google Colabs with Google Drive. This method was done so that the files do not need to be inputted everytime Colabs was run. "
      ]
    },
    {
      "cell_type": "code",
      "metadata": {
        "id": "-06hbvJ4siBF",
        "colab_type": "code",
        "colab": {
          "base_uri": "https://localhost:8080/",
          "height": 36
        },
        "outputId": "1b2b6333-9cf4-494b-c18c-242c3d0aff98"
      },
      "source": [
        "from google.colab import drive\n",
        "drive.mount('/content/drive')"
      ],
      "execution_count": 2,
      "outputs": [
        {
          "output_type": "stream",
          "text": [
            "Drive already mounted at /content/drive; to attempt to forcibly remount, call drive.mount(\"/content/drive\", force_remount=True).\n"
          ],
          "name": "stdout"
        }
      ]
    },
    {
      "cell_type": "markdown",
      "metadata": {
        "id": "Ek6SjmxStO8V",
        "colab_type": "text"
      },
      "source": [
        "** Use this portion of code if you cannot connect Google Drive and want to manually upload the dataset files**\n",
        "\n",
        "To use this portion of code, uncomment the # signs"
      ]
    },
    {
      "cell_type": "code",
      "metadata": {
        "id": "fhSB46yNrDvd",
        "colab_type": "code",
        "colab": {}
      },
      "source": [
        "#from google.colab import files\n",
        "#uploaded = files.upload()"
      ],
      "execution_count": 3,
      "outputs": []
    },
    {
      "cell_type": "markdown",
      "metadata": {
        "id": "GqGn9ptvvKfx",
        "colab_type": "text"
      },
      "source": [
        "# Loading Python Libraries and CSV files, then running EDA (Exploratory Data Analysis)\n",
        "\n",
        "---\n",
        "\n"
      ]
    },
    {
      "cell_type": "markdown",
      "metadata": {
        "id": "ZsUoDbqCuohW",
        "colab_type": "text"
      },
      "source": [
        "Import the necessary libraries: Pandas, Numpy, Matplotlib"
      ]
    },
    {
      "cell_type": "code",
      "metadata": {
        "id": "KQjfSPunutRA",
        "colab_type": "code",
        "colab": {
          "base_uri": "https://localhost:8080/",
          "height": 74
        },
        "outputId": "268ada28-944d-4357-ebb6-7a20d3080f6c"
      },
      "source": [
        "import pandas as pd\n",
        "import numpy as np\n",
        "from matplotlib import pyplot as plt\n",
        "\n",
        "from sklearn.feature_extraction.text import CountVectorizer\n",
        "from sklearn.ensemble import RandomForestClassifier\n",
        "from sklearn.metrics import classification,confusion_matrix,accuracy_score"
      ],
      "execution_count": 124,
      "outputs": [
        {
          "output_type": "stream",
          "text": [
            "/usr/local/lib/python3.6/dist-packages/sklearn/utils/deprecation.py:144: FutureWarning: The sklearn.metrics.classification module is  deprecated in version 0.22 and will be removed in version 0.24. The corresponding classes / functions should instead be imported from sklearn.metrics. Anything that cannot be imported from sklearn.metrics is now part of the private API.\n",
            "  warnings.warn(message, FutureWarning)\n"
          ],
          "name": "stderr"
        }
      ]
    },
    {
      "cell_type": "markdown",
      "metadata": {
        "id": "PZtfHWiPx4Dr",
        "colab_type": "text"
      },
      "source": [
        "Read the .csv files and put them into variables"
      ]
    },
    {
      "cell_type": "code",
      "metadata": {
        "id": "ZArDfVj8x_-V",
        "colab_type": "code",
        "colab": {}
      },
      "source": [
        "reddit = pd.read_csv('/content/drive/My Drive/Colab Notebooks/Dataset/RedditNews.csv')\n",
        "djia = pd.read_csv('/content/drive/My Drive/Colab Notebooks/Dataset/upload_DJIA_table.csv')\n",
        "reddit_djia = pd.read_csv('/content/drive/My Drive/Colab Notebooks/Dataset/Combined_News_DJIA.csv')"
      ],
      "execution_count": 5,
      "outputs": []
    },
    {
      "cell_type": "markdown",
      "metadata": {
        "id": "z911os0W-scj",
        "colab_type": "text"
      },
      "source": [
        "## EDA (Exploratory Data Analysis)"
      ]
    },
    {
      "cell_type": "markdown",
      "metadata": {
        "id": "RfmhbCIM_m1w",
        "colab_type": "text"
      },
      "source": [
        "### EDA for Reddit Dataframe"
      ]
    },
    {
      "cell_type": "markdown",
      "metadata": {
        "id": "W5Cy4KJ-qSLC",
        "colab_type": "text"
      },
      "source": [
        ".info() method allowed to see what the name of attributes, number of rows and the data types of the columns\n",
        "\n"
      ]
    },
    {
      "cell_type": "code",
      "metadata": {
        "id": "NigrALB4_u2K",
        "colab_type": "code",
        "colab": {
          "base_uri": "https://localhost:8080/",
          "height": 0
        },
        "outputId": "05f6c5e2-eeff-4d48-f54c-304d17eec010"
      },
      "source": [
        "reddit.info()"
      ],
      "execution_count": 6,
      "outputs": [
        {
          "output_type": "stream",
          "text": [
            "<class 'pandas.core.frame.DataFrame'>\n",
            "RangeIndex: 73608 entries, 0 to 73607\n",
            "Data columns (total 2 columns):\n",
            " #   Column  Non-Null Count  Dtype \n",
            "---  ------  --------------  ----- \n",
            " 0   Date    73608 non-null  object\n",
            " 1   News    73608 non-null  object\n",
            "dtypes: object(2)\n",
            "memory usage: 1.1+ MB\n"
          ],
          "name": "stdout"
        }
      ]
    },
    {
      "cell_type": "markdown",
      "metadata": {
        "id": "-eEQAVIYqm_M",
        "colab_type": "text"
      },
      "source": [
        "Used the .min() and .max() method to find the range of the dates"
      ]
    },
    {
      "cell_type": "code",
      "metadata": {
        "id": "Bk9KZ4eE5-mu",
        "colab_type": "code",
        "colab": {
          "base_uri": "https://localhost:8080/",
          "height": 0
        },
        "outputId": "de31bc4b-0fb8-4e11-a84b-af5aff6b93cd"
      },
      "source": [
        "#to find the minimum date of reddit\n",
        "reddit['Date'].min()"
      ],
      "execution_count": 7,
      "outputs": [
        {
          "output_type": "execute_result",
          "data": {
            "application/vnd.google.colaboratory.intrinsic": {
              "type": "string"
            },
            "text/plain": [
              "'2008-06-08'"
            ]
          },
          "metadata": {
            "tags": []
          },
          "execution_count": 7
        }
      ]
    },
    {
      "cell_type": "code",
      "metadata": {
        "id": "3FQ2h7FY-lcg",
        "colab_type": "code",
        "colab": {
          "base_uri": "https://localhost:8080/",
          "height": 0
        },
        "outputId": "a8177699-3408-4c9c-c907-1a6dbfa8fa81"
      },
      "source": [
        "#to find the maximum date of reddit\n",
        "reddit['Date'].max()"
      ],
      "execution_count": 8,
      "outputs": [
        {
          "output_type": "execute_result",
          "data": {
            "application/vnd.google.colaboratory.intrinsic": {
              "type": "string"
            },
            "text/plain": [
              "'2016-07-01'"
            ]
          },
          "metadata": {
            "tags": []
          },
          "execution_count": 8
        }
      ]
    },
    {
      "cell_type": "markdown",
      "metadata": {
        "id": "0A4ZySX0quoM",
        "colab_type": "text"
      },
      "source": [
        ".nunique() method allowed to see how many unique dates and articles that were present"
      ]
    },
    {
      "cell_type": "code",
      "metadata": {
        "id": "IbEJDHDBCSqe",
        "colab_type": "code",
        "colab": {
          "base_uri": "https://localhost:8080/",
          "height": 0
        },
        "outputId": "8b9bc407-fd2c-4b58-88f0-e00d74b067bb"
      },
      "source": [
        "#number of unique inputs \n",
        "reddit.nunique()"
      ],
      "execution_count": 9,
      "outputs": [
        {
          "output_type": "execute_result",
          "data": {
            "text/plain": [
              "Date     2943\n",
              "News    73537\n",
              "dtype: int64"
            ]
          },
          "metadata": {
            "tags": []
          },
          "execution_count": 9
        }
      ]
    },
    {
      "cell_type": "markdown",
      "metadata": {
        "id": "ZcFySJpb_2lG",
        "colab_type": "text"
      },
      "source": [
        "### EDA for DJIA Dataframe"
      ]
    },
    {
      "cell_type": "markdown",
      "metadata": {
        "id": "wNgHZVXYq6RE",
        "colab_type": "text"
      },
      "source": [
        ".info() method allowed to see what the name of attributes, number of rows and the data types of the columns"
      ]
    },
    {
      "cell_type": "code",
      "metadata": {
        "id": "oEPsrmjQ_1Jl",
        "colab_type": "code",
        "colab": {
          "base_uri": "https://localhost:8080/",
          "height": 279
        },
        "outputId": "69928529-1208-4a35-e821-0f19fe2b1bda"
      },
      "source": [
        "djia.info()"
      ],
      "execution_count": 10,
      "outputs": [
        {
          "output_type": "stream",
          "text": [
            "<class 'pandas.core.frame.DataFrame'>\n",
            "RangeIndex: 1989 entries, 0 to 1988\n",
            "Data columns (total 7 columns):\n",
            " #   Column     Non-Null Count  Dtype  \n",
            "---  ------     --------------  -----  \n",
            " 0   Date       1989 non-null   object \n",
            " 1   Open       1989 non-null   float64\n",
            " 2   High       1989 non-null   float64\n",
            " 3   Low        1989 non-null   float64\n",
            " 4   Close      1989 non-null   float64\n",
            " 5   Volume     1989 non-null   int64  \n",
            " 6   Adj Close  1989 non-null   float64\n",
            "dtypes: float64(5), int64(1), object(1)\n",
            "memory usage: 108.9+ KB\n"
          ],
          "name": "stdout"
        }
      ]
    },
    {
      "cell_type": "markdown",
      "metadata": {
        "id": "u3ofN9Uyq-Cd",
        "colab_type": "text"
      },
      "source": [
        "Used .min() and .max methods to find the range of the dates. "
      ]
    },
    {
      "cell_type": "code",
      "metadata": {
        "id": "yiZgKPFGASYd",
        "colab_type": "code",
        "colab": {
          "base_uri": "https://localhost:8080/",
          "height": 36
        },
        "outputId": "51bee2a6-2a50-427b-f678-d763df12a387"
      },
      "source": [
        "djia['Date'].min()"
      ],
      "execution_count": 11,
      "outputs": [
        {
          "output_type": "execute_result",
          "data": {
            "application/vnd.google.colaboratory.intrinsic": {
              "type": "string"
            },
            "text/plain": [
              "'2008-08-08'"
            ]
          },
          "metadata": {
            "tags": []
          },
          "execution_count": 11
        }
      ]
    },
    {
      "cell_type": "code",
      "metadata": {
        "id": "BSbsBanyIBCA",
        "colab_type": "code",
        "colab": {
          "base_uri": "https://localhost:8080/",
          "height": 36
        },
        "outputId": "082a643c-254c-4174-f29a-9ab4147fc91a"
      },
      "source": [
        "djia['Date'].max()"
      ],
      "execution_count": 12,
      "outputs": [
        {
          "output_type": "execute_result",
          "data": {
            "application/vnd.google.colaboratory.intrinsic": {
              "type": "string"
            },
            "text/plain": [
              "'2016-07-01'"
            ]
          },
          "metadata": {
            "tags": []
          },
          "execution_count": 12
        }
      ]
    },
    {
      "cell_type": "markdown",
      "metadata": {
        "id": "PlsvbMb5rLJa",
        "colab_type": "text"
      },
      "source": [
        ".describe() method allowed to display rudimentary statistics about the datasets. Based on experimentation, this works only with numeric datatypes. "
      ]
    },
    {
      "cell_type": "code",
      "metadata": {
        "id": "JyZ06voxJ3ad",
        "colab_type": "code",
        "colab": {
          "base_uri": "https://localhost:8080/",
          "height": 300
        },
        "outputId": "36ce599c-e2c1-49e9-cb6b-04b9485a3bcf"
      },
      "source": [
        "djia.describe()"
      ],
      "execution_count": 13,
      "outputs": [
        {
          "output_type": "execute_result",
          "data": {
            "text/html": [
              "<div>\n",
              "<style scoped>\n",
              "    .dataframe tbody tr th:only-of-type {\n",
              "        vertical-align: middle;\n",
              "    }\n",
              "\n",
              "    .dataframe tbody tr th {\n",
              "        vertical-align: top;\n",
              "    }\n",
              "\n",
              "    .dataframe thead th {\n",
              "        text-align: right;\n",
              "    }\n",
              "</style>\n",
              "<table border=\"1\" class=\"dataframe\">\n",
              "  <thead>\n",
              "    <tr style=\"text-align: right;\">\n",
              "      <th></th>\n",
              "      <th>Open</th>\n",
              "      <th>High</th>\n",
              "      <th>Low</th>\n",
              "      <th>Close</th>\n",
              "      <th>Volume</th>\n",
              "      <th>Adj Close</th>\n",
              "    </tr>\n",
              "  </thead>\n",
              "  <tbody>\n",
              "    <tr>\n",
              "      <th>count</th>\n",
              "      <td>1989.000000</td>\n",
              "      <td>1989.000000</td>\n",
              "      <td>1989.000000</td>\n",
              "      <td>1989.000000</td>\n",
              "      <td>1.989000e+03</td>\n",
              "      <td>1989.000000</td>\n",
              "    </tr>\n",
              "    <tr>\n",
              "      <th>mean</th>\n",
              "      <td>13459.116048</td>\n",
              "      <td>13541.303173</td>\n",
              "      <td>13372.931728</td>\n",
              "      <td>13463.032255</td>\n",
              "      <td>1.628110e+08</td>\n",
              "      <td>13463.032255</td>\n",
              "    </tr>\n",
              "    <tr>\n",
              "      <th>std</th>\n",
              "      <td>3143.281634</td>\n",
              "      <td>3136.271725</td>\n",
              "      <td>3150.420934</td>\n",
              "      <td>3144.006996</td>\n",
              "      <td>9.392343e+07</td>\n",
              "      <td>3144.006996</td>\n",
              "    </tr>\n",
              "    <tr>\n",
              "      <th>min</th>\n",
              "      <td>6547.009766</td>\n",
              "      <td>6709.609863</td>\n",
              "      <td>6469.950195</td>\n",
              "      <td>6547.049805</td>\n",
              "      <td>8.410000e+06</td>\n",
              "      <td>6547.049805</td>\n",
              "    </tr>\n",
              "    <tr>\n",
              "      <th>25%</th>\n",
              "      <td>10907.339844</td>\n",
              "      <td>11000.980469</td>\n",
              "      <td>10824.759766</td>\n",
              "      <td>10913.379883</td>\n",
              "      <td>1.000000e+08</td>\n",
              "      <td>10913.379883</td>\n",
              "    </tr>\n",
              "    <tr>\n",
              "      <th>50%</th>\n",
              "      <td>13022.049805</td>\n",
              "      <td>13088.110352</td>\n",
              "      <td>12953.129883</td>\n",
              "      <td>13025.580078</td>\n",
              "      <td>1.351700e+08</td>\n",
              "      <td>13025.580078</td>\n",
              "    </tr>\n",
              "    <tr>\n",
              "      <th>75%</th>\n",
              "      <td>16477.699219</td>\n",
              "      <td>16550.070312</td>\n",
              "      <td>16392.769531</td>\n",
              "      <td>16478.410156</td>\n",
              "      <td>1.926000e+08</td>\n",
              "      <td>16478.410156</td>\n",
              "    </tr>\n",
              "    <tr>\n",
              "      <th>max</th>\n",
              "      <td>18315.060547</td>\n",
              "      <td>18351.359375</td>\n",
              "      <td>18272.560547</td>\n",
              "      <td>18312.390625</td>\n",
              "      <td>6.749200e+08</td>\n",
              "      <td>18312.390625</td>\n",
              "    </tr>\n",
              "  </tbody>\n",
              "</table>\n",
              "</div>"
            ],
            "text/plain": [
              "               Open          High  ...        Volume     Adj Close\n",
              "count   1989.000000   1989.000000  ...  1.989000e+03   1989.000000\n",
              "mean   13459.116048  13541.303173  ...  1.628110e+08  13463.032255\n",
              "std     3143.281634   3136.271725  ...  9.392343e+07   3144.006996\n",
              "min     6547.009766   6709.609863  ...  8.410000e+06   6547.049805\n",
              "25%    10907.339844  11000.980469  ...  1.000000e+08  10913.379883\n",
              "50%    13022.049805  13088.110352  ...  1.351700e+08  13025.580078\n",
              "75%    16477.699219  16550.070312  ...  1.926000e+08  16478.410156\n",
              "max    18315.060547  18351.359375  ...  6.749200e+08  18312.390625\n",
              "\n",
              "[8 rows x 6 columns]"
            ]
          },
          "metadata": {
            "tags": []
          },
          "execution_count": 13
        }
      ]
    },
    {
      "cell_type": "markdown",
      "metadata": {
        "id": "tupcWfNlYzx8",
        "colab_type": "text"
      },
      "source": [
        "Visual Representation DIJA (Dow Jones Industrial Average) \"Adj Close\" Trends\n",
        "(It seems that there are up and down movements but a general downward trend with recovery at the end)"
      ]
    },
    {
      "cell_type": "code",
      "metadata": {
        "id": "z-yRANONY2D5",
        "colab_type": "code",
        "colab": {
          "base_uri": "https://localhost:8080/",
          "height": 265
        },
        "outputId": "49039e03-d83d-4a29-a680-969a98c1ac64"
      },
      "source": [
        "#this takes some time to run\n",
        "plt.plot(djia['Date'],djia['Adj Close'])\n",
        "plt.show()"
      ],
      "execution_count": 14,
      "outputs": [
        {
          "output_type": "display_data",
          "data": {
            "image/png": "[encoded data removed]",
            "text/plain": [
              "<Figure size 432x288 with 1 Axes>"
            ]
          },
          "metadata": {
            "tags": [],
            "needs_background": "light"
          }
        }
      ]
    },
    {
      "cell_type": "markdown",
      "metadata": {
        "id": "vAizvbHSMvmV",
        "colab_type": "text"
      },
      "source": [
        "### EDA for reddit_djia Dataframe \n",
        "This is the \"cleaned\" dataset; combination of both news and DJIA (adj price) label. "
      ]
    },
    {
      "cell_type": "code",
      "metadata": {
        "id": "6Ie202HXM1zx",
        "colab_type": "code",
        "colab": {
          "base_uri": "https://localhost:8080/",
          "height": 672
        },
        "outputId": "cb6504db-d98b-4177-e7f6-380d6d6274c9"
      },
      "source": [
        "reddit_djia.info()"
      ],
      "execution_count": 15,
      "outputs": [
        {
          "output_type": "stream",
          "text": [
            "<class 'pandas.core.frame.DataFrame'>\n",
            "RangeIndex: 1989 entries, 0 to 1988\n",
            "Data columns (total 28 columns):\n",
            " #   Column       Non-Null Count  Dtype  \n",
            "---  ------       --------------  -----  \n",
            " 0   Date         1989 non-null   object \n",
            " 1   Label        1989 non-null   int64  \n",
            " 2   Top1         1989 non-null   object \n",
            " 3   Top2         1989 non-null   object \n",
            " 4   Top3         1989 non-null   object \n",
            " 5   Top4         1989 non-null   object \n",
            " 6   Top5         1989 non-null   object \n",
            " 7   Top6         1989 non-null   object \n",
            " 8   Top7         1989 non-null   object \n",
            " 9   Top8         1989 non-null   object \n",
            " 10  Top9         1989 non-null   object \n",
            " 11  Top10        1989 non-null   object \n",
            " 12  Top11        1989 non-null   object \n",
            " 13  Top12        1989 non-null   object \n",
            " 14  Top13        1989 non-null   object \n",
            " 15  Top14        1989 non-null   object \n",
            " 16  Top15        1989 non-null   object \n",
            " 17  Top16        1989 non-null   object \n",
            " 18  Top17        1989 non-null   object \n",
            " 19  Top18        1989 non-null   object \n",
            " 20  Top19        1989 non-null   object \n",
            " 21  Top20        1989 non-null   object \n",
            " 22  Top21        1989 non-null   object \n",
            " 23  Top22        1989 non-null   object \n",
            " 24  Top23        1988 non-null   object \n",
            " 25  Top24        1986 non-null   object \n",
            " 26  Top25        1986 non-null   object \n",
            " 27  Unnamed: 27  0 non-null      float64\n",
            "dtypes: float64(1), int64(1), object(26)\n",
            "memory usage: 435.2+ KB\n"
          ],
          "name": "stdout"
        }
      ]
    },
    {
      "cell_type": "code",
      "metadata": {
        "id": "Vx_zvRZUb2pT",
        "colab_type": "code",
        "colab": {
          "base_uri": "https://localhost:8080/",
          "height": 300
        },
        "outputId": "615b898f-c60a-4b5d-9be8-dc4e12de8f4e"
      },
      "source": [
        "reddit_djia.describe()"
      ],
      "execution_count": 16,
      "outputs": [
        {
          "output_type": "execute_result",
          "data": {
            "text/html": [
              "<div>\n",
              "<style scoped>\n",
              "    .dataframe tbody tr th:only-of-type {\n",
              "        vertical-align: middle;\n",
              "    }\n",
              "\n",
              "    .dataframe tbody tr th {\n",
              "        vertical-align: top;\n",
              "    }\n",
              "\n",
              "    .dataframe thead th {\n",
              "        text-align: right;\n",
              "    }\n",
              "</style>\n",
              "<table border=\"1\" class=\"dataframe\">\n",
              "  <thead>\n",
              "    <tr style=\"text-align: right;\">\n",
              "      <th></th>\n",
              "      <th>Label</th>\n",
              "      <th>Unnamed: 27</th>\n",
              "    </tr>\n",
              "  </thead>\n",
              "  <tbody>\n",
              "    <tr>\n",
              "      <th>count</th>\n",
              "      <td>1989.000000</td>\n",
              "      <td>0.0</td>\n",
              "    </tr>\n",
              "    <tr>\n",
              "      <th>mean</th>\n",
              "      <td>0.535445</td>\n",
              "      <td>NaN</td>\n",
              "    </tr>\n",
              "    <tr>\n",
              "      <th>std</th>\n",
              "      <td>0.498867</td>\n",
              "      <td>NaN</td>\n",
              "    </tr>\n",
              "    <tr>\n",
              "      <th>min</th>\n",
              "      <td>0.000000</td>\n",
              "      <td>NaN</td>\n",
              "    </tr>\n",
              "    <tr>\n",
              "      <th>25%</th>\n",
              "      <td>0.000000</td>\n",
              "      <td>NaN</td>\n",
              "    </tr>\n",
              "    <tr>\n",
              "      <th>50%</th>\n",
              "      <td>1.000000</td>\n",
              "      <td>NaN</td>\n",
              "    </tr>\n",
              "    <tr>\n",
              "      <th>75%</th>\n",
              "      <td>1.000000</td>\n",
              "      <td>NaN</td>\n",
              "    </tr>\n",
              "    <tr>\n",
              "      <th>max</th>\n",
              "      <td>1.000000</td>\n",
              "      <td>NaN</td>\n",
              "    </tr>\n",
              "  </tbody>\n",
              "</table>\n",
              "</div>"
            ],
            "text/plain": [
              "             Label  Unnamed: 27\n",
              "count  1989.000000          0.0\n",
              "mean      0.535445          NaN\n",
              "std       0.498867          NaN\n",
              "min       0.000000          NaN\n",
              "25%       0.000000          NaN\n",
              "50%       1.000000          NaN\n",
              "75%       1.000000          NaN\n",
              "max       1.000000          NaN"
            ]
          },
          "metadata": {
            "tags": []
          },
          "execution_count": 16
        }
      ]
    },
    {
      "cell_type": "markdown",
      "metadata": {
        "id": "xAckvakHdia2",
        "colab_type": "text"
      },
      "source": [
        "How many of the rows are 1? 0? in the class label"
      ]
    },
    {
      "cell_type": "code",
      "metadata": {
        "id": "f-EwNJEBcHA8",
        "colab_type": "code",
        "colab": {
          "base_uri": "https://localhost:8080/",
          "height": 73
        },
        "outputId": "08c2c6a0-193d-4bad-d4f6-1a211add3990"
      },
      "source": [
        "reddit_djia['Label'].value_counts()"
      ],
      "execution_count": 17,
      "outputs": [
        {
          "output_type": "execute_result",
          "data": {
            "text/plain": [
              "1    1065\n",
              "0     924\n",
              "Name: Label, dtype: int64"
            ]
          },
          "metadata": {
            "tags": []
          },
          "execution_count": 17
        }
      ]
    },
    {
      "cell_type": "markdown",
      "metadata": {
        "id": "qLG3isYhs2Vu",
        "colab_type": "text"
      },
      "source": [
        "There appears to be more 1 (up) than 0 (down). However, from the trendline from DJIA Adj Price, we can see that there is actually a downward trend. Perhaps the magnitude of the up/down wasn't taken into consideration. "
      ]
    },
    {
      "cell_type": "markdown",
      "metadata": {
        "id": "eNz6pXNLtGUK",
        "colab_type": "text"
      },
      "source": [
        "This is to check the date range. From observation, we can see that the date range of the final \"cleaned\" dataset matches that of DIJA dataset. There seems to be extra erraneous data at the news dataset. "
      ]
    },
    {
      "cell_type": "code",
      "metadata": {
        "id": "Bqz2ohkXQy79",
        "colab_type": "code",
        "colab": {
          "base_uri": "https://localhost:8080/",
          "height": 36
        },
        "outputId": "d52182a4-c768-4767-aa5b-65a5a63a27ee"
      },
      "source": [
        "reddit_djia['Date'].min()"
      ],
      "execution_count": 18,
      "outputs": [
        {
          "output_type": "execute_result",
          "data": {
            "application/vnd.google.colaboratory.intrinsic": {
              "type": "string"
            },
            "text/plain": [
              "'1/10/2011'"
            ]
          },
          "metadata": {
            "tags": []
          },
          "execution_count": 18
        }
      ]
    },
    {
      "cell_type": "code",
      "metadata": {
        "id": "9WEPfQleQ_jF",
        "colab_type": "code",
        "colab": {
          "base_uri": "https://localhost:8080/",
          "height": 36
        },
        "outputId": "4638a683-5f94-4b92-ab58-f321db328c22"
      },
      "source": [
        "reddit_djia['Date'].max()"
      ],
      "execution_count": 19,
      "outputs": [
        {
          "output_type": "execute_result",
          "data": {
            "application/vnd.google.colaboratory.intrinsic": {
              "type": "string"
            },
            "text/plain": [
              "'9/9/2015'"
            ]
          },
          "metadata": {
            "tags": []
          },
          "execution_count": 19
        }
      ]
    },
    {
      "cell_type": "markdown",
      "metadata": {
        "id": "Eb8MjVI0aHNq",
        "colab_type": "text"
      },
      "source": [
        "Plot Pie graph of Label\n",
        "https://matplotlib.org/3.1.1/gallery/pie_and_polar_charts/pie_features.html"
      ]
    },
    {
      "cell_type": "code",
      "metadata": {
        "id": "hPA1XNNGbOGJ",
        "colab_type": "code",
        "colab": {
          "base_uri": "https://localhost:8080/",
          "height": 248
        },
        "outputId": "9076e7ee-6dac-4be2-c1ce-77992521df75"
      },
      "source": [
        "labels = 'DJIA Up/Maintain', 'DJIA Down'\n",
        "sizes= [1065/1989, 924/1989]\n",
        "\n",
        "fig1, ax1 = plt.subplots()\n",
        "ax1.pie(sizes, labels=labels, autopct='%1.1f%%',\n",
        "        shadow=True, startangle=90)\n",
        "ax1.axis('equal')  # Equal aspect ratio ensures that pie is drawn as a circle.\n",
        "\n",
        "plt.show()"
      ],
      "execution_count": 20,
      "outputs": [
        {
          "output_type": "display_data",
          "data": {
            "image/png": "[encoded data removed]",
            "text/plain": [
              "<Figure size 432x288 with 1 Axes>"
            ]
          },
          "metadata": {
            "tags": []
          }
        }
      ]
    },
    {
      "cell_type": "markdown",
      "metadata": {
        "id": "SxzvJgVi1Gri",
        "colab_type": "text"
      },
      "source": [
        "## Checking if there are null values "
      ]
    },
    {
      "cell_type": "markdown",
      "metadata": {
        "id": "qI2fqO_g33c9",
        "colab_type": "text"
      },
      "source": [
        "Check if there are null values that needs to be dealt with before merging the data. We can see that there were no null values. "
      ]
    },
    {
      "cell_type": "code",
      "metadata": {
        "id": "HEmngngd39Aq",
        "colab_type": "code",
        "colab": {
          "base_uri": "https://localhost:8080/",
          "height": 0
        },
        "outputId": "0536e094-4f47-47bb-f425-7b7130e7e8aa"
      },
      "source": [
        "#check null values for reddit\n",
        "reddit.isnull().values.sum()"
      ],
      "execution_count": 21,
      "outputs": [
        {
          "output_type": "execute_result",
          "data": {
            "text/plain": [
              "0"
            ]
          },
          "metadata": {
            "tags": []
          },
          "execution_count": 21
        }
      ]
    },
    {
      "cell_type": "code",
      "metadata": {
        "id": "5EdZMqWC4mlk",
        "colab_type": "code",
        "colab": {
          "base_uri": "https://localhost:8080/",
          "height": 0
        },
        "outputId": "0d8672c3-9439-4056-89c3-151cc463d921"
      },
      "source": [
        "#check null values for djia\n",
        "djia.isnull().values.sum()"
      ],
      "execution_count": 22,
      "outputs": [
        {
          "output_type": "execute_result",
          "data": {
            "text/plain": [
              "0"
            ]
          },
          "metadata": {
            "tags": []
          },
          "execution_count": 22
        }
      ]
    },
    {
      "cell_type": "markdown",
      "metadata": {
        "id": "GrAXfGzc5K_u",
        "colab_type": "text"
      },
      "source": [
        "# Combining Reddit articles with DJIA datasets to create \"cleaned, final\" dataset\n",
        "\n"
      ]
    },
    {
      "cell_type": "markdown",
      "metadata": {
        "id": "g1k3e0K1PGRi",
        "colab_type": "text"
      },
      "source": [
        "Result: \n",
        "cleaned final dataset named \"**result**\"\n",
        "\n",
        "The final cleaned dataset will be created using this procedure:\n",
        "\n",
        "a) create an extra column called 'Label' (which are the difference between proceeding day)\n",
        "\n",
        "b) using an if-statement, categorize:\n",
        "   1 (up) when DJIA increased or maintained the same\n",
        "   0 (down) when DJIA decreased\n",
        "\n",
        "c) organize the articles into the corresponding dates. This will involve grouping the articles into similar dates. \n",
        "\n",
        "d) merge the DJIA 'Label' column and the articles on 'Dates' column. "
      ]
    },
    {
      "cell_type": "markdown",
      "metadata": {
        "id": "z6S7oFWVLYro",
        "colab_type": "text"
      },
      "source": [
        "## Creating DJIA 'Label'\n",
        "\n",
        "\n"
      ]
    },
    {
      "cell_type": "markdown",
      "metadata": {
        "id": "_lV4mSS5Lx1J",
        "colab_type": "text"
      },
      "source": [
        "I have noticed that the dates of DJIA and Reddit datasets are in asc/desc order. For ease of cleaning, before the label is created, instead of desc, use asc order for the djia dataset."
      ]
    },
    {
      "cell_type": "code",
      "metadata": {
        "id": "qC_2r1u3JLmm",
        "colab_type": "code",
        "colab": {}
      },
      "source": [
        "#https://datatofish.com/sort-pandas-dataframe/\n",
        "djia.sort_values(by = ['Date'], inplace=True, ascending=True)"
      ],
      "execution_count": 23,
      "outputs": []
    },
    {
      "cell_type": "markdown",
      "metadata": {
        "id": "hTIjT_oyMB2d",
        "colab_type": "text"
      },
      "source": [
        "Copy 'Adj Close' column and run .diff() method on the column to see the day by day changes in the DJIA."
      ]
    },
    {
      "cell_type": "code",
      "metadata": {
        "id": "L_BSvnCRJQZd",
        "colab_type": "code",
        "colab": {}
      },
      "source": [
        "djia['Diff']= djia['Adj Close']\n",
        "\n",
        "#https://stackoverflow.com/questions/39479919/how-do-i-subtract-the-previous-row-from-the-current-row-in-a-pandas-dataframe-an\n",
        "djia['Diff']=djia.Diff.diff()"
      ],
      "execution_count": 24,
      "outputs": []
    },
    {
      "cell_type": "code",
      "metadata": {
        "id": "Quw5Ya9GJWye",
        "colab_type": "code",
        "colab": {}
      },
      "source": [
        "#This is run just in case there are N/A values. These will be filled with zeros. \n",
        "djia=djia.fillna(0)"
      ],
      "execution_count": 25,
      "outputs": []
    },
    {
      "cell_type": "markdown",
      "metadata": {
        "id": "sEiQIP9OMbTz",
        "colab_type": "text"
      },
      "source": [
        "This section will take the values of 'Diff' column and using if clauses, determine the value of the class variable."
      ]
    },
    {
      "cell_type": "code",
      "metadata": {
        "id": "cHN6eqRoJx9s",
        "colab_type": "code",
        "colab": {}
      },
      "source": [
        "#https://guillim.github.io/pandas/2018/10/22/Pandas-if-else-on-columns.html\n",
        "\n",
        "conditions = [\n",
        "    (djia['Diff'] >= 0.0),\n",
        "    (djia['Diff'] < 0.0)]\n",
        "choices = [int(1),int(0)]\n",
        "\n",
        "djia['Label'] = np.select(conditions, choices, default='null')"
      ],
      "execution_count": 26,
      "outputs": []
    },
    {
      "cell_type": "markdown",
      "metadata": {
        "id": "gPaEXBUZMtBO",
        "colab_type": "text"
      },
      "source": [
        "This section is to reset the index [count row from 0 onwards]. Prior to input of this code, the index would go in desc order from index 1989. "
      ]
    },
    {
      "cell_type": "code",
      "metadata": {
        "id": "4Ojxk2lYJ16l",
        "colab_type": "code",
        "colab": {
          "base_uri": "https://localhost:8080/",
          "height": 206
        },
        "outputId": "e91c9291-ff09-4e4a-cf6c-0d5dc07af5da"
      },
      "source": [
        "djia.reset_index(drop=True, inplace=True)\n",
        "djia.head()"
      ],
      "execution_count": 27,
      "outputs": [
        {
          "output_type": "execute_result",
          "data": {
            "text/html": [
              "<div>\n",
              "<style scoped>\n",
              "    .dataframe tbody tr th:only-of-type {\n",
              "        vertical-align: middle;\n",
              "    }\n",
              "\n",
              "    .dataframe tbody tr th {\n",
              "        vertical-align: top;\n",
              "    }\n",
              "\n",
              "    .dataframe thead th {\n",
              "        text-align: right;\n",
              "    }\n",
              "</style>\n",
              "<table border=\"1\" class=\"dataframe\">\n",
              "  <thead>\n",
              "    <tr style=\"text-align: right;\">\n",
              "      <th></th>\n",
              "      <th>Date</th>\n",
              "      <th>Open</th>\n",
              "      <th>High</th>\n",
              "      <th>Low</th>\n",
              "      <th>Close</th>\n",
              "      <th>Volume</th>\n",
              "      <th>Adj Close</th>\n",
              "      <th>Diff</th>\n",
              "      <th>Label</th>\n",
              "    </tr>\n",
              "  </thead>\n",
              "  <tbody>\n",
              "    <tr>\n",
              "      <th>0</th>\n",
              "      <td>2008-08-08</td>\n",
              "      <td>11432.089844</td>\n",
              "      <td>11759.959961</td>\n",
              "      <td>11388.040039</td>\n",
              "      <td>11734.320312</td>\n",
              "      <td>212830000</td>\n",
              "      <td>11734.320312</td>\n",
              "      <td>0.000000</td>\n",
              "      <td>1</td>\n",
              "    </tr>\n",
              "    <tr>\n",
              "      <th>1</th>\n",
              "      <td>2008-08-11</td>\n",
              "      <td>11729.669922</td>\n",
              "      <td>11867.110352</td>\n",
              "      <td>11675.530273</td>\n",
              "      <td>11782.349609</td>\n",
              "      <td>183190000</td>\n",
              "      <td>11782.349609</td>\n",
              "      <td>48.029297</td>\n",
              "      <td>1</td>\n",
              "    </tr>\n",
              "    <tr>\n",
              "      <th>2</th>\n",
              "      <td>2008-08-12</td>\n",
              "      <td>11781.700195</td>\n",
              "      <td>11782.349609</td>\n",
              "      <td>11601.519531</td>\n",
              "      <td>11642.469727</td>\n",
              "      <td>173590000</td>\n",
              "      <td>11642.469727</td>\n",
              "      <td>-139.879882</td>\n",
              "      <td>0</td>\n",
              "    </tr>\n",
              "    <tr>\n",
              "      <th>3</th>\n",
              "      <td>2008-08-13</td>\n",
              "      <td>11632.809570</td>\n",
              "      <td>11633.780273</td>\n",
              "      <td>11453.339844</td>\n",
              "      <td>11532.959961</td>\n",
              "      <td>182550000</td>\n",
              "      <td>11532.959961</td>\n",
              "      <td>-109.509766</td>\n",
              "      <td>0</td>\n",
              "    </tr>\n",
              "    <tr>\n",
              "      <th>4</th>\n",
              "      <td>2008-08-14</td>\n",
              "      <td>11532.070312</td>\n",
              "      <td>11718.280273</td>\n",
              "      <td>11450.889648</td>\n",
              "      <td>11615.929688</td>\n",
              "      <td>159790000</td>\n",
              "      <td>11615.929688</td>\n",
              "      <td>82.969727</td>\n",
              "      <td>1</td>\n",
              "    </tr>\n",
              "  </tbody>\n",
              "</table>\n",
              "</div>"
            ],
            "text/plain": [
              "         Date          Open          High  ...     Adj Close        Diff  Label\n",
              "0  2008-08-08  11432.089844  11759.959961  ...  11734.320312    0.000000      1\n",
              "1  2008-08-11  11729.669922  11867.110352  ...  11782.349609   48.029297      1\n",
              "2  2008-08-12  11781.700195  11782.349609  ...  11642.469727 -139.879882      0\n",
              "3  2008-08-13  11632.809570  11633.780273  ...  11532.959961 -109.509766      0\n",
              "4  2008-08-14  11532.070312  11718.280273  ...  11615.929688   82.969727      1\n",
              "\n",
              "[5 rows x 9 columns]"
            ]
          },
          "metadata": {
            "tags": []
          },
          "execution_count": 27
        }
      ]
    },
    {
      "cell_type": "markdown",
      "metadata": {
        "id": "Sx3bkXR1NAJb",
        "colab_type": "text"
      },
      "source": [
        "The first label by default should be 0 even though Diff = 0.0\n",
        "This was manually added since the previous block of code didn't account for the exception of the first label value. "
      ]
    },
    {
      "cell_type": "code",
      "metadata": {
        "id": "kQy3Qni0J4HU",
        "colab_type": "code",
        "colab": {}
      },
      "source": [
        "djia.iloc[0,-1]=int(0)"
      ],
      "execution_count": 28,
      "outputs": []
    },
    {
      "cell_type": "code",
      "metadata": {
        "id": "VsiHEho2J5yk",
        "colab_type": "code",
        "colab": {
          "base_uri": "https://localhost:8080/",
          "height": 206
        },
        "outputId": "55ef37d1-b56d-4f0b-ad62-f78d6c7e4e16"
      },
      "source": [
        "djia.head()"
      ],
      "execution_count": 29,
      "outputs": [
        {
          "output_type": "execute_result",
          "data": {
            "text/html": [
              "<div>\n",
              "<style scoped>\n",
              "    .dataframe tbody tr th:only-of-type {\n",
              "        vertical-align: middle;\n",
              "    }\n",
              "\n",
              "    .dataframe tbody tr th {\n",
              "        vertical-align: top;\n",
              "    }\n",
              "\n",
              "    .dataframe thead th {\n",
              "        text-align: right;\n",
              "    }\n",
              "</style>\n",
              "<table border=\"1\" class=\"dataframe\">\n",
              "  <thead>\n",
              "    <tr style=\"text-align: right;\">\n",
              "      <th></th>\n",
              "      <th>Date</th>\n",
              "      <th>Open</th>\n",
              "      <th>High</th>\n",
              "      <th>Low</th>\n",
              "      <th>Close</th>\n",
              "      <th>Volume</th>\n",
              "      <th>Adj Close</th>\n",
              "      <th>Diff</th>\n",
              "      <th>Label</th>\n",
              "    </tr>\n",
              "  </thead>\n",
              "  <tbody>\n",
              "    <tr>\n",
              "      <th>0</th>\n",
              "      <td>2008-08-08</td>\n",
              "      <td>11432.089844</td>\n",
              "      <td>11759.959961</td>\n",
              "      <td>11388.040039</td>\n",
              "      <td>11734.320312</td>\n",
              "      <td>212830000</td>\n",
              "      <td>11734.320312</td>\n",
              "      <td>0.000000</td>\n",
              "      <td>0</td>\n",
              "    </tr>\n",
              "    <tr>\n",
              "      <th>1</th>\n",
              "      <td>2008-08-11</td>\n",
              "      <td>11729.669922</td>\n",
              "      <td>11867.110352</td>\n",
              "      <td>11675.530273</td>\n",
              "      <td>11782.349609</td>\n",
              "      <td>183190000</td>\n",
              "      <td>11782.349609</td>\n",
              "      <td>48.029297</td>\n",
              "      <td>1</td>\n",
              "    </tr>\n",
              "    <tr>\n",
              "      <th>2</th>\n",
              "      <td>2008-08-12</td>\n",
              "      <td>11781.700195</td>\n",
              "      <td>11782.349609</td>\n",
              "      <td>11601.519531</td>\n",
              "      <td>11642.469727</td>\n",
              "      <td>173590000</td>\n",
              "      <td>11642.469727</td>\n",
              "      <td>-139.879882</td>\n",
              "      <td>0</td>\n",
              "    </tr>\n",
              "    <tr>\n",
              "      <th>3</th>\n",
              "      <td>2008-08-13</td>\n",
              "      <td>11632.809570</td>\n",
              "      <td>11633.780273</td>\n",
              "      <td>11453.339844</td>\n",
              "      <td>11532.959961</td>\n",
              "      <td>182550000</td>\n",
              "      <td>11532.959961</td>\n",
              "      <td>-109.509766</td>\n",
              "      <td>0</td>\n",
              "    </tr>\n",
              "    <tr>\n",
              "      <th>4</th>\n",
              "      <td>2008-08-14</td>\n",
              "      <td>11532.070312</td>\n",
              "      <td>11718.280273</td>\n",
              "      <td>11450.889648</td>\n",
              "      <td>11615.929688</td>\n",
              "      <td>159790000</td>\n",
              "      <td>11615.929688</td>\n",
              "      <td>82.969727</td>\n",
              "      <td>1</td>\n",
              "    </tr>\n",
              "  </tbody>\n",
              "</table>\n",
              "</div>"
            ],
            "text/plain": [
              "         Date          Open          High  ...     Adj Close        Diff  Label\n",
              "0  2008-08-08  11432.089844  11759.959961  ...  11734.320312    0.000000      0\n",
              "1  2008-08-11  11729.669922  11867.110352  ...  11782.349609   48.029297      1\n",
              "2  2008-08-12  11781.700195  11782.349609  ...  11642.469727 -139.879882      0\n",
              "3  2008-08-13  11632.809570  11633.780273  ...  11532.959961 -109.509766      0\n",
              "4  2008-08-14  11532.070312  11718.280273  ...  11615.929688   82.969727      1\n",
              "\n",
              "[5 rows x 9 columns]"
            ]
          },
          "metadata": {
            "tags": []
          },
          "execution_count": 29
        }
      ]
    },
    {
      "cell_type": "markdown",
      "metadata": {
        "id": "-K9RdUr2NZnx",
        "colab_type": "text"
      },
      "source": [
        "Prior to casting the Label column as integer, the column was an object. Changed since it is numerical value; more specifically integer. "
      ]
    },
    {
      "cell_type": "code",
      "metadata": {
        "id": "sxfmphnRJ7N_",
        "colab_type": "code",
        "colab": {}
      },
      "source": [
        "djia['Label'] = djia['Label'].astype('int')"
      ],
      "execution_count": 30,
      "outputs": []
    },
    {
      "cell_type": "markdown",
      "metadata": {
        "id": "R5vIiuKJN5O8",
        "colab_type": "text"
      },
      "source": [
        "## Reorganizing Reddit News Dataset\n",
        "\n",
        "Initally, the dataset had two columns: Date, News\n",
        "\n",
        "The dataset was formated so that each row is organized in following fashion: \n",
        "Date, Top1 ... Top25 \n",
        "\n",
        "Basically, the news articles were compiled into one single date and outputted horizontally. "
      ]
    },
    {
      "cell_type": "markdown",
      "metadata": {
        "id": "mVAaU84YwFlP",
        "colab_type": "text"
      },
      "source": [
        "On the news dataset, this portion of code will organize the news articles into its corresponding dates using list of lists."
      ]
    },
    {
      "cell_type": "code",
      "metadata": {
        "id": "eQQTPF8rvQGS",
        "colab_type": "code",
        "colab": {
          "base_uri": "https://localhost:8080/",
          "height": 168
        },
        "outputId": "d360f141-d291-48ab-c1d9-893ae80bf47b"
      },
      "source": [
        "#This is for .at function\n",
        "#https://www.geeksforgeeks.org/python-pandas-dataframe-at/\n",
        "\n",
        "#declaration of variables\n",
        "previous_date = reddit.at[0, 'Date']\n",
        "newslist= []\n",
        "sub_newslist = []\n",
        "date_list = [previous_date]\n",
        "\n",
        "\"\"\"\n",
        "This 'for loop' will iterate from the beginning to the end of the list of dataset\n",
        "\n",
        "Each iteration of the loop, the Date column will go down. The date variable will \n",
        "be the new date value. Also, News will be stored into sub_newslist(temp list for storing articles in a single date)\n",
        "At the end of the loop, the \n",
        "\n",
        "The 'if statement' will be activated when the value of 'Date' changes. \n",
        "\n",
        "When the if statement is run:\n",
        "a) the date value will be inputted towards date_list list\n",
        "b) values collected in sub_newslist will be inputted into newslist list\n",
        "c) sub_newslist list (used as a temp collector) will be emptied \n",
        "\"\"\"\n",
        "\n",
        "for i in range(0,len(reddit['Date'])):\n",
        "  date = reddit.at[i,'Date']\n",
        "  if date != previous_date:\n",
        "    date_list.append(date)\n",
        "    newslist.append(sub_newslist)\n",
        "    sub_newslist = []\n",
        "  sub_newslist.append(reddit.at[i,'News'])\n",
        "  previous_date = date\n",
        "\n",
        "#last date needs a seperate code to add articles of final date into newslist list\n",
        "newslist.append(sub_newslist)\n",
        "\n",
        "#various print statements to check that the articles are organized correctly\n",
        "print(newslist[0][0])\n",
        "print(newslist[-1][-1])\n",
        "print(newslist[-1])\n",
        "print(len(newslist))\n",
        "print(len(date_list))\n",
        "print(date_list[0])\n",
        "print(date_list[-1])"
      ],
      "execution_count": 31,
      "outputs": [
        {
          "output_type": "stream",
          "text": [
            "A 117-year-old woman in Mexico City finally received her birth certificate, and died a few hours later. Trinidad Alvarez Lira had waited years for proof that she had been born in 1898.\n",
            "b'Marriage, they said, was reduced to the status of a commercial transaction in which women could be discarded by husbands claiming to have discovered hidden defects in them.'\n",
            "[\"b'Nim Chimpsky: The tragedy of the chimp who thought he was a boy (and proved that humans were not humane)'\", 'b\"Canada: Beware slippery slope\\' to censorship, hearing told \"', 'b\\'EU Vice-President Luisa Morgantini and the Irish Nobel laureate, Mairead Corrigan, have been tear gased and injured by the IDF while attending the \"International Conference on Non-violent Resistance\"\\'', 'b\"Israeli minister: Israel will attack Iran if it doesn\\'t abandon its nuclear program\"', \"b'Albino Killings in Tanzania. At least 19 albinos, including several young children, have been killed in Tanzania in the past year. [video] '\", 'b\\'Chiapas: army occupies Zapatista communities in \"anti-drug\" ops\\'', \"b'Polar bear swims 200 miles, is shot dead upon arrival'\", \"b'News is a contraband item in Pakistan now, and it is being sold on the black market,'\", \"b'Albinos, Long Shunned, Face Threat in Tanzania where witch doctors are now marketing albino skin, bones and hair as ingredients in potions that are promised to make people rich.'\", \"b'Town in Britain Plans to Start its Own Currency'\", \"b'BBC reporter among 16 dead in Afghanistan'\", \"b'Lebanese women still vulnerable to violence: existing legal framework violates international human rights law because it fails to protect women from domestic violence'\", \"b'Police release chilling images of man left for dead by hit-and-run driver'\", 'b\"Iceland opens Europe\\'s largest national park. The 15.000 square kilometer (5792 square mile) Vatnajkull National Park. \"', \"b'Citizens fighting Blackwater Potrero. Was the location chosen so they can train cheap Mexican soldiers or so they can perform extraordinary rendition from a partner facility in Mexico'\", 'b\"S. Korean protesters, police clash in beef rallies--don\\'t want US beef...\"', 'b\"Oil reserves \\'will last decades\\' - a BBC Scotland investigation has been told\"', \"b'Cameras designed to detect terrorist facial expressions'\", \"b'Israeli peace activists protest 41 years of occupation'\", 'b\"A 5.1 earthquake hits China\\'s Southern Qinghai province.\"', \"b'Man goes berzerk in Akihabara and stabs everyone nearby: 6 dead, 12 injured '\", \"b'Threat of world AIDS pandemic among heterosexuals is over, report admits'\", \"b'Angst in Ankara: Turkey Steers into a Dangerous Identity Crisis'\", 'b\"UK: Identity cards \\'could be used to spy on people\\' and a new children\\'s database may be used to identify likely future criminals. Has covert surveillance gone too far?\"', \"b'Marriage, they said, was reduced to the status of a commercial transaction in which women could be discarded by husbands claiming to have discovered hidden defects in them.'\"]\n",
            "2943\n",
            "2943\n",
            "2016-07-01\n",
            "2008-06-08\n"
          ],
          "name": "stdout"
        }
      ]
    },
    {
      "cell_type": "markdown",
      "metadata": {
        "id": "YlmDRI8U7wP9",
        "colab_type": "text"
      },
      "source": [
        "This portion of code will take the list and output them into a correct dataframe format\n",
        "\n",
        "---\n",
        "\n"
      ]
    },
    {
      "cell_type": "markdown",
      "metadata": {
        "id": "PmgBFO_e8W8d",
        "colab_type": "text"
      },
      "source": [
        "This code will create the labels for Top 25 articles. "
      ]
    },
    {
      "cell_type": "code",
      "metadata": {
        "id": "DI508XVJUjv_",
        "colab_type": "code",
        "colab": {
          "base_uri": "https://localhost:8080/",
          "height": 485
        },
        "outputId": "8447fd80-4579-4a18-df82-03fc05cba3db"
      },
      "source": [
        "\"\"\"\n",
        "f is f string. allows for consistency in formatting\n",
        "\"\"\"\n",
        "top25_labels = [f'Top{str(integer)}' for integer in list(range(1,26))]\n",
        "top25_labels"
      ],
      "execution_count": 32,
      "outputs": [
        {
          "output_type": "execute_result",
          "data": {
            "text/plain": [
              "['Top1',\n",
              " 'Top2',\n",
              " 'Top3',\n",
              " 'Top4',\n",
              " 'Top5',\n",
              " 'Top6',\n",
              " 'Top7',\n",
              " 'Top8',\n",
              " 'Top9',\n",
              " 'Top10',\n",
              " 'Top11',\n",
              " 'Top12',\n",
              " 'Top13',\n",
              " 'Top14',\n",
              " 'Top15',\n",
              " 'Top16',\n",
              " 'Top17',\n",
              " 'Top18',\n",
              " 'Top19',\n",
              " 'Top20',\n",
              " 'Top21',\n",
              " 'Top22',\n",
              " 'Top23',\n",
              " 'Top24',\n",
              " 'Top25']"
            ]
          },
          "metadata": {
            "tags": []
          },
          "execution_count": 32
        }
      ]
    },
    {
      "cell_type": "markdown",
      "metadata": {
        "id": "8YSoMKm38c2h",
        "colab_type": "text"
      },
      "source": [
        "This portion of code will output the joint database."
      ]
    },
    {
      "cell_type": "code",
      "metadata": {
        "id": "3K6IKyB5KDTp",
        "colab_type": "code",
        "colab": {
          "base_uri": "https://localhost:8080/",
          "height": 1000
        },
        "outputId": "19ec0fc2-1904-4f56-9759-3dbc9c2a32ac"
      },
      "source": [
        "#variable declaration\n",
        "relevant_dates_with_news = []\n",
        "cols = []\n",
        "\n",
        "#loop will iterate from beginning to end of the dates (created from previous block of code)\n",
        "#each line of output from 'relevant_dates_with_news' will output the entire corresponding row\n",
        "#to a specific date \n",
        "\n",
        "for i in range(0,len(date_list)):\n",
        "  #date_with_news is a temporary list collector, that's why inside the loop\n",
        "  date_with_news = []\n",
        "  date_with_news.append(date_list[i])\n",
        "  date_with_news.extend(newslist[i])\n",
        "  relevant_dates_with_news.append(date_with_news)\n",
        "\n",
        "#This portion of code makes the dataframe with the header\n",
        "cols.append('Date')\n",
        "cols.extend(top25_labels)\n",
        "df = pd.DataFrame(columns=cols)\n",
        "\n",
        "#The loop inside loop, relevant_dates_with_news will iterate all the dates from \n",
        "#The break component ensures that each line has max of 25 articles. \n",
        "for j in range(0, len(relevant_dates_with_news)):\n",
        "  for k in range(0, len(relevant_dates_with_news[j])):\n",
        "    if k > 25:\n",
        "      break\n",
        "    df.at[j, cols[k]] = relevant_dates_with_news[j][k]\n",
        "\n",
        "df"
      ],
      "execution_count": 33,
      "outputs": [
        {
          "output_type": "execute_result",
          "data": {
            "text/html": [
              "<div>\n",
              "<style scoped>\n",
              "    .dataframe tbody tr th:only-of-type {\n",
              "        vertical-align: middle;\n",
              "    }\n",
              "\n",
              "    .dataframe tbody tr th {\n",
              "        vertical-align: top;\n",
              "    }\n",
              "\n",
              "    .dataframe thead th {\n",
              "        text-align: right;\n",
              "    }\n",
              "</style>\n",
              "<table border=\"1\" class=\"dataframe\">\n",
              "  <thead>\n",
              "    <tr style=\"text-align: right;\">\n",
              "      <th></th>\n",
              "      <th>Date</th>\n",
              "      <th>Top1</th>\n",
              "      <th>Top2</th>\n",
              "      <th>Top3</th>\n",
              "      <th>Top4</th>\n",
              "      <th>Top5</th>\n",
              "      <th>Top6</th>\n",
              "      <th>Top7</th>\n",
              "      <th>Top8</th>\n",
              "      <th>Top9</th>\n",
              "      <th>Top10</th>\n",
              "      <th>Top11</th>\n",
              "      <th>Top12</th>\n",
              "      <th>Top13</th>\n",
              "      <th>Top14</th>\n",
              "      <th>Top15</th>\n",
              "      <th>Top16</th>\n",
              "      <th>Top17</th>\n",
              "      <th>Top18</th>\n",
              "      <th>Top19</th>\n",
              "      <th>Top20</th>\n",
              "      <th>Top21</th>\n",
              "      <th>Top22</th>\n",
              "      <th>Top23</th>\n",
              "      <th>Top24</th>\n",
              "      <th>Top25</th>\n",
              "    </tr>\n",
              "  </thead>\n",
              "  <tbody>\n",
              "    <tr>\n",
              "      <th>0</th>\n",
              "      <td>2016-07-01</td>\n",
              "      <td>A 117-year-old woman in Mexico City finally re...</td>\n",
              "      <td>IMF chief backs Athens as permanent Olympic host</td>\n",
              "      <td>The president of France says if Brexit won, so...</td>\n",
              "      <td>British Man Who Must Give Police 24 Hours' Not...</td>\n",
              "      <td>100+ Nobel laureates urge Greenpeace to stop o...</td>\n",
              "      <td>Brazil: Huge spike in number of police killing...</td>\n",
              "      <td>Austria's highest court annuls presidential el...</td>\n",
              "      <td>Facebook wins privacy case, can track any Belg...</td>\n",
              "      <td>Switzerland denies Muslim girls citizenship af...</td>\n",
              "      <td>China kills millions of innocent meditators fo...</td>\n",
              "      <td>France Cracks Down on Factory Farms - A viral ...</td>\n",
              "      <td>Abbas PLO Faction Calls Killer of 13-Year-Old ...</td>\n",
              "      <td>Taiwanese warship accidentally fires missile t...</td>\n",
              "      <td>Iran celebrates American Human Rights Week, mo...</td>\n",
              "      <td>U.N. panel moves to curb bias against L.G.B.T....</td>\n",
              "      <td>The United States has placed Myanmar, Uzbekist...</td>\n",
              "      <td>S&amp;amp;P revises European Union credit rating t...</td>\n",
              "      <td>India gets $1 billion loan from World Bank for...</td>\n",
              "      <td>U.S. sailors detained by Iran spoke too much u...</td>\n",
              "      <td>Mass fish kill in Vietnam solved as Taiwan ste...</td>\n",
              "      <td>Philippines president Rodrigo Duterte urges pe...</td>\n",
              "      <td>Spain arrests three Pakistanis accused of prom...</td>\n",
              "      <td>Venezuela, where anger over food shortages is ...</td>\n",
              "      <td>A Hindu temple worker has been killed by three...</td>\n",
              "      <td>Ozone layer hole seems to be healing - US &amp;amp...</td>\n",
              "    </tr>\n",
              "    <tr>\n",
              "      <th>1</th>\n",
              "      <td>2016-06-30</td>\n",
              "      <td>Jamaica proposes marijuana dispensers for tour...</td>\n",
              "      <td>Stephen Hawking says pollution and 'stupidity'...</td>\n",
              "      <td>Boris Johnson says he will not run for Tory pa...</td>\n",
              "      <td>Six gay men in Ivory Coast were abused and for...</td>\n",
              "      <td>Switzerland denies citizenship to Muslim immig...</td>\n",
              "      <td>Palestinian terrorist stabs israeli teen girl ...</td>\n",
              "      <td>Puerto Rico will default on $1 billion of debt...</td>\n",
              "      <td>Republic of Ireland fans to be awarded medal f...</td>\n",
              "      <td>Afghan suicide bomber 'kills up to 40' - BBC News</td>\n",
              "      <td>US airstrikes kill at least 250 ISIS fighters ...</td>\n",
              "      <td>Turkish Cop Who Took Down Istanbul Gunman Hail...</td>\n",
              "      <td>Cannabis compounds could treat Alzheimer's by ...</td>\n",
              "      <td>Japan's top court has approved blanket surveil...</td>\n",
              "      <td>CIA Gave Romania Millions to Host Secret Prisons</td>\n",
              "      <td>Groups urge U.N. to suspend Saudi Arabia from ...</td>\n",
              "      <td>Googles free wifi at Indian railway stations i...</td>\n",
              "      <td>Mounting evidence suggests 'hobbits' were wipe...</td>\n",
              "      <td>The men who carried out Tuesday's terror attac...</td>\n",
              "      <td>Calls to suspend Saudi Arabia from UN Human Ri...</td>\n",
              "      <td>More Than 100 Nobel Laureates Call Out Greenpe...</td>\n",
              "      <td>British pedophile sentenced to 85 years in US ...</td>\n",
              "      <td>US permitted 1,200 offshore fracks in Gulf of ...</td>\n",
              "      <td>We will be swimming in ridicule - French beach...</td>\n",
              "      <td>UEFA says no minutes of silence for Istanbul v...</td>\n",
              "      <td>Law Enforcement Sources: Gun Used in Paris Ter...</td>\n",
              "    </tr>\n",
              "    <tr>\n",
              "      <th>2</th>\n",
              "      <td>2016-06-29</td>\n",
              "      <td>Explosion At Airport In Istanbul</td>\n",
              "      <td>Yemeni former president: Terrorism is the offs...</td>\n",
              "      <td>UK must accept freedom of movement to access E...</td>\n",
              "      <td>Devastated: scientists too late to captive bre...</td>\n",
              "      <td>British Labor Party leader Jeremy Corbyn loses...</td>\n",
              "      <td>A Muslim Shop in the UK Was Just Firebombed Wh...</td>\n",
              "      <td>Mexican Authorities Sexually Torture Women in ...</td>\n",
              "      <td>UK shares and pound continue to recover</td>\n",
              "      <td>Iceland historian Johannesson wins presidentia...</td>\n",
              "      <td>99-Million-Yr-Old Bird Wings Found Encased in ...</td>\n",
              "      <td>A chatbot programmed by a British teenager has...</td>\n",
              "      <td>The Philippine president-elect said Monday he ...</td>\n",
              "      <td>Former Belgian Prime Minister ridicules Nigel ...</td>\n",
              "      <td>Brexiteer Nigel Farage To EU: 'You're Not Laug...</td>\n",
              "      <td>Islamic State bombings in southern Yemen kill ...</td>\n",
              "      <td>Escape Tunnel, Dug by Hand, Is Found at Holoca...</td>\n",
              "      <td>The land under Beijing is sinking by as much a...</td>\n",
              "      <td>Car bomb and Anti-Islamic attack on Mosque in ...</td>\n",
              "      <td>Emaciated lions in Taiz Zoo are trapped in blo...</td>\n",
              "      <td>Rupert Murdoch describes Brexit as 'wonderful'...</td>\n",
              "      <td>More than 40 killed in Yemen suicide attacks</td>\n",
              "      <td>Google Found Disastrous Symantec and Norton Vu...</td>\n",
              "      <td>Extremist violence on the rise in Germany: Dom...</td>\n",
              "      <td>BBC News: Labour MPs pass Corbyn no-confidence...</td>\n",
              "      <td>Tiny New Zealand town with 'too many jobs' lau...</td>\n",
              "    </tr>\n",
              "    <tr>\n",
              "      <th>3</th>\n",
              "      <td>2016-06-28</td>\n",
              "      <td>2,500 Scientists To Australia: If You Want To ...</td>\n",
              "      <td>The personal details of 112,000 French police ...</td>\n",
              "      <td>S&amp;amp;P cuts United Kingdom sovereign credit r...</td>\n",
              "      <td>Huge helium deposit found in Africa</td>\n",
              "      <td>CEO of the South African state broadcaster qui...</td>\n",
              "      <td>Brexit cost investors $2 trillion, the worst o...</td>\n",
              "      <td>Hong Kong democracy activists call for return ...</td>\n",
              "      <td>Brexit: Iceland president says UK can join 'tr...</td>\n",
              "      <td>UK's Osborne: 'Absolutely' going to have to cu...</td>\n",
              "      <td>'Do not let Scotland down now' : Scottish MEP ...</td>\n",
              "      <td>British pound could hit history-making dollar ...</td>\n",
              "      <td>Merkel vows to strengthen EU, tells UK no 'che...</td>\n",
              "      <td>\"Ryanair will not deploy new aircraft on route...</td>\n",
              "      <td>People, ever more greedy and stupid, destroy t...</td>\n",
              "      <td>Siemens freezes new UK wind power investment f...</td>\n",
              "      <td>US, Canada and Mexico pledge 50% of power from...</td>\n",
              "      <td>There is increasing evidence that Australia is...</td>\n",
              "      <td>Richard Branson, the founder of Virgin Group, ...</td>\n",
              "      <td>37,000-yr-old skull from Borneo reveals surpri...</td>\n",
              "      <td>Palestinians stone Western Wall worshipers; po...</td>\n",
              "      <td>Jean-Claude Juncker asks Farage: Why are you h...</td>\n",
              "      <td>\"Romanians for Remainians\" offering a new home...</td>\n",
              "      <td>Brexit: Gibraltar in talks with Scotland to st...</td>\n",
              "      <td>8 Suicide Bombers Strike Lebanon</td>\n",
              "      <td>Mexico's security forces routinely use 'sexual...</td>\n",
              "    </tr>\n",
              "    <tr>\n",
              "      <th>4</th>\n",
              "      <td>2016-06-27</td>\n",
              "      <td>Barclays and RBS shares suspended from trading...</td>\n",
              "      <td>Pope says Church should ask forgiveness from g...</td>\n",
              "      <td>Poland 'shocked' by xenophobic abuse of Poles ...</td>\n",
              "      <td>There will be no second referendum, cabinet ag...</td>\n",
              "      <td>Scotland welcome to join EU, Merkel ally says</td>\n",
              "      <td>Sterling dips below Friday's 31-year low amid ...</td>\n",
              "      <td>No negative news about South African President...</td>\n",
              "      <td>Surge in Hate Crimes in the U.K. Following U.K...</td>\n",
              "      <td>Weapons shipped into Jordan by the CIA and Sau...</td>\n",
              "      <td>Angela Merkel said the U.K. must file exit pap...</td>\n",
              "      <td>In a birth offering hope to a threatened speci...</td>\n",
              "      <td>Sky News Journalist Left Speechless As Leave M...</td>\n",
              "      <td>Giant panda in Macau gives birth to twins</td>\n",
              "      <td>Get out now: EU leader tells Britain it must i...</td>\n",
              "      <td>Sea turtle 'beaten and left for dead' on beach...</td>\n",
              "      <td>German lawyers to probe Erdogan over alleged w...</td>\n",
              "      <td>Boris Johnson says the UK will continue to \"in...</td>\n",
              "      <td>Richard Branson is calling on the UK governmen...</td>\n",
              "      <td>Turkey 'sorry for downing Russian jet'</td>\n",
              "      <td>Edward Snowden lawyer vows new push for pardon...</td>\n",
              "      <td>Brexit opinion poll reveals majority don't wan...</td>\n",
              "      <td>Conservative MP Leave Campaigner: \"The leave c...</td>\n",
              "      <td>Economists predict UK recession, further weake...</td>\n",
              "      <td>New EU 'superstate plan by France, Germany: Cr...</td>\n",
              "      <td>Pakistani clerics declare transgender marriage...</td>\n",
              "    </tr>\n",
              "    <tr>\n",
              "      <th>...</th>\n",
              "      <td>...</td>\n",
              "      <td>...</td>\n",
              "      <td>...</td>\n",
              "      <td>...</td>\n",
              "      <td>...</td>\n",
              "      <td>...</td>\n",
              "      <td>...</td>\n",
              "      <td>...</td>\n",
              "      <td>...</td>\n",
              "      <td>...</td>\n",
              "      <td>...</td>\n",
              "      <td>...</td>\n",
              "      <td>...</td>\n",
              "      <td>...</td>\n",
              "      <td>...</td>\n",
              "      <td>...</td>\n",
              "      <td>...</td>\n",
              "      <td>...</td>\n",
              "      <td>...</td>\n",
              "      <td>...</td>\n",
              "      <td>...</td>\n",
              "      <td>...</td>\n",
              "      <td>...</td>\n",
              "      <td>...</td>\n",
              "      <td>...</td>\n",
              "      <td>...</td>\n",
              "    </tr>\n",
              "    <tr>\n",
              "      <th>2938</th>\n",
              "      <td>2008-06-12</td>\n",
              "      <td>b'Did US attack Pakistan last night? \"Pakistan...</td>\n",
              "      <td>b'If U.S. or Israel drops a bomb on Iran, it w...</td>\n",
              "      <td>b\"Top Secret documents on Al-Qaeda left on a t...</td>\n",
              "      <td>b'Seoul protest that started over allowing pos...</td>\n",
              "      <td>b\"'Jewish settler attack' on film \"</td>\n",
              "      <td>b'Cult of Scientology has disabled man from Pl...</td>\n",
              "      <td>b'No one knows the long-term carrying capacity...</td>\n",
              "      <td>b'Robert Mugabe is stealing food aid from the ...</td>\n",
              "      <td>b'Huh, the American establishment has a LONG h...</td>\n",
              "      <td>b'Marine \"Mean Motari\" gets expelled, another ...</td>\n",
              "      <td>b'American Aid Is Seized in Zimbabwe'</td>\n",
              "      <td>b'US offers pledge of $10.6bn for Afghanistan'</td>\n",
              "      <td>b'What a great country.'</td>\n",
              "      <td>b'United Airlines to Charge for Checked Bags'</td>\n",
              "      <td>b\"Zimbabwe's military is actively involved in ...</td>\n",
              "      <td>b'Chinese are naming children \"Olympic Games\"'</td>\n",
              "      <td>b'Pentagon released video of a controversial a...</td>\n",
              "      <td>b'4 dead, 40 hurt as tornado hits Boy Scout camp'</td>\n",
              "      <td>b\"Islamic Cleric Issues Fatwa Condemning Gambi...</td>\n",
              "      <td>b'Footage of deadly US airstrike'</td>\n",
              "      <td>b'British MP to resign, seek-relection in defe...</td>\n",
              "      <td>b\"John McCain believes that it would be a good...</td>\n",
              "      <td>b'China &amp;amp; Taiwan reopen talks'</td>\n",
              "      <td>b'Estonian parliament approves EU Lisbon Treat...</td>\n",
              "      <td>b'Ukranian Women Strip in Protest'</td>\n",
              "    </tr>\n",
              "    <tr>\n",
              "      <th>2939</th>\n",
              "      <td>2008-06-11</td>\n",
              "      <td>b'BBC uncovers lost Iraq billions'</td>\n",
              "      <td>b'War Criminal George W. Bush not Welcome in t...</td>\n",
              "      <td>b'Offensive Speech: US says it\\'s \"free\", othe...</td>\n",
              "      <td>b'Bush/Cheney Plan Demands 58 US Bases In Iraq...</td>\n",
              "      <td>b'Grocery refuses to sell Jack Daniels barbecu...</td>\n",
              "      <td>b'On farewell tour of Europe: Bush steps up th...</td>\n",
              "      <td>b\"Pakistan Blames U.S. Coalition for Troops' D...</td>\n",
              "      <td>b'Senior intelligence officer leaves top secre...</td>\n",
              "      <td>b'Food for schoolchildren was ordered to be gi...</td>\n",
              "      <td>b\"Cuba's City Gardens Flourish and 70% Of Vege...</td>\n",
              "      <td>b'The European Commission has pledged to suppo...</td>\n",
              "      <td>b\"China's list of Olympic don'ts\"</td>\n",
              "      <td>b'Blogging in Singapore: a hazardous business'</td>\n",
              "      <td>b'Iraqis Denounces American Demands for 60 Mil...</td>\n",
              "      <td>b'Africa: World Leaders Begin Debate On Crop U...</td>\n",
              "      <td>b'Iran 1st in Middle East stem cell research'</td>\n",
              "      <td>b' Set a Guinness World Record, Enjoy a Better...</td>\n",
              "      <td>b'France blocks online child porn, terrorism, ...</td>\n",
              "      <td>b'\"Race for Life\" coming to Czech Republic'</td>\n",
              "      <td>b\"They're Killing Us Darling. They Really Are....</td>\n",
              "      <td>b'OPEC Supports Saudi-Backed Oil Summit'</td>\n",
              "      <td>b'A major and twelve Pakistani soldiers martyred'</td>\n",
              "      <td>b'Turkish PM: court must explain headscarf rul...</td>\n",
              "      <td>b'crazy fitness tools from 1860  '</td>\n",
              "      <td>b'2 US Lawmakers say computers compromised by ...</td>\n",
              "    </tr>\n",
              "    <tr>\n",
              "      <th>2940</th>\n",
              "      <td>2008-06-10</td>\n",
              "      <td>b'Oil shortage a myth, says industry insider'</td>\n",
              "      <td>b\"Israel launches 'Iran Command' for war\"</td>\n",
              "      <td>b\"Petition Calling for an Investigation into 9...</td>\n",
              "      <td>b'Canadian HRC Tribunal forces pastor to publi...</td>\n",
              "      <td>b'US and EU threaten to freeze Iranian assets ...</td>\n",
              "      <td>b'Thousands of UK homeowners face negative equ...</td>\n",
              "      <td>b'31 year old beats 3 year old to death: worst...</td>\n",
              "      <td>b'White House Saying Senate Doesn\\'t Get to Vo...</td>\n",
              "      <td>b'Man escapes North Korea after 33 years'</td>\n",
              "      <td>b'The 14-year-old Afghan suicide bomber'</td>\n",
              "      <td>b\"Zimbabwe 'run by military junta'\"</td>\n",
              "      <td>b'Former British Prime Minister: Falsely Linki...</td>\n",
              "      <td>b'College Drinking and Heart Problems'</td>\n",
              "      <td>b'What? Tens of Thousands Protest Sale of US B...</td>\n",
              "      <td>b'Bush: U.S. and EU must bond to press Iran on...</td>\n",
              "      <td>b'Shanghai Composite tumbles 7.7 percent '</td>\n",
              "      <td>b'Olmert Hints That U.S. Attack On Iran Is Near'</td>\n",
              "      <td>b'Is Israel planning on using nukes in its nex...</td>\n",
              "      <td>b'USS Liberty -- New Revelations in Attack on ...</td>\n",
              "      <td>b\"World's first church unearthed in Jordan \"</td>\n",
              "      <td>b'Corruption in Ukraine allows epidemic to rea...</td>\n",
              "      <td>b'Bush Discusses Iran Sanctions With EU Leaders'</td>\n",
              "      <td>b\"Tibet and the Olympic `tradition'\"</td>\n",
              "      <td>b'Saddam tribe leader murdered in Iraq'</td>\n",
              "      <td>b'Law creates underclass of child criminals'</td>\n",
              "    </tr>\n",
              "    <tr>\n",
              "      <th>2941</th>\n",
              "      <td>2008-06-09</td>\n",
              "      <td>b'United States quits Human Rights Council'</td>\n",
              "      <td>b\"Pentagon blocked Cheney's attack on Iran\"</td>\n",
              "      <td>b\"'J Street,' a new liberal Jewish organizatio...</td>\n",
              "      <td>b'Former Ambassador Joseph Wilson: \"[The U.S. ...</td>\n",
              "      <td>b'EU leaders anxiously await Irish verdict on ...</td>\n",
              "      <td>b\" 17 Hit or Stabbed, 7 Confirmed Dead in Toky...</td>\n",
              "      <td>b'Treaty tensions mount as Iraq tells the US i...</td>\n",
              "      <td>b\"Council paints over street artist Banksy's g...</td>\n",
              "      <td>b'\"Finders keepers\" can get complicated when h...</td>\n",
              "      <td>b'Chew Qat: In Yemen, 72 per cent of men and 3...</td>\n",
              "      <td>b'One of UKs most experienced and decorated sp...</td>\n",
              "      <td>b'A bitter struggle between two powerful Beltw...</td>\n",
              "      <td>b'Jailers at Guantanamo urged to destroy inter...</td>\n",
              "      <td>b'80% UK Laws Now Made In Brussels and the UK ...</td>\n",
              "      <td>b'Virgin Media UK working with record industry...</td>\n",
              "      <td>b'35 Ukraine miners trapped underground - thre...</td>\n",
              "      <td>b'Bilderberg attendee Geithner calls for globa...</td>\n",
              "      <td>b'Jos Manuel Barroso bullies the Irish, saying...</td>\n",
              "      <td>b\"Don't worry everyone, AIDS is officially over!\"</td>\n",
              "      <td>b'What if Bush Attacks Iran on His Way Out of ...</td>\n",
              "      <td>b'Future of the United States of Europe in the...</td>\n",
              "      <td>b\"'Military coup' in Zimbabwe as Mugabe is for...</td>\n",
              "      <td>b'Rising Oil Prices Spark Strikes in Spain and...</td>\n",
              "      <td>b'Chvez to FARC: Asks to end armed strugle, \"T...</td>\n",
              "      <td>b'Fliers in for pain as airlines pack it in'</td>\n",
              "    </tr>\n",
              "    <tr>\n",
              "      <th>2942</th>\n",
              "      <td>2008-06-08</td>\n",
              "      <td>b'Nim Chimpsky: The tragedy of the chimp who t...</td>\n",
              "      <td>b\"Canada: Beware slippery slope' to censorship...</td>\n",
              "      <td>b'EU Vice-President Luisa Morgantini and the I...</td>\n",
              "      <td>b\"Israeli minister: Israel will attack Iran if...</td>\n",
              "      <td>b'Albino Killings in Tanzania. At least 19 alb...</td>\n",
              "      <td>b'Chiapas: army occupies Zapatista communities...</td>\n",
              "      <td>b'Polar bear swims 200 miles, is shot dead upo...</td>\n",
              "      <td>b'News is a contraband item in Pakistan now, a...</td>\n",
              "      <td>b'Albinos, Long Shunned, Face Threat in Tanzan...</td>\n",
              "      <td>b'Town in Britain Plans to Start its Own Curre...</td>\n",
              "      <td>b'BBC reporter among 16 dead in Afghanistan'</td>\n",
              "      <td>b'Lebanese women still vulnerable to violence:...</td>\n",
              "      <td>b'Police release chilling images of man left f...</td>\n",
              "      <td>b\"Iceland opens Europe's largest national park...</td>\n",
              "      <td>b'Citizens fighting Blackwater Potrero. Was th...</td>\n",
              "      <td>b\"S. Korean protesters, police clash in beef r...</td>\n",
              "      <td>b\"Oil reserves 'will last decades' - a BBC Sco...</td>\n",
              "      <td>b'Cameras designed to detect terrorist facial ...</td>\n",
              "      <td>b'Israeli peace activists protest 41 years of ...</td>\n",
              "      <td>b\"A 5.1 earthquake hits China's Southern Qingh...</td>\n",
              "      <td>b'Man goes berzerk in Akihabara and stabs ever...</td>\n",
              "      <td>b'Threat of world AIDS pandemic among heterose...</td>\n",
              "      <td>b'Angst in Ankara: Turkey Steers into a Danger...</td>\n",
              "      <td>b\"UK: Identity cards 'could be used to spy on ...</td>\n",
              "      <td>b'Marriage, they said, was reduced to the stat...</td>\n",
              "    </tr>\n",
              "  </tbody>\n",
              "</table>\n",
              "<p>2943 rows × 26 columns</p>\n",
              "</div>"
            ],
            "text/plain": [
              "            Date  ...                                              Top25\n",
              "0     2016-07-01  ...  Ozone layer hole seems to be healing - US &amp...\n",
              "1     2016-06-30  ...  Law Enforcement Sources: Gun Used in Paris Ter...\n",
              "2     2016-06-29  ...  Tiny New Zealand town with 'too many jobs' lau...\n",
              "3     2016-06-28  ...  Mexico's security forces routinely use 'sexual...\n",
              "4     2016-06-27  ...  Pakistani clerics declare transgender marriage...\n",
              "...          ...  ...                                                ...\n",
              "2938  2008-06-12  ...                 b'Ukranian Women Strip in Protest'\n",
              "2939  2008-06-11  ...  b'2 US Lawmakers say computers compromised by ...\n",
              "2940  2008-06-10  ...       b'Law creates underclass of child criminals'\n",
              "2941  2008-06-09  ...       b'Fliers in for pain as airlines pack it in'\n",
              "2942  2008-06-08  ...  b'Marriage, they said, was reduced to the stat...\n",
              "\n",
              "[2943 rows x 26 columns]"
            ]
          },
          "metadata": {
            "tags": []
          },
          "execution_count": 33
        }
      ]
    },
    {
      "cell_type": "markdown",
      "metadata": {
        "id": "CCmuVgfZO1Xr",
        "colab_type": "text"
      },
      "source": [
        "## Combining the cleaned DJIA and Reddit datasets"
      ]
    },
    {
      "cell_type": "markdown",
      "metadata": {
        "id": "nz1KKwP6E1at",
        "colab_type": "text"
      },
      "source": [
        "The finalized databases are merged. The 'djia' is the base database where the newly created 'df' database will merge on 'Date' column. As of result,\n",
        "we expect the erraneous dates from the Reddit News will be automatically cropped\n",
        "if the date range goes beyond DJIA information."
      ]
    },
    {
      "cell_type": "code",
      "metadata": {
        "id": "AZK6sPWFcBPG",
        "colab_type": "code",
        "colab": {}
      },
      "source": [
        "result_all = pd.merge(djia, df, how='inner', on=['Date'])\n",
        "result_all\n",
        "result = result_all"
      ],
      "execution_count": 34,
      "outputs": []
    },
    {
      "cell_type": "markdown",
      "metadata": {
        "id": "DdEGC7lOGoD6",
        "colab_type": "text"
      },
      "source": [
        "'result_all' will have all the necessary data. This can be used to do quantitative analysis as well. \n",
        "\n",
        "However, for classification, we can crop for only necessary "
      ]
    },
    {
      "cell_type": "code",
      "metadata": {
        "id": "_ff5cuM9i456",
        "colab_type": "code",
        "colab": {
          "base_uri": "https://localhost:8080/",
          "height": 1000
        },
        "outputId": "20ddc22e-32f0-4b2c-8e87-c90bd7b48302"
      },
      "source": [
        "\"\"\"\n",
        "CAUTION: Run this code ONLY once. Since, the drop code if run again will remove \n",
        "more columns than necessary\n",
        "\n",
        "If unappropriate result appears, run the previous block of code to reset \n",
        "result variable and run this portion again\n",
        "\n",
        "The result should have Date, Label, Top1 .. Top 25 columns\n",
        "\"\"\"\n",
        "result.drop(result.iloc[:, 1:8], axis=1, inplace=True)\n",
        "result"
      ],
      "execution_count": 35,
      "outputs": [
        {
          "output_type": "execute_result",
          "data": {
            "text/html": [
              "<div>\n",
              "<style scoped>\n",
              "    .dataframe tbody tr th:only-of-type {\n",
              "        vertical-align: middle;\n",
              "    }\n",
              "\n",
              "    .dataframe tbody tr th {\n",
              "        vertical-align: top;\n",
              "    }\n",
              "\n",
              "    .dataframe thead th {\n",
              "        text-align: right;\n",
              "    }\n",
              "</style>\n",
              "<table border=\"1\" class=\"dataframe\">\n",
              "  <thead>\n",
              "    <tr style=\"text-align: right;\">\n",
              "      <th></th>\n",
              "      <th>Date</th>\n",
              "      <th>Label</th>\n",
              "      <th>Top1</th>\n",
              "      <th>Top2</th>\n",
              "      <th>Top3</th>\n",
              "      <th>Top4</th>\n",
              "      <th>Top5</th>\n",
              "      <th>Top6</th>\n",
              "      <th>Top7</th>\n",
              "      <th>Top8</th>\n",
              "      <th>Top9</th>\n",
              "      <th>Top10</th>\n",
              "      <th>Top11</th>\n",
              "      <th>Top12</th>\n",
              "      <th>Top13</th>\n",
              "      <th>Top14</th>\n",
              "      <th>Top15</th>\n",
              "      <th>Top16</th>\n",
              "      <th>Top17</th>\n",
              "      <th>Top18</th>\n",
              "      <th>Top19</th>\n",
              "      <th>Top20</th>\n",
              "      <th>Top21</th>\n",
              "      <th>Top22</th>\n",
              "      <th>Top23</th>\n",
              "      <th>Top24</th>\n",
              "      <th>Top25</th>\n",
              "    </tr>\n",
              "  </thead>\n",
              "  <tbody>\n",
              "    <tr>\n",
              "      <th>0</th>\n",
              "      <td>2008-08-08</td>\n",
              "      <td>0</td>\n",
              "      <td>b\"Georgia 'downs two Russian warplanes' as cou...</td>\n",
              "      <td>b'BREAKING: Musharraf to be impeached.'</td>\n",
              "      <td>b'Russia Today: Columns of troops roll into So...</td>\n",
              "      <td>b'Russian tanks are moving towards the capital...</td>\n",
              "      <td>b\"Afghan children raped with 'impunity,' U.N. ...</td>\n",
              "      <td>b'150 Russian tanks have entered South Ossetia...</td>\n",
              "      <td>b\"Breaking: Georgia invades South Ossetia, Rus...</td>\n",
              "      <td>b\"The 'enemy combatent' trials are nothing but...</td>\n",
              "      <td>b'Georgian troops retreat from S. Osettain cap...</td>\n",
              "      <td>b'Did the U.S. Prep Georgia for War with Russia?'</td>\n",
              "      <td>b'Rice Gives Green Light for Israel to Attack ...</td>\n",
              "      <td>b'Announcing:Class Action Lawsuit on Behalf of...</td>\n",
              "      <td>b\"So---Russia and Georgia are at war and the N...</td>\n",
              "      <td>b\"China tells Bush to stay out of other countr...</td>\n",
              "      <td>b'Did World War III start today?'</td>\n",
              "      <td>b'Georgia Invades South Ossetia - if Russia ge...</td>\n",
              "      <td>b'Al-Qaeda Faces Islamist Backlash'</td>\n",
              "      <td>b'Condoleezza Rice: \"The US would not act to p...</td>\n",
              "      <td>b'This is a busy day:  The European Union has ...</td>\n",
              "      <td>b\"Georgia will withdraw 1,000 soldiers from Ir...</td>\n",
              "      <td>b'Why the Pentagon Thinks Attacking Iran is a ...</td>\n",
              "      <td>b'Caucasus in crisis: Georgia invades South Os...</td>\n",
              "      <td>b'Indian shoe manufactory  - And again in a se...</td>\n",
              "      <td>b'Visitors Suffering from Mental Illnesses Ban...</td>\n",
              "      <td>b\"No Help for Mexico's Kidnapping Surge\"</td>\n",
              "    </tr>\n",
              "    <tr>\n",
              "      <th>1</th>\n",
              "      <td>2008-08-11</td>\n",
              "      <td>1</td>\n",
              "      <td>b'Why wont America and Nato help us? If they w...</td>\n",
              "      <td>b'Bush puts foot down on Georgian conflict'</td>\n",
              "      <td>b\"Jewish Georgian minister: Thanks to Israeli ...</td>\n",
              "      <td>b'Georgian army flees in disarray as Russians ...</td>\n",
              "      <td>b\"Olympic opening ceremony fireworks 'faked'\"</td>\n",
              "      <td>b'What were the Mossad with fraudulent New Zea...</td>\n",
              "      <td>b'Russia angered by Israeli military sale to G...</td>\n",
              "      <td>b'An American citizen living in S.Ossetia blam...</td>\n",
              "      <td>b'Welcome To World War IV! Now In High Definit...</td>\n",
              "      <td>b\"Georgia's move, a mistake of monumental prop...</td>\n",
              "      <td>b'Russia presses deeper into Georgia; U.S. say...</td>\n",
              "      <td>b'Abhinav Bindra wins first ever Individual Ol...</td>\n",
              "      <td>b' U.S. ship heads for Arctic to define territ...</td>\n",
              "      <td>b'Drivers in a Jerusalem taxi station threaten...</td>\n",
              "      <td>b'The French Team is Stunned by Phelps and the...</td>\n",
              "      <td>b'Israel and the US behind the Georgian aggres...</td>\n",
              "      <td>b'\"Do not believe TV, neither Russian nor Geor...</td>\n",
              "      <td>b'Riots are still going on in Montreal (Canada...</td>\n",
              "      <td>b'China to overtake US as largest manufacturer'</td>\n",
              "      <td>b'War in South Ossetia [PICS]'</td>\n",
              "      <td>b'Israeli Physicians Group Condemns State Tort...</td>\n",
              "      <td>b' Russia has just beaten the United States ov...</td>\n",
              "      <td>b'Perhaps *the* question about the Georgia - R...</td>\n",
              "      <td>b'Russia is so much better at war'</td>\n",
              "      <td>b\"So this is what it's come to: trading sex fo...</td>\n",
              "    </tr>\n",
              "    <tr>\n",
              "      <th>2</th>\n",
              "      <td>2008-08-12</td>\n",
              "      <td>0</td>\n",
              "      <td>b'Remember that adorable 9-year-old who sang a...</td>\n",
              "      <td>b\"Russia 'ends Georgia operation'\"</td>\n",
              "      <td>b'\"If we had no sexual harassment we would hav...</td>\n",
              "      <td>b\"Al-Qa'eda is losing support in Iraq because ...</td>\n",
              "      <td>b'Ceasefire in Georgia: Putin Outmaneuvers the...</td>\n",
              "      <td>b'Why Microsoft and Intel tried to kill the XO...</td>\n",
              "      <td>b'Stratfor: The Russo-Georgian War and the Bal...</td>\n",
              "      <td>b\"I'm Trying to Get a Sense of This Whole Geor...</td>\n",
              "      <td>b\"The US military was surprised by the timing ...</td>\n",
              "      <td>b'U.S. Beats War Drum as Iran Dumps the Dollar'</td>\n",
              "      <td>b'Gorbachev: \"Georgian military attacked the S...</td>\n",
              "      <td>b'CNN use footage of Tskhinvali ruins to cover...</td>\n",
              "      <td>b'Beginning a war as the Olympics were opening...</td>\n",
              "      <td>b'55 pyramids as large as the Luxor stacked in...</td>\n",
              "      <td>b'The 11 Top Party Cities in the World'</td>\n",
              "      <td>b'U.S. troops still in Georgia (did you know t...</td>\n",
              "      <td>b'Why Russias response to Georgia was right'</td>\n",
              "      <td>b'Gorbachev accuses U.S. of making a \"serious ...</td>\n",
              "      <td>b'Russia, Georgia, and NATO: Cold War Two'</td>\n",
              "      <td>b'Remember that adorable 62-year-old who led y...</td>\n",
              "      <td>b'War in Georgia: The Israeli connection'</td>\n",
              "      <td>b'All signs point to the US encouraging Georgi...</td>\n",
              "      <td>b'Christopher King argues that the US and NATO...</td>\n",
              "      <td>b'America: The New Mexico?'</td>\n",
              "      <td>b\"BBC NEWS | Asia-Pacific | Extinction 'by man...</td>\n",
              "    </tr>\n",
              "    <tr>\n",
              "      <th>3</th>\n",
              "      <td>2008-08-13</td>\n",
              "      <td>0</td>\n",
              "      <td>b' U.S. refuses Israel weapons to attack Iran:...</td>\n",
              "      <td>b\"When the president ordered to attack Tskhinv...</td>\n",
              "      <td>b' Israel clears troops who killed Reuters cam...</td>\n",
              "      <td>b'Britain\\'s policy of being tough on drugs is...</td>\n",
              "      <td>b'Body of 14 year old found in trunk; Latest (...</td>\n",
              "      <td>b'China has moved 10 *million* quake survivors...</td>\n",
              "      <td>b\"Bush announces Operation Get All Up In Russi...</td>\n",
              "      <td>b'Russian forces sink Georgian ships '</td>\n",
              "      <td>b\"The commander of a Navy air reconnaissance s...</td>\n",
              "      <td>b\"92% of CNN readers: Russia's actions in Geor...</td>\n",
              "      <td>b'USA to send fleet into Black Sea to help Geo...</td>\n",
              "      <td>b\"US warns against Israeli plan to strike agai...</td>\n",
              "      <td>b\"In an intriguing cyberalliance, two Estonian...</td>\n",
              "      <td>b'The CNN Effect: Georgia Schools Russia in In...</td>\n",
              "      <td>b'Why Russias response to Georgia was right'</td>\n",
              "      <td>b'Elephants extinct by 2020?'</td>\n",
              "      <td>b'US humanitarian missions soon in Georgia - i...</td>\n",
              "      <td>b\"Georgia's DDOS came from US sources\"</td>\n",
              "      <td>b'Russian convoy heads into Georgia, violating...</td>\n",
              "      <td>b'Israeli defence minister: US against strike ...</td>\n",
              "      <td>b'Gorbachev: We Had No Choice'</td>\n",
              "      <td>b'Witness: Russian forces head towards Tbilisi...</td>\n",
              "      <td>b' Quarter of Russians blame U.S. for conflict...</td>\n",
              "      <td>b'Georgian president  says US military will ta...</td>\n",
              "      <td>b'2006: Nobel laureate Aleksander Solzhenitsyn...</td>\n",
              "    </tr>\n",
              "    <tr>\n",
              "      <th>4</th>\n",
              "      <td>2008-08-14</td>\n",
              "      <td>1</td>\n",
              "      <td>b'All the experts admit that we should legalis...</td>\n",
              "      <td>b'War in South Osetia - 89 pictures made by a ...</td>\n",
              "      <td>b'Swedish wrestler Ara Abrahamian throws away ...</td>\n",
              "      <td>b'Russia exaggerated the death toll in South O...</td>\n",
              "      <td>b'Missile That Killed 9 Inside Pakistan May Ha...</td>\n",
              "      <td>b\"Rushdie Condemns Random House's Refusal to P...</td>\n",
              "      <td>b'Poland and US agree to missle defense deal. ...</td>\n",
              "      <td>b'Will the Russians conquer Tblisi? Bet on it,...</td>\n",
              "      <td>b'Russia exaggerating South Ossetian death tol...</td>\n",
              "      <td>b' Musharraf expected to resign rather than fa...</td>\n",
              "      <td>b'Moscow Made Plans Months Ago to Invade Georgia'</td>\n",
              "      <td>b'Why Russias response to Georgia was right'</td>\n",
              "      <td>b'Nigeria has handed over the potentially oil-...</td>\n",
              "      <td>b'The US and Poland have agreed a preliminary ...</td>\n",
              "      <td>b'Russia apparently is sabotaging infrastructu...</td>\n",
              "      <td>b'Bank analyst forecast Georgian crisis 2 days...</td>\n",
              "      <td>b\"Georgia confict could set back Russia's US r...</td>\n",
              "      <td>b'War in the Caucasus is as much the product o...</td>\n",
              "      <td>b'\"Non-media\" photos of South Ossetia/Georgia ...</td>\n",
              "      <td>b'Georgian TV reporter shot by Russian sniper ...</td>\n",
              "      <td>b'Saudi Arabia: Mother moves to block child ma...</td>\n",
              "      <td>b'Taliban wages war on humanitarian aid workers'</td>\n",
              "      <td>b'Russia: World  \"can forget about\" Georgia\\'s...</td>\n",
              "      <td>b'Darfur rebels accuse Sudan of mounting major...</td>\n",
              "      <td>b'Philippines : Peace Advocate say Muslims nee...</td>\n",
              "    </tr>\n",
              "    <tr>\n",
              "      <th>...</th>\n",
              "      <td>...</td>\n",
              "      <td>...</td>\n",
              "      <td>...</td>\n",
              "      <td>...</td>\n",
              "      <td>...</td>\n",
              "      <td>...</td>\n",
              "      <td>...</td>\n",
              "      <td>...</td>\n",
              "      <td>...</td>\n",
              "      <td>...</td>\n",
              "      <td>...</td>\n",
              "      <td>...</td>\n",
              "      <td>...</td>\n",
              "      <td>...</td>\n",
              "      <td>...</td>\n",
              "      <td>...</td>\n",
              "      <td>...</td>\n",
              "      <td>...</td>\n",
              "      <td>...</td>\n",
              "      <td>...</td>\n",
              "      <td>...</td>\n",
              "      <td>...</td>\n",
              "      <td>...</td>\n",
              "      <td>...</td>\n",
              "      <td>...</td>\n",
              "      <td>...</td>\n",
              "      <td>...</td>\n",
              "    </tr>\n",
              "    <tr>\n",
              "      <th>1984</th>\n",
              "      <td>2016-06-27</td>\n",
              "      <td>0</td>\n",
              "      <td>Barclays and RBS shares suspended from trading...</td>\n",
              "      <td>Pope says Church should ask forgiveness from g...</td>\n",
              "      <td>Poland 'shocked' by xenophobic abuse of Poles ...</td>\n",
              "      <td>There will be no second referendum, cabinet ag...</td>\n",
              "      <td>Scotland welcome to join EU, Merkel ally says</td>\n",
              "      <td>Sterling dips below Friday's 31-year low amid ...</td>\n",
              "      <td>No negative news about South African President...</td>\n",
              "      <td>Surge in Hate Crimes in the U.K. Following U.K...</td>\n",
              "      <td>Weapons shipped into Jordan by the CIA and Sau...</td>\n",
              "      <td>Angela Merkel said the U.K. must file exit pap...</td>\n",
              "      <td>In a birth offering hope to a threatened speci...</td>\n",
              "      <td>Sky News Journalist Left Speechless As Leave M...</td>\n",
              "      <td>Giant panda in Macau gives birth to twins</td>\n",
              "      <td>Get out now: EU leader tells Britain it must i...</td>\n",
              "      <td>Sea turtle 'beaten and left for dead' on beach...</td>\n",
              "      <td>German lawyers to probe Erdogan over alleged w...</td>\n",
              "      <td>Boris Johnson says the UK will continue to \"in...</td>\n",
              "      <td>Richard Branson is calling on the UK governmen...</td>\n",
              "      <td>Turkey 'sorry for downing Russian jet'</td>\n",
              "      <td>Edward Snowden lawyer vows new push for pardon...</td>\n",
              "      <td>Brexit opinion poll reveals majority don't wan...</td>\n",
              "      <td>Conservative MP Leave Campaigner: \"The leave c...</td>\n",
              "      <td>Economists predict UK recession, further weake...</td>\n",
              "      <td>New EU 'superstate plan by France, Germany: Cr...</td>\n",
              "      <td>Pakistani clerics declare transgender marriage...</td>\n",
              "    </tr>\n",
              "    <tr>\n",
              "      <th>1985</th>\n",
              "      <td>2016-06-28</td>\n",
              "      <td>1</td>\n",
              "      <td>2,500 Scientists To Australia: If You Want To ...</td>\n",
              "      <td>The personal details of 112,000 French police ...</td>\n",
              "      <td>S&amp;amp;P cuts United Kingdom sovereign credit r...</td>\n",
              "      <td>Huge helium deposit found in Africa</td>\n",
              "      <td>CEO of the South African state broadcaster qui...</td>\n",
              "      <td>Brexit cost investors $2 trillion, the worst o...</td>\n",
              "      <td>Hong Kong democracy activists call for return ...</td>\n",
              "      <td>Brexit: Iceland president says UK can join 'tr...</td>\n",
              "      <td>UK's Osborne: 'Absolutely' going to have to cu...</td>\n",
              "      <td>'Do not let Scotland down now' : Scottish MEP ...</td>\n",
              "      <td>British pound could hit history-making dollar ...</td>\n",
              "      <td>Merkel vows to strengthen EU, tells UK no 'che...</td>\n",
              "      <td>\"Ryanair will not deploy new aircraft on route...</td>\n",
              "      <td>People, ever more greedy and stupid, destroy t...</td>\n",
              "      <td>Siemens freezes new UK wind power investment f...</td>\n",
              "      <td>US, Canada and Mexico pledge 50% of power from...</td>\n",
              "      <td>There is increasing evidence that Australia is...</td>\n",
              "      <td>Richard Branson, the founder of Virgin Group, ...</td>\n",
              "      <td>37,000-yr-old skull from Borneo reveals surpri...</td>\n",
              "      <td>Palestinians stone Western Wall worshipers; po...</td>\n",
              "      <td>Jean-Claude Juncker asks Farage: Why are you h...</td>\n",
              "      <td>\"Romanians for Remainians\" offering a new home...</td>\n",
              "      <td>Brexit: Gibraltar in talks with Scotland to st...</td>\n",
              "      <td>8 Suicide Bombers Strike Lebanon</td>\n",
              "      <td>Mexico's security forces routinely use 'sexual...</td>\n",
              "    </tr>\n",
              "    <tr>\n",
              "      <th>1986</th>\n",
              "      <td>2016-06-29</td>\n",
              "      <td>1</td>\n",
              "      <td>Explosion At Airport In Istanbul</td>\n",
              "      <td>Yemeni former president: Terrorism is the offs...</td>\n",
              "      <td>UK must accept freedom of movement to access E...</td>\n",
              "      <td>Devastated: scientists too late to captive bre...</td>\n",
              "      <td>British Labor Party leader Jeremy Corbyn loses...</td>\n",
              "      <td>A Muslim Shop in the UK Was Just Firebombed Wh...</td>\n",
              "      <td>Mexican Authorities Sexually Torture Women in ...</td>\n",
              "      <td>UK shares and pound continue to recover</td>\n",
              "      <td>Iceland historian Johannesson wins presidentia...</td>\n",
              "      <td>99-Million-Yr-Old Bird Wings Found Encased in ...</td>\n",
              "      <td>A chatbot programmed by a British teenager has...</td>\n",
              "      <td>The Philippine president-elect said Monday he ...</td>\n",
              "      <td>Former Belgian Prime Minister ridicules Nigel ...</td>\n",
              "      <td>Brexiteer Nigel Farage To EU: 'You're Not Laug...</td>\n",
              "      <td>Islamic State bombings in southern Yemen kill ...</td>\n",
              "      <td>Escape Tunnel, Dug by Hand, Is Found at Holoca...</td>\n",
              "      <td>The land under Beijing is sinking by as much a...</td>\n",
              "      <td>Car bomb and Anti-Islamic attack on Mosque in ...</td>\n",
              "      <td>Emaciated lions in Taiz Zoo are trapped in blo...</td>\n",
              "      <td>Rupert Murdoch describes Brexit as 'wonderful'...</td>\n",
              "      <td>More than 40 killed in Yemen suicide attacks</td>\n",
              "      <td>Google Found Disastrous Symantec and Norton Vu...</td>\n",
              "      <td>Extremist violence on the rise in Germany: Dom...</td>\n",
              "      <td>BBC News: Labour MPs pass Corbyn no-confidence...</td>\n",
              "      <td>Tiny New Zealand town with 'too many jobs' lau...</td>\n",
              "    </tr>\n",
              "    <tr>\n",
              "      <th>1987</th>\n",
              "      <td>2016-06-30</td>\n",
              "      <td>1</td>\n",
              "      <td>Jamaica proposes marijuana dispensers for tour...</td>\n",
              "      <td>Stephen Hawking says pollution and 'stupidity'...</td>\n",
              "      <td>Boris Johnson says he will not run for Tory pa...</td>\n",
              "      <td>Six gay men in Ivory Coast were abused and for...</td>\n",
              "      <td>Switzerland denies citizenship to Muslim immig...</td>\n",
              "      <td>Palestinian terrorist stabs israeli teen girl ...</td>\n",
              "      <td>Puerto Rico will default on $1 billion of debt...</td>\n",
              "      <td>Republic of Ireland fans to be awarded medal f...</td>\n",
              "      <td>Afghan suicide bomber 'kills up to 40' - BBC News</td>\n",
              "      <td>US airstrikes kill at least 250 ISIS fighters ...</td>\n",
              "      <td>Turkish Cop Who Took Down Istanbul Gunman Hail...</td>\n",
              "      <td>Cannabis compounds could treat Alzheimer's by ...</td>\n",
              "      <td>Japan's top court has approved blanket surveil...</td>\n",
              "      <td>CIA Gave Romania Millions to Host Secret Prisons</td>\n",
              "      <td>Groups urge U.N. to suspend Saudi Arabia from ...</td>\n",
              "      <td>Googles free wifi at Indian railway stations i...</td>\n",
              "      <td>Mounting evidence suggests 'hobbits' were wipe...</td>\n",
              "      <td>The men who carried out Tuesday's terror attac...</td>\n",
              "      <td>Calls to suspend Saudi Arabia from UN Human Ri...</td>\n",
              "      <td>More Than 100 Nobel Laureates Call Out Greenpe...</td>\n",
              "      <td>British pedophile sentenced to 85 years in US ...</td>\n",
              "      <td>US permitted 1,200 offshore fracks in Gulf of ...</td>\n",
              "      <td>We will be swimming in ridicule - French beach...</td>\n",
              "      <td>UEFA says no minutes of silence for Istanbul v...</td>\n",
              "      <td>Law Enforcement Sources: Gun Used in Paris Ter...</td>\n",
              "    </tr>\n",
              "    <tr>\n",
              "      <th>1988</th>\n",
              "      <td>2016-07-01</td>\n",
              "      <td>1</td>\n",
              "      <td>A 117-year-old woman in Mexico City finally re...</td>\n",
              "      <td>IMF chief backs Athens as permanent Olympic host</td>\n",
              "      <td>The president of France says if Brexit won, so...</td>\n",
              "      <td>British Man Who Must Give Police 24 Hours' Not...</td>\n",
              "      <td>100+ Nobel laureates urge Greenpeace to stop o...</td>\n",
              "      <td>Brazil: Huge spike in number of police killing...</td>\n",
              "      <td>Austria's highest court annuls presidential el...</td>\n",
              "      <td>Facebook wins privacy case, can track any Belg...</td>\n",
              "      <td>Switzerland denies Muslim girls citizenship af...</td>\n",
              "      <td>China kills millions of innocent meditators fo...</td>\n",
              "      <td>France Cracks Down on Factory Farms - A viral ...</td>\n",
              "      <td>Abbas PLO Faction Calls Killer of 13-Year-Old ...</td>\n",
              "      <td>Taiwanese warship accidentally fires missile t...</td>\n",
              "      <td>Iran celebrates American Human Rights Week, mo...</td>\n",
              "      <td>U.N. panel moves to curb bias against L.G.B.T....</td>\n",
              "      <td>The United States has placed Myanmar, Uzbekist...</td>\n",
              "      <td>S&amp;amp;P revises European Union credit rating t...</td>\n",
              "      <td>India gets $1 billion loan from World Bank for...</td>\n",
              "      <td>U.S. sailors detained by Iran spoke too much u...</td>\n",
              "      <td>Mass fish kill in Vietnam solved as Taiwan ste...</td>\n",
              "      <td>Philippines president Rodrigo Duterte urges pe...</td>\n",
              "      <td>Spain arrests three Pakistanis accused of prom...</td>\n",
              "      <td>Venezuela, where anger over food shortages is ...</td>\n",
              "      <td>A Hindu temple worker has been killed by three...</td>\n",
              "      <td>Ozone layer hole seems to be healing - US &amp;amp...</td>\n",
              "    </tr>\n",
              "  </tbody>\n",
              "</table>\n",
              "<p>1989 rows × 27 columns</p>\n",
              "</div>"
            ],
            "text/plain": [
              "            Date  ...                                              Top25\n",
              "0     2008-08-08  ...           b\"No Help for Mexico's Kidnapping Surge\"\n",
              "1     2008-08-11  ...  b\"So this is what it's come to: trading sex fo...\n",
              "2     2008-08-12  ...  b\"BBC NEWS | Asia-Pacific | Extinction 'by man...\n",
              "3     2008-08-13  ...  b'2006: Nobel laureate Aleksander Solzhenitsyn...\n",
              "4     2008-08-14  ...  b'Philippines : Peace Advocate say Muslims nee...\n",
              "...          ...  ...                                                ...\n",
              "1984  2016-06-27  ...  Pakistani clerics declare transgender marriage...\n",
              "1985  2016-06-28  ...  Mexico's security forces routinely use 'sexual...\n",
              "1986  2016-06-29  ...  Tiny New Zealand town with 'too many jobs' lau...\n",
              "1987  2016-06-30  ...  Law Enforcement Sources: Gun Used in Paris Ter...\n",
              "1988  2016-07-01  ...  Ozone layer hole seems to be healing - US &amp...\n",
              "\n",
              "[1989 rows x 27 columns]"
            ]
          },
          "metadata": {
            "tags": []
          },
          "execution_count": 35
        }
      ]
    },
    {
      "cell_type": "markdown",
      "metadata": {
        "id": "FG7OjpgGQHMY",
        "colab_type": "text"
      },
      "source": [
        "This portion of code tests whether or not each row has 25 articles. \n",
        "We find that there are some null values present. \n",
        "\n",
        "With this info, manually checked...\n",
        "\n",
        "**Though no columns had >25 articles, it was found that there were some dates with <25 articles.**"
      ]
    },
    {
      "cell_type": "code",
      "metadata": {
        "id": "q-KChXXmKi1o",
        "colab_type": "code",
        "colab": {
          "base_uri": "https://localhost:8080/",
          "height": 92
        },
        "outputId": "3e3b5982-6235-4771-bb37-805188b81b0c"
      },
      "source": [
        "\"\"\"\n",
        "This portion of code found that BEFORE EVEN CLEANING DATA that there were some dates where it did not =25 articles\n",
        "\n",
        "Luckily, most can be neglected since when the dates are merged, most were taken out.\n",
        "\n",
        "However, it was later found that even after merging that some dates had <25 because of null values\n",
        "\"\"\"\n",
        "\n",
        "a = list(reddit['Date'])\n",
        "\n",
        "a,b = np.unique(a, return_counts=True)\n",
        "a[b != 25]"
      ],
      "execution_count": 36,
      "outputs": [
        {
          "output_type": "execute_result",
          "data": {
            "text/plain": [
              "array(['2008-10-26', '2009-09-05', '2009-09-12', '2009-09-13',\n",
              "       '2009-09-15', '2009-09-19', '2009-09-20', '2009-09-26',\n",
              "       '2009-10-10', '2009-10-25', '2009-12-24', '2011-04-21'],\n",
              "      dtype='<U10')"
            ]
          },
          "metadata": {
            "tags": []
          },
          "execution_count": 36
        }
      ]
    },
    {
      "cell_type": "markdown",
      "metadata": {
        "id": "BGXjDtQOVIpD",
        "colab_type": "text"
      },
      "source": [
        "This was a test to see where the NaN data can be found with the final dataset.\n",
        "\n",
        "The original dataset also had the NaN at the same locations. \n",
        "Therefore, the accuracy to replicate the finished clean data was a sucess. \n",
        "\n",
        "The missing data can be neglegible since there aren't many NaN\n",
        "and there are enough articles for even the non =25 article dates to run machine learning. \n",
        "\n",
        "---\n",
        "\n"
      ]
    },
    {
      "cell_type": "markdown",
      "metadata": {
        "id": "uwEbQnAWXDjV",
        "colab_type": "text"
      },
      "source": [
        "This portion of code finds the NaN values on 'result' dataframe. \n",
        "\n",
        "Even when the dataset is fully 'cleaned', there are some issues to be dealt with."
      ]
    },
    {
      "cell_type": "code",
      "metadata": {
        "id": "LIm_GdL4SmHu",
        "colab_type": "code",
        "colab": {
          "base_uri": "https://localhost:8080/",
          "height": 92
        },
        "outputId": "fa6600e1-a1c2-4797-ee97-6e6000bc68e3"
      },
      "source": [
        "#https://dzone.com/articles/pandas-find-rows-where-columnfield-is-null\n",
        "null_columns=result.columns[result.isnull().any()]\n",
        "print(result[result.isnull().any(axis=1)][null_columns].head())"
      ],
      "execution_count": 37,
      "outputs": [
        {
          "output_type": "stream",
          "text": [
            "                                                 Top23 Top24 Top25\n",
            "277                                                NaN   NaN   NaN\n",
            "348  b\"Ayatollah Montazeri's Legacy:  In death he m...   NaN   NaN\n",
            "681          Prince Charles wins some kind of a record   NaN   NaN\n"
          ],
          "name": "stdout"
        }
      ]
    },
    {
      "cell_type": "code",
      "metadata": {
        "id": "spBHsNyrViXY",
        "colab_type": "code",
        "colab": {
          "base_uri": "https://localhost:8080/",
          "height": 476
        },
        "outputId": "7ee1fc08-1e88-44c2-a3a9-ea4e8c74e5ef"
      },
      "source": [
        "\"\"\"\n",
        "Dates where the missing data can be found. With more detail\n",
        "Scroll horizontally to the end to find some NaN values. \n",
        "\"\"\"\n",
        "\n",
        "#https://www.shanelynn.ie/select-pandas-dataframe-rows-and-columns-using-iloc-loc-and-ix/\n",
        "\n",
        "result.iloc[[277,348,681]]"
      ],
      "execution_count": 38,
      "outputs": [
        {
          "output_type": "execute_result",
          "data": {
            "text/html": [
              "<div>\n",
              "<style scoped>\n",
              "    .dataframe tbody tr th:only-of-type {\n",
              "        vertical-align: middle;\n",
              "    }\n",
              "\n",
              "    .dataframe tbody tr th {\n",
              "        vertical-align: top;\n",
              "    }\n",
              "\n",
              "    .dataframe thead th {\n",
              "        text-align: right;\n",
              "    }\n",
              "</style>\n",
              "<table border=\"1\" class=\"dataframe\">\n",
              "  <thead>\n",
              "    <tr style=\"text-align: right;\">\n",
              "      <th></th>\n",
              "      <th>Date</th>\n",
              "      <th>Label</th>\n",
              "      <th>Top1</th>\n",
              "      <th>Top2</th>\n",
              "      <th>Top3</th>\n",
              "      <th>Top4</th>\n",
              "      <th>Top5</th>\n",
              "      <th>Top6</th>\n",
              "      <th>Top7</th>\n",
              "      <th>Top8</th>\n",
              "      <th>Top9</th>\n",
              "      <th>Top10</th>\n",
              "      <th>Top11</th>\n",
              "      <th>Top12</th>\n",
              "      <th>Top13</th>\n",
              "      <th>Top14</th>\n",
              "      <th>Top15</th>\n",
              "      <th>Top16</th>\n",
              "      <th>Top17</th>\n",
              "      <th>Top18</th>\n",
              "      <th>Top19</th>\n",
              "      <th>Top20</th>\n",
              "      <th>Top21</th>\n",
              "      <th>Top22</th>\n",
              "      <th>Top23</th>\n",
              "      <th>Top24</th>\n",
              "      <th>Top25</th>\n",
              "    </tr>\n",
              "  </thead>\n",
              "  <tbody>\n",
              "    <tr>\n",
              "      <th>277</th>\n",
              "      <td>2009-09-15</td>\n",
              "      <td>1</td>\n",
              "      <td>b'The Church of Scientology won\\'t be dissolve...</td>\n",
              "      <td>b'New virus from rats can kill 80 per cent of ...</td>\n",
              "      <td>b'The gruesome spectacle of dolphins being sla...</td>\n",
              "      <td>b'The End of Innocence in Afghanistan: \\'The G...</td>\n",
              "      <td>b'France approves Internet piracy bill'</td>\n",
              "      <td>b'The Rural Doctors Association says right now...</td>\n",
              "      <td>b'Al Jazeera English - Africa - Shabab to aven...</td>\n",
              "      <td>b\"How Sri Lanka governs through detentions - S...</td>\n",
              "      <td>b'Two months after the Pakistani Army wrested ...</td>\n",
              "      <td>b'N. Korean cargo ship repels pirates off Soma...</td>\n",
              "      <td>b'Canada: Stephen Harper attempts to prop up r...</td>\n",
              "      <td>b'New geological data provides hope for claims...</td>\n",
              "      <td>b'Ukraine set to block Elton John adoption bec...</td>\n",
              "      <td>b'German plane makes emergency landing'</td>\n",
              "      <td>b'Street artist catches chief of the Israeli a...</td>\n",
              "      <td>b'In an equine echo of the controversy surroun...</td>\n",
              "      <td>b'UPDATE: 5-New York homes raided in terrorism...</td>\n",
              "      <td>b'Population Growth Impeding Progress on the M...</td>\n",
              "      <td>b'Global Population to Reach 7 Billion by 2011'</td>\n",
              "      <td>b'Government Funded Feminist Porn '</td>\n",
              "      <td>b'Can someone enlighten me re:Holy Land disput...</td>\n",
              "      <td>b'Human Rights Watch official suspended for co...</td>\n",
              "      <td>NaN</td>\n",
              "      <td>NaN</td>\n",
              "      <td>NaN</td>\n",
              "    </tr>\n",
              "    <tr>\n",
              "      <th>348</th>\n",
              "      <td>2009-12-24</td>\n",
              "      <td>1</td>\n",
              "      <td>b'Woman knocks down Pope Benedict at Christmas...</td>\n",
              "      <td>b'Ugandan President Museveni says he will bloc...</td>\n",
              "      <td>b\"Venezuela's Chavez threatens to kick out car...</td>\n",
              "      <td>b'Woman who knocked down pope had pasta in her...</td>\n",
              "      <td>b'450 people from 21 countries, including 30 f...</td>\n",
              "      <td>b'Chvez declares Angel Falls is no more: World...</td>\n",
              "      <td>b'Drug tests catch out 10 police (UK)'</td>\n",
              "      <td>b'Once the worlds fourth-largest lake, the Ara...</td>\n",
              "      <td>b\"Cool Saudi Feminist calls for woman's right ...</td>\n",
              "      <td>b'According to satellite surveys, as much as 8...</td>\n",
              "      <td>b'Italian Prime Minister Silvio Berlusconi has...</td>\n",
              "      <td>b\"Don't blame the system for winter travel cha...</td>\n",
              "      <td>b'Christmas Eve around the world included the ...</td>\n",
              "      <td>b'Pope knocked down before Xmas mass'</td>\n",
              "      <td>b'The solar salesman who put his cow on the ma...</td>\n",
              "      <td>b'Pig farts spark Australia gas scare - I shit...</td>\n",
              "      <td>b'Bin Laden daughter flees to Saudi embassy in...</td>\n",
              "      <td>b'Traumatic Brain Injuries:  Growing evidence ...</td>\n",
              "      <td>b'The Pakistan Supreme Court has ordered the P...</td>\n",
              "      <td>b\"Here's a video the Taliban released this mor...</td>\n",
              "      <td>b'Fireworks set off aboard airliner'</td>\n",
              "      <td>b'Five VA men may face terrorism charges, Paki...</td>\n",
              "      <td>b\"Ayatollah Montazeri's Legacy:  In death he m...</td>\n",
              "      <td>NaN</td>\n",
              "      <td>NaN</td>\n",
              "    </tr>\n",
              "    <tr>\n",
              "      <th>681</th>\n",
              "      <td>2011-04-21</td>\n",
              "      <td>1</td>\n",
              "      <td>Director of \"Restrepo\" and Photographer Chris ...</td>\n",
              "      <td>Everyone within 20km of Fukushima will be forc...</td>\n",
              "      <td>Bahrain: Activist Zaynab Al-Khawaja's letter t...</td>\n",
              "      <td>More than 80,000 people are claiming incapacit...</td>\n",
              "      <td>Libya: 'mission creep' claims as UK sends in m...</td>\n",
              "      <td>Japan considers banning access to evacuation zone</td>\n",
              "      <td>Chinese oil giant Sinopec has stopped exportin...</td>\n",
              "      <td>6.0-magnitude earthquake strikes off east coas...</td>\n",
              "      <td>Next war in line: At least 20 South Sudanese a...</td>\n",
              "      <td>Bahraini protester ends hunger strike after be...</td>\n",
              "      <td>China tries to scare motorists into safer driving</td>\n",
              "      <td>Leaked Report Shows England Hit With Three Nuc...</td>\n",
              "      <td>Japans cyclone season approaches.</td>\n",
              "      <td>Have Oman and Qatar escaped the Arab revolts?</td>\n",
              "      <td>Rioters torch Australia asylum seeker detentio...</td>\n",
              "      <td>Russian migration official fired in racism row...</td>\n",
              "      <td>Small amounts of radioactive iodine found in b...</td>\n",
              "      <td>War photographer, Oscar-nominated film directo...</td>\n",
              "      <td>Effeminate boys are being sent to a special ca...</td>\n",
              "      <td>Japan Government Declares 12-Mile Area Around ...</td>\n",
              "      <td>TEPCO admitted Wednesday that nuclear fuel in ...</td>\n",
              "      <td>Fukushima evacuees face arrest if they return ...</td>\n",
              "      <td>Prince Charles wins some kind of a record</td>\n",
              "      <td>NaN</td>\n",
              "      <td>NaN</td>\n",
              "    </tr>\n",
              "  </tbody>\n",
              "</table>\n",
              "</div>"
            ],
            "text/plain": [
              "           Date  Label  ... Top24 Top25\n",
              "277  2009-09-15      1  ...   NaN   NaN\n",
              "348  2009-12-24      1  ...   NaN   NaN\n",
              "681  2011-04-21      1  ...   NaN   NaN\n",
              "\n",
              "[3 rows x 27 columns]"
            ]
          },
          "metadata": {
            "tags": []
          },
          "execution_count": 38
        }
      ]
    },
    {
      "cell_type": "markdown",
      "metadata": {
        "id": "p2mV4gk6QprW",
        "colab_type": "text"
      },
      "source": [
        "Code to output the final cleaned data to file. \n",
        "\n",
        "When compared to final prepared data, the result was identical to the prepared data."
      ]
    },
    {
      "cell_type": "code",
      "metadata": {
        "id": "H3OpMeKSKrmV",
        "colab_type": "code",
        "colab": {}
      },
      "source": [
        "result.to_excel(\"cleaned_data.xlsx\")"
      ],
      "execution_count": 39,
      "outputs": []
    },
    {
      "cell_type": "markdown",
      "metadata": {
        "id": "znx67sKJJwnh",
        "colab_type": "text"
      },
      "source": [
        "# Natural Language Processing"
      ]
    },
    {
      "cell_type": "markdown",
      "metadata": {
        "id": "HXXAbaaTJ1c5",
        "colab_type": "text"
      },
      "source": [
        "Although the dataset has been cleaned and combined, there are still more work to be done. \n",
        "\n",
        "We still need to pre-process the data so that the machine learning algorithm can take the input. "
      ]
    },
    {
      "cell_type": "markdown",
      "metadata": {
        "id": "vSpFeeCFEHnh",
        "colab_type": "text"
      },
      "source": [
        "## Spliting Training and Testing Sets"
      ]
    },
    {
      "cell_type": "markdown",
      "metadata": {
        "id": "qVprdz2qI40X",
        "colab_type": "text"
      },
      "source": [
        "According to the dataset provider, there were instructions about how to split the training and test datsets. \n",
        "\n",
        "*\"For task evaluation, please use data from 2008-08-08 to 2014-12-31 as Training Set, and Test Set is then the following two years data (from 2015-01-02 to 2016-07-01). This is roughly a 80%/20% split.\"*\n",
        "\n"
      ]
    },
    {
      "cell_type": "code",
      "metadata": {
        "id": "AwGO2t1XJJFN",
        "colab_type": "code",
        "colab": {}
      },
      "source": [
        "\"\"\"\n",
        "Experimented with train = result['Date'] < '2015-01-01' but this gave a boolean result.\n",
        "Therefore, result[true values], the values that match the conditions were ouputted with final code.\n",
        "\"\"\"\n",
        "\n",
        "train = result[result['Date'] < '2015-01-01']\n",
        "test = result[result['Date'] > '2014-12-31']"
      ],
      "execution_count": 108,
      "outputs": []
    },
    {
      "cell_type": "markdown",
      "metadata": {
        "id": "DoWxJTkaXlAI",
        "colab_type": "text"
      },
      "source": [
        "## Feature Engineering"
      ]
    },
    {
      "cell_type": "code",
      "metadata": {
        "id": "W1R-rpKes7Sb",
        "colab_type": "code",
        "colab": {
          "base_uri": "https://localhost:8080/",
          "height": 695
        },
        "outputId": "63be830b-4f98-412f-f1f0-0db85d4330bc"
      },
      "source": [
        "\"\"\"\n",
        "When looking at the list of news, we observe that some some reason, that the news articles \n",
        "start with a lower case 'b' character followed by ' or \". \n",
        "ex. b' or b\"\n",
        "\n",
        "Therefore, first step was to remove that b' or b\"\n",
        "\"\"\"\n",
        "\n",
        "result.replace(\"b'|b\\\"\", \" \", regex = True, inplace = True)\n",
        "result.head()"
      ],
      "execution_count": 109,
      "outputs": [
        {
          "output_type": "execute_result",
          "data": {
            "text/html": [
              "<div>\n",
              "<style scoped>\n",
              "    .dataframe tbody tr th:only-of-type {\n",
              "        vertical-align: middle;\n",
              "    }\n",
              "\n",
              "    .dataframe tbody tr th {\n",
              "        vertical-align: top;\n",
              "    }\n",
              "\n",
              "    .dataframe thead th {\n",
              "        text-align: right;\n",
              "    }\n",
              "</style>\n",
              "<table border=\"1\" class=\"dataframe\">\n",
              "  <thead>\n",
              "    <tr style=\"text-align: right;\">\n",
              "      <th></th>\n",
              "      <th>Date</th>\n",
              "      <th>Label</th>\n",
              "      <th>Top1</th>\n",
              "      <th>Top2</th>\n",
              "      <th>Top3</th>\n",
              "      <th>Top4</th>\n",
              "      <th>Top5</th>\n",
              "      <th>Top6</th>\n",
              "      <th>Top7</th>\n",
              "      <th>Top8</th>\n",
              "      <th>Top9</th>\n",
              "      <th>Top10</th>\n",
              "      <th>Top11</th>\n",
              "      <th>Top12</th>\n",
              "      <th>Top13</th>\n",
              "      <th>Top14</th>\n",
              "      <th>Top15</th>\n",
              "      <th>Top16</th>\n",
              "      <th>Top17</th>\n",
              "      <th>Top18</th>\n",
              "      <th>Top19</th>\n",
              "      <th>Top20</th>\n",
              "      <th>Top21</th>\n",
              "      <th>Top22</th>\n",
              "      <th>Top23</th>\n",
              "      <th>Top24</th>\n",
              "      <th>Top25</th>\n",
              "    </tr>\n",
              "  </thead>\n",
              "  <tbody>\n",
              "    <tr>\n",
              "      <th>0</th>\n",
              "      <td>2008-08-08</td>\n",
              "      <td>0</td>\n",
              "      <td>Georgia 'downs two Russian warplanes' as coun...</td>\n",
              "      <td>BREAKING: Musharraf to be impeached.'</td>\n",
              "      <td>Russia Today: Columns of troops roll into Sou...</td>\n",
              "      <td>Russian tanks are moving towards the capital ...</td>\n",
              "      <td>Afghan children raped with 'impunity,' U.N. o...</td>\n",
              "      <td>150 Russian tanks have entered South Ossetia ...</td>\n",
              "      <td>Breaking: Georgia invades South Ossetia, Russ...</td>\n",
              "      <td>The 'enemy combatent' trials are nothing but ...</td>\n",
              "      <td>Georgian troops retreat from S. Osettain capi...</td>\n",
              "      <td>Did the U.S. Prep Georgia for War with Russia?'</td>\n",
              "      <td>Rice Gives Green Light for Israel to Attack I...</td>\n",
              "      <td>Announcing:Class Action Lawsuit on Behalf of ...</td>\n",
              "      <td>So---Russia and Georgia are at war and the NY...</td>\n",
              "      <td>China tells Bush to stay out of other countri...</td>\n",
              "      <td>Did World War III start today?'</td>\n",
              "      <td>Georgia Invades South Ossetia - if Russia get...</td>\n",
              "      <td>Al-Qaeda Faces Islamist Backlash'</td>\n",
              "      <td>Condoleezza Rice: \"The US would not act to pr...</td>\n",
              "      <td>This is a busy day:  The European Union has a...</td>\n",
              "      <td>Georgia will withdraw 1,000 soldiers from Ira...</td>\n",
              "      <td>Why the Pentagon Thinks Attacking Iran is a B...</td>\n",
              "      <td>Caucasus in crisis: Georgia invades South Oss...</td>\n",
              "      <td>Indian shoe manufactory  - And again in a ser...</td>\n",
              "      <td>Visitors Suffering from Mental Illnesses Bann...</td>\n",
              "      <td>No Help for Mexico's Kidnapping Surge\"</td>\n",
              "    </tr>\n",
              "    <tr>\n",
              "      <th>1</th>\n",
              "      <td>2008-08-11</td>\n",
              "      <td>1</td>\n",
              "      <td>Why wont America and Nato help us? If they wo...</td>\n",
              "      <td>Bush puts foot down on Georgian conflict'</td>\n",
              "      <td>Jewish Georgian minister: Thanks to Israeli t...</td>\n",
              "      <td>Georgian army flees in disarray as Russians a...</td>\n",
              "      <td>Olympic opening ceremony fireworks 'faked'\"</td>\n",
              "      <td>What were the Mossad with fraudulent New Zeal...</td>\n",
              "      <td>Russia angered by Israeli military sale to Ge...</td>\n",
              "      <td>An American citizen living in S.Ossetia blame...</td>\n",
              "      <td>Welcome To World War IV! Now In High Definiti...</td>\n",
              "      <td>Georgia's move, a mistake of monumental propo...</td>\n",
              "      <td>Russia presses deeper into Georgia; U.S. says...</td>\n",
              "      <td>Abhinav Bindra wins first ever Individual Oly...</td>\n",
              "      <td>U.S. ship heads for Arctic to define territory'</td>\n",
              "      <td>Drivers in a Jerusalem taxi station threaten ...</td>\n",
              "      <td>The French Team is Stunned by Phelps and the ...</td>\n",
              "      <td>Israel and the US behind the Georgian aggress...</td>\n",
              "      <td>\"Do not believe TV, neither Russian nor Georg...</td>\n",
              "      <td>Riots are still going on in Montreal (Canada)...</td>\n",
              "      <td>China to overtake US as largest manufacturer'</td>\n",
              "      <td>War in South Ossetia [PICS]'</td>\n",
              "      <td>Israeli Physicians Group Condemns State Torture'</td>\n",
              "      <td>Russia has just beaten the United States ove...</td>\n",
              "      <td>Perhaps *the* question about the Georgia - Ru...</td>\n",
              "      <td>Russia is so much better at war'</td>\n",
              "      <td>So this is what it's come to: trading sex for...</td>\n",
              "    </tr>\n",
              "    <tr>\n",
              "      <th>2</th>\n",
              "      <td>2008-08-12</td>\n",
              "      <td>0</td>\n",
              "      <td>Remember that adorable 9-year-old who sang at...</td>\n",
              "      <td>Russia 'ends Georgia operation'\"</td>\n",
              "      <td>\"If we had no sexual harassment we would have...</td>\n",
              "      <td>Al-Qa'eda is losing support in Iraq because o...</td>\n",
              "      <td>Ceasefire in Georgia: Putin Outmaneuvers the ...</td>\n",
              "      <td>Why Microsoft and Intel tried to kill the XO ...</td>\n",
              "      <td>Stratfor: The Russo-Georgian War and the Bala...</td>\n",
              "      <td>I'm Trying to Get a Sense of This Whole Georg...</td>\n",
              "      <td>The US military was surprised by the timing a...</td>\n",
              "      <td>U.S. Beats War Drum as Iran Dumps the Dollar'</td>\n",
              "      <td>Gorbachev: \"Georgian military attacked the So...</td>\n",
              "      <td>CNN use footage of Tskhinvali ruins to cover ...</td>\n",
              "      <td>Beginning a war as the Olympics were opening ...</td>\n",
              "      <td>55 pyramids as large as the Luxor stacked int...</td>\n",
              "      <td>The 11 Top Party Cities in the World'</td>\n",
              "      <td>U.S. troops still in Georgia (did you know th...</td>\n",
              "      <td>Why Russias response to Georgia was right'</td>\n",
              "      <td>Gorbachev accuses U.S. of making a \"serious b...</td>\n",
              "      <td>Russia, Georgia, and NATO: Cold War Two'</td>\n",
              "      <td>Remember that adorable 62-year-old who led yo...</td>\n",
              "      <td>War in Georgia: The Israeli connection'</td>\n",
              "      <td>All signs point to the US encouraging Georgia...</td>\n",
              "      <td>Christopher King argues that the US and NATO ...</td>\n",
              "      <td>America: The New Mexico?'</td>\n",
              "      <td>BBC NEWS | Asia-Pacific | Extinction 'by man ...</td>\n",
              "    </tr>\n",
              "    <tr>\n",
              "      <th>3</th>\n",
              "      <td>2008-08-13</td>\n",
              "      <td>0</td>\n",
              "      <td>U.S. refuses Israel weapons to attack Iran: ...</td>\n",
              "      <td>When the president ordered to attack Tskhinva...</td>\n",
              "      <td>Israel clears troops who killed Reuters came...</td>\n",
              "      <td>Britain\\'s policy of being tough on drugs is ...</td>\n",
              "      <td>Body of 14 year old found in trunk; Latest (r...</td>\n",
              "      <td>China has moved 10 *million* quake survivors ...</td>\n",
              "      <td>Bush announces Operation Get All Up In Russia...</td>\n",
              "      <td>Russian forces sink Georgian ships '</td>\n",
              "      <td>The commander of a Navy air reconnaissance sq...</td>\n",
              "      <td>92% of CNN readers: Russia's actions in Georg...</td>\n",
              "      <td>USA to send fleet into Black Sea to help Geor...</td>\n",
              "      <td>US warns against Israeli plan to strike again...</td>\n",
              "      <td>In an intriguing cyberalliance, two Estonian ...</td>\n",
              "      <td>The CNN Effect: Georgia Schools Russia in Inf...</td>\n",
              "      <td>Why Russias response to Georgia was right'</td>\n",
              "      <td>Elephants extinct by 2020?'</td>\n",
              "      <td>US humanitarian missions soon in Georgia - if...</td>\n",
              "      <td>Georgia's DDOS came from US sources\"</td>\n",
              "      <td>Russian convoy heads into Georgia, violating ...</td>\n",
              "      <td>Israeli defence minister: US against strike o...</td>\n",
              "      <td>Gorbachev: We Had No Choice'</td>\n",
              "      <td>Witness: Russian forces head towards Tbilisi ...</td>\n",
              "      <td>Quarter of Russians blame U.S. for conflict:...</td>\n",
              "      <td>Georgian president  says US military will tak...</td>\n",
              "      <td>2006: Nobel laureate Aleksander Solzhenitsyn ...</td>\n",
              "    </tr>\n",
              "    <tr>\n",
              "      <th>4</th>\n",
              "      <td>2008-08-14</td>\n",
              "      <td>1</td>\n",
              "      <td>All the experts admit that we should legalise...</td>\n",
              "      <td>War in South Osetia - 89 pictures made by a R...</td>\n",
              "      <td>Swedish wrestler Ara Abrahamian throws away m...</td>\n",
              "      <td>Russia exaggerated the death toll in South Os...</td>\n",
              "      <td>Missile That Killed 9 Inside Pakistan May Hav...</td>\n",
              "      <td>Rushdie Condemns Random House's Refusal to Pu...</td>\n",
              "      <td>Poland and US agree to missle defense deal. I...</td>\n",
              "      <td>Will the Russians conquer Tblisi? Bet on it, ...</td>\n",
              "      <td>Russia exaggerating South Ossetian death toll...</td>\n",
              "      <td>Musharraf expected to resign rather than fac...</td>\n",
              "      <td>Moscow Made Plans Months Ago to Invade Georgia'</td>\n",
              "      <td>Why Russias response to Georgia was right'</td>\n",
              "      <td>Nigeria has handed over the potentially oil-r...</td>\n",
              "      <td>The US and Poland have agreed a preliminary d...</td>\n",
              "      <td>Russia apparently is sabotaging infrastructur...</td>\n",
              "      <td>Bank analyst forecast Georgian crisis 2 days ...</td>\n",
              "      <td>Georgia confict could set back Russia's US re...</td>\n",
              "      <td>War in the Caucasus is as much the product of...</td>\n",
              "      <td>\"Non-media\" photos of South Ossetia/Georgia c...</td>\n",
              "      <td>Georgian TV reporter shot by Russian sniper d...</td>\n",
              "      <td>Saudi Arabia: Mother moves to block child mar...</td>\n",
              "      <td>Taliban wages war on humanitarian aid workers'</td>\n",
              "      <td>Russia: World  \"can forget about\" Georgia\\'s ...</td>\n",
              "      <td>Darfur rebels accuse Sudan of mounting major ...</td>\n",
              "      <td>Philippines : Peace Advocate say Muslims need...</td>\n",
              "    </tr>\n",
              "  </tbody>\n",
              "</table>\n",
              "</div>"
            ],
            "text/plain": [
              "         Date  ...                                              Top25\n",
              "0  2008-08-08  ...             No Help for Mexico's Kidnapping Surge\"\n",
              "1  2008-08-11  ...   So this is what it's come to: trading sex for...\n",
              "2  2008-08-12  ...   BBC NEWS | Asia-Pacific | Extinction 'by man ...\n",
              "3  2008-08-13  ...   2006: Nobel laureate Aleksander Solzhenitsyn ...\n",
              "4  2008-08-14  ...   Philippines : Peace Advocate say Muslims need...\n",
              "\n",
              "[5 rows x 27 columns]"
            ]
          },
          "metadata": {
            "tags": []
          },
          "execution_count": 109
        }
      ]
    },
    {
      "cell_type": "code",
      "metadata": {
        "id": "o-BEsCila752",
        "colab_type": "code",
        "colab": {}
      },
      "source": [
        "\"\"\"\n",
        "This selects just the news articles. This is where text feature engineering \n",
        "will be focused on\n",
        "\"\"\"\n",
        "data = train.iloc[:,2:27]"
      ],
      "execution_count": 111,
      "outputs": []
    },
    {
      "cell_type": "code",
      "metadata": {
        "id": "wM-oqMvPi8Jv",
        "colab_type": "code",
        "colab": {}
      },
      "source": [
        "\"\"\"\n",
        "Removing punctuations\n",
        "\"\"\"\n",
        "data.replace(\"[^a-zA-Z]\",\" \", regex = True, inplace = True)"
      ],
      "execution_count": 112,
      "outputs": []
    },
    {
      "cell_type": "code",
      "metadata": {
        "id": "2UZdMqsGljED",
        "colab_type": "code",
        "colab": {
          "base_uri": "https://localhost:8080/",
          "height": 695
        },
        "outputId": "1e6696c3-5df6-4dc2-f29c-611bfde74d80"
      },
      "source": [
        "\"\"\"\n",
        "Converting to lower case characters\n",
        "\"\"\"\n",
        "\n",
        "for index in data:\n",
        "  data[index]=data[index].str.lower()\n",
        "\n",
        "data.head()"
      ],
      "execution_count": 113,
      "outputs": [
        {
          "output_type": "execute_result",
          "data": {
            "text/html": [
              "<div>\n",
              "<style scoped>\n",
              "    .dataframe tbody tr th:only-of-type {\n",
              "        vertical-align: middle;\n",
              "    }\n",
              "\n",
              "    .dataframe tbody tr th {\n",
              "        vertical-align: top;\n",
              "    }\n",
              "\n",
              "    .dataframe thead th {\n",
              "        text-align: right;\n",
              "    }\n",
              "</style>\n",
              "<table border=\"1\" class=\"dataframe\">\n",
              "  <thead>\n",
              "    <tr style=\"text-align: right;\">\n",
              "      <th></th>\n",
              "      <th>Top1</th>\n",
              "      <th>Top2</th>\n",
              "      <th>Top3</th>\n",
              "      <th>Top4</th>\n",
              "      <th>Top5</th>\n",
              "      <th>Top6</th>\n",
              "      <th>Top7</th>\n",
              "      <th>Top8</th>\n",
              "      <th>Top9</th>\n",
              "      <th>Top10</th>\n",
              "      <th>Top11</th>\n",
              "      <th>Top12</th>\n",
              "      <th>Top13</th>\n",
              "      <th>Top14</th>\n",
              "      <th>Top15</th>\n",
              "      <th>Top16</th>\n",
              "      <th>Top17</th>\n",
              "      <th>Top18</th>\n",
              "      <th>Top19</th>\n",
              "      <th>Top20</th>\n",
              "      <th>Top21</th>\n",
              "      <th>Top22</th>\n",
              "      <th>Top23</th>\n",
              "      <th>Top24</th>\n",
              "      <th>Top25</th>\n",
              "    </tr>\n",
              "  </thead>\n",
              "  <tbody>\n",
              "    <tr>\n",
              "      <th>0</th>\n",
              "      <td>georgia  downs two russian warplanes  as coun...</td>\n",
              "      <td>breaking  musharraf to be impeached</td>\n",
              "      <td>russia today  columns of troops roll into sou...</td>\n",
              "      <td>russian tanks are moving towards the capital ...</td>\n",
              "      <td>afghan children raped with  impunity   u n  o...</td>\n",
              "      <td>russian tanks have entered south ossetia ...</td>\n",
              "      <td>breaking  georgia invades south ossetia  russ...</td>\n",
              "      <td>the  enemy combatent  trials are nothing but ...</td>\n",
              "      <td>georgian troops retreat from s  osettain capi...</td>\n",
              "      <td>did the u s  prep georgia for war with russia</td>\n",
              "      <td>rice gives green light for israel to attack i...</td>\n",
              "      <td>announcing class action lawsuit on behalf of ...</td>\n",
              "      <td>so   russia and georgia are at war and the ny...</td>\n",
              "      <td>china tells bush to stay out of other countri...</td>\n",
              "      <td>did world war iii start today</td>\n",
              "      <td>georgia invades south ossetia   if russia get...</td>\n",
              "      <td>al qaeda faces islamist backlash</td>\n",
              "      <td>condoleezza rice   the us would not act to pr...</td>\n",
              "      <td>this is a busy day   the european union has a...</td>\n",
              "      <td>georgia will withdraw       soldiers from ira...</td>\n",
              "      <td>why the pentagon thinks attacking iran is a b...</td>\n",
              "      <td>caucasus in crisis  georgia invades south oss...</td>\n",
              "      <td>indian shoe manufactory    and again in a ser...</td>\n",
              "      <td>visitors suffering from mental illnesses bann...</td>\n",
              "      <td>no help for mexico s kidnapping surge</td>\n",
              "    </tr>\n",
              "    <tr>\n",
              "      <th>1</th>\n",
              "      <td>why wont america and nato help us  if they wo...</td>\n",
              "      <td>bush puts foot down on georgian conflict</td>\n",
              "      <td>jewish georgian minister  thanks to israeli t...</td>\n",
              "      <td>georgian army flees in disarray as russians a...</td>\n",
              "      <td>olympic opening ceremony fireworks  faked</td>\n",
              "      <td>what were the mossad with fraudulent new zeal...</td>\n",
              "      <td>russia angered by israeli military sale to ge...</td>\n",
              "      <td>an american citizen living in s ossetia blame...</td>\n",
              "      <td>welcome to world war iv  now in high definiti...</td>\n",
              "      <td>georgia s move  a mistake of monumental propo...</td>\n",
              "      <td>russia presses deeper into georgia  u s  says...</td>\n",
              "      <td>abhinav bindra wins first ever individual oly...</td>\n",
              "      <td>u s  ship heads for arctic to define territory</td>\n",
              "      <td>drivers in a jerusalem taxi station threaten ...</td>\n",
              "      <td>the french team is stunned by phelps and the ...</td>\n",
              "      <td>israel and the us behind the georgian aggress...</td>\n",
              "      <td>do not believe tv  neither russian nor georg...</td>\n",
              "      <td>riots are still going on in montreal  canada ...</td>\n",
              "      <td>china to overtake us as largest manufacturer</td>\n",
              "      <td>war in south ossetia  pics</td>\n",
              "      <td>israeli physicians group condemns state torture</td>\n",
              "      <td>russia has just beaten the united states ove...</td>\n",
              "      <td>perhaps  the  question about the georgia   ru...</td>\n",
              "      <td>russia is so much better at war</td>\n",
              "      <td>so this is what it s come to  trading sex for...</td>\n",
              "    </tr>\n",
              "    <tr>\n",
              "      <th>2</th>\n",
              "      <td>remember that adorable   year old who sang at...</td>\n",
              "      <td>russia  ends georgia operation</td>\n",
              "      <td>if we had no sexual harassment we would have...</td>\n",
              "      <td>al qa eda is losing support in iraq because o...</td>\n",
              "      <td>ceasefire in georgia  putin outmaneuvers the ...</td>\n",
              "      <td>why microsoft and intel tried to kill the xo ...</td>\n",
              "      <td>stratfor  the russo georgian war and the bala...</td>\n",
              "      <td>i m trying to get a sense of this whole georg...</td>\n",
              "      <td>the us military was surprised by the timing a...</td>\n",
              "      <td>u s  beats war drum as iran dumps the dollar</td>\n",
              "      <td>gorbachev   georgian military attacked the so...</td>\n",
              "      <td>cnn use footage of tskhinvali ruins to cover ...</td>\n",
              "      <td>beginning a war as the olympics were opening ...</td>\n",
              "      <td>pyramids as large as the luxor stacked int...</td>\n",
              "      <td>the    top party cities in the world</td>\n",
              "      <td>u s  troops still in georgia  did you know th...</td>\n",
              "      <td>why russias response to georgia was right</td>\n",
              "      <td>gorbachev accuses u s  of making a  serious b...</td>\n",
              "      <td>russia  georgia  and nato  cold war two</td>\n",
              "      <td>remember that adorable    year old who led yo...</td>\n",
              "      <td>war in georgia  the israeli connection</td>\n",
              "      <td>all signs point to the us encouraging georgia...</td>\n",
              "      <td>christopher king argues that the us and nato ...</td>\n",
              "      <td>america  the new mexico</td>\n",
              "      <td>bbc news   asia pacific   extinction  by man ...</td>\n",
              "    </tr>\n",
              "    <tr>\n",
              "      <th>3</th>\n",
              "      <td>u s  refuses israel weapons to attack iran  ...</td>\n",
              "      <td>when the president ordered to attack tskhinva...</td>\n",
              "      <td>israel clears troops who killed reuters came...</td>\n",
              "      <td>britain  s policy of being tough on drugs is ...</td>\n",
              "      <td>body of    year old found in trunk  latest  r...</td>\n",
              "      <td>china has moved     million  quake survivors ...</td>\n",
              "      <td>bush announces operation get all up in russia...</td>\n",
              "      <td>russian forces sink georgian ships</td>\n",
              "      <td>the commander of a navy air reconnaissance sq...</td>\n",
              "      <td>of cnn readers  russia s actions in georg...</td>\n",
              "      <td>usa to send fleet into black sea to help geor...</td>\n",
              "      <td>us warns against israeli plan to strike again...</td>\n",
              "      <td>in an intriguing cyberalliance  two estonian ...</td>\n",
              "      <td>the cnn effect  georgia schools russia in inf...</td>\n",
              "      <td>why russias response to georgia was right</td>\n",
              "      <td>elephants extinct by</td>\n",
              "      <td>us humanitarian missions soon in georgia   if...</td>\n",
              "      <td>georgia s ddos came from us sources</td>\n",
              "      <td>russian convoy heads into georgia  violating ...</td>\n",
              "      <td>israeli defence minister  us against strike o...</td>\n",
              "      <td>gorbachev  we had no choice</td>\n",
              "      <td>witness  russian forces head towards tbilisi ...</td>\n",
              "      <td>quarter of russians blame u s  for conflict ...</td>\n",
              "      <td>georgian president  says us military will tak...</td>\n",
              "      <td>nobel laureate aleksander solzhenitsyn ...</td>\n",
              "    </tr>\n",
              "    <tr>\n",
              "      <th>4</th>\n",
              "      <td>all the experts admit that we should legalise...</td>\n",
              "      <td>war in south osetia      pictures made by a r...</td>\n",
              "      <td>swedish wrestler ara abrahamian throws away m...</td>\n",
              "      <td>russia exaggerated the death toll in south os...</td>\n",
              "      <td>missile that killed   inside pakistan may hav...</td>\n",
              "      <td>rushdie condemns random house s refusal to pu...</td>\n",
              "      <td>poland and us agree to missle defense deal  i...</td>\n",
              "      <td>will the russians conquer tblisi  bet on it  ...</td>\n",
              "      <td>russia exaggerating south ossetian death toll...</td>\n",
              "      <td>musharraf expected to resign rather than fac...</td>\n",
              "      <td>moscow made plans months ago to invade georgia</td>\n",
              "      <td>why russias response to georgia was right</td>\n",
              "      <td>nigeria has handed over the potentially oil r...</td>\n",
              "      <td>the us and poland have agreed a preliminary d...</td>\n",
              "      <td>russia apparently is sabotaging infrastructur...</td>\n",
              "      <td>bank analyst forecast georgian crisis   days ...</td>\n",
              "      <td>georgia confict could set back russia s us re...</td>\n",
              "      <td>war in the caucasus is as much the product of...</td>\n",
              "      <td>non media  photos of south ossetia georgia c...</td>\n",
              "      <td>georgian tv reporter shot by russian sniper d...</td>\n",
              "      <td>saudi arabia  mother moves to block child mar...</td>\n",
              "      <td>taliban wages war on humanitarian aid workers</td>\n",
              "      <td>russia  world   can forget about  georgia  s ...</td>\n",
              "      <td>darfur rebels accuse sudan of mounting major ...</td>\n",
              "      <td>philippines   peace advocate say muslims need...</td>\n",
              "    </tr>\n",
              "  </tbody>\n",
              "</table>\n",
              "</div>"
            ],
            "text/plain": [
              "                                                Top1  ...                                              Top25\n",
              "0   georgia  downs two russian warplanes  as coun...  ...             no help for mexico s kidnapping surge \n",
              "1   why wont america and nato help us  if they wo...  ...   so this is what it s come to  trading sex for...\n",
              "2   remember that adorable   year old who sang at...  ...   bbc news   asia pacific   extinction  by man ...\n",
              "3    u s  refuses israel weapons to attack iran  ...  ...         nobel laureate aleksander solzhenitsyn ...\n",
              "4   all the experts admit that we should legalise...  ...   philippines   peace advocate say muslims need...\n",
              "\n",
              "[5 rows x 25 columns]"
            ]
          },
          "metadata": {
            "tags": []
          },
          "execution_count": 113
        }
      ]
    },
    {
      "cell_type": "code",
      "metadata": {
        "id": "Vqvy80q1mqXx",
        "colab_type": "code",
        "colab": {
          "base_uri": "https://localhost:8080/",
          "height": 167
        },
        "outputId": "383d6524-21f8-4169-e2f5-49d88825c240"
      },
      "source": [
        "\"\"\"\n",
        "Combining each column of articles into one paragraph\n",
        "\"\"\"\n",
        "\n",
        "headline = []\n",
        "\n",
        "for row in range(0,len(data.index)):\n",
        "  headline.append(' '.join(str(x) for x in data.iloc[row,0:25]))\n",
        "\n",
        "headline[0]"
      ],
      "execution_count": 117,
      "outputs": [
        {
          "output_type": "execute_result",
          "data": {
            "application/vnd.google.colaboratory.intrinsic": {
              "type": "string"
            },
            "text/plain": [
              "' georgia  downs two russian warplanes  as countries move to brink of war   breaking  musharraf to be impeached    russia today  columns of troops roll into south ossetia  footage from fighting  youtube    russian tanks are moving towards the capital of south ossetia  which has reportedly been completely destroyed by georgian artillery fire   afghan children raped with  impunity   u n  official says   this is sick  a three year old was raped and they do nothing       russian tanks have entered south ossetia whilst georgia shoots down two russian jets    breaking  georgia invades south ossetia  russia warned it would intervene on so s side   the  enemy combatent  trials are nothing but a sham  salim haman has been sentenced to       years  but will be kept longer anyway just because they feel like it    georgian troops retreat from s  osettain capital  presumably leaving several hundred people killed   video    did the u s  prep georgia for war with russia    rice gives green light for israel to attack iran  says u s  has no veto over israeli military ops   announcing class action lawsuit on behalf of american public against the fbi   so   russia and georgia are at war and the nyt s top story is opening ceremonies of the olympics   what a fucking disgrace and yet further proof of the decline of journalism    china tells bush to stay out of other countries  affairs   did world war iii start today    georgia invades south ossetia   if russia gets involved  will nato absorb georgia and unleash a full scale war    al qaeda faces islamist backlash   condoleezza rice   the us would not act to prevent an israeli strike on iran   israeli defense minister ehud barak   israel is prepared for uncompromising victory in the case of military hostilities     this is a busy day   the european union has approved new sanctions against iran in protest at its nuclear programme    georgia will withdraw       soldiers from iraq to help fight off russian forces in georgia s breakaway region of south ossetia   why the pentagon thinks attacking iran is a bad idea   us news  amp  world report   caucasus in crisis  georgia invades south ossetia   indian shoe manufactory    and again in a series of  you do not like your work     visitors suffering from mental illnesses banned from olympics   no help for mexico s kidnapping surge '"
            ]
          },
          "metadata": {
            "tags": []
          },
          "execution_count": 117
        }
      ]
    },
    {
      "cell_type": "code",
      "metadata": {
        "id": "8Yi2mBlAo5fy",
        "colab_type": "code",
        "colab": {}
      },
      "source": [
        "\"\"\"\n",
        "Implement Bag of Words\n",
        "\"\"\"\n",
        "countvector = CountVectorizer(ngram_range=(2,2))\n",
        "traindataset = countvector.fit_transform(headline)"
      ],
      "execution_count": 118,
      "outputs": []
    },
    {
      "cell_type": "code",
      "metadata": {
        "id": "t9JTk98xp6HP",
        "colab_type": "code",
        "colab": {
          "base_uri": "https://localhost:8080/",
          "height": 167
        },
        "outputId": "e16f7edd-9365-4954-dff7-ad3c38517390"
      },
      "source": [
        "\"\"\"\n",
        "RandomForest Classifier\n",
        "\"\"\"\n",
        "randomclassifier = RandomForestClassifier(n_estimators = 200, criterion = 'entropy')\n",
        "randomclassifier.fit(traindataset,train['Label'])"
      ],
      "execution_count": 119,
      "outputs": [
        {
          "output_type": "execute_result",
          "data": {
            "text/plain": [
              "RandomForestClassifier(bootstrap=True, ccp_alpha=0.0, class_weight=None,\n",
              "                       criterion='entropy', max_depth=None, max_features='auto',\n",
              "                       max_leaf_nodes=None, max_samples=None,\n",
              "                       min_impurity_decrease=0.0, min_impurity_split=None,\n",
              "                       min_samples_leaf=1, min_samples_split=2,\n",
              "                       min_weight_fraction_leaf=0.0, n_estimators=200,\n",
              "                       n_jobs=None, oob_score=False, random_state=None,\n",
              "                       verbose=0, warm_start=False)"
            ]
          },
          "metadata": {
            "tags": []
          },
          "execution_count": 119
        }
      ]
    },
    {
      "cell_type": "code",
      "metadata": {
        "id": "Nu09LoWTrvlA",
        "colab_type": "code",
        "colab": {}
      },
      "source": [
        "\"\"\"\n",
        "Predict for the Test Dataset\n",
        "\"\"\"\n",
        "test_transformed = []\n",
        "\n",
        "for row in range(0,len(test.index)):\n",
        "  test_transformed.append(' '.join(str(x) for x in test.iloc[row,2:27]))\n",
        "\n",
        "test_dataset = countvector.transform(test_transformed)\n",
        "\n",
        "predictions = randomclassifier.predict(test_dataset)"
      ],
      "execution_count": 122,
      "outputs": []
    },
    {
      "cell_type": "code",
      "metadata": {
        "id": "GnT5jdMjuoqg",
        "colab_type": "code",
        "colab": {
          "base_uri": "https://localhost:8080/",
          "height": 54
        },
        "outputId": "159464c5-2b2c-4c09-e508-8b018feb470b"
      },
      "source": [
        "matrix = confusion_matrix(test['Label'],predictions)\n",
        "print (matrix)"
      ],
      "execution_count": 125,
      "outputs": [
        {
          "output_type": "stream",
          "text": [
            "[[  4 181]\n",
            " [  4 189]]\n"
          ],
          "name": "stdout"
        }
      ]
    },
    {
      "cell_type": "code",
      "metadata": {
        "id": "J4xlMg08u8ue",
        "colab_type": "code",
        "colab": {
          "base_uri": "https://localhost:8080/",
          "height": 36
        },
        "outputId": "b37191ba-8d9a-49f1-91fb-359522216547"
      },
      "source": [
        "score = accuracy_score(test['Label'],predictions)\n",
        "print (score)"
      ],
      "execution_count": 126,
      "outputs": [
        {
          "output_type": "stream",
          "text": [
            "0.5105820105820106\n"
          ],
          "name": "stdout"
        }
      ]
    },
    {
      "cell_type": "code",
      "metadata": {
        "id": "E-eVYotfvFzC",
        "colab_type": "code",
        "colab": {}
      },
      "source": [
        ""
      ],
      "execution_count": null,
      "outputs": []
    }
  ]
}